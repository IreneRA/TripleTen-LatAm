{
  "metadata": {
    "ExecuteTimeLog": [
      {
        "duration": 828,
        "start_time": "2021-11-16T09:21:11.304Z"
      },
      {
        "duration": 893,
        "start_time": "2021-11-16T09:21:17.728Z"
      },
      {
        "duration": 1150,
        "start_time": "2021-11-16T09:21:29.568Z"
      },
      {
        "duration": 3,
        "start_time": "2021-11-16T09:24:14.495Z"
      },
      {
        "duration": 120,
        "start_time": "2021-11-16T09:24:46.630Z"
      },
      {
        "duration": 3,
        "start_time": "2021-11-16T09:28:27.882Z"
      },
      {
        "duration": 4,
        "start_time": "2021-11-16T09:29:54.281Z"
      },
      {
        "duration": 3,
        "start_time": "2021-11-16T09:30:45.936Z"
      },
      {
        "duration": 4,
        "start_time": "2021-11-16T09:31:06.300Z"
      },
      {
        "duration": 113,
        "start_time": "2021-11-16T09:31:37.208Z"
      },
      {
        "duration": 143,
        "start_time": "2021-11-16T09:31:48.656Z"
      },
      {
        "duration": 98,
        "start_time": "2021-11-16T09:31:55.678Z"
      },
      {
        "duration": 3,
        "start_time": "2021-11-16T09:32:08.535Z"
      },
      {
        "duration": 111,
        "start_time": "2021-11-16T09:32:10.120Z"
      },
      {
        "duration": 3,
        "start_time": "2021-11-16T09:32:15.732Z"
      },
      {
        "duration": 4,
        "start_time": "2021-11-16T09:32:29.423Z"
      },
      {
        "duration": 3,
        "start_time": "2021-11-16T10:03:03.074Z"
      },
      {
        "duration": 3,
        "start_time": "2021-11-16T10:10:01.288Z"
      },
      {
        "duration": 3,
        "start_time": "2021-11-16T10:10:46.923Z"
      },
      {
        "duration": 121,
        "start_time": "2021-11-16T10:37:46.494Z"
      },
      {
        "duration": 125,
        "start_time": "2021-11-16T10:38:20.632Z"
      },
      {
        "duration": 112,
        "start_time": "2021-11-16T10:46:53.001Z"
      },
      {
        "duration": 110,
        "start_time": "2021-11-16T10:48:25.775Z"
      },
      {
        "duration": 3,
        "start_time": "2021-11-16T10:50:18.720Z"
      },
      {
        "duration": 4,
        "start_time": "2021-11-16T10:50:37.649Z"
      },
      {
        "duration": 2,
        "start_time": "2021-11-16T10:50:51.884Z"
      },
      {
        "duration": 3,
        "start_time": "2021-11-16T10:51:56.237Z"
      },
      {
        "duration": 101,
        "start_time": "2021-11-16T10:53:13.791Z"
      },
      {
        "duration": 3,
        "start_time": "2021-11-16T10:55:59.186Z"
      },
      {
        "duration": 3,
        "start_time": "2021-11-16T10:56:10.751Z"
      },
      {
        "duration": 3,
        "start_time": "2021-11-16T10:56:49.038Z"
      },
      {
        "duration": 3,
        "start_time": "2021-11-16T10:56:49.174Z"
      },
      {
        "duration": 4,
        "start_time": "2021-11-16T10:56:49.414Z"
      },
      {
        "duration": 3,
        "start_time": "2021-11-16T10:56:49.680Z"
      },
      {
        "duration": 3,
        "start_time": "2021-11-16T10:56:50.370Z"
      },
      {
        "duration": 114,
        "start_time": "2021-11-16T10:59:34.518Z"
      },
      {
        "duration": 3,
        "start_time": "2021-11-16T11:01:41.201Z"
      },
      {
        "duration": 116,
        "start_time": "2021-11-16T11:01:48.754Z"
      },
      {
        "duration": 3,
        "start_time": "2021-11-16T11:02:16.685Z"
      },
      {
        "duration": 3,
        "start_time": "2021-11-16T11:02:19.479Z"
      },
      {
        "duration": 3,
        "start_time": "2021-11-16T11:02:47.067Z"
      },
      {
        "duration": 3,
        "start_time": "2021-11-16T11:02:49.353Z"
      },
      {
        "duration": 3,
        "start_time": "2021-11-16T11:03:07.835Z"
      },
      {
        "duration": 3,
        "start_time": "2021-11-16T11:03:07.953Z"
      },
      {
        "duration": 112,
        "start_time": "2021-11-16T11:07:52.072Z"
      },
      {
        "duration": 187,
        "start_time": "2021-11-16T11:09:23.468Z"
      },
      {
        "duration": 4,
        "start_time": "2021-11-16T11:10:01.455Z"
      },
      {
        "duration": 3,
        "start_time": "2021-11-16T11:10:05.069Z"
      },
      {
        "duration": 4,
        "start_time": "2021-11-16T11:10:13.376Z"
      },
      {
        "duration": 3,
        "start_time": "2021-11-16T11:10:14.434Z"
      },
      {
        "duration": 3,
        "start_time": "2021-11-16T11:10:22.853Z"
      },
      {
        "duration": 4,
        "start_time": "2021-11-16T11:27:29.279Z"
      },
      {
        "duration": 4,
        "start_time": "2021-11-16T11:29:08.919Z"
      },
      {
        "duration": 118,
        "start_time": "2021-11-16T11:29:46.703Z"
      },
      {
        "duration": 437,
        "start_time": "2021-11-16T11:36:02.181Z"
      },
      {
        "duration": 157,
        "start_time": "2021-11-16T11:36:14.388Z"
      },
      {
        "duration": 207,
        "start_time": "2021-11-16T11:47:15.898Z"
      },
      {
        "duration": 3,
        "start_time": "2021-11-16T11:53:52.092Z"
      },
      {
        "duration": 3,
        "start_time": "2021-11-16T11:53:52.236Z"
      },
      {
        "duration": 3,
        "start_time": "2021-11-16T11:59:12.005Z"
      },
      {
        "duration": 112,
        "start_time": "2021-11-16T12:00:33.446Z"
      },
      {
        "duration": 3,
        "start_time": "2021-11-16T12:02:14.453Z"
      },
      {
        "duration": 3,
        "start_time": "2021-11-16T12:02:39.512Z"
      },
      {
        "duration": 106,
        "start_time": "2021-11-16T12:03:03.460Z"
      },
      {
        "duration": 3,
        "start_time": "2021-11-17T20:37:21.139Z"
      },
      {
        "duration": 3,
        "start_time": "2021-11-17T20:37:22.229Z"
      },
      {
        "duration": 3,
        "start_time": "2021-11-17T20:38:38.806Z"
      },
      {
        "duration": 3,
        "start_time": "2021-11-17T20:38:41.958Z"
      },
      {
        "duration": 3,
        "start_time": "2021-11-17T20:43:46.551Z"
      },
      {
        "duration": 4,
        "start_time": "2021-11-17T20:58:21.835Z"
      },
      {
        "duration": 3,
        "start_time": "2021-11-17T20:59:21.872Z"
      },
      {
        "duration": 4,
        "start_time": "2021-11-17T20:59:45.352Z"
      },
      {
        "duration": 4,
        "start_time": "2021-11-17T20:59:49.646Z"
      },
      {
        "duration": 159,
        "start_time": "2021-11-17T21:02:26.949Z"
      },
      {
        "duration": 3,
        "start_time": "2021-11-17T21:03:53.461Z"
      },
      {
        "duration": 3,
        "start_time": "2021-11-17T21:03:53.694Z"
      },
      {
        "duration": 3,
        "start_time": "2021-11-17T21:05:28.145Z"
      },
      {
        "duration": 116,
        "start_time": "2021-11-17T21:05:57.787Z"
      },
      {
        "duration": 3,
        "start_time": "2021-11-17T21:06:37.993Z"
      },
      {
        "duration": 3,
        "start_time": "2021-11-17T21:06:38.261Z"
      },
      {
        "duration": 3,
        "start_time": "2021-11-17T21:11:54.358Z"
      },
      {
        "duration": 3,
        "start_time": "2021-11-17T21:12:43.846Z"
      },
      {
        "duration": 4,
        "start_time": "2021-11-17T21:13:08.773Z"
      },
      {
        "duration": 3,
        "start_time": "2021-11-17T21:14:44.441Z"
      },
      {
        "duration": 3,
        "start_time": "2021-11-17T21:15:42.059Z"
      },
      {
        "duration": 4,
        "start_time": "2021-11-17T21:15:51.995Z"
      },
      {
        "duration": 3,
        "start_time": "2021-11-17T21:15:53.923Z"
      },
      {
        "duration": 3,
        "start_time": "2021-11-17T21:15:55.282Z"
      },
      {
        "duration": 3,
        "start_time": "2021-11-17T21:16:28.492Z"
      },
      {
        "duration": 3,
        "start_time": "2021-11-17T21:16:32.603Z"
      },
      {
        "duration": 3,
        "start_time": "2021-11-17T21:17:06.941Z"
      },
      {
        "duration": 98,
        "start_time": "2021-11-17T21:18:05.733Z"
      },
      {
        "duration": 4,
        "start_time": "2021-11-17T21:21:35.255Z"
      },
      {
        "duration": 3,
        "start_time": "2021-11-17T21:21:37.804Z"
      },
      {
        "duration": 4,
        "start_time": "2021-11-17T21:23:06.071Z"
      },
      {
        "duration": 3,
        "start_time": "2021-11-17T21:23:24.799Z"
      },
      {
        "duration": 3,
        "start_time": "2021-11-17T21:23:32.591Z"
      },
      {
        "duration": 98,
        "start_time": "2021-11-17T21:28:31.559Z"
      },
      {
        "duration": 3,
        "start_time": "2021-11-17T21:28:45.448Z"
      },
      {
        "duration": 3,
        "start_time": "2021-11-17T21:29:17.303Z"
      },
      {
        "duration": 3,
        "start_time": "2021-11-17T21:29:29.617Z"
      },
      {
        "duration": 3,
        "start_time": "2021-11-17T21:29:32.681Z"
      },
      {
        "duration": 3,
        "start_time": "2021-11-17T21:36:11.474Z"
      },
      {
        "duration": 3,
        "start_time": "2021-11-17T21:36:14.791Z"
      },
      {
        "duration": 3,
        "start_time": "2021-11-17T21:36:53.943Z"
      },
      {
        "duration": 3,
        "start_time": "2021-11-17T21:36:56.165Z"
      },
      {
        "duration": 4,
        "start_time": "2021-11-17T21:37:16.590Z"
      },
      {
        "duration": 3,
        "start_time": "2021-11-17T21:37:22.702Z"
      },
      {
        "duration": 4,
        "start_time": "2021-11-17T21:38:03.479Z"
      },
      {
        "duration": 3,
        "start_time": "2021-11-17T21:38:08.601Z"
      },
      {
        "duration": 3,
        "start_time": "2021-11-17T21:38:12.928Z"
      },
      {
        "duration": 3,
        "start_time": "2021-11-17T21:38:48.896Z"
      },
      {
        "duration": 2,
        "start_time": "2021-11-17T21:38:49.171Z"
      },
      {
        "duration": 4,
        "start_time": "2021-11-17T21:39:57.889Z"
      },
      {
        "duration": 3,
        "start_time": "2021-11-17T21:39:58.057Z"
      },
      {
        "duration": 3,
        "start_time": "2021-11-17T21:41:20.108Z"
      },
      {
        "duration": 3,
        "start_time": "2021-11-17T21:41:20.629Z"
      },
      {
        "duration": 3,
        "start_time": "2021-11-17T21:42:49.136Z"
      },
      {
        "duration": 3,
        "start_time": "2021-11-17T21:43:15.137Z"
      },
      {
        "duration": 4,
        "start_time": "2021-11-17T21:43:16.766Z"
      },
      {
        "duration": 4,
        "start_time": "2021-11-17T21:43:31.711Z"
      },
      {
        "duration": 3,
        "start_time": "2021-11-17T21:43:36.312Z"
      },
      {
        "duration": 4,
        "start_time": "2021-11-17T21:45:08.825Z"
      },
      {
        "duration": 4,
        "start_time": "2021-11-17T21:45:10.119Z"
      },
      {
        "duration": 4,
        "start_time": "2021-11-17T21:45:13.748Z"
      },
      {
        "duration": 3,
        "start_time": "2021-11-17T21:45:22.219Z"
      },
      {
        "duration": 3,
        "start_time": "2021-11-17T21:45:33.412Z"
      },
      {
        "duration": 2,
        "start_time": "2021-11-17T21:46:01.885Z"
      },
      {
        "duration": 3,
        "start_time": "2021-11-17T21:46:03.628Z"
      },
      {
        "duration": 107,
        "start_time": "2021-11-17T21:47:32.512Z"
      },
      {
        "duration": 103,
        "start_time": "2021-11-17T21:50:36.243Z"
      },
      {
        "duration": 3,
        "start_time": "2021-11-18T06:28:31.440Z"
      },
      {
        "duration": 3,
        "start_time": "2021-11-18T06:29:00.168Z"
      },
      {
        "duration": 3,
        "start_time": "2021-11-18T06:31:27.008Z"
      },
      {
        "duration": 2,
        "start_time": "2021-11-18T06:35:34.288Z"
      },
      {
        "duration": 2,
        "start_time": "2021-11-18T06:38:04.527Z"
      }
    ],
    "toc": {
      "base_numbering": 1,
      "nav_menu": {},
      "number_sections": true,
      "sideBar": true,
      "skip_h1_title": false,
      "title_cell": "Table of Contents",
      "title_sidebar": "Contents",
      "toc_cell": false,
      "toc_position": {
        "height": "calc(100% - 180px)",
        "left": "10px",
        "top": "150px",
        "width": "212px"
      },
      "toc_section_display": true,
      "toc_window_display": true
    },
    "kernelspec": {
      "name": "python",
      "display_name": "Python (Pyodide)",
      "language": "python"
    },
    "language_info": {
      "codemirror_mode": {
        "name": "ipython",
        "version": 3
      },
      "file_extension": ".py",
      "mimetype": "text/x-python",
      "name": "python",
      "nbconvert_exporter": "python",
      "pygments_lexer": "ipython3",
      "version": "3.9.5"
    }
  },
  "nbformat_minor": 4,
  "nbformat": 4,
  "cells": [
    {
      "cell_type": "markdown",
      "source": "# ¿Cuál es un mejor plan?\n\nLa empresa de telecomunicaciones Megaline ofrece a sus clientes dos tarifas de prepago, Surf y Ultimate. El departamento comercial quiere saber cuál de los planes genera más ingresos para poder ajustar el presupuesto de publicidad.\n\nSe realiza un análisis preliminar de las tarifas basado en una selección de clientes relativamente pequeña. Se tienen los datos de 500 clientes de Megaline que incluyen: quiénes son los clientes, de dónde son, qué tarifa usan, así como la cantidad de llamadas que hicieron y los mensajes de texto que enviaron en 2018. Estos datos se usan para analizar el comportamiento de los clientes y determinar qué tarifa de prepago genera más ingresos.",
      "metadata": {}
    },
    {
      "cell_type": "markdown",
      "source": "## Inicialización",
      "metadata": {}
    },
    {
      "cell_type": "code",
      "source": "# Cargar todas las librerías\nimport pandas as pd\nimport numpy as np\nimport matplotlib.pyplot as plt \nimport numpy as np\nfrom scipy import stats as st",
      "metadata": {},
      "execution_count": 1,
      "outputs": []
    },
    {
      "cell_type": "markdown",
      "source": "## Inicialización y vista general",
      "metadata": {}
    },
    {
      "cell_type": "code",
      "source": "# Cargar los archivos de datos en diferentes DataFrames\ndf_calls = pd.read_csv('/datasets/megaline_calls.csv')\ndf_int   = pd.read_csv('/datasets/megaline_internet.csv')\ndf_mess  = pd.read_csv('/datasets/megaline_messages.csv') \ndf_plans = pd.read_csv('/datasets/megaline_plans.csv')\ndf_users = pd.read_csv('/datasets/megaline_users.csv')",
      "metadata": {},
      "execution_count": 2,
      "outputs": []
    },
    {
      "cell_type": "markdown",
      "source": "Se explora cada una de las tablas para tener una comprensión inicial de los datos y se hacen las correcciones necesarias.",
      "metadata": {}
    },
    {
      "cell_type": "code",
      "source": "#información general\nfor df in [df_calls, df_int, df_mess, df_plans, df_users]:\n    df.info()\n    print()",
      "metadata": {
        "scrolled": true
      },
      "execution_count": 3,
      "outputs": [
        {
          "name": "stdout",
          "output_type": "stream",
          "text": "<class 'pandas.core.frame.DataFrame'>\n\nRangeIndex: 137735 entries, 0 to 137734\n\nData columns (total 4 columns):\n\n #   Column     Non-Null Count   Dtype  \n\n---  ------     --------------   -----  \n\n 0   id         137735 non-null  object \n\n 1   user_id    137735 non-null  int64  \n\n 2   call_date  137735 non-null  object \n\n 3   duration   137735 non-null  float64\n\ndtypes: float64(1), int64(1), object(2)\n\nmemory usage: 4.2+ MB\n\n\n\n<class 'pandas.core.frame.DataFrame'>\n\nRangeIndex: 104825 entries, 0 to 104824\n\nData columns (total 4 columns):\n\n #   Column        Non-Null Count   Dtype  \n\n---  ------        --------------   -----  \n\n 0   id            104825 non-null  object \n\n 1   user_id       104825 non-null  int64  \n\n 2   session_date  104825 non-null  object \n\n 3   mb_used       104825 non-null  float64\n\ndtypes: float64(1), int64(1), object(2)\n\nmemory usage: 3.2+ MB\n\n\n\n<class 'pandas.core.frame.DataFrame'>\n\nRangeIndex: 76051 entries, 0 to 76050\n\nData columns (total 3 columns):\n\n #   Column        Non-Null Count  Dtype \n\n---  ------        --------------  ----- \n\n 0   id            76051 non-null  object\n\n 1   user_id       76051 non-null  int64 \n\n 2   message_date  76051 non-null  object\n\ndtypes: int64(1), object(2)\n\nmemory usage: 1.7+ MB\n\n\n\n<class 'pandas.core.frame.DataFrame'>\n\nRangeIndex: 2 entries, 0 to 1\n\nData columns (total 8 columns):\n\n #   Column                 Non-Null Count  Dtype  \n\n---  ------                 --------------  -----  \n\n 0   messages_included      2 non-null      int64  \n\n 1   mb_per_month_included  2 non-null      int64  \n\n 2   minutes_included       2 non-null      int64  \n\n 3   usd_monthly_pay        2 non-null      int64  \n\n 4   usd_per_gb             2 non-null      int64  \n\n 5   usd_per_message        2 non-null      float64\n\n 6   usd_per_minute         2 non-null      float64\n\n 7   plan_name              2 non-null      object \n\ndtypes: float64(2), int64(5), object(1)\n\nmemory usage: 256.0+ bytes\n\n\n\n<class 'pandas.core.frame.DataFrame'>\n\nRangeIndex: 500 entries, 0 to 499\n\nData columns (total 8 columns):\n\n #   Column      Non-Null Count  Dtype \n\n---  ------      --------------  ----- \n\n 0   user_id     500 non-null    int64 \n\n 1   first_name  500 non-null    object\n\n 2   last_name   500 non-null    object\n\n 3   age         500 non-null    int64 \n\n 4   city        500 non-null    object\n\n 5   reg_date    500 non-null    object\n\n 6   plan        500 non-null    object\n\n 7   churn_date  34 non-null     object\n\ndtypes: int64(2), object(6)\n\nmemory usage: 31.4+ KB\n\n\n"
        }
      ]
    },
    {
      "cell_type": "code",
      "source": "#buscar datos duplicados\nfor df in [df_calls, df_int, df_mess]:\n    print(df['id'].duplicated().value_counts())\n    print()",
      "metadata": {},
      "execution_count": 4,
      "outputs": [
        {
          "name": "stdout",
          "output_type": "stream",
          "text": "False    137735\n\nName: id, dtype: int64\n\n\n\nFalse    104825\n\nName: id, dtype: int64\n\n\n\nFalse    76051\n\nName: id, dtype: int64\n\n\n"
        }
      ]
    },
    {
      "cell_type": "code",
      "source": "#Se buscan filas duplicadas por medio de los ids únicos\ndf_users['user_id'].duplicated().value_counts()",
      "metadata": {
        "scrolled": true
      },
      "execution_count": 5,
      "outputs": [
        {
          "execution_count": 5,
          "output_type": "execute_result",
          "data": {
            "text/plain": [
              "False    500\n",
              "Name: user_id, dtype: int64"
            ]
          },
          "metadata": {}
        }
      ]
    },
    {
      "cell_type": "markdown",
      "source": "No se encuentran valores duplicados ni ausentes en las tablas a excepción de los valores ausentes de la última tabla.\n\nLa columna `churn_date` de la tabla de los usuarios representa la fecha en que el usuario dejo de usar el servicio. La ausencia significa que se sigue usando y esto no afecta el análisis.",
      "metadata": {}
    },
    {
      "cell_type": "code",
      "source": "# se corrige el tipo de dato de las columnas que son fechas\ndf_calls['call_date']   = pd.to_datetime(df_calls['call_date'], format='%Y-%m-%d')\ndf_int['session_date']  = pd.to_datetime(df_int['session_date'], format='%Y-%m-%d')\ndf_mess['message_date'] = pd.to_datetime(df_mess['message_date'], format='%Y-%m-%d')\ndf_users['reg_date']    = pd.to_datetime(df_users['reg_date'], format='%Y-%m-%d')\ndf_users['churn_date']  = pd.to_datetime(df_users['churn_date'], format='%Y-%m-%d')",
      "metadata": {},
      "execution_count": 6,
      "outputs": []
    },
    {
      "cell_type": "code",
      "source": "#comprobar cambios de tipo de datos a fecha\nfor df in [df_calls, df_int, df_mess, df_plans, df_users]:\n    df.info()\n    print()",
      "metadata": {
        "scrolled": true
      },
      "execution_count": 7,
      "outputs": [
        {
          "name": "stdout",
          "output_type": "stream",
          "text": "<class 'pandas.core.frame.DataFrame'>\n\nRangeIndex: 137735 entries, 0 to 137734\n\nData columns (total 4 columns):\n\n #   Column     Non-Null Count   Dtype         \n\n---  ------     --------------   -----         \n\n 0   id         137735 non-null  object        \n\n 1   user_id    137735 non-null  int64         \n\n 2   call_date  137735 non-null  datetime64[ns]\n\n 3   duration   137735 non-null  float64       \n\ndtypes: datetime64[ns](1), float64(1), int64(1), object(1)\n\nmemory usage: 4.2+ MB\n\n\n\n<class 'pandas.core.frame.DataFrame'>\n\nRangeIndex: 104825 entries, 0 to 104824\n\nData columns (total 4 columns):\n\n #   Column        Non-Null Count   Dtype         \n\n---  ------        --------------   -----         \n\n 0   id            104825 non-null  object        \n\n 1   user_id       104825 non-null  int64         \n\n 2   session_date  104825 non-null  datetime64[ns]\n\n 3   mb_used       104825 non-null  float64       \n\ndtypes: datetime64[ns](1), float64(1), int64(1), object(1)\n\nmemory usage: 3.2+ MB\n\n\n\n<class 'pandas.core.frame.DataFrame'>\n\nRangeIndex: 76051 entries, 0 to 76050\n\nData columns (total 3 columns):\n\n #   Column        Non-Null Count  Dtype         \n\n---  ------        --------------  -----         \n\n 0   id            76051 non-null  object        \n\n 1   user_id       76051 non-null  int64         \n\n 2   message_date  76051 non-null  datetime64[ns]\n\ndtypes: datetime64[ns](1), int64(1), object(1)\n\nmemory usage: 1.7+ MB\n\n\n\n<class 'pandas.core.frame.DataFrame'>\n\nRangeIndex: 2 entries, 0 to 1\n\nData columns (total 8 columns):\n\n #   Column                 Non-Null Count  Dtype  \n\n---  ------                 --------------  -----  \n\n 0   messages_included      2 non-null      int64  \n\n 1   mb_per_month_included  2 non-null      int64  \n\n 2   minutes_included       2 non-null      int64  \n\n 3   usd_monthly_pay        2 non-null      int64  \n\n 4   usd_per_gb             2 non-null      int64  \n\n 5   usd_per_message        2 non-null      float64\n\n 6   usd_per_minute         2 non-null      float64\n\n 7   plan_name              2 non-null      object \n\ndtypes: float64(2), int64(5), object(1)\n\nmemory usage: 256.0+ bytes\n\n\n\n<class 'pandas.core.frame.DataFrame'>\n\nRangeIndex: 500 entries, 0 to 499\n\nData columns (total 8 columns):\n\n #   Column      Non-Null Count  Dtype         \n\n---  ------      --------------  -----         \n\n 0   user_id     500 non-null    int64         \n\n 1   first_name  500 non-null    object        \n\n 2   last_name   500 non-null    object        \n\n 3   age         500 non-null    int64         \n\n 4   city        500 non-null    object        \n\n 5   reg_date    500 non-null    datetime64[ns]\n\n 6   plan        500 non-null    object        \n\n 7   churn_date  34 non-null     datetime64[ns]\n\ndtypes: datetime64[ns](2), int64(2), object(4)\n\nmemory usage: 31.4+ KB\n\n\n"
        }
      ]
    },
    {
      "cell_type": "markdown",
      "source": "## Conjunto de datos de planes",
      "metadata": {}
    },
    {
      "cell_type": "code",
      "source": "#información general/resumen sobre el DataFrame de los planes\ndf_plans.info()",
      "metadata": {},
      "execution_count": 8,
      "outputs": [
        {
          "name": "stdout",
          "output_type": "stream",
          "text": "<class 'pandas.core.frame.DataFrame'>\n\nRangeIndex: 2 entries, 0 to 1\n\nData columns (total 8 columns):\n\n #   Column                 Non-Null Count  Dtype  \n\n---  ------                 --------------  -----  \n\n 0   messages_included      2 non-null      int64  \n\n 1   mb_per_month_included  2 non-null      int64  \n\n 2   minutes_included       2 non-null      int64  \n\n 3   usd_monthly_pay        2 non-null      int64  \n\n 4   usd_per_gb             2 non-null      int64  \n\n 5   usd_per_message        2 non-null      float64\n\n 6   usd_per_minute         2 non-null      float64\n\n 7   plan_name              2 non-null      object \n\ndtypes: float64(2), int64(5), object(1)\n\nmemory usage: 256.0+ bytes\n"
        }
      ]
    },
    {
      "cell_type": "code",
      "source": "#vista previa\ndf_plans",
      "metadata": {},
      "execution_count": 9,
      "outputs": [
        {
          "execution_count": 9,
          "output_type": "execute_result",
          "data": {
            "text/html": [
              "<div>\n",
              "<style scoped>\n",
              "    .dataframe tbody tr th:only-of-type {\n",
              "        vertical-align: middle;\n",
              "    }\n",
              "\n",
              "    .dataframe tbody tr th {\n",
              "        vertical-align: top;\n",
              "    }\n",
              "\n",
              "    .dataframe thead th {\n",
              "        text-align: right;\n",
              "    }\n",
              "</style>\n",
              "<table border=\"1\" class=\"dataframe\">\n",
              "  <thead>\n",
              "    <tr style=\"text-align: right;\">\n",
              "      <th></th>\n",
              "      <th>messages_included</th>\n",
              "      <th>mb_per_month_included</th>\n",
              "      <th>minutes_included</th>\n",
              "      <th>usd_monthly_pay</th>\n",
              "      <th>usd_per_gb</th>\n",
              "      <th>usd_per_message</th>\n",
              "      <th>usd_per_minute</th>\n",
              "      <th>plan_name</th>\n",
              "    </tr>\n",
              "  </thead>\n",
              "  <tbody>\n",
              "    <tr>\n",
              "      <th>0</th>\n",
              "      <td>50</td>\n",
              "      <td>15360</td>\n",
              "      <td>500</td>\n",
              "      <td>20</td>\n",
              "      <td>10</td>\n",
              "      <td>0.03</td>\n",
              "      <td>0.03</td>\n",
              "      <td>surf</td>\n",
              "    </tr>\n",
              "    <tr>\n",
              "      <th>1</th>\n",
              "      <td>1000</td>\n",
              "      <td>30720</td>\n",
              "      <td>3000</td>\n",
              "      <td>70</td>\n",
              "      <td>7</td>\n",
              "      <td>0.01</td>\n",
              "      <td>0.01</td>\n",
              "      <td>ultimate</td>\n",
              "    </tr>\n",
              "  </tbody>\n",
              "</table>\n",
              "</div>"
            ],
            "text/plain": [
              "   messages_included  mb_per_month_included  minutes_included  \\\n",
              "0                 50                  15360               500   \n",
              "1               1000                  30720              3000   \n",
              "\n",
              "   usd_monthly_pay  usd_per_gb  usd_per_message  usd_per_minute plan_name  \n",
              "0               20          10             0.03            0.03      surf  \n",
              "1               70           7             0.01            0.01  ultimate  "
            ]
          },
          "metadata": {}
        }
      ]
    },
    {
      "cell_type": "markdown",
      "source": "Esta tabla muestra la información acerca de cada plan, no tiene datos ausentes y los datos son del tipo adecuado. \n\nLa información de la columna `mb_per_month_included` está en megas pero el cobro adicional de la columna `usd_per_gb` esta en gigas.",
      "metadata": {}
    },
    {
      "cell_type": "markdown",
      "source": " ",
      "metadata": {}
    },
    {
      "cell_type": "markdown",
      "source": "## Corregir los datos",
      "metadata": {}
    },
    {
      "cell_type": "markdown",
      "source": "Se modifica la columna `mb_per_month_included` para que este en gigas, al igual que la columna `usd_per_gb`.",
      "metadata": {}
    },
    {
      "cell_type": "code",
      "source": "#cambiar unidad de columna\ndf_plans['mb_per_month_included'] = df_plans['mb_per_month_included']/1024\ndf_plans = df_plans.rename(columns={'mb_per_month_included':'gb_per_month'})\ndf_plans.head(3)",
      "metadata": {
        "scrolled": true
      },
      "execution_count": 10,
      "outputs": [
        {
          "execution_count": 10,
          "output_type": "execute_result",
          "data": {
            "text/html": [
              "<div>\n",
              "<style scoped>\n",
              "    .dataframe tbody tr th:only-of-type {\n",
              "        vertical-align: middle;\n",
              "    }\n",
              "\n",
              "    .dataframe tbody tr th {\n",
              "        vertical-align: top;\n",
              "    }\n",
              "\n",
              "    .dataframe thead th {\n",
              "        text-align: right;\n",
              "    }\n",
              "</style>\n",
              "<table border=\"1\" class=\"dataframe\">\n",
              "  <thead>\n",
              "    <tr style=\"text-align: right;\">\n",
              "      <th></th>\n",
              "      <th>messages_included</th>\n",
              "      <th>gb_per_month</th>\n",
              "      <th>minutes_included</th>\n",
              "      <th>usd_monthly_pay</th>\n",
              "      <th>usd_per_gb</th>\n",
              "      <th>usd_per_message</th>\n",
              "      <th>usd_per_minute</th>\n",
              "      <th>plan_name</th>\n",
              "    </tr>\n",
              "  </thead>\n",
              "  <tbody>\n",
              "    <tr>\n",
              "      <th>0</th>\n",
              "      <td>50</td>\n",
              "      <td>15.0</td>\n",
              "      <td>500</td>\n",
              "      <td>20</td>\n",
              "      <td>10</td>\n",
              "      <td>0.03</td>\n",
              "      <td>0.03</td>\n",
              "      <td>surf</td>\n",
              "    </tr>\n",
              "    <tr>\n",
              "      <th>1</th>\n",
              "      <td>1000</td>\n",
              "      <td>30.0</td>\n",
              "      <td>3000</td>\n",
              "      <td>70</td>\n",
              "      <td>7</td>\n",
              "      <td>0.01</td>\n",
              "      <td>0.01</td>\n",
              "      <td>ultimate</td>\n",
              "    </tr>\n",
              "  </tbody>\n",
              "</table>\n",
              "</div>"
            ],
            "text/plain": [
              "   messages_included  gb_per_month  minutes_included  usd_monthly_pay  \\\n",
              "0                 50          15.0               500               20   \n",
              "1               1000          30.0              3000               70   \n",
              "\n",
              "   usd_per_gb  usd_per_message  usd_per_minute plan_name  \n",
              "0          10             0.03            0.03      surf  \n",
              "1           7             0.01            0.01  ultimate  "
            ]
          },
          "metadata": {}
        }
      ]
    },
    {
      "cell_type": "markdown",
      "source": "## Conjunto de datos de usuarios",
      "metadata": {}
    },
    {
      "cell_type": "code",
      "source": "# Información general/resumen sobre el DataFrame de los usuarios\ndf_users.info()",
      "metadata": {},
      "execution_count": 11,
      "outputs": [
        {
          "name": "stdout",
          "output_type": "stream",
          "text": "<class 'pandas.core.frame.DataFrame'>\n\nRangeIndex: 500 entries, 0 to 499\n\nData columns (total 8 columns):\n\n #   Column      Non-Null Count  Dtype         \n\n---  ------      --------------  -----         \n\n 0   user_id     500 non-null    int64         \n\n 1   first_name  500 non-null    object        \n\n 2   last_name   500 non-null    object        \n\n 3   age         500 non-null    int64         \n\n 4   city        500 non-null    object        \n\n 5   reg_date    500 non-null    datetime64[ns]\n\n 6   plan        500 non-null    object        \n\n 7   churn_date  34 non-null     datetime64[ns]\n\ndtypes: datetime64[ns](2), int64(2), object(4)\n\nmemory usage: 31.4+ KB\n"
        }
      ]
    },
    {
      "cell_type": "code",
      "source": "#vista previa\ndf_users.head()",
      "metadata": {},
      "execution_count": 12,
      "outputs": [
        {
          "execution_count": 12,
          "output_type": "execute_result",
          "data": {
            "text/html": [
              "<div>\n",
              "<style scoped>\n",
              "    .dataframe tbody tr th:only-of-type {\n",
              "        vertical-align: middle;\n",
              "    }\n",
              "\n",
              "    .dataframe tbody tr th {\n",
              "        vertical-align: top;\n",
              "    }\n",
              "\n",
              "    .dataframe thead th {\n",
              "        text-align: right;\n",
              "    }\n",
              "</style>\n",
              "<table border=\"1\" class=\"dataframe\">\n",
              "  <thead>\n",
              "    <tr style=\"text-align: right;\">\n",
              "      <th></th>\n",
              "      <th>user_id</th>\n",
              "      <th>first_name</th>\n",
              "      <th>last_name</th>\n",
              "      <th>age</th>\n",
              "      <th>city</th>\n",
              "      <th>reg_date</th>\n",
              "      <th>plan</th>\n",
              "      <th>churn_date</th>\n",
              "    </tr>\n",
              "  </thead>\n",
              "  <tbody>\n",
              "    <tr>\n",
              "      <th>0</th>\n",
              "      <td>1000</td>\n",
              "      <td>Anamaria</td>\n",
              "      <td>Bauer</td>\n",
              "      <td>45</td>\n",
              "      <td>Atlanta-Sandy Springs-Roswell, GA MSA</td>\n",
              "      <td>2018-12-24</td>\n",
              "      <td>ultimate</td>\n",
              "      <td>NaT</td>\n",
              "    </tr>\n",
              "    <tr>\n",
              "      <th>1</th>\n",
              "      <td>1001</td>\n",
              "      <td>Mickey</td>\n",
              "      <td>Wilkerson</td>\n",
              "      <td>28</td>\n",
              "      <td>Seattle-Tacoma-Bellevue, WA MSA</td>\n",
              "      <td>2018-08-13</td>\n",
              "      <td>surf</td>\n",
              "      <td>NaT</td>\n",
              "    </tr>\n",
              "    <tr>\n",
              "      <th>2</th>\n",
              "      <td>1002</td>\n",
              "      <td>Carlee</td>\n",
              "      <td>Hoffman</td>\n",
              "      <td>36</td>\n",
              "      <td>Las Vegas-Henderson-Paradise, NV MSA</td>\n",
              "      <td>2018-10-21</td>\n",
              "      <td>surf</td>\n",
              "      <td>NaT</td>\n",
              "    </tr>\n",
              "    <tr>\n",
              "      <th>3</th>\n",
              "      <td>1003</td>\n",
              "      <td>Reynaldo</td>\n",
              "      <td>Jenkins</td>\n",
              "      <td>52</td>\n",
              "      <td>Tulsa, OK MSA</td>\n",
              "      <td>2018-01-28</td>\n",
              "      <td>surf</td>\n",
              "      <td>NaT</td>\n",
              "    </tr>\n",
              "    <tr>\n",
              "      <th>4</th>\n",
              "      <td>1004</td>\n",
              "      <td>Leonila</td>\n",
              "      <td>Thompson</td>\n",
              "      <td>40</td>\n",
              "      <td>Seattle-Tacoma-Bellevue, WA MSA</td>\n",
              "      <td>2018-05-23</td>\n",
              "      <td>surf</td>\n",
              "      <td>NaT</td>\n",
              "    </tr>\n",
              "  </tbody>\n",
              "</table>\n",
              "</div>"
            ],
            "text/plain": [
              "   user_id first_name  last_name  age                                   city  \\\n",
              "0     1000   Anamaria      Bauer   45  Atlanta-Sandy Springs-Roswell, GA MSA   \n",
              "1     1001     Mickey  Wilkerson   28        Seattle-Tacoma-Bellevue, WA MSA   \n",
              "2     1002     Carlee    Hoffman   36   Las Vegas-Henderson-Paradise, NV MSA   \n",
              "3     1003   Reynaldo    Jenkins   52                          Tulsa, OK MSA   \n",
              "4     1004    Leonila   Thompson   40        Seattle-Tacoma-Bellevue, WA MSA   \n",
              "\n",
              "    reg_date      plan churn_date  \n",
              "0 2018-12-24  ultimate        NaT  \n",
              "1 2018-08-13      surf        NaT  \n",
              "2 2018-10-21      surf        NaT  \n",
              "3 2018-01-28      surf        NaT  \n",
              "4 2018-05-23      surf        NaT  "
            ]
          },
          "metadata": {}
        }
      ]
    },
    {
      "cell_type": "markdown",
      "source": "Se analiza la información de 500 usuarios y 34 de estos dejaron de usar el servicio. No hay valores ausentes a excepción de la columna `churn_date`. Todas las columnas son del tipo adecuado.",
      "metadata": {}
    },
    {
      "cell_type": "markdown",
      "source": "### Corregir datos",
      "metadata": {}
    },
    {
      "cell_type": "markdown",
      "source": "Las columnas `first_name`, `last_name`, `age`, `reg_date` y `churn_date` no son necesarias para el análisis por lo que se pueden eliminar. ",
      "metadata": {}
    },
    {
      "cell_type": "code",
      "source": "#eliminar columnas innecesarias\ndf_users = df_users.drop(['first_name','last_name','age','reg_date','churn_date'],axis=1)\n#invoices.drop(['column_1', 'column_2', 'column_3'], axis=1)\ndf_users.head(3)",
      "metadata": {},
      "execution_count": 13,
      "outputs": [
        {
          "execution_count": 13,
          "output_type": "execute_result",
          "data": {
            "text/html": [
              "<div>\n",
              "<style scoped>\n",
              "    .dataframe tbody tr th:only-of-type {\n",
              "        vertical-align: middle;\n",
              "    }\n",
              "\n",
              "    .dataframe tbody tr th {\n",
              "        vertical-align: top;\n",
              "    }\n",
              "\n",
              "    .dataframe thead th {\n",
              "        text-align: right;\n",
              "    }\n",
              "</style>\n",
              "<table border=\"1\" class=\"dataframe\">\n",
              "  <thead>\n",
              "    <tr style=\"text-align: right;\">\n",
              "      <th></th>\n",
              "      <th>user_id</th>\n",
              "      <th>city</th>\n",
              "      <th>plan</th>\n",
              "    </tr>\n",
              "  </thead>\n",
              "  <tbody>\n",
              "    <tr>\n",
              "      <th>0</th>\n",
              "      <td>1000</td>\n",
              "      <td>Atlanta-Sandy Springs-Roswell, GA MSA</td>\n",
              "      <td>ultimate</td>\n",
              "    </tr>\n",
              "    <tr>\n",
              "      <th>1</th>\n",
              "      <td>1001</td>\n",
              "      <td>Seattle-Tacoma-Bellevue, WA MSA</td>\n",
              "      <td>surf</td>\n",
              "    </tr>\n",
              "    <tr>\n",
              "      <th>2</th>\n",
              "      <td>1002</td>\n",
              "      <td>Las Vegas-Henderson-Paradise, NV MSA</td>\n",
              "      <td>surf</td>\n",
              "    </tr>\n",
              "  </tbody>\n",
              "</table>\n",
              "</div>"
            ],
            "text/plain": [
              "   user_id                                   city      plan\n",
              "0     1000  Atlanta-Sandy Springs-Roswell, GA MSA  ultimate\n",
              "1     1001        Seattle-Tacoma-Bellevue, WA MSA      surf\n",
              "2     1002   Las Vegas-Henderson-Paradise, NV MSA      surf"
            ]
          },
          "metadata": {}
        }
      ]
    },
    {
      "cell_type": "markdown",
      "source": "## Conjunto de datos de llamadas",
      "metadata": {}
    },
    {
      "cell_type": "code",
      "source": "# información/resumen general sobre el DataFrame de las llamadas\ndf_calls.info()",
      "metadata": {},
      "execution_count": 14,
      "outputs": [
        {
          "name": "stdout",
          "output_type": "stream",
          "text": "<class 'pandas.core.frame.DataFrame'>\n\nRangeIndex: 137735 entries, 0 to 137734\n\nData columns (total 4 columns):\n\n #   Column     Non-Null Count   Dtype         \n\n---  ------     --------------   -----         \n\n 0   id         137735 non-null  object        \n\n 1   user_id    137735 non-null  int64         \n\n 2   call_date  137735 non-null  datetime64[ns]\n\n 3   duration   137735 non-null  float64       \n\ndtypes: datetime64[ns](1), float64(1), int64(1), object(1)\n\nmemory usage: 4.2+ MB\n"
        }
      ]
    },
    {
      "cell_type": "code",
      "source": "#vista previa\ndf_calls.head()",
      "metadata": {},
      "execution_count": 15,
      "outputs": [
        {
          "execution_count": 15,
          "output_type": "execute_result",
          "data": {
            "text/html": [
              "<div>\n",
              "<style scoped>\n",
              "    .dataframe tbody tr th:only-of-type {\n",
              "        vertical-align: middle;\n",
              "    }\n",
              "\n",
              "    .dataframe tbody tr th {\n",
              "        vertical-align: top;\n",
              "    }\n",
              "\n",
              "    .dataframe thead th {\n",
              "        text-align: right;\n",
              "    }\n",
              "</style>\n",
              "<table border=\"1\" class=\"dataframe\">\n",
              "  <thead>\n",
              "    <tr style=\"text-align: right;\">\n",
              "      <th></th>\n",
              "      <th>id</th>\n",
              "      <th>user_id</th>\n",
              "      <th>call_date</th>\n",
              "      <th>duration</th>\n",
              "    </tr>\n",
              "  </thead>\n",
              "  <tbody>\n",
              "    <tr>\n",
              "      <th>0</th>\n",
              "      <td>1000_93</td>\n",
              "      <td>1000</td>\n",
              "      <td>2018-12-27</td>\n",
              "      <td>8.52</td>\n",
              "    </tr>\n",
              "    <tr>\n",
              "      <th>1</th>\n",
              "      <td>1000_145</td>\n",
              "      <td>1000</td>\n",
              "      <td>2018-12-27</td>\n",
              "      <td>13.66</td>\n",
              "    </tr>\n",
              "    <tr>\n",
              "      <th>2</th>\n",
              "      <td>1000_247</td>\n",
              "      <td>1000</td>\n",
              "      <td>2018-12-27</td>\n",
              "      <td>14.48</td>\n",
              "    </tr>\n",
              "    <tr>\n",
              "      <th>3</th>\n",
              "      <td>1000_309</td>\n",
              "      <td>1000</td>\n",
              "      <td>2018-12-28</td>\n",
              "      <td>5.76</td>\n",
              "    </tr>\n",
              "    <tr>\n",
              "      <th>4</th>\n",
              "      <td>1000_380</td>\n",
              "      <td>1000</td>\n",
              "      <td>2018-12-30</td>\n",
              "      <td>4.22</td>\n",
              "    </tr>\n",
              "  </tbody>\n",
              "</table>\n",
              "</div>"
            ],
            "text/plain": [
              "         id  user_id  call_date  duration\n",
              "0   1000_93     1000 2018-12-27      8.52\n",
              "1  1000_145     1000 2018-12-27     13.66\n",
              "2  1000_247     1000 2018-12-27     14.48\n",
              "3  1000_309     1000 2018-12-28      5.76\n",
              "4  1000_380     1000 2018-12-30      4.22"
            ]
          },
          "metadata": {}
        }
      ]
    },
    {
      "cell_type": "code",
      "source": "#descripción de la duración de las llamadas\ndf_calls['duration'].describe()",
      "metadata": {},
      "execution_count": 16,
      "outputs": [
        {
          "execution_count": 16,
          "output_type": "execute_result",
          "data": {
            "text/plain": [
              "count    137735.000000\n",
              "mean          6.745927\n",
              "std           5.839241\n",
              "min           0.000000\n",
              "25%           1.290000\n",
              "50%           5.980000\n",
              "75%          10.690000\n",
              "max          37.600000\n",
              "Name: duration, dtype: float64"
            ]
          },
          "metadata": {}
        }
      ]
    },
    {
      "cell_type": "markdown",
      "source": "No hay valores ausentes en esta tabla y los datos son del tipo correcto.\n\nLa duración de las llamadas esta en minutos. El cobro se hace redondeando los minutos de cada llamada individual hacia arriba por lo que hay que hacer este cambio.\n\nHay llamadas que duraron 0 minutos, estas llamadas no se van a cobrar por lo que no afectan el análisis y se pueden eliminar.",
      "metadata": {}
    },
    {
      "cell_type": "markdown",
      "source": "### Corregir datos",
      "metadata": {}
    },
    {
      "cell_type": "code",
      "source": "#se eliminan filas con llamadas de duración 0\ndf_calls = df_calls[df_calls['duration']!=0]",
      "metadata": {},
      "execution_count": 17,
      "outputs": []
    },
    {
      "cell_type": "code",
      "source": "#se redondean los minutos\ndf_calls['duration'] = np.ceil(df_calls['duration'])",
      "metadata": {},
      "execution_count": 18,
      "outputs": []
    },
    {
      "cell_type": "code",
      "source": "#comprobar cambios\ndf_calls.head()",
      "metadata": {
        "scrolled": true
      },
      "execution_count": 19,
      "outputs": [
        {
          "execution_count": 19,
          "output_type": "execute_result",
          "data": {
            "text/html": [
              "<div>\n",
              "<style scoped>\n",
              "    .dataframe tbody tr th:only-of-type {\n",
              "        vertical-align: middle;\n",
              "    }\n",
              "\n",
              "    .dataframe tbody tr th {\n",
              "        vertical-align: top;\n",
              "    }\n",
              "\n",
              "    .dataframe thead th {\n",
              "        text-align: right;\n",
              "    }\n",
              "</style>\n",
              "<table border=\"1\" class=\"dataframe\">\n",
              "  <thead>\n",
              "    <tr style=\"text-align: right;\">\n",
              "      <th></th>\n",
              "      <th>id</th>\n",
              "      <th>user_id</th>\n",
              "      <th>call_date</th>\n",
              "      <th>duration</th>\n",
              "    </tr>\n",
              "  </thead>\n",
              "  <tbody>\n",
              "    <tr>\n",
              "      <th>0</th>\n",
              "      <td>1000_93</td>\n",
              "      <td>1000</td>\n",
              "      <td>2018-12-27</td>\n",
              "      <td>9.0</td>\n",
              "    </tr>\n",
              "    <tr>\n",
              "      <th>1</th>\n",
              "      <td>1000_145</td>\n",
              "      <td>1000</td>\n",
              "      <td>2018-12-27</td>\n",
              "      <td>14.0</td>\n",
              "    </tr>\n",
              "    <tr>\n",
              "      <th>2</th>\n",
              "      <td>1000_247</td>\n",
              "      <td>1000</td>\n",
              "      <td>2018-12-27</td>\n",
              "      <td>15.0</td>\n",
              "    </tr>\n",
              "    <tr>\n",
              "      <th>3</th>\n",
              "      <td>1000_309</td>\n",
              "      <td>1000</td>\n",
              "      <td>2018-12-28</td>\n",
              "      <td>6.0</td>\n",
              "    </tr>\n",
              "    <tr>\n",
              "      <th>4</th>\n",
              "      <td>1000_380</td>\n",
              "      <td>1000</td>\n",
              "      <td>2018-12-30</td>\n",
              "      <td>5.0</td>\n",
              "    </tr>\n",
              "  </tbody>\n",
              "</table>\n",
              "</div>"
            ],
            "text/plain": [
              "         id  user_id  call_date  duration\n",
              "0   1000_93     1000 2018-12-27       9.0\n",
              "1  1000_145     1000 2018-12-27      14.0\n",
              "2  1000_247     1000 2018-12-27      15.0\n",
              "3  1000_309     1000 2018-12-28       6.0\n",
              "4  1000_380     1000 2018-12-30       5.0"
            ]
          },
          "metadata": {}
        }
      ]
    },
    {
      "cell_type": "markdown",
      "source": "### Enriquecer datos",
      "metadata": {}
    },
    {
      "cell_type": "markdown",
      "source": "El cobro se hace mensual, por lo que hay que agregar una columna que incluya el mes de las llamadas.",
      "metadata": {}
    },
    {
      "cell_type": "code",
      "source": "#agregar columna mes\ndf_calls['month'] = df_calls['call_date'].dt.month\ndf_calls.head(3)",
      "metadata": {
        "scrolled": true
      },
      "execution_count": 20,
      "outputs": [
        {
          "execution_count": 20,
          "output_type": "execute_result",
          "data": {
            "text/html": [
              "<div>\n",
              "<style scoped>\n",
              "    .dataframe tbody tr th:only-of-type {\n",
              "        vertical-align: middle;\n",
              "    }\n",
              "\n",
              "    .dataframe tbody tr th {\n",
              "        vertical-align: top;\n",
              "    }\n",
              "\n",
              "    .dataframe thead th {\n",
              "        text-align: right;\n",
              "    }\n",
              "</style>\n",
              "<table border=\"1\" class=\"dataframe\">\n",
              "  <thead>\n",
              "    <tr style=\"text-align: right;\">\n",
              "      <th></th>\n",
              "      <th>id</th>\n",
              "      <th>user_id</th>\n",
              "      <th>call_date</th>\n",
              "      <th>duration</th>\n",
              "      <th>month</th>\n",
              "    </tr>\n",
              "  </thead>\n",
              "  <tbody>\n",
              "    <tr>\n",
              "      <th>0</th>\n",
              "      <td>1000_93</td>\n",
              "      <td>1000</td>\n",
              "      <td>2018-12-27</td>\n",
              "      <td>9.0</td>\n",
              "      <td>12</td>\n",
              "    </tr>\n",
              "    <tr>\n",
              "      <th>1</th>\n",
              "      <td>1000_145</td>\n",
              "      <td>1000</td>\n",
              "      <td>2018-12-27</td>\n",
              "      <td>14.0</td>\n",
              "      <td>12</td>\n",
              "    </tr>\n",
              "    <tr>\n",
              "      <th>2</th>\n",
              "      <td>1000_247</td>\n",
              "      <td>1000</td>\n",
              "      <td>2018-12-27</td>\n",
              "      <td>15.0</td>\n",
              "      <td>12</td>\n",
              "    </tr>\n",
              "  </tbody>\n",
              "</table>\n",
              "</div>"
            ],
            "text/plain": [
              "         id  user_id  call_date  duration  month\n",
              "0   1000_93     1000 2018-12-27       9.0     12\n",
              "1  1000_145     1000 2018-12-27      14.0     12\n",
              "2  1000_247     1000 2018-12-27      15.0     12"
            ]
          },
          "metadata": {}
        }
      ]
    },
    {
      "cell_type": "code",
      "source": "#confirmar que todos los meses pertenecen al año 2018\ndf_calls['call_date'].dt.year.unique()",
      "metadata": {},
      "execution_count": 21,
      "outputs": [
        {
          "execution_count": 21,
          "output_type": "execute_result",
          "data": {
            "text/plain": [
              "array([2018])"
            ]
          },
          "metadata": {}
        }
      ]
    },
    {
      "cell_type": "markdown",
      "source": "## Mensajes",
      "metadata": {}
    },
    {
      "cell_type": "code",
      "source": "# información/resumen general sobre el DataFrame de los mensajes\ndf_mess.info()",
      "metadata": {},
      "execution_count": 22,
      "outputs": [
        {
          "name": "stdout",
          "output_type": "stream",
          "text": "<class 'pandas.core.frame.DataFrame'>\n\nRangeIndex: 76051 entries, 0 to 76050\n\nData columns (total 3 columns):\n\n #   Column        Non-Null Count  Dtype         \n\n---  ------        --------------  -----         \n\n 0   id            76051 non-null  object        \n\n 1   user_id       76051 non-null  int64         \n\n 2   message_date  76051 non-null  datetime64[ns]\n\ndtypes: datetime64[ns](1), int64(1), object(1)\n\nmemory usage: 1.7+ MB\n"
        }
      ]
    },
    {
      "cell_type": "code",
      "source": "# vista previa\ndf_mess.head()",
      "metadata": {},
      "execution_count": 23,
      "outputs": [
        {
          "execution_count": 23,
          "output_type": "execute_result",
          "data": {
            "text/html": [
              "<div>\n",
              "<style scoped>\n",
              "    .dataframe tbody tr th:only-of-type {\n",
              "        vertical-align: middle;\n",
              "    }\n",
              "\n",
              "    .dataframe tbody tr th {\n",
              "        vertical-align: top;\n",
              "    }\n",
              "\n",
              "    .dataframe thead th {\n",
              "        text-align: right;\n",
              "    }\n",
              "</style>\n",
              "<table border=\"1\" class=\"dataframe\">\n",
              "  <thead>\n",
              "    <tr style=\"text-align: right;\">\n",
              "      <th></th>\n",
              "      <th>id</th>\n",
              "      <th>user_id</th>\n",
              "      <th>message_date</th>\n",
              "    </tr>\n",
              "  </thead>\n",
              "  <tbody>\n",
              "    <tr>\n",
              "      <th>0</th>\n",
              "      <td>1000_125</td>\n",
              "      <td>1000</td>\n",
              "      <td>2018-12-27</td>\n",
              "    </tr>\n",
              "    <tr>\n",
              "      <th>1</th>\n",
              "      <td>1000_160</td>\n",
              "      <td>1000</td>\n",
              "      <td>2018-12-31</td>\n",
              "    </tr>\n",
              "    <tr>\n",
              "      <th>2</th>\n",
              "      <td>1000_223</td>\n",
              "      <td>1000</td>\n",
              "      <td>2018-12-31</td>\n",
              "    </tr>\n",
              "    <tr>\n",
              "      <th>3</th>\n",
              "      <td>1000_251</td>\n",
              "      <td>1000</td>\n",
              "      <td>2018-12-27</td>\n",
              "    </tr>\n",
              "    <tr>\n",
              "      <th>4</th>\n",
              "      <td>1000_255</td>\n",
              "      <td>1000</td>\n",
              "      <td>2018-12-26</td>\n",
              "    </tr>\n",
              "  </tbody>\n",
              "</table>\n",
              "</div>"
            ],
            "text/plain": [
              "         id  user_id message_date\n",
              "0  1000_125     1000   2018-12-27\n",
              "1  1000_160     1000   2018-12-31\n",
              "2  1000_223     1000   2018-12-31\n",
              "3  1000_251     1000   2018-12-27\n",
              "4  1000_255     1000   2018-12-26"
            ]
          },
          "metadata": {}
        }
      ]
    },
    {
      "cell_type": "markdown",
      "source": "Esta tabla muestra las fechas y los ids únicos en que los usuarios mandaron mensajes. No tiene valores ausentes y los tipos de datos son los adecuados.",
      "metadata": {}
    },
    {
      "cell_type": "markdown",
      "source": " ",
      "metadata": {}
    },
    {
      "cell_type": "markdown",
      "source": "### Enriquecer datos",
      "metadata": {}
    },
    {
      "cell_type": "markdown",
      "source": "El cobro se hace mensual, por lo que hay que agregar una columna que incluya el mes de los mensajes.",
      "metadata": {}
    },
    {
      "cell_type": "code",
      "source": "#agregar columna del mes\ndf_mess['month'] = df_mess['message_date'].dt.month\ndf_mess.head(3)",
      "metadata": {},
      "execution_count": 24,
      "outputs": [
        {
          "execution_count": 24,
          "output_type": "execute_result",
          "data": {
            "text/html": [
              "<div>\n",
              "<style scoped>\n",
              "    .dataframe tbody tr th:only-of-type {\n",
              "        vertical-align: middle;\n",
              "    }\n",
              "\n",
              "    .dataframe tbody tr th {\n",
              "        vertical-align: top;\n",
              "    }\n",
              "\n",
              "    .dataframe thead th {\n",
              "        text-align: right;\n",
              "    }\n",
              "</style>\n",
              "<table border=\"1\" class=\"dataframe\">\n",
              "  <thead>\n",
              "    <tr style=\"text-align: right;\">\n",
              "      <th></th>\n",
              "      <th>id</th>\n",
              "      <th>user_id</th>\n",
              "      <th>message_date</th>\n",
              "      <th>month</th>\n",
              "    </tr>\n",
              "  </thead>\n",
              "  <tbody>\n",
              "    <tr>\n",
              "      <th>0</th>\n",
              "      <td>1000_125</td>\n",
              "      <td>1000</td>\n",
              "      <td>2018-12-27</td>\n",
              "      <td>12</td>\n",
              "    </tr>\n",
              "    <tr>\n",
              "      <th>1</th>\n",
              "      <td>1000_160</td>\n",
              "      <td>1000</td>\n",
              "      <td>2018-12-31</td>\n",
              "      <td>12</td>\n",
              "    </tr>\n",
              "    <tr>\n",
              "      <th>2</th>\n",
              "      <td>1000_223</td>\n",
              "      <td>1000</td>\n",
              "      <td>2018-12-31</td>\n",
              "      <td>12</td>\n",
              "    </tr>\n",
              "  </tbody>\n",
              "</table>\n",
              "</div>"
            ],
            "text/plain": [
              "         id  user_id message_date  month\n",
              "0  1000_125     1000   2018-12-27     12\n",
              "1  1000_160     1000   2018-12-31     12\n",
              "2  1000_223     1000   2018-12-31     12"
            ]
          },
          "metadata": {}
        }
      ]
    },
    {
      "cell_type": "markdown",
      "source": "## Internet",
      "metadata": {}
    },
    {
      "cell_type": "code",
      "source": "# información/resumen general sobre el DataFrame de los mensajes\ndf_int.info()",
      "metadata": {},
      "execution_count": 25,
      "outputs": [
        {
          "name": "stdout",
          "output_type": "stream",
          "text": "<class 'pandas.core.frame.DataFrame'>\n\nRangeIndex: 104825 entries, 0 to 104824\n\nData columns (total 4 columns):\n\n #   Column        Non-Null Count   Dtype         \n\n---  ------        --------------   -----         \n\n 0   id            104825 non-null  object        \n\n 1   user_id       104825 non-null  int64         \n\n 2   session_date  104825 non-null  datetime64[ns]\n\n 3   mb_used       104825 non-null  float64       \n\ndtypes: datetime64[ns](1), float64(1), int64(1), object(1)\n\nmemory usage: 3.2+ MB\n"
        }
      ]
    },
    {
      "cell_type": "code",
      "source": "# vista previa\ndf_int.head()",
      "metadata": {},
      "execution_count": 26,
      "outputs": [
        {
          "execution_count": 26,
          "output_type": "execute_result",
          "data": {
            "text/html": [
              "<div>\n",
              "<style scoped>\n",
              "    .dataframe tbody tr th:only-of-type {\n",
              "        vertical-align: middle;\n",
              "    }\n",
              "\n",
              "    .dataframe tbody tr th {\n",
              "        vertical-align: top;\n",
              "    }\n",
              "\n",
              "    .dataframe thead th {\n",
              "        text-align: right;\n",
              "    }\n",
              "</style>\n",
              "<table border=\"1\" class=\"dataframe\">\n",
              "  <thead>\n",
              "    <tr style=\"text-align: right;\">\n",
              "      <th></th>\n",
              "      <th>id</th>\n",
              "      <th>user_id</th>\n",
              "      <th>session_date</th>\n",
              "      <th>mb_used</th>\n",
              "    </tr>\n",
              "  </thead>\n",
              "  <tbody>\n",
              "    <tr>\n",
              "      <th>0</th>\n",
              "      <td>1000_13</td>\n",
              "      <td>1000</td>\n",
              "      <td>2018-12-29</td>\n",
              "      <td>89.86</td>\n",
              "    </tr>\n",
              "    <tr>\n",
              "      <th>1</th>\n",
              "      <td>1000_204</td>\n",
              "      <td>1000</td>\n",
              "      <td>2018-12-31</td>\n",
              "      <td>0.00</td>\n",
              "    </tr>\n",
              "    <tr>\n",
              "      <th>2</th>\n",
              "      <td>1000_379</td>\n",
              "      <td>1000</td>\n",
              "      <td>2018-12-28</td>\n",
              "      <td>660.40</td>\n",
              "    </tr>\n",
              "    <tr>\n",
              "      <th>3</th>\n",
              "      <td>1000_413</td>\n",
              "      <td>1000</td>\n",
              "      <td>2018-12-26</td>\n",
              "      <td>270.99</td>\n",
              "    </tr>\n",
              "    <tr>\n",
              "      <th>4</th>\n",
              "      <td>1000_442</td>\n",
              "      <td>1000</td>\n",
              "      <td>2018-12-27</td>\n",
              "      <td>880.22</td>\n",
              "    </tr>\n",
              "  </tbody>\n",
              "</table>\n",
              "</div>"
            ],
            "text/plain": [
              "         id  user_id session_date  mb_used\n",
              "0   1000_13     1000   2018-12-29    89.86\n",
              "1  1000_204     1000   2018-12-31     0.00\n",
              "2  1000_379     1000   2018-12-28   660.40\n",
              "3  1000_413     1000   2018-12-26   270.99\n",
              "4  1000_442     1000   2018-12-27   880.22"
            ]
          },
          "metadata": {}
        }
      ]
    },
    {
      "cell_type": "markdown",
      "source": "La tabla muestra el consumo por sesión, no tiene valores ausentes y los tipos de datos son adecuados. La tabla muestra el consumo en megas pero el cobro se hace en gigas. Hay que hacer la conversión y corregir la tabla. ",
      "metadata": {}
    },
    {
      "cell_type": "markdown",
      "source": " ",
      "metadata": {}
    },
    {
      "cell_type": "markdown",
      "source": "### Corregir datos",
      "metadata": {}
    },
    {
      "cell_type": "markdown",
      "source": "Se cambian las unidades de la columna `mb_used` de megas a gigas y se modifica el nombre de la columna pues el cobro es en gigas.",
      "metadata": {}
    },
    {
      "cell_type": "code",
      "source": "#cambiar unidades\ndf_int['mb_used'] = df_int['mb_used']/1024\ndf_int = df_int.rename(columns={'mb_used':'gb_used'})\ndf_int.head(3)",
      "metadata": {},
      "execution_count": 27,
      "outputs": [
        {
          "execution_count": 27,
          "output_type": "execute_result",
          "data": {
            "text/html": [
              "<div>\n",
              "<style scoped>\n",
              "    .dataframe tbody tr th:only-of-type {\n",
              "        vertical-align: middle;\n",
              "    }\n",
              "\n",
              "    .dataframe tbody tr th {\n",
              "        vertical-align: top;\n",
              "    }\n",
              "\n",
              "    .dataframe thead th {\n",
              "        text-align: right;\n",
              "    }\n",
              "</style>\n",
              "<table border=\"1\" class=\"dataframe\">\n",
              "  <thead>\n",
              "    <tr style=\"text-align: right;\">\n",
              "      <th></th>\n",
              "      <th>id</th>\n",
              "      <th>user_id</th>\n",
              "      <th>session_date</th>\n",
              "      <th>gb_used</th>\n",
              "    </tr>\n",
              "  </thead>\n",
              "  <tbody>\n",
              "    <tr>\n",
              "      <th>0</th>\n",
              "      <td>1000_13</td>\n",
              "      <td>1000</td>\n",
              "      <td>2018-12-29</td>\n",
              "      <td>0.087754</td>\n",
              "    </tr>\n",
              "    <tr>\n",
              "      <th>1</th>\n",
              "      <td>1000_204</td>\n",
              "      <td>1000</td>\n",
              "      <td>2018-12-31</td>\n",
              "      <td>0.000000</td>\n",
              "    </tr>\n",
              "    <tr>\n",
              "      <th>2</th>\n",
              "      <td>1000_379</td>\n",
              "      <td>1000</td>\n",
              "      <td>2018-12-28</td>\n",
              "      <td>0.644922</td>\n",
              "    </tr>\n",
              "  </tbody>\n",
              "</table>\n",
              "</div>"
            ],
            "text/plain": [
              "         id  user_id session_date   gb_used\n",
              "0   1000_13     1000   2018-12-29  0.087754\n",
              "1  1000_204     1000   2018-12-31  0.000000\n",
              "2  1000_379     1000   2018-12-28  0.644922"
            ]
          },
          "metadata": {}
        }
      ]
    },
    {
      "cell_type": "markdown",
      "source": "### Enriquecer datos",
      "metadata": {}
    },
    {
      "cell_type": "markdown",
      "source": "El cobro se hace mensual, por lo que hay que agregar una columna que incluya el mes del consumo de internet.",
      "metadata": {}
    },
    {
      "cell_type": "code",
      "source": "#agregar columna mes\ndf_int['month'] = df_int['session_date'].dt.month\ndf_int.head(3)",
      "metadata": {},
      "execution_count": 28,
      "outputs": [
        {
          "execution_count": 28,
          "output_type": "execute_result",
          "data": {
            "text/html": [
              "<div>\n",
              "<style scoped>\n",
              "    .dataframe tbody tr th:only-of-type {\n",
              "        vertical-align: middle;\n",
              "    }\n",
              "\n",
              "    .dataframe tbody tr th {\n",
              "        vertical-align: top;\n",
              "    }\n",
              "\n",
              "    .dataframe thead th {\n",
              "        text-align: right;\n",
              "    }\n",
              "</style>\n",
              "<table border=\"1\" class=\"dataframe\">\n",
              "  <thead>\n",
              "    <tr style=\"text-align: right;\">\n",
              "      <th></th>\n",
              "      <th>id</th>\n",
              "      <th>user_id</th>\n",
              "      <th>session_date</th>\n",
              "      <th>gb_used</th>\n",
              "      <th>month</th>\n",
              "    </tr>\n",
              "  </thead>\n",
              "  <tbody>\n",
              "    <tr>\n",
              "      <th>0</th>\n",
              "      <td>1000_13</td>\n",
              "      <td>1000</td>\n",
              "      <td>2018-12-29</td>\n",
              "      <td>0.087754</td>\n",
              "      <td>12</td>\n",
              "    </tr>\n",
              "    <tr>\n",
              "      <th>1</th>\n",
              "      <td>1000_204</td>\n",
              "      <td>1000</td>\n",
              "      <td>2018-12-31</td>\n",
              "      <td>0.000000</td>\n",
              "      <td>12</td>\n",
              "    </tr>\n",
              "    <tr>\n",
              "      <th>2</th>\n",
              "      <td>1000_379</td>\n",
              "      <td>1000</td>\n",
              "      <td>2018-12-28</td>\n",
              "      <td>0.644922</td>\n",
              "      <td>12</td>\n",
              "    </tr>\n",
              "  </tbody>\n",
              "</table>\n",
              "</div>"
            ],
            "text/plain": [
              "         id  user_id session_date   gb_used  month\n",
              "0   1000_13     1000   2018-12-29  0.087754     12\n",
              "1  1000_204     1000   2018-12-31  0.000000     12\n",
              "2  1000_379     1000   2018-12-28  0.644922     12"
            ]
          },
          "metadata": {}
        }
      ]
    },
    {
      "cell_type": "markdown",
      "source": "## Estudiar las condiciones del plan",
      "metadata": {}
    },
    {
      "cell_type": "markdown",
      "source": "Se observan nuevamente la información de los planes para saber cómo se les cobra a los usuarios en base en su plan de suscripción.",
      "metadata": {}
    },
    {
      "cell_type": "code",
      "source": "#condiciones del plan\ndf_plans",
      "metadata": {},
      "execution_count": 29,
      "outputs": [
        {
          "execution_count": 29,
          "output_type": "execute_result",
          "data": {
            "text/html": [
              "<div>\n",
              "<style scoped>\n",
              "    .dataframe tbody tr th:only-of-type {\n",
              "        vertical-align: middle;\n",
              "    }\n",
              "\n",
              "    .dataframe tbody tr th {\n",
              "        vertical-align: top;\n",
              "    }\n",
              "\n",
              "    .dataframe thead th {\n",
              "        text-align: right;\n",
              "    }\n",
              "</style>\n",
              "<table border=\"1\" class=\"dataframe\">\n",
              "  <thead>\n",
              "    <tr style=\"text-align: right;\">\n",
              "      <th></th>\n",
              "      <th>messages_included</th>\n",
              "      <th>gb_per_month</th>\n",
              "      <th>minutes_included</th>\n",
              "      <th>usd_monthly_pay</th>\n",
              "      <th>usd_per_gb</th>\n",
              "      <th>usd_per_message</th>\n",
              "      <th>usd_per_minute</th>\n",
              "      <th>plan_name</th>\n",
              "    </tr>\n",
              "  </thead>\n",
              "  <tbody>\n",
              "    <tr>\n",
              "      <th>0</th>\n",
              "      <td>50</td>\n",
              "      <td>15.0</td>\n",
              "      <td>500</td>\n",
              "      <td>20</td>\n",
              "      <td>10</td>\n",
              "      <td>0.03</td>\n",
              "      <td>0.03</td>\n",
              "      <td>surf</td>\n",
              "    </tr>\n",
              "    <tr>\n",
              "      <th>1</th>\n",
              "      <td>1000</td>\n",
              "      <td>30.0</td>\n",
              "      <td>3000</td>\n",
              "      <td>70</td>\n",
              "      <td>7</td>\n",
              "      <td>0.01</td>\n",
              "      <td>0.01</td>\n",
              "      <td>ultimate</td>\n",
              "    </tr>\n",
              "  </tbody>\n",
              "</table>\n",
              "</div>"
            ],
            "text/plain": [
              "   messages_included  gb_per_month  minutes_included  usd_monthly_pay  \\\n",
              "0                 50          15.0               500               20   \n",
              "1               1000          30.0              3000               70   \n",
              "\n",
              "   usd_per_gb  usd_per_message  usd_per_minute plan_name  \n",
              "0          10             0.03            0.03      surf  \n",
              "1           7             0.01            0.01  ultimate  "
            ]
          },
          "metadata": {}
        }
      ]
    },
    {
      "cell_type": "markdown",
      "source": "## Agregar datos por usuario\nSe agrupan las tablas de llamadas, consumo de internet y mensajes por usuario por mes para tener el registro mensual de cada usuario.",
      "metadata": {}
    },
    {
      "cell_type": "code",
      "source": "#Se calcula el número de llamadas hechas por  usuario por mes\ndf_ncalls = df_calls.groupby(['user_id','month'])['id'].count().reset_index()\ndf_ncalls = df_ncalls.rename(columns={'id':'num_calls'})\ndf_ncalls.head(3)",
      "metadata": {},
      "execution_count": 30,
      "outputs": [
        {
          "execution_count": 30,
          "output_type": "execute_result",
          "data": {
            "text/html": [
              "<div>\n",
              "<style scoped>\n",
              "    .dataframe tbody tr th:only-of-type {\n",
              "        vertical-align: middle;\n",
              "    }\n",
              "\n",
              "    .dataframe tbody tr th {\n",
              "        vertical-align: top;\n",
              "    }\n",
              "\n",
              "    .dataframe thead th {\n",
              "        text-align: right;\n",
              "    }\n",
              "</style>\n",
              "<table border=\"1\" class=\"dataframe\">\n",
              "  <thead>\n",
              "    <tr style=\"text-align: right;\">\n",
              "      <th></th>\n",
              "      <th>user_id</th>\n",
              "      <th>month</th>\n",
              "      <th>num_calls</th>\n",
              "    </tr>\n",
              "  </thead>\n",
              "  <tbody>\n",
              "    <tr>\n",
              "      <th>0</th>\n",
              "      <td>1000</td>\n",
              "      <td>12</td>\n",
              "      <td>16</td>\n",
              "    </tr>\n",
              "    <tr>\n",
              "      <th>1</th>\n",
              "      <td>1001</td>\n",
              "      <td>8</td>\n",
              "      <td>22</td>\n",
              "    </tr>\n",
              "    <tr>\n",
              "      <th>2</th>\n",
              "      <td>1001</td>\n",
              "      <td>9</td>\n",
              "      <td>38</td>\n",
              "    </tr>\n",
              "  </tbody>\n",
              "</table>\n",
              "</div>"
            ],
            "text/plain": [
              "   user_id  month  num_calls\n",
              "0     1000     12         16\n",
              "1     1001      8         22\n",
              "2     1001      9         38"
            ]
          },
          "metadata": {}
        }
      ]
    },
    {
      "cell_type": "code",
      "source": "#Se calcula la cantidad de minutos que usó cada usuario por mes\ndf_mcalls = df_calls.groupby(['user_id','month']).sum().reset_index()\ndf_mcalls.head(3)",
      "metadata": {},
      "execution_count": 31,
      "outputs": [
        {
          "execution_count": 31,
          "output_type": "execute_result",
          "data": {
            "text/html": [
              "<div>\n",
              "<style scoped>\n",
              "    .dataframe tbody tr th:only-of-type {\n",
              "        vertical-align: middle;\n",
              "    }\n",
              "\n",
              "    .dataframe tbody tr th {\n",
              "        vertical-align: top;\n",
              "    }\n",
              "\n",
              "    .dataframe thead th {\n",
              "        text-align: right;\n",
              "    }\n",
              "</style>\n",
              "<table border=\"1\" class=\"dataframe\">\n",
              "  <thead>\n",
              "    <tr style=\"text-align: right;\">\n",
              "      <th></th>\n",
              "      <th>user_id</th>\n",
              "      <th>month</th>\n",
              "      <th>duration</th>\n",
              "    </tr>\n",
              "  </thead>\n",
              "  <tbody>\n",
              "    <tr>\n",
              "      <th>0</th>\n",
              "      <td>1000</td>\n",
              "      <td>12</td>\n",
              "      <td>124.0</td>\n",
              "    </tr>\n",
              "    <tr>\n",
              "      <th>1</th>\n",
              "      <td>1001</td>\n",
              "      <td>8</td>\n",
              "      <td>182.0</td>\n",
              "    </tr>\n",
              "    <tr>\n",
              "      <th>2</th>\n",
              "      <td>1001</td>\n",
              "      <td>9</td>\n",
              "      <td>315.0</td>\n",
              "    </tr>\n",
              "  </tbody>\n",
              "</table>\n",
              "</div>"
            ],
            "text/plain": [
              "   user_id  month  duration\n",
              "0     1000     12     124.0\n",
              "1     1001      8     182.0\n",
              "2     1001      9     315.0"
            ]
          },
          "metadata": {}
        }
      ]
    },
    {
      "cell_type": "code",
      "source": "# Calcula el número de mensajes enviados por cada usuario por mes\ndf_nmess = df_mess.groupby(['user_id','month'])['id'].count().reset_index()\ndf_nmess = df_nmess.rename(columns={'id':'num_mess'})\ndf_nmess.head(3)",
      "metadata": {},
      "execution_count": 32,
      "outputs": [
        {
          "execution_count": 32,
          "output_type": "execute_result",
          "data": {
            "text/html": [
              "<div>\n",
              "<style scoped>\n",
              "    .dataframe tbody tr th:only-of-type {\n",
              "        vertical-align: middle;\n",
              "    }\n",
              "\n",
              "    .dataframe tbody tr th {\n",
              "        vertical-align: top;\n",
              "    }\n",
              "\n",
              "    .dataframe thead th {\n",
              "        text-align: right;\n",
              "    }\n",
              "</style>\n",
              "<table border=\"1\" class=\"dataframe\">\n",
              "  <thead>\n",
              "    <tr style=\"text-align: right;\">\n",
              "      <th></th>\n",
              "      <th>user_id</th>\n",
              "      <th>month</th>\n",
              "      <th>num_mess</th>\n",
              "    </tr>\n",
              "  </thead>\n",
              "  <tbody>\n",
              "    <tr>\n",
              "      <th>0</th>\n",
              "      <td>1000</td>\n",
              "      <td>12</td>\n",
              "      <td>11</td>\n",
              "    </tr>\n",
              "    <tr>\n",
              "      <th>1</th>\n",
              "      <td>1001</td>\n",
              "      <td>8</td>\n",
              "      <td>30</td>\n",
              "    </tr>\n",
              "    <tr>\n",
              "      <th>2</th>\n",
              "      <td>1001</td>\n",
              "      <td>9</td>\n",
              "      <td>44</td>\n",
              "    </tr>\n",
              "  </tbody>\n",
              "</table>\n",
              "</div>"
            ],
            "text/plain": [
              "   user_id  month  num_mess\n",
              "0     1000     12        11\n",
              "1     1001      8        30\n",
              "2     1001      9        44"
            ]
          },
          "metadata": {}
        }
      ]
    },
    {
      "cell_type": "code",
      "source": "#Se calcula el volumen del trafico de internet usado por cada usuario por mes\ndf_nint = df_int.groupby(['user_id','month'])['gb_used'].sum().reset_index()\n\n#En el cobro de internet, se redondea el consumo mensual hacia arriba\ndf_nint['gb_used'] = df_nint['gb_used'].apply(np.ceil)\ndf_nint.head(3)",
      "metadata": {},
      "execution_count": 33,
      "outputs": [
        {
          "execution_count": 33,
          "output_type": "execute_result",
          "data": {
            "text/html": [
              "<div>\n",
              "<style scoped>\n",
              "    .dataframe tbody tr th:only-of-type {\n",
              "        vertical-align: middle;\n",
              "    }\n",
              "\n",
              "    .dataframe tbody tr th {\n",
              "        vertical-align: top;\n",
              "    }\n",
              "\n",
              "    .dataframe thead th {\n",
              "        text-align: right;\n",
              "    }\n",
              "</style>\n",
              "<table border=\"1\" class=\"dataframe\">\n",
              "  <thead>\n",
              "    <tr style=\"text-align: right;\">\n",
              "      <th></th>\n",
              "      <th>user_id</th>\n",
              "      <th>month</th>\n",
              "      <th>gb_used</th>\n",
              "    </tr>\n",
              "  </thead>\n",
              "  <tbody>\n",
              "    <tr>\n",
              "      <th>0</th>\n",
              "      <td>1000</td>\n",
              "      <td>12</td>\n",
              "      <td>2.0</td>\n",
              "    </tr>\n",
              "    <tr>\n",
              "      <th>1</th>\n",
              "      <td>1001</td>\n",
              "      <td>8</td>\n",
              "      <td>7.0</td>\n",
              "    </tr>\n",
              "    <tr>\n",
              "      <th>2</th>\n",
              "      <td>1001</td>\n",
              "      <td>9</td>\n",
              "      <td>14.0</td>\n",
              "    </tr>\n",
              "  </tbody>\n",
              "</table>\n",
              "</div>"
            ],
            "text/plain": [
              "   user_id  month  gb_used\n",
              "0     1000     12      2.0\n",
              "1     1001      8      7.0\n",
              "2     1001      9     14.0"
            ]
          },
          "metadata": {}
        }
      ]
    },
    {
      "cell_type": "markdown",
      "source": "Se tiene el consumo mensual de cada usuario en tablas separadas, hay que juntarlas.",
      "metadata": {}
    },
    {
      "cell_type": "code",
      "source": "#Se unen las llamadas, minutos, mensajes e internet del user_id por mes\ndf_monthly = df_nint.merge(df_nmess,on=['user_id','month'],how='outer')\ndf_monthly = df_monthly.merge(df_ncalls,on=['user_id','month'],how='outer')\ndf_monthly = df_monthly.merge(df_mcalls,on=['user_id','month'],how='outer')\ndf_monthly.head(5)",
      "metadata": {},
      "execution_count": 34,
      "outputs": [
        {
          "execution_count": 34,
          "output_type": "execute_result",
          "data": {
            "text/html": [
              "<div>\n",
              "<style scoped>\n",
              "    .dataframe tbody tr th:only-of-type {\n",
              "        vertical-align: middle;\n",
              "    }\n",
              "\n",
              "    .dataframe tbody tr th {\n",
              "        vertical-align: top;\n",
              "    }\n",
              "\n",
              "    .dataframe thead th {\n",
              "        text-align: right;\n",
              "    }\n",
              "</style>\n",
              "<table border=\"1\" class=\"dataframe\">\n",
              "  <thead>\n",
              "    <tr style=\"text-align: right;\">\n",
              "      <th></th>\n",
              "      <th>user_id</th>\n",
              "      <th>month</th>\n",
              "      <th>gb_used</th>\n",
              "      <th>num_mess</th>\n",
              "      <th>num_calls</th>\n",
              "      <th>duration</th>\n",
              "    </tr>\n",
              "  </thead>\n",
              "  <tbody>\n",
              "    <tr>\n",
              "      <th>0</th>\n",
              "      <td>1000</td>\n",
              "      <td>12</td>\n",
              "      <td>2.0</td>\n",
              "      <td>11.0</td>\n",
              "      <td>16.0</td>\n",
              "      <td>124.0</td>\n",
              "    </tr>\n",
              "    <tr>\n",
              "      <th>1</th>\n",
              "      <td>1001</td>\n",
              "      <td>8</td>\n",
              "      <td>7.0</td>\n",
              "      <td>30.0</td>\n",
              "      <td>22.0</td>\n",
              "      <td>182.0</td>\n",
              "    </tr>\n",
              "    <tr>\n",
              "      <th>2</th>\n",
              "      <td>1001</td>\n",
              "      <td>9</td>\n",
              "      <td>14.0</td>\n",
              "      <td>44.0</td>\n",
              "      <td>38.0</td>\n",
              "      <td>315.0</td>\n",
              "    </tr>\n",
              "    <tr>\n",
              "      <th>3</th>\n",
              "      <td>1001</td>\n",
              "      <td>10</td>\n",
              "      <td>22.0</td>\n",
              "      <td>53.0</td>\n",
              "      <td>47.0</td>\n",
              "      <td>393.0</td>\n",
              "    </tr>\n",
              "    <tr>\n",
              "      <th>4</th>\n",
              "      <td>1001</td>\n",
              "      <td>11</td>\n",
              "      <td>19.0</td>\n",
              "      <td>36.0</td>\n",
              "      <td>49.0</td>\n",
              "      <td>426.0</td>\n",
              "    </tr>\n",
              "  </tbody>\n",
              "</table>\n",
              "</div>"
            ],
            "text/plain": [
              "   user_id  month  gb_used  num_mess  num_calls  duration\n",
              "0     1000     12      2.0      11.0       16.0     124.0\n",
              "1     1001      8      7.0      30.0       22.0     182.0\n",
              "2     1001      9     14.0      44.0       38.0     315.0\n",
              "3     1001     10     22.0      53.0       47.0     393.0\n",
              "4     1001     11     19.0      36.0       49.0     426.0"
            ]
          },
          "metadata": {}
        }
      ]
    },
    {
      "cell_type": "markdown",
      "source": "Hay valores ausentes en la tabla por los usuarios que no usaron cierto servicio durante algun mes. Como no usaron el servicio, se establece el valor en 0.",
      "metadata": {}
    },
    {
      "cell_type": "code",
      "source": "df_monthly = df_monthly.fillna(0)\ndf_monthly.info()",
      "metadata": {
        "scrolled": true
      },
      "execution_count": 35,
      "outputs": [
        {
          "name": "stdout",
          "output_type": "stream",
          "text": "<class 'pandas.core.frame.DataFrame'>\n\nInt64Index: 2293 entries, 0 to 2292\n\nData columns (total 6 columns):\n\n #   Column     Non-Null Count  Dtype  \n\n---  ------     --------------  -----  \n\n 0   user_id    2293 non-null   int64  \n\n 1   month      2293 non-null   int64  \n\n 2   gb_used    2293 non-null   float64\n\n 3   num_mess   2293 non-null   float64\n\n 4   num_calls  2293 non-null   float64\n\n 5   duration   2293 non-null   float64\n\ndtypes: float64(4), int64(2)\n\nmemory usage: 125.4 KB\n"
        }
      ]
    },
    {
      "cell_type": "markdown",
      "source": "Se tiene una sola tabla con toda la información necesaria sin valores ausentes y el tipo de datos adecuado.",
      "metadata": {}
    },
    {
      "cell_type": "code",
      "source": "#Se agrega la información del plan y ubicación del usuario\ndf_monthly = df_monthly.set_index('user_id').join(df_users.set_index('user_id'))\ndf_monthly = df_monthly.reset_index()\ndf_monthly.head(3)",
      "metadata": {},
      "execution_count": 36,
      "outputs": [
        {
          "execution_count": 36,
          "output_type": "execute_result",
          "data": {
            "text/html": [
              "<div>\n",
              "<style scoped>\n",
              "    .dataframe tbody tr th:only-of-type {\n",
              "        vertical-align: middle;\n",
              "    }\n",
              "\n",
              "    .dataframe tbody tr th {\n",
              "        vertical-align: top;\n",
              "    }\n",
              "\n",
              "    .dataframe thead th {\n",
              "        text-align: right;\n",
              "    }\n",
              "</style>\n",
              "<table border=\"1\" class=\"dataframe\">\n",
              "  <thead>\n",
              "    <tr style=\"text-align: right;\">\n",
              "      <th></th>\n",
              "      <th>user_id</th>\n",
              "      <th>month</th>\n",
              "      <th>gb_used</th>\n",
              "      <th>num_mess</th>\n",
              "      <th>num_calls</th>\n",
              "      <th>duration</th>\n",
              "      <th>city</th>\n",
              "      <th>plan</th>\n",
              "    </tr>\n",
              "  </thead>\n",
              "  <tbody>\n",
              "    <tr>\n",
              "      <th>0</th>\n",
              "      <td>1000</td>\n",
              "      <td>12</td>\n",
              "      <td>2.0</td>\n",
              "      <td>11.0</td>\n",
              "      <td>16.0</td>\n",
              "      <td>124.0</td>\n",
              "      <td>Atlanta-Sandy Springs-Roswell, GA MSA</td>\n",
              "      <td>ultimate</td>\n",
              "    </tr>\n",
              "    <tr>\n",
              "      <th>1</th>\n",
              "      <td>1001</td>\n",
              "      <td>8</td>\n",
              "      <td>7.0</td>\n",
              "      <td>30.0</td>\n",
              "      <td>22.0</td>\n",
              "      <td>182.0</td>\n",
              "      <td>Seattle-Tacoma-Bellevue, WA MSA</td>\n",
              "      <td>surf</td>\n",
              "    </tr>\n",
              "    <tr>\n",
              "      <th>2</th>\n",
              "      <td>1001</td>\n",
              "      <td>9</td>\n",
              "      <td>14.0</td>\n",
              "      <td>44.0</td>\n",
              "      <td>38.0</td>\n",
              "      <td>315.0</td>\n",
              "      <td>Seattle-Tacoma-Bellevue, WA MSA</td>\n",
              "      <td>surf</td>\n",
              "    </tr>\n",
              "  </tbody>\n",
              "</table>\n",
              "</div>"
            ],
            "text/plain": [
              "   user_id  month  gb_used  num_mess  num_calls  duration  \\\n",
              "0     1000     12      2.0      11.0       16.0     124.0   \n",
              "1     1001      8      7.0      30.0       22.0     182.0   \n",
              "2     1001      9     14.0      44.0       38.0     315.0   \n",
              "\n",
              "                                    city      plan  \n",
              "0  Atlanta-Sandy Springs-Roswell, GA MSA  ultimate  \n",
              "1        Seattle-Tacoma-Bellevue, WA MSA      surf  \n",
              "2        Seattle-Tacoma-Bellevue, WA MSA      surf  "
            ]
          },
          "metadata": {}
        }
      ]
    },
    {
      "cell_type": "markdown",
      "source": "A continuación se crea una función para calcular los ingresos mensuales de cada usuario. Para ello, se resta a lo usado, el límite del paquete contratado y en caso de haber diferencia donde el usuario uso más, se multiplíca por la tarifa que aplique; a esto se le agrega el costo del paquete contratado.",
      "metadata": {}
    },
    {
      "cell_type": "code",
      "source": "df_plans",
      "metadata": {},
      "execution_count": 37,
      "outputs": [
        {
          "execution_count": 37,
          "output_type": "execute_result",
          "data": {
            "text/html": [
              "<div>\n",
              "<style scoped>\n",
              "    .dataframe tbody tr th:only-of-type {\n",
              "        vertical-align: middle;\n",
              "    }\n",
              "\n",
              "    .dataframe tbody tr th {\n",
              "        vertical-align: top;\n",
              "    }\n",
              "\n",
              "    .dataframe thead th {\n",
              "        text-align: right;\n",
              "    }\n",
              "</style>\n",
              "<table border=\"1\" class=\"dataframe\">\n",
              "  <thead>\n",
              "    <tr style=\"text-align: right;\">\n",
              "      <th></th>\n",
              "      <th>messages_included</th>\n",
              "      <th>gb_per_month</th>\n",
              "      <th>minutes_included</th>\n",
              "      <th>usd_monthly_pay</th>\n",
              "      <th>usd_per_gb</th>\n",
              "      <th>usd_per_message</th>\n",
              "      <th>usd_per_minute</th>\n",
              "      <th>plan_name</th>\n",
              "    </tr>\n",
              "  </thead>\n",
              "  <tbody>\n",
              "    <tr>\n",
              "      <th>0</th>\n",
              "      <td>50</td>\n",
              "      <td>15.0</td>\n",
              "      <td>500</td>\n",
              "      <td>20</td>\n",
              "      <td>10</td>\n",
              "      <td>0.03</td>\n",
              "      <td>0.03</td>\n",
              "      <td>surf</td>\n",
              "    </tr>\n",
              "    <tr>\n",
              "      <th>1</th>\n",
              "      <td>1000</td>\n",
              "      <td>30.0</td>\n",
              "      <td>3000</td>\n",
              "      <td>70</td>\n",
              "      <td>7</td>\n",
              "      <td>0.01</td>\n",
              "      <td>0.01</td>\n",
              "      <td>ultimate</td>\n",
              "    </tr>\n",
              "  </tbody>\n",
              "</table>\n",
              "</div>"
            ],
            "text/plain": [
              "   messages_included  gb_per_month  minutes_included  usd_monthly_pay  \\\n",
              "0                 50          15.0               500               20   \n",
              "1               1000          30.0              3000               70   \n",
              "\n",
              "   usd_per_gb  usd_per_message  usd_per_minute plan_name  \n",
              "0          10             0.03            0.03      surf  \n",
              "1           7             0.01            0.01  ultimate  "
            ]
          },
          "metadata": {}
        }
      ]
    },
    {
      "cell_type": "code",
      "source": "#función para calcular el ingreso\ndef monthly_income(row):\n    if row['plan']=='ultimate':\n        income = 70\n        if row['num_mess'] > 1000: income += (row['num_mess']-1000) *0.01\n        if row['gb_used']  > 30:   income += (row['gb_used']-30)    *7\n        if row['duration'] > 3000: income += (row['duration']-3000) *0.01\n        row['income']=income\n    else:\n        income = 20\n        if row['num_mess'] > 50:  income += (row['num_mess']-50)  *0.03\n        if row['gb_used']  > 15:  income += (row['gb_used']-15)   *10\n        if row['duration'] > 500: income += (row['duration']-500) *0.03\n        row['income']=income\n        \n    return row",
      "metadata": {},
      "execution_count": 38,
      "outputs": []
    },
    {
      "cell_type": "code",
      "source": "#Crear filas para probar funcion\n\n#Columnas que la función espera\nrow_columns = ['plan','num_mess','gb_used','duration','income']\n#Valores que la función espera\nrow_val1 = ['ultimate',800,25,2000,0]\nrow_val2 = ['ultimate',800,35,2000,0]\nrow_val3 = ['ultimate',800,35,3001,0]\nrow_val4 = ['surf',40,5,200,0]\nrow_val5 = ['surf',51,5,200,0]\nrow_val6 = ['surf',51,20,510,0]\n\n#Crear fila ficticia \nrow1 = pd.Series(data=row_val1, index=row_columns)\nrow2 = pd.Series(data=row_val2, index=row_columns)\nrow3 = pd.Series(data=row_val3, index=row_columns)\nrow4 = pd.Series(data=row_val4, index=row_columns)\nrow5 = pd.Series(data=row_val5, index=row_columns)\nrow6 = pd.Series(data=row_val6, index=row_columns)\n#probar fila ficticia\nmonthly_income(row6)",
      "metadata": {},
      "execution_count": 39,
      "outputs": [
        {
          "execution_count": 39,
          "output_type": "execute_result",
          "data": {
            "text/plain": [
              "plan         surf\n",
              "num_mess       51\n",
              "gb_used        20\n",
              "duration      510\n",
              "income      70.33\n",
              "dtype: object"
            ]
          },
          "metadata": {}
        }
      ]
    },
    {
      "cell_type": "code",
      "source": "#Se calcula el ingreso mensual para cada usuario\ndf_monthly = df_monthly.apply(monthly_income,axis=1)\ndf_monthly.head()",
      "metadata": {},
      "execution_count": 40,
      "outputs": [
        {
          "execution_count": 40,
          "output_type": "execute_result",
          "data": {
            "text/html": [
              "<div>\n",
              "<style scoped>\n",
              "    .dataframe tbody tr th:only-of-type {\n",
              "        vertical-align: middle;\n",
              "    }\n",
              "\n",
              "    .dataframe tbody tr th {\n",
              "        vertical-align: top;\n",
              "    }\n",
              "\n",
              "    .dataframe thead th {\n",
              "        text-align: right;\n",
              "    }\n",
              "</style>\n",
              "<table border=\"1\" class=\"dataframe\">\n",
              "  <thead>\n",
              "    <tr style=\"text-align: right;\">\n",
              "      <th></th>\n",
              "      <th>user_id</th>\n",
              "      <th>month</th>\n",
              "      <th>gb_used</th>\n",
              "      <th>num_mess</th>\n",
              "      <th>num_calls</th>\n",
              "      <th>duration</th>\n",
              "      <th>city</th>\n",
              "      <th>plan</th>\n",
              "      <th>income</th>\n",
              "    </tr>\n",
              "  </thead>\n",
              "  <tbody>\n",
              "    <tr>\n",
              "      <th>0</th>\n",
              "      <td>1000</td>\n",
              "      <td>12</td>\n",
              "      <td>2.0</td>\n",
              "      <td>11.0</td>\n",
              "      <td>16.0</td>\n",
              "      <td>124.0</td>\n",
              "      <td>Atlanta-Sandy Springs-Roswell, GA MSA</td>\n",
              "      <td>ultimate</td>\n",
              "      <td>70.00</td>\n",
              "    </tr>\n",
              "    <tr>\n",
              "      <th>1</th>\n",
              "      <td>1001</td>\n",
              "      <td>8</td>\n",
              "      <td>7.0</td>\n",
              "      <td>30.0</td>\n",
              "      <td>22.0</td>\n",
              "      <td>182.0</td>\n",
              "      <td>Seattle-Tacoma-Bellevue, WA MSA</td>\n",
              "      <td>surf</td>\n",
              "      <td>20.00</td>\n",
              "    </tr>\n",
              "    <tr>\n",
              "      <th>2</th>\n",
              "      <td>1001</td>\n",
              "      <td>9</td>\n",
              "      <td>14.0</td>\n",
              "      <td>44.0</td>\n",
              "      <td>38.0</td>\n",
              "      <td>315.0</td>\n",
              "      <td>Seattle-Tacoma-Bellevue, WA MSA</td>\n",
              "      <td>surf</td>\n",
              "      <td>20.00</td>\n",
              "    </tr>\n",
              "    <tr>\n",
              "      <th>3</th>\n",
              "      <td>1001</td>\n",
              "      <td>10</td>\n",
              "      <td>22.0</td>\n",
              "      <td>53.0</td>\n",
              "      <td>47.0</td>\n",
              "      <td>393.0</td>\n",
              "      <td>Seattle-Tacoma-Bellevue, WA MSA</td>\n",
              "      <td>surf</td>\n",
              "      <td>90.09</td>\n",
              "    </tr>\n",
              "    <tr>\n",
              "      <th>4</th>\n",
              "      <td>1001</td>\n",
              "      <td>11</td>\n",
              "      <td>19.0</td>\n",
              "      <td>36.0</td>\n",
              "      <td>49.0</td>\n",
              "      <td>426.0</td>\n",
              "      <td>Seattle-Tacoma-Bellevue, WA MSA</td>\n",
              "      <td>surf</td>\n",
              "      <td>60.00</td>\n",
              "    </tr>\n",
              "  </tbody>\n",
              "</table>\n",
              "</div>"
            ],
            "text/plain": [
              "   user_id  month  gb_used  num_mess  num_calls  duration  \\\n",
              "0     1000     12      2.0      11.0       16.0     124.0   \n",
              "1     1001      8      7.0      30.0       22.0     182.0   \n",
              "2     1001      9     14.0      44.0       38.0     315.0   \n",
              "3     1001     10     22.0      53.0       47.0     393.0   \n",
              "4     1001     11     19.0      36.0       49.0     426.0   \n",
              "\n",
              "                                    city      plan  income  \n",
              "0  Atlanta-Sandy Springs-Roswell, GA MSA  ultimate   70.00  \n",
              "1        Seattle-Tacoma-Bellevue, WA MSA      surf   20.00  \n",
              "2        Seattle-Tacoma-Bellevue, WA MSA      surf   20.00  \n",
              "3        Seattle-Tacoma-Bellevue, WA MSA      surf   90.09  \n",
              "4        Seattle-Tacoma-Bellevue, WA MSA      surf   60.00  "
            ]
          },
          "metadata": {}
        }
      ]
    },
    {
      "cell_type": "markdown",
      "source": "## Estudia el comportamiento del usuario",
      "metadata": {}
    },
    {
      "cell_type": "markdown",
      "source": "A continuación, se calculan estadísticas descriptivas y se generan gráficos de los datos analizados para tener un panorama general.",
      "metadata": {}
    },
    {
      "cell_type": "code",
      "source": "#separar clientes por plan\ndf_monthly_s = df_monthly.query('plan != \"ultimate\" ')\ndf_monthly_u = df_monthly.query('plan != \"surf\" ')",
      "metadata": {},
      "execution_count": 41,
      "outputs": []
    },
    {
      "cell_type": "markdown",
      "source": "### Llamadas",
      "metadata": {}
    },
    {
      "cell_type": "code",
      "source": "#duración promedio de llamadas por cada plan por cada mes mostrado en una gráfica de barras\nplt.subplots(figsize=(15,4))\n\ndf_monthly_s.groupby('month')['duration'].mean().plot(kind='bar', color ='pink',ax=plt.subplot(1,2, 1))\nplt.title('surf users calls duration')\ndf_monthly_u.groupby('month')['duration'].mean().plot(kind='bar', color = 'turquoise',ax=plt.subplot(1, 2, 2))\nplt.title('ultimate users calls duration')\nplt.show()",
      "metadata": {},
      "execution_count": 42,
      "outputs": [
        {
          "output_type": "display_data",
          "data": {
            "image/png": "[encoded data removed]",
            "text/plain": [
              "<Figure size 1080x288 with 2 Axes>"
            ]
          },
          "metadata": {
            "needs_background": "light"
          }
        }
      ]
    },
    {
      "cell_type": "code",
      "source": "#observar número de usuarios por mes\ndf_monthly.groupby('month')['user_id'].count()",
      "metadata": {},
      "execution_count": 43,
      "outputs": [
        {
          "execution_count": 43,
          "output_type": "execute_result",
          "data": {
            "text/plain": [
              "month\n",
              "1       6\n",
              "2      16\n",
              "3      35\n",
              "4      71\n",
              "5     106\n",
              "6     144\n",
              "7     180\n",
              "8     233\n",
              "9     280\n",
              "10    343\n",
              "11    410\n",
              "12    469\n",
              "Name: user_id, dtype: int64"
            ]
          },
          "metadata": {}
        }
      ]
    },
    {
      "cell_type": "markdown",
      "source": "Al analizar el gráfico, pareciera que conforme pasan los meses, suben la duración. Sin embargo, al ver los usuarios que hay en cada mes, se observa que en enero solo 6 usuarios usaban la plataforma, mientras que en diciembre el número de usuarios fue de 469. El incremento del promedio de duración no depende del mes sino del incremento de usuarios.",
      "metadata": {}
    },
    {
      "cell_type": "code",
      "source": "#histograma de la duración de llamadas por plan\nplt.subplots(figsize=(15, 4))\n\ndf_monthly_s.hist(column='duration',ax=plt.subplot(1,2, 1),bins=100)\nplt.title('surf users calls duration')\ndf_monthly_u.hist(column='duration',ax=plt.subplot(1, 2, 2),bins=100)\nplt.title('ultimate users calls duration')\nplt.show()",
      "metadata": {},
      "execution_count": 44,
      "outputs": [
        {
          "output_type": "display_data",
          "data": {
            "image/png": "[encoded data removed]",
            "text/plain": [
              "<Figure size 1080x288 with 2 Axes>"
            ]
          },
          "metadata": {
            "needs_background": "light"
          }
        }
      ]
    },
    {
      "cell_type": "markdown",
      "source": "Se obtienen los estadísticos de la duración de las llamadas para analizar los comportamientos de los usuarios de diferentes planes.",
      "metadata": {}
    },
    {
      "cell_type": "code",
      "source": "df_monthly.groupby('plan')['duration'].describe()",
      "metadata": {},
      "execution_count": 45,
      "outputs": [
        {
          "execution_count": 45,
          "output_type": "execute_result",
          "data": {
            "text/html": [
              "<div>\n",
              "<style scoped>\n",
              "    .dataframe tbody tr th:only-of-type {\n",
              "        vertical-align: middle;\n",
              "    }\n",
              "\n",
              "    .dataframe tbody tr th {\n",
              "        vertical-align: top;\n",
              "    }\n",
              "\n",
              "    .dataframe thead th {\n",
              "        text-align: right;\n",
              "    }\n",
              "</style>\n",
              "<table border=\"1\" class=\"dataframe\">\n",
              "  <thead>\n",
              "    <tr style=\"text-align: right;\">\n",
              "      <th></th>\n",
              "      <th>count</th>\n",
              "      <th>mean</th>\n",
              "      <th>std</th>\n",
              "      <th>min</th>\n",
              "      <th>25%</th>\n",
              "      <th>50%</th>\n",
              "      <th>75%</th>\n",
              "      <th>max</th>\n",
              "    </tr>\n",
              "    <tr>\n",
              "      <th>plan</th>\n",
              "      <th></th>\n",
              "      <th></th>\n",
              "      <th></th>\n",
              "      <th></th>\n",
              "      <th></th>\n",
              "      <th></th>\n",
              "      <th></th>\n",
              "      <th></th>\n",
              "    </tr>\n",
              "  </thead>\n",
              "  <tbody>\n",
              "    <tr>\n",
              "      <th>surf</th>\n",
              "      <td>1573.0</td>\n",
              "      <td>428.749523</td>\n",
              "      <td>234.453150</td>\n",
              "      <td>0.0</td>\n",
              "      <td>272.0</td>\n",
              "      <td>425.0</td>\n",
              "      <td>576.00</td>\n",
              "      <td>1510.0</td>\n",
              "    </tr>\n",
              "    <tr>\n",
              "      <th>ultimate</th>\n",
              "      <td>720.0</td>\n",
              "      <td>430.450000</td>\n",
              "      <td>240.508762</td>\n",
              "      <td>0.0</td>\n",
              "      <td>260.0</td>\n",
              "      <td>424.0</td>\n",
              "      <td>565.25</td>\n",
              "      <td>1369.0</td>\n",
              "    </tr>\n",
              "  </tbody>\n",
              "</table>\n",
              "</div>"
            ],
            "text/plain": [
              "           count        mean         std  min    25%    50%     75%     max\n",
              "plan                                                                       \n",
              "surf      1573.0  428.749523  234.453150  0.0  272.0  425.0  576.00  1510.0\n",
              "ultimate   720.0  430.450000  240.508762  0.0  260.0  424.0  565.25  1369.0"
            ]
          },
          "metadata": {}
        }
      ]
    },
    {
      "cell_type": "code",
      "source": "#media y varianza de la duración mensual de llamadas\ndf_monthly.groupby(['plan','month'])['duration'].describe()",
      "metadata": {
        "scrolled": true
      },
      "execution_count": 46,
      "outputs": [
        {
          "execution_count": 46,
          "output_type": "execute_result",
          "data": {
            "text/html": [
              "<div>\n",
              "<style scoped>\n",
              "    .dataframe tbody tr th:only-of-type {\n",
              "        vertical-align: middle;\n",
              "    }\n",
              "\n",
              "    .dataframe tbody tr th {\n",
              "        vertical-align: top;\n",
              "    }\n",
              "\n",
              "    .dataframe thead th {\n",
              "        text-align: right;\n",
              "    }\n",
              "</style>\n",
              "<table border=\"1\" class=\"dataframe\">\n",
              "  <thead>\n",
              "    <tr style=\"text-align: right;\">\n",
              "      <th></th>\n",
              "      <th></th>\n",
              "      <th>count</th>\n",
              "      <th>mean</th>\n",
              "      <th>std</th>\n",
              "      <th>min</th>\n",
              "      <th>25%</th>\n",
              "      <th>50%</th>\n",
              "      <th>75%</th>\n",
              "      <th>max</th>\n",
              "    </tr>\n",
              "    <tr>\n",
              "      <th>plan</th>\n",
              "      <th>month</th>\n",
              "      <th></th>\n",
              "      <th></th>\n",
              "      <th></th>\n",
              "      <th></th>\n",
              "      <th></th>\n",
              "      <th></th>\n",
              "      <th></th>\n",
              "      <th></th>\n",
              "    </tr>\n",
              "  </thead>\n",
              "  <tbody>\n",
              "    <tr>\n",
              "      <th rowspan=\"12\" valign=\"top\">surf</th>\n",
              "      <th>1</th>\n",
              "      <td>2.0</td>\n",
              "      <td>203.000000</td>\n",
              "      <td>125.865007</td>\n",
              "      <td>114.0</td>\n",
              "      <td>158.50</td>\n",
              "      <td>203.0</td>\n",
              "      <td>247.50</td>\n",
              "      <td>292.0</td>\n",
              "    </tr>\n",
              "    <tr>\n",
              "      <th>2</th>\n",
              "      <td>9.0</td>\n",
              "      <td>297.000000</td>\n",
              "      <td>228.531179</td>\n",
              "      <td>39.0</td>\n",
              "      <td>244.00</td>\n",
              "      <td>254.0</td>\n",
              "      <td>307.00</td>\n",
              "      <td>811.0</td>\n",
              "    </tr>\n",
              "    <tr>\n",
              "      <th>3</th>\n",
              "      <td>23.0</td>\n",
              "      <td>330.000000</td>\n",
              "      <td>189.233622</td>\n",
              "      <td>35.0</td>\n",
              "      <td>230.50</td>\n",
              "      <td>334.0</td>\n",
              "      <td>397.00</td>\n",
              "      <td>788.0</td>\n",
              "    </tr>\n",
              "    <tr>\n",
              "      <th>4</th>\n",
              "      <td>50.0</td>\n",
              "      <td>351.540000</td>\n",
              "      <td>225.536567</td>\n",
              "      <td>16.0</td>\n",
              "      <td>178.00</td>\n",
              "      <td>339.5</td>\n",
              "      <td>504.25</td>\n",
              "      <td>1043.0</td>\n",
              "    </tr>\n",
              "    <tr>\n",
              "      <th>5</th>\n",
              "      <td>77.0</td>\n",
              "      <td>399.584416</td>\n",
              "      <td>244.446763</td>\n",
              "      <td>0.0</td>\n",
              "      <td>186.00</td>\n",
              "      <td>415.0</td>\n",
              "      <td>560.00</td>\n",
              "      <td>1055.0</td>\n",
              "    </tr>\n",
              "    <tr>\n",
              "      <th>6</th>\n",
              "      <td>97.0</td>\n",
              "      <td>431.298969</td>\n",
              "      <td>213.524304</td>\n",
              "      <td>0.0</td>\n",
              "      <td>294.00</td>\n",
              "      <td>423.0</td>\n",
              "      <td>559.00</td>\n",
              "      <td>1033.0</td>\n",
              "    </tr>\n",
              "    <tr>\n",
              "      <th>7</th>\n",
              "      <td>121.0</td>\n",
              "      <td>449.983471</td>\n",
              "      <td>246.992105</td>\n",
              "      <td>0.0</td>\n",
              "      <td>302.00</td>\n",
              "      <td>454.0</td>\n",
              "      <td>587.00</td>\n",
              "      <td>1176.0</td>\n",
              "    </tr>\n",
              "    <tr>\n",
              "      <th>8</th>\n",
              "      <td>162.0</td>\n",
              "      <td>410.111111</td>\n",
              "      <td>233.119381</td>\n",
              "      <td>0.0</td>\n",
              "      <td>257.25</td>\n",
              "      <td>392.0</td>\n",
              "      <td>555.00</td>\n",
              "      <td>1102.0</td>\n",
              "    </tr>\n",
              "    <tr>\n",
              "      <th>9</th>\n",
              "      <td>194.0</td>\n",
              "      <td>414.226804</td>\n",
              "      <td>215.860971</td>\n",
              "      <td>0.0</td>\n",
              "      <td>258.50</td>\n",
              "      <td>426.0</td>\n",
              "      <td>550.00</td>\n",
              "      <td>1212.0</td>\n",
              "    </tr>\n",
              "    <tr>\n",
              "      <th>10</th>\n",
              "      <td>237.0</td>\n",
              "      <td>429.729958</td>\n",
              "      <td>228.645280</td>\n",
              "      <td>0.0</td>\n",
              "      <td>257.00</td>\n",
              "      <td>432.0</td>\n",
              "      <td>579.00</td>\n",
              "      <td>1227.0</td>\n",
              "    </tr>\n",
              "    <tr>\n",
              "      <th>11</th>\n",
              "      <td>283.0</td>\n",
              "      <td>423.325088</td>\n",
              "      <td>227.171789</td>\n",
              "      <td>0.0</td>\n",
              "      <td>268.50</td>\n",
              "      <td>413.0</td>\n",
              "      <td>581.00</td>\n",
              "      <td>1304.0</td>\n",
              "    </tr>\n",
              "    <tr>\n",
              "      <th>12</th>\n",
              "      <td>318.0</td>\n",
              "      <td>473.836478</td>\n",
              "      <td>252.248923</td>\n",
              "      <td>0.0</td>\n",
              "      <td>313.50</td>\n",
              "      <td>449.0</td>\n",
              "      <td>613.50</td>\n",
              "      <td>1510.0</td>\n",
              "    </tr>\n",
              "    <tr>\n",
              "      <th rowspan=\"12\" valign=\"top\">ultimate</th>\n",
              "      <th>1</th>\n",
              "      <td>4.0</td>\n",
              "      <td>193.500000</td>\n",
              "      <td>128.733575</td>\n",
              "      <td>16.0</td>\n",
              "      <td>139.75</td>\n",
              "      <td>234.0</td>\n",
              "      <td>287.75</td>\n",
              "      <td>290.0</td>\n",
              "    </tr>\n",
              "    <tr>\n",
              "      <th>2</th>\n",
              "      <td>7.0</td>\n",
              "      <td>403.142857</td>\n",
              "      <td>277.289517</td>\n",
              "      <td>0.0</td>\n",
              "      <td>239.00</td>\n",
              "      <td>428.0</td>\n",
              "      <td>570.00</td>\n",
              "      <td>776.0</td>\n",
              "    </tr>\n",
              "    <tr>\n",
              "      <th>3</th>\n",
              "      <td>12.0</td>\n",
              "      <td>304.250000</td>\n",
              "      <td>248.967732</td>\n",
              "      <td>23.0</td>\n",
              "      <td>81.00</td>\n",
              "      <td>251.0</td>\n",
              "      <td>477.50</td>\n",
              "      <td>711.0</td>\n",
              "    </tr>\n",
              "    <tr>\n",
              "      <th>4</th>\n",
              "      <td>21.0</td>\n",
              "      <td>336.857143</td>\n",
              "      <td>186.785783</td>\n",
              "      <td>53.0</td>\n",
              "      <td>217.00</td>\n",
              "      <td>301.0</td>\n",
              "      <td>453.00</td>\n",
              "      <td>746.0</td>\n",
              "    </tr>\n",
              "    <tr>\n",
              "      <th>5</th>\n",
              "      <td>29.0</td>\n",
              "      <td>406.241379</td>\n",
              "      <td>209.382537</td>\n",
              "      <td>22.0</td>\n",
              "      <td>262.00</td>\n",
              "      <td>407.0</td>\n",
              "      <td>480.00</td>\n",
              "      <td>863.0</td>\n",
              "    </tr>\n",
              "    <tr>\n",
              "      <th>6</th>\n",
              "      <td>47.0</td>\n",
              "      <td>370.957447</td>\n",
              "      <td>206.163924</td>\n",
              "      <td>0.0</td>\n",
              "      <td>218.50</td>\n",
              "      <td>399.0</td>\n",
              "      <td>487.50</td>\n",
              "      <td>797.0</td>\n",
              "    </tr>\n",
              "    <tr>\n",
              "      <th>7</th>\n",
              "      <td>59.0</td>\n",
              "      <td>427.067797</td>\n",
              "      <td>269.375898</td>\n",
              "      <td>16.0</td>\n",
              "      <td>202.00</td>\n",
              "      <td>430.0</td>\n",
              "      <td>554.50</td>\n",
              "      <td>1188.0</td>\n",
              "    </tr>\n",
              "    <tr>\n",
              "      <th>8</th>\n",
              "      <td>71.0</td>\n",
              "      <td>421.436620</td>\n",
              "      <td>231.614997</td>\n",
              "      <td>12.0</td>\n",
              "      <td>252.00</td>\n",
              "      <td>406.0</td>\n",
              "      <td>544.50</td>\n",
              "      <td>1292.0</td>\n",
              "    </tr>\n",
              "    <tr>\n",
              "      <th>9</th>\n",
              "      <td>86.0</td>\n",
              "      <td>437.511628</td>\n",
              "      <td>238.894254</td>\n",
              "      <td>18.0</td>\n",
              "      <td>249.50</td>\n",
              "      <td>434.0</td>\n",
              "      <td>557.50</td>\n",
              "      <td>1232.0</td>\n",
              "    </tr>\n",
              "    <tr>\n",
              "      <th>10</th>\n",
              "      <td>106.0</td>\n",
              "      <td>450.735849</td>\n",
              "      <td>232.941861</td>\n",
              "      <td>0.0</td>\n",
              "      <td>301.00</td>\n",
              "      <td>460.5</td>\n",
              "      <td>565.25</td>\n",
              "      <td>1215.0</td>\n",
              "    </tr>\n",
              "    <tr>\n",
              "      <th>11</th>\n",
              "      <td>127.0</td>\n",
              "      <td>445.196850</td>\n",
              "      <td>246.156907</td>\n",
              "      <td>0.0</td>\n",
              "      <td>290.00</td>\n",
              "      <td>432.0</td>\n",
              "      <td>585.50</td>\n",
              "      <td>1197.0</td>\n",
              "    </tr>\n",
              "    <tr>\n",
              "      <th>12</th>\n",
              "      <td>151.0</td>\n",
              "      <td>459.099338</td>\n",
              "      <td>250.007567</td>\n",
              "      <td>0.0</td>\n",
              "      <td>280.50</td>\n",
              "      <td>436.0</td>\n",
              "      <td>595.00</td>\n",
              "      <td>1369.0</td>\n",
              "    </tr>\n",
              "  </tbody>\n",
              "</table>\n",
              "</div>"
            ],
            "text/plain": [
              "                count        mean         std    min     25%    50%     75%  \\\n",
              "plan     month                                                                \n",
              "surf     1        2.0  203.000000  125.865007  114.0  158.50  203.0  247.50   \n",
              "         2        9.0  297.000000  228.531179   39.0  244.00  254.0  307.00   \n",
              "         3       23.0  330.000000  189.233622   35.0  230.50  334.0  397.00   \n",
              "         4       50.0  351.540000  225.536567   16.0  178.00  339.5  504.25   \n",
              "         5       77.0  399.584416  244.446763    0.0  186.00  415.0  560.00   \n",
              "         6       97.0  431.298969  213.524304    0.0  294.00  423.0  559.00   \n",
              "         7      121.0  449.983471  246.992105    0.0  302.00  454.0  587.00   \n",
              "         8      162.0  410.111111  233.119381    0.0  257.25  392.0  555.00   \n",
              "         9      194.0  414.226804  215.860971    0.0  258.50  426.0  550.00   \n",
              "         10     237.0  429.729958  228.645280    0.0  257.00  432.0  579.00   \n",
              "         11     283.0  423.325088  227.171789    0.0  268.50  413.0  581.00   \n",
              "         12     318.0  473.836478  252.248923    0.0  313.50  449.0  613.50   \n",
              "ultimate 1        4.0  193.500000  128.733575   16.0  139.75  234.0  287.75   \n",
              "         2        7.0  403.142857  277.289517    0.0  239.00  428.0  570.00   \n",
              "         3       12.0  304.250000  248.967732   23.0   81.00  251.0  477.50   \n",
              "         4       21.0  336.857143  186.785783   53.0  217.00  301.0  453.00   \n",
              "         5       29.0  406.241379  209.382537   22.0  262.00  407.0  480.00   \n",
              "         6       47.0  370.957447  206.163924    0.0  218.50  399.0  487.50   \n",
              "         7       59.0  427.067797  269.375898   16.0  202.00  430.0  554.50   \n",
              "         8       71.0  421.436620  231.614997   12.0  252.00  406.0  544.50   \n",
              "         9       86.0  437.511628  238.894254   18.0  249.50  434.0  557.50   \n",
              "         10     106.0  450.735849  232.941861    0.0  301.00  460.5  565.25   \n",
              "         11     127.0  445.196850  246.156907    0.0  290.00  432.0  585.50   \n",
              "         12     151.0  459.099338  250.007567    0.0  280.50  436.0  595.00   \n",
              "\n",
              "                   max  \n",
              "plan     month          \n",
              "surf     1       292.0  \n",
              "         2       811.0  \n",
              "         3       788.0  \n",
              "         4      1043.0  \n",
              "         5      1055.0  \n",
              "         6      1033.0  \n",
              "         7      1176.0  \n",
              "         8      1102.0  \n",
              "         9      1212.0  \n",
              "         10     1227.0  \n",
              "         11     1304.0  \n",
              "         12     1510.0  \n",
              "ultimate 1       290.0  \n",
              "         2       776.0  \n",
              "         3       711.0  \n",
              "         4       746.0  \n",
              "         5       863.0  \n",
              "         6       797.0  \n",
              "         7      1188.0  \n",
              "         8      1292.0  \n",
              "         9      1232.0  \n",
              "         10     1215.0  \n",
              "         11     1197.0  \n",
              "         12     1369.0  "
            ]
          },
          "metadata": {}
        }
      ]
    },
    {
      "cell_type": "code",
      "source": "df_monthly.groupby(['plan','month'])['duration'].var(ddof=0)",
      "metadata": {},
      "execution_count": 47,
      "outputs": [
        {
          "execution_count": 47,
          "output_type": "execute_result",
          "data": {
            "text/plain": [
              "plan      month\n",
              "surf      1         7921.000000\n",
              "          2        46423.555556\n",
              "          3        34252.434783\n",
              "          4        49849.408400\n",
              "          5        58978.190926\n",
              "          6        45122.601339\n",
              "          7        60500.925347\n",
              "          8        54009.185185\n",
              "          9        46355.773302\n",
              "          10       52058.078976\n",
              "          11       51424.664636\n",
              "          12       63429.426091\n",
              "ultimate  1        12429.250000\n",
              "          2        65905.265306\n",
              "          3        56819.520833\n",
              "          4        33227.551020\n",
              "          5        42329.286564\n",
              "          6        41599.232232\n",
              "          7        71333.486929\n",
              "          8        52889.936124\n",
              "          9        56406.854516\n",
              "          10       53750.005696\n",
              "          11       60116.110856\n",
              "          12       62089.851059\n",
              "Name: duration, dtype: float64"
            ]
          },
          "metadata": {}
        }
      ]
    },
    {
      "cell_type": "code",
      "source": "#diagrama de caja para visualizar la distribución de la duración mensual de llamadas.\ndf_monthly.boxplot(column='duration',by='plan',figsize=(8,5))\nplt.show()",
      "metadata": {},
      "execution_count": 48,
      "outputs": [
        {
          "output_type": "display_data",
          "data": {
            "image/png": "[encoded data removed]",
            "text/plain": [
              "<Figure size 576x360 with 1 Axes>"
            ]
          },
          "metadata": {
            "needs_background": "light"
          }
        }
      ]
    },
    {
      "cell_type": "code",
      "source": "#porcentaje de valores atípicos\nprint('valores atípicos:',round(df_monthly.query('duration>1000').shape[0]/df_monthly.shape[0]*100,2),'%')",
      "metadata": {},
      "execution_count": 49,
      "outputs": [
        {
          "name": "stdout",
          "output_type": "stream",
          "text": "valores atípicos: 2.27 %\n"
        }
      ]
    },
    {
      "cell_type": "code",
      "source": "#visualizar los planes\ndf_plans",
      "metadata": {},
      "execution_count": 50,
      "outputs": [
        {
          "execution_count": 50,
          "output_type": "execute_result",
          "data": {
            "text/html": [
              "<div>\n",
              "<style scoped>\n",
              "    .dataframe tbody tr th:only-of-type {\n",
              "        vertical-align: middle;\n",
              "    }\n",
              "\n",
              "    .dataframe tbody tr th {\n",
              "        vertical-align: top;\n",
              "    }\n",
              "\n",
              "    .dataframe thead th {\n",
              "        text-align: right;\n",
              "    }\n",
              "</style>\n",
              "<table border=\"1\" class=\"dataframe\">\n",
              "  <thead>\n",
              "    <tr style=\"text-align: right;\">\n",
              "      <th></th>\n",
              "      <th>messages_included</th>\n",
              "      <th>gb_per_month</th>\n",
              "      <th>minutes_included</th>\n",
              "      <th>usd_monthly_pay</th>\n",
              "      <th>usd_per_gb</th>\n",
              "      <th>usd_per_message</th>\n",
              "      <th>usd_per_minute</th>\n",
              "      <th>plan_name</th>\n",
              "    </tr>\n",
              "  </thead>\n",
              "  <tbody>\n",
              "    <tr>\n",
              "      <th>0</th>\n",
              "      <td>50</td>\n",
              "      <td>15.0</td>\n",
              "      <td>500</td>\n",
              "      <td>20</td>\n",
              "      <td>10</td>\n",
              "      <td>0.03</td>\n",
              "      <td>0.03</td>\n",
              "      <td>surf</td>\n",
              "    </tr>\n",
              "    <tr>\n",
              "      <th>1</th>\n",
              "      <td>1000</td>\n",
              "      <td>30.0</td>\n",
              "      <td>3000</td>\n",
              "      <td>70</td>\n",
              "      <td>7</td>\n",
              "      <td>0.01</td>\n",
              "      <td>0.01</td>\n",
              "      <td>ultimate</td>\n",
              "    </tr>\n",
              "  </tbody>\n",
              "</table>\n",
              "</div>"
            ],
            "text/plain": [
              "   messages_included  gb_per_month  minutes_included  usd_monthly_pay  \\\n",
              "0                 50          15.0               500               20   \n",
              "1               1000          30.0              3000               70   \n",
              "\n",
              "   usd_per_gb  usd_per_message  usd_per_minute plan_name  \n",
              "0          10             0.03            0.03      surf  \n",
              "1           7             0.01            0.01  ultimate  "
            ]
          },
          "metadata": {}
        }
      ]
    },
    {
      "cell_type": "code",
      "source": "print('Porcentaje de usuarios del plan surf que usaron más del límite:',\n      round(df_monthly_s.query('duration>500').shape[0]/df_monthly_s.shape[0]*100,2),'%')",
      "metadata": {},
      "execution_count": 51,
      "outputs": [
        {
          "name": "stdout",
          "output_type": "stream",
          "text": "Porcentaje de usuarios del plan surf que usaron más del límite: 35.98 %\n"
        }
      ]
    },
    {
      "cell_type": "code",
      "source": "print('Porcentaje de usuarios del plan ultimate que usaron más del límite:',\n      round(df_monthly_u.query('duration>3000').shape[0]/df_monthly_u.shape[0]*100,2),'%')",
      "metadata": {},
      "execution_count": 52,
      "outputs": [
        {
          "name": "stdout",
          "output_type": "stream",
          "text": "Porcentaje de usuarios del plan ultimate que usaron más del límite: 0.0 %\n"
        }
      ]
    },
    {
      "cell_type": "markdown",
      "source": "Al analizar los diagramas, se observa un comportamiento similar entre los usuarios de ambos planes. Hay un porcentaje bajo de valores atípicos pero en ellos esta la ligera diferencia; pues las llamadas de los usuarios atípicos del plan surf tienden a durar más del promedio e incluso más que los del plan ultimate. \n\nAsimismo, el 35.98% de los usuarios del plan surf tienden a sobrepasarse del límite del plan, cosa que genera más ingresos a comparación con el 0% de usuarios del plan ultimate.",
      "metadata": {}
    },
    {
      "cell_type": "markdown",
      "source": "### Mensajes",
      "metadata": {}
    },
    {
      "cell_type": "code",
      "source": "#Número de mensajes promedio de cada plan por cada mes\nplt.subplots(figsize=(15,4))\ndf_monthly_s.groupby('month')['num_mess'].mean().plot(kind='bar', color ='pink',ax=plt.subplot(1,2, 1))\nplt.title('surface users messages')\ndf_monthly_u.groupby('month')['num_mess'].mean().plot(kind='bar', color = 'turquoise',ax=plt.subplot(1, 2, 2))\nplt.title('ultimate users messages')\nplt.show()",
      "metadata": {},
      "execution_count": 53,
      "outputs": [
        {
          "output_type": "display_data",
          "data": {
            "image/png": "[encoded data removed]",
            "text/plain": [
              "<Figure size 1080x288 with 2 Axes>"
            ]
          },
          "metadata": {
            "needs_background": "light"
          }
        }
      ]
    },
    {
      "cell_type": "code",
      "source": "# Comprara el número de mensajes que tienden a enviar cada mes los usuarios de cada plan\nplt.subplots(figsize=(15, 4))\n\ndf_monthly_s.hist(column='num_mess',ax=plt.subplot(1,2, 1),bins=25)\nplt.title('surface users messages')\ndf_monthly_u.hist(column='num_mess',ax=plt.subplot(1, 2, 2),bins=25)\nplt.title('ultimate users messages')\nplt.show()",
      "metadata": {},
      "execution_count": 54,
      "outputs": [
        {
          "output_type": "display_data",
          "data": {
            "image/png": "[encoded data removed]",
            "text/plain": [
              "<Figure size 1080x288 with 2 Axes>"
            ]
          },
          "metadata": {
            "needs_background": "light"
          }
        }
      ]
    },
    {
      "cell_type": "code",
      "source": "df_monthly.groupby('plan')['num_mess'].describe()",
      "metadata": {},
      "execution_count": 55,
      "outputs": [
        {
          "execution_count": 55,
          "output_type": "execute_result",
          "data": {
            "text/html": [
              "<div>\n",
              "<style scoped>\n",
              "    .dataframe tbody tr th:only-of-type {\n",
              "        vertical-align: middle;\n",
              "    }\n",
              "\n",
              "    .dataframe tbody tr th {\n",
              "        vertical-align: top;\n",
              "    }\n",
              "\n",
              "    .dataframe thead th {\n",
              "        text-align: right;\n",
              "    }\n",
              "</style>\n",
              "<table border=\"1\" class=\"dataframe\">\n",
              "  <thead>\n",
              "    <tr style=\"text-align: right;\">\n",
              "      <th></th>\n",
              "      <th>count</th>\n",
              "      <th>mean</th>\n",
              "      <th>std</th>\n",
              "      <th>min</th>\n",
              "      <th>25%</th>\n",
              "      <th>50%</th>\n",
              "      <th>75%</th>\n",
              "      <th>max</th>\n",
              "    </tr>\n",
              "    <tr>\n",
              "      <th>plan</th>\n",
              "      <th></th>\n",
              "      <th></th>\n",
              "      <th></th>\n",
              "      <th></th>\n",
              "      <th></th>\n",
              "      <th></th>\n",
              "      <th></th>\n",
              "      <th></th>\n",
              "    </tr>\n",
              "  </thead>\n",
              "  <tbody>\n",
              "    <tr>\n",
              "      <th>surf</th>\n",
              "      <td>1573.0</td>\n",
              "      <td>31.159568</td>\n",
              "      <td>33.566717</td>\n",
              "      <td>0.0</td>\n",
              "      <td>3.0</td>\n",
              "      <td>24.0</td>\n",
              "      <td>47.0</td>\n",
              "      <td>266.0</td>\n",
              "    </tr>\n",
              "    <tr>\n",
              "      <th>ultimate</th>\n",
              "      <td>720.0</td>\n",
              "      <td>37.551389</td>\n",
              "      <td>34.767179</td>\n",
              "      <td>0.0</td>\n",
              "      <td>7.0</td>\n",
              "      <td>30.0</td>\n",
              "      <td>61.0</td>\n",
              "      <td>166.0</td>\n",
              "    </tr>\n",
              "  </tbody>\n",
              "</table>\n",
              "</div>"
            ],
            "text/plain": [
              "           count       mean        std  min  25%   50%   75%    max\n",
              "plan                                                               \n",
              "surf      1573.0  31.159568  33.566717  0.0  3.0  24.0  47.0  266.0\n",
              "ultimate   720.0  37.551389  34.767179  0.0  7.0  30.0  61.0  166.0"
            ]
          },
          "metadata": {}
        }
      ]
    },
    {
      "cell_type": "code",
      "source": "#media y varianza de mensajes mensuales\ndf_monthly.groupby(['plan','month'])['num_mess'].describe()",
      "metadata": {},
      "execution_count": 56,
      "outputs": [
        {
          "execution_count": 56,
          "output_type": "execute_result",
          "data": {
            "text/html": [
              "<div>\n",
              "<style scoped>\n",
              "    .dataframe tbody tr th:only-of-type {\n",
              "        vertical-align: middle;\n",
              "    }\n",
              "\n",
              "    .dataframe tbody tr th {\n",
              "        vertical-align: top;\n",
              "    }\n",
              "\n",
              "    .dataframe thead th {\n",
              "        text-align: right;\n",
              "    }\n",
              "</style>\n",
              "<table border=\"1\" class=\"dataframe\">\n",
              "  <thead>\n",
              "    <tr style=\"text-align: right;\">\n",
              "      <th></th>\n",
              "      <th></th>\n",
              "      <th>count</th>\n",
              "      <th>mean</th>\n",
              "      <th>std</th>\n",
              "      <th>min</th>\n",
              "      <th>25%</th>\n",
              "      <th>50%</th>\n",
              "      <th>75%</th>\n",
              "      <th>max</th>\n",
              "    </tr>\n",
              "    <tr>\n",
              "      <th>plan</th>\n",
              "      <th>month</th>\n",
              "      <th></th>\n",
              "      <th></th>\n",
              "      <th></th>\n",
              "      <th></th>\n",
              "      <th></th>\n",
              "      <th></th>\n",
              "      <th></th>\n",
              "      <th></th>\n",
              "    </tr>\n",
              "  </thead>\n",
              "  <tbody>\n",
              "    <tr>\n",
              "      <th rowspan=\"12\" valign=\"top\">surf</th>\n",
              "      <th>1</th>\n",
              "      <td>2.0</td>\n",
              "      <td>10.500000</td>\n",
              "      <td>14.849242</td>\n",
              "      <td>0.0</td>\n",
              "      <td>5.25</td>\n",
              "      <td>10.5</td>\n",
              "      <td>15.75</td>\n",
              "      <td>21.0</td>\n",
              "    </tr>\n",
              "    <tr>\n",
              "      <th>2</th>\n",
              "      <td>9.0</td>\n",
              "      <td>12.000000</td>\n",
              "      <td>19.646883</td>\n",
              "      <td>0.0</td>\n",
              "      <td>0.00</td>\n",
              "      <td>3.0</td>\n",
              "      <td>11.00</td>\n",
              "      <td>58.0</td>\n",
              "    </tr>\n",
              "    <tr>\n",
              "      <th>3</th>\n",
              "      <td>23.0</td>\n",
              "      <td>15.260870</td>\n",
              "      <td>18.616262</td>\n",
              "      <td>0.0</td>\n",
              "      <td>0.00</td>\n",
              "      <td>7.0</td>\n",
              "      <td>25.00</td>\n",
              "      <td>59.0</td>\n",
              "    </tr>\n",
              "    <tr>\n",
              "      <th>4</th>\n",
              "      <td>50.0</td>\n",
              "      <td>17.400000</td>\n",
              "      <td>22.396246</td>\n",
              "      <td>0.0</td>\n",
              "      <td>0.00</td>\n",
              "      <td>10.0</td>\n",
              "      <td>27.75</td>\n",
              "      <td>120.0</td>\n",
              "    </tr>\n",
              "    <tr>\n",
              "      <th>5</th>\n",
              "      <td>77.0</td>\n",
              "      <td>24.012987</td>\n",
              "      <td>29.106652</td>\n",
              "      <td>0.0</td>\n",
              "      <td>0.00</td>\n",
              "      <td>15.0</td>\n",
              "      <td>37.00</td>\n",
              "      <td>149.0</td>\n",
              "    </tr>\n",
              "    <tr>\n",
              "      <th>6</th>\n",
              "      <td>97.0</td>\n",
              "      <td>25.298969</td>\n",
              "      <td>30.247646</td>\n",
              "      <td>0.0</td>\n",
              "      <td>1.00</td>\n",
              "      <td>15.0</td>\n",
              "      <td>36.00</td>\n",
              "      <td>133.0</td>\n",
              "    </tr>\n",
              "    <tr>\n",
              "      <th>7</th>\n",
              "      <td>121.0</td>\n",
              "      <td>27.033058</td>\n",
              "      <td>30.395979</td>\n",
              "      <td>0.0</td>\n",
              "      <td>1.00</td>\n",
              "      <td>20.0</td>\n",
              "      <td>41.00</td>\n",
              "      <td>164.0</td>\n",
              "    </tr>\n",
              "    <tr>\n",
              "      <th>8</th>\n",
              "      <td>162.0</td>\n",
              "      <td>28.777778</td>\n",
              "      <td>32.086064</td>\n",
              "      <td>0.0</td>\n",
              "      <td>2.00</td>\n",
              "      <td>20.0</td>\n",
              "      <td>43.00</td>\n",
              "      <td>156.0</td>\n",
              "    </tr>\n",
              "    <tr>\n",
              "      <th>9</th>\n",
              "      <td>194.0</td>\n",
              "      <td>30.762887</td>\n",
              "      <td>31.683268</td>\n",
              "      <td>0.0</td>\n",
              "      <td>4.00</td>\n",
              "      <td>22.5</td>\n",
              "      <td>48.00</td>\n",
              "      <td>153.0</td>\n",
              "    </tr>\n",
              "    <tr>\n",
              "      <th>10</th>\n",
              "      <td>237.0</td>\n",
              "      <td>33.839662</td>\n",
              "      <td>35.713663</td>\n",
              "      <td>0.0</td>\n",
              "      <td>4.00</td>\n",
              "      <td>26.0</td>\n",
              "      <td>51.00</td>\n",
              "      <td>224.0</td>\n",
              "    </tr>\n",
              "    <tr>\n",
              "      <th>11</th>\n",
              "      <td>283.0</td>\n",
              "      <td>32.385159</td>\n",
              "      <td>32.639608</td>\n",
              "      <td>0.0</td>\n",
              "      <td>4.00</td>\n",
              "      <td>27.0</td>\n",
              "      <td>47.00</td>\n",
              "      <td>180.0</td>\n",
              "    </tr>\n",
              "    <tr>\n",
              "      <th>12</th>\n",
              "      <td>318.0</td>\n",
              "      <td>38.600629</td>\n",
              "      <td>38.185843</td>\n",
              "      <td>0.0</td>\n",
              "      <td>9.00</td>\n",
              "      <td>31.0</td>\n",
              "      <td>57.00</td>\n",
              "      <td>266.0</td>\n",
              "    </tr>\n",
              "    <tr>\n",
              "      <th rowspan=\"12\" valign=\"top\">ultimate</th>\n",
              "      <th>1</th>\n",
              "      <td>4.0</td>\n",
              "      <td>15.500000</td>\n",
              "      <td>17.710637</td>\n",
              "      <td>0.0</td>\n",
              "      <td>1.50</td>\n",
              "      <td>12.5</td>\n",
              "      <td>26.50</td>\n",
              "      <td>37.0</td>\n",
              "    </tr>\n",
              "    <tr>\n",
              "      <th>2</th>\n",
              "      <td>7.0</td>\n",
              "      <td>21.571429</td>\n",
              "      <td>21.869744</td>\n",
              "      <td>0.0</td>\n",
              "      <td>10.00</td>\n",
              "      <td>15.0</td>\n",
              "      <td>24.50</td>\n",
              "      <td>67.0</td>\n",
              "    </tr>\n",
              "    <tr>\n",
              "      <th>3</th>\n",
              "      <td>12.0</td>\n",
              "      <td>20.250000</td>\n",
              "      <td>25.580977</td>\n",
              "      <td>0.0</td>\n",
              "      <td>0.00</td>\n",
              "      <td>12.0</td>\n",
              "      <td>28.00</td>\n",
              "      <td>72.0</td>\n",
              "    </tr>\n",
              "    <tr>\n",
              "      <th>4</th>\n",
              "      <td>21.0</td>\n",
              "      <td>22.047619</td>\n",
              "      <td>23.326972</td>\n",
              "      <td>0.0</td>\n",
              "      <td>5.00</td>\n",
              "      <td>17.0</td>\n",
              "      <td>28.00</td>\n",
              "      <td>77.0</td>\n",
              "    </tr>\n",
              "    <tr>\n",
              "      <th>5</th>\n",
              "      <td>29.0</td>\n",
              "      <td>32.103448</td>\n",
              "      <td>36.018195</td>\n",
              "      <td>0.0</td>\n",
              "      <td>0.00</td>\n",
              "      <td>19.0</td>\n",
              "      <td>60.00</td>\n",
              "      <td>149.0</td>\n",
              "    </tr>\n",
              "    <tr>\n",
              "      <th>6</th>\n",
              "      <td>47.0</td>\n",
              "      <td>29.340426</td>\n",
              "      <td>29.285162</td>\n",
              "      <td>0.0</td>\n",
              "      <td>4.50</td>\n",
              "      <td>21.0</td>\n",
              "      <td>46.50</td>\n",
              "      <td>143.0</td>\n",
              "    </tr>\n",
              "    <tr>\n",
              "      <th>7</th>\n",
              "      <td>59.0</td>\n",
              "      <td>32.830508</td>\n",
              "      <td>30.991741</td>\n",
              "      <td>0.0</td>\n",
              "      <td>4.50</td>\n",
              "      <td>28.0</td>\n",
              "      <td>52.50</td>\n",
              "      <td>149.0</td>\n",
              "    </tr>\n",
              "    <tr>\n",
              "      <th>8</th>\n",
              "      <td>71.0</td>\n",
              "      <td>38.478873</td>\n",
              "      <td>34.588544</td>\n",
              "      <td>0.0</td>\n",
              "      <td>6.00</td>\n",
              "      <td>36.0</td>\n",
              "      <td>64.50</td>\n",
              "      <td>151.0</td>\n",
              "    </tr>\n",
              "    <tr>\n",
              "      <th>9</th>\n",
              "      <td>86.0</td>\n",
              "      <td>37.895349</td>\n",
              "      <td>32.417871</td>\n",
              "      <td>0.0</td>\n",
              "      <td>7.25</td>\n",
              "      <td>31.5</td>\n",
              "      <td>61.00</td>\n",
              "      <td>155.0</td>\n",
              "    </tr>\n",
              "    <tr>\n",
              "      <th>10</th>\n",
              "      <td>106.0</td>\n",
              "      <td>39.443396</td>\n",
              "      <td>34.944331</td>\n",
              "      <td>0.0</td>\n",
              "      <td>8.00</td>\n",
              "      <td>35.0</td>\n",
              "      <td>57.75</td>\n",
              "      <td>153.0</td>\n",
              "    </tr>\n",
              "    <tr>\n",
              "      <th>11</th>\n",
              "      <td>127.0</td>\n",
              "      <td>38.606299</td>\n",
              "      <td>35.109389</td>\n",
              "      <td>0.0</td>\n",
              "      <td>8.50</td>\n",
              "      <td>32.0</td>\n",
              "      <td>63.00</td>\n",
              "      <td>166.0</td>\n",
              "    </tr>\n",
              "    <tr>\n",
              "      <th>12</th>\n",
              "      <td>151.0</td>\n",
              "      <td>45.006623</td>\n",
              "      <td>39.362672</td>\n",
              "      <td>0.0</td>\n",
              "      <td>9.50</td>\n",
              "      <td>41.0</td>\n",
              "      <td>72.00</td>\n",
              "      <td>150.0</td>\n",
              "    </tr>\n",
              "  </tbody>\n",
              "</table>\n",
              "</div>"
            ],
            "text/plain": [
              "                count       mean        std  min    25%   50%    75%    max\n",
              "plan     month                                                             \n",
              "surf     1        2.0  10.500000  14.849242  0.0   5.25  10.5  15.75   21.0\n",
              "         2        9.0  12.000000  19.646883  0.0   0.00   3.0  11.00   58.0\n",
              "         3       23.0  15.260870  18.616262  0.0   0.00   7.0  25.00   59.0\n",
              "         4       50.0  17.400000  22.396246  0.0   0.00  10.0  27.75  120.0\n",
              "         5       77.0  24.012987  29.106652  0.0   0.00  15.0  37.00  149.0\n",
              "         6       97.0  25.298969  30.247646  0.0   1.00  15.0  36.00  133.0\n",
              "         7      121.0  27.033058  30.395979  0.0   1.00  20.0  41.00  164.0\n",
              "         8      162.0  28.777778  32.086064  0.0   2.00  20.0  43.00  156.0\n",
              "         9      194.0  30.762887  31.683268  0.0   4.00  22.5  48.00  153.0\n",
              "         10     237.0  33.839662  35.713663  0.0   4.00  26.0  51.00  224.0\n",
              "         11     283.0  32.385159  32.639608  0.0   4.00  27.0  47.00  180.0\n",
              "         12     318.0  38.600629  38.185843  0.0   9.00  31.0  57.00  266.0\n",
              "ultimate 1        4.0  15.500000  17.710637  0.0   1.50  12.5  26.50   37.0\n",
              "         2        7.0  21.571429  21.869744  0.0  10.00  15.0  24.50   67.0\n",
              "         3       12.0  20.250000  25.580977  0.0   0.00  12.0  28.00   72.0\n",
              "         4       21.0  22.047619  23.326972  0.0   5.00  17.0  28.00   77.0\n",
              "         5       29.0  32.103448  36.018195  0.0   0.00  19.0  60.00  149.0\n",
              "         6       47.0  29.340426  29.285162  0.0   4.50  21.0  46.50  143.0\n",
              "         7       59.0  32.830508  30.991741  0.0   4.50  28.0  52.50  149.0\n",
              "         8       71.0  38.478873  34.588544  0.0   6.00  36.0  64.50  151.0\n",
              "         9       86.0  37.895349  32.417871  0.0   7.25  31.5  61.00  155.0\n",
              "         10     106.0  39.443396  34.944331  0.0   8.00  35.0  57.75  153.0\n",
              "         11     127.0  38.606299  35.109389  0.0   8.50  32.0  63.00  166.0\n",
              "         12     151.0  45.006623  39.362672  0.0   9.50  41.0  72.00  150.0"
            ]
          },
          "metadata": {}
        }
      ]
    },
    {
      "cell_type": "code",
      "source": "df_monthly.groupby(['plan','month'])['num_mess'].var(ddof=0)",
      "metadata": {},
      "execution_count": 57,
      "outputs": [
        {
          "execution_count": 57,
          "output_type": "execute_result",
          "data": {
            "text/plain": [
              "plan      month\n",
              "surf      1         110.250000\n",
              "          2         343.111111\n",
              "          3         331.497164\n",
              "          4         491.560000\n",
              "          5         836.194637\n",
              "          6         905.487937\n",
              "          7         916.279899\n",
              "          8        1023.160494\n",
              "          9         998.655117\n",
              "          10       1270.083997\n",
              "          11       1061.579568\n",
              "          12       1453.573207\n",
              "ultimate  1         235.250000\n",
              "          2         409.959184\n",
              "          3         599.854167\n",
              "          4         518.235828\n",
              "          5        1252.575505\n",
              "          6         839.373472\n",
              "          7         944.208561\n",
              "          8        1179.517159\n",
              "          9        1038.698350\n",
              "          10       1209.586419\n",
              "          11       1222.963110\n",
              "          12       1539.158897\n",
              "Name: num_mess, dtype: float64"
            ]
          },
          "metadata": {}
        }
      ]
    },
    {
      "cell_type": "code",
      "source": "#diagrama de caja para visualizar la distribución del número de mensajes enviados\ndf_monthly.boxplot(column='num_mess',by='plan',figsize=(8,5))\nplt.show()",
      "metadata": {},
      "execution_count": 58,
      "outputs": [
        {
          "output_type": "display_data",
          "data": {
            "image/png": "[encoded data removed]",
            "text/plain": [
              "<Figure size 576x360 with 1 Axes>"
            ]
          },
          "metadata": {
            "needs_background": "light"
          }
        }
      ]
    },
    {
      "cell_type": "code",
      "source": "#boxplot de número de mensajes sin valores atípicos\ndf_monthly.query('0<num_mess<140').boxplot(column='num_mess',by='plan',figsize=(8,5))\nplt.show()",
      "metadata": {},
      "execution_count": 59,
      "outputs": [
        {
          "output_type": "display_data",
          "data": {
            "image/png": "[encoded data removed]",
            "text/plain": [
              "<Figure size 576x360 with 1 Axes>"
            ]
          },
          "metadata": {
            "needs_background": "light"
          }
        }
      ]
    },
    {
      "cell_type": "code",
      "source": "print('Porcentaje de usuarios del plan surf que usaron más del límite:',\n      round(df_monthly_s.query('num_mess>50').shape[0]/df_monthly_s.shape[0]*100,2),'%')",
      "metadata": {},
      "execution_count": 60,
      "outputs": [
        {
          "name": "stdout",
          "output_type": "stream",
          "text": "Porcentaje de usuarios del plan surf que usaron más del límite: 21.61 %\n"
        }
      ]
    },
    {
      "cell_type": "code",
      "source": "print('Porcentaje de usuarios del plan ultimate que usaron más del límite:',\n      round(df_monthly_u.query('num_mess>1000').shape[0]/df_monthly_s.shape[0]*100,2),'%')",
      "metadata": {},
      "execution_count": 61,
      "outputs": [
        {
          "name": "stdout",
          "output_type": "stream",
          "text": "Porcentaje de usuarios del plan ultimate que usaron más del límite: 0.0 %\n"
        }
      ]
    },
    {
      "cell_type": "markdown",
      "source": "Un número alto de usuarios no envían mensajes. Al eliminar a estos, junto con los valores atípicamente altos, notamos que los clientes con el plan ultimate mandan más mensajes que los del plan surf en promedio. Nuevamente, un porcentaje significativo de usuarios del plan surf sobrepasan el límite del plan mientras que los del ultimate no. ",
      "metadata": {}
    },
    {
      "cell_type": "markdown",
      "source": "### Internet",
      "metadata": {}
    },
    {
      "cell_type": "code",
      "source": "#Cantidad de tráfico de internet consumido por usuarios por plan por cada mes\nplt.subplots(figsize=(15,4))\ndf_monthly_s.groupby('month')['gb_used'].mean().plot(kind='bar', color ='pink',ax=plt.subplot(1,2, 1))\nplt.title('surface users gb used')\ndf_monthly_u.groupby('month')['gb_used'].mean().plot(kind='bar', color = 'turquoise',ax=plt.subplot(1, 2, 2))\nplt.title('ultimate users gb used')\nplt.show()",
      "metadata": {},
      "execution_count": 62,
      "outputs": [
        {
          "output_type": "display_data",
          "data": {
            "image/png": "[encoded data removed]",
            "text/plain": [
              "<Figure size 1080x288 with 2 Axes>"
            ]
          },
          "metadata": {
            "needs_background": "light"
          }
        }
      ]
    },
    {
      "cell_type": "code",
      "source": "#histograma de los gigas usados\nplt.subplots(figsize=(15, 4))\n\ndf_monthly_s.hist(column='gb_used',ax=plt.subplot(1,2, 1))\nplt.title('surf users gb used')\ndf_monthly_u.hist(column='gb_used',ax=plt.subplot(1, 2, 2))\nplt.title('ultimate users gb used')\nplt.show()",
      "metadata": {},
      "execution_count": 63,
      "outputs": [
        {
          "output_type": "display_data",
          "data": {
            "image/png": "[encoded data removed]",
            "text/plain": [
              "<Figure size 1080x288 with 2 Axes>"
            ]
          },
          "metadata": {
            "needs_background": "light"
          }
        }
      ]
    },
    {
      "cell_type": "code",
      "source": "df_monthly.groupby('plan')['gb_used'].describe()",
      "metadata": {},
      "execution_count": 64,
      "outputs": [
        {
          "execution_count": 64,
          "output_type": "execute_result",
          "data": {
            "text/html": [
              "<div>\n",
              "<style scoped>\n",
              "    .dataframe tbody tr th:only-of-type {\n",
              "        vertical-align: middle;\n",
              "    }\n",
              "\n",
              "    .dataframe tbody tr th {\n",
              "        vertical-align: top;\n",
              "    }\n",
              "\n",
              "    .dataframe thead th {\n",
              "        text-align: right;\n",
              "    }\n",
              "</style>\n",
              "<table border=\"1\" class=\"dataframe\">\n",
              "  <thead>\n",
              "    <tr style=\"text-align: right;\">\n",
              "      <th></th>\n",
              "      <th>count</th>\n",
              "      <th>mean</th>\n",
              "      <th>std</th>\n",
              "      <th>min</th>\n",
              "      <th>25%</th>\n",
              "      <th>50%</th>\n",
              "      <th>75%</th>\n",
              "      <th>max</th>\n",
              "    </tr>\n",
              "    <tr>\n",
              "      <th>plan</th>\n",
              "      <th></th>\n",
              "      <th></th>\n",
              "      <th></th>\n",
              "      <th></th>\n",
              "      <th></th>\n",
              "      <th></th>\n",
              "      <th></th>\n",
              "      <th></th>\n",
              "    </tr>\n",
              "  </thead>\n",
              "  <tbody>\n",
              "    <tr>\n",
              "      <th>surf</th>\n",
              "      <td>1573.0</td>\n",
              "      <td>16.670693</td>\n",
              "      <td>7.847522</td>\n",
              "      <td>0.0</td>\n",
              "      <td>12.0</td>\n",
              "      <td>17.0</td>\n",
              "      <td>21.0</td>\n",
              "      <td>70.0</td>\n",
              "    </tr>\n",
              "    <tr>\n",
              "      <th>ultimate</th>\n",
              "      <td>720.0</td>\n",
              "      <td>17.306944</td>\n",
              "      <td>7.670108</td>\n",
              "      <td>0.0</td>\n",
              "      <td>13.0</td>\n",
              "      <td>17.0</td>\n",
              "      <td>21.0</td>\n",
              "      <td>46.0</td>\n",
              "    </tr>\n",
              "  </tbody>\n",
              "</table>\n",
              "</div>"
            ],
            "text/plain": [
              "           count       mean       std  min   25%   50%   75%   max\n",
              "plan                                                              \n",
              "surf      1573.0  16.670693  7.847522  0.0  12.0  17.0  21.0  70.0\n",
              "ultimate   720.0  17.306944  7.670108  0.0  13.0  17.0  21.0  46.0"
            ]
          },
          "metadata": {}
        }
      ]
    },
    {
      "cell_type": "code",
      "source": "#media y varianza de mensajes mensuales\ndf_monthly.groupby(['plan','month'])['gb_used'].describe()",
      "metadata": {},
      "execution_count": 65,
      "outputs": [
        {
          "execution_count": 65,
          "output_type": "execute_result",
          "data": {
            "text/html": [
              "<div>\n",
              "<style scoped>\n",
              "    .dataframe tbody tr th:only-of-type {\n",
              "        vertical-align: middle;\n",
              "    }\n",
              "\n",
              "    .dataframe tbody tr th {\n",
              "        vertical-align: top;\n",
              "    }\n",
              "\n",
              "    .dataframe thead th {\n",
              "        text-align: right;\n",
              "    }\n",
              "</style>\n",
              "<table border=\"1\" class=\"dataframe\">\n",
              "  <thead>\n",
              "    <tr style=\"text-align: right;\">\n",
              "      <th></th>\n",
              "      <th></th>\n",
              "      <th>count</th>\n",
              "      <th>mean</th>\n",
              "      <th>std</th>\n",
              "      <th>min</th>\n",
              "      <th>25%</th>\n",
              "      <th>50%</th>\n",
              "      <th>75%</th>\n",
              "      <th>max</th>\n",
              "    </tr>\n",
              "    <tr>\n",
              "      <th>plan</th>\n",
              "      <th>month</th>\n",
              "      <th></th>\n",
              "      <th></th>\n",
              "      <th></th>\n",
              "      <th></th>\n",
              "      <th></th>\n",
              "      <th></th>\n",
              "      <th></th>\n",
              "      <th></th>\n",
              "    </tr>\n",
              "  </thead>\n",
              "  <tbody>\n",
              "    <tr>\n",
              "      <th rowspan=\"12\" valign=\"top\">surf</th>\n",
              "      <th>1</th>\n",
              "      <td>2.0</td>\n",
              "      <td>5.000000</td>\n",
              "      <td>4.242641</td>\n",
              "      <td>2.0</td>\n",
              "      <td>3.50</td>\n",
              "      <td>5.0</td>\n",
              "      <td>6.50</td>\n",
              "      <td>8.0</td>\n",
              "    </tr>\n",
              "    <tr>\n",
              "      <th>2</th>\n",
              "      <td>9.0</td>\n",
              "      <td>12.222222</td>\n",
              "      <td>6.437736</td>\n",
              "      <td>1.0</td>\n",
              "      <td>7.00</td>\n",
              "      <td>12.0</td>\n",
              "      <td>16.00</td>\n",
              "      <td>20.0</td>\n",
              "    </tr>\n",
              "    <tr>\n",
              "      <th>3</th>\n",
              "      <td>23.0</td>\n",
              "      <td>13.565217</td>\n",
              "      <td>7.999012</td>\n",
              "      <td>2.0</td>\n",
              "      <td>6.50</td>\n",
              "      <td>14.0</td>\n",
              "      <td>19.00</td>\n",
              "      <td>30.0</td>\n",
              "    </tr>\n",
              "    <tr>\n",
              "      <th>4</th>\n",
              "      <td>50.0</td>\n",
              "      <td>12.220000</td>\n",
              "      <td>7.497728</td>\n",
              "      <td>0.0</td>\n",
              "      <td>6.25</td>\n",
              "      <td>12.0</td>\n",
              "      <td>17.75</td>\n",
              "      <td>28.0</td>\n",
              "    </tr>\n",
              "    <tr>\n",
              "      <th>5</th>\n",
              "      <td>77.0</td>\n",
              "      <td>14.116883</td>\n",
              "      <td>7.627813</td>\n",
              "      <td>0.0</td>\n",
              "      <td>8.00</td>\n",
              "      <td>14.0</td>\n",
              "      <td>20.00</td>\n",
              "      <td>36.0</td>\n",
              "    </tr>\n",
              "    <tr>\n",
              "      <th>6</th>\n",
              "      <td>97.0</td>\n",
              "      <td>15.484536</td>\n",
              "      <td>6.910308</td>\n",
              "      <td>0.0</td>\n",
              "      <td>12.00</td>\n",
              "      <td>16.0</td>\n",
              "      <td>19.00</td>\n",
              "      <td>37.0</td>\n",
              "    </tr>\n",
              "    <tr>\n",
              "      <th>7</th>\n",
              "      <td>121.0</td>\n",
              "      <td>16.876033</td>\n",
              "      <td>7.840674</td>\n",
              "      <td>0.0</td>\n",
              "      <td>13.00</td>\n",
              "      <td>17.0</td>\n",
              "      <td>21.00</td>\n",
              "      <td>39.0</td>\n",
              "    </tr>\n",
              "    <tr>\n",
              "      <th>8</th>\n",
              "      <td>162.0</td>\n",
              "      <td>16.882716</td>\n",
              "      <td>8.451091</td>\n",
              "      <td>0.0</td>\n",
              "      <td>12.00</td>\n",
              "      <td>17.0</td>\n",
              "      <td>21.00</td>\n",
              "      <td>51.0</td>\n",
              "    </tr>\n",
              "    <tr>\n",
              "      <th>9</th>\n",
              "      <td>194.0</td>\n",
              "      <td>16.690722</td>\n",
              "      <td>7.017167</td>\n",
              "      <td>0.0</td>\n",
              "      <td>13.00</td>\n",
              "      <td>17.0</td>\n",
              "      <td>21.00</td>\n",
              "      <td>37.0</td>\n",
              "    </tr>\n",
              "    <tr>\n",
              "      <th>10</th>\n",
              "      <td>237.0</td>\n",
              "      <td>17.409283</td>\n",
              "      <td>7.792679</td>\n",
              "      <td>0.0</td>\n",
              "      <td>13.00</td>\n",
              "      <td>18.0</td>\n",
              "      <td>21.00</td>\n",
              "      <td>46.0</td>\n",
              "    </tr>\n",
              "    <tr>\n",
              "      <th>11</th>\n",
              "      <td>283.0</td>\n",
              "      <td>16.431095</td>\n",
              "      <td>7.389711</td>\n",
              "      <td>0.0</td>\n",
              "      <td>12.00</td>\n",
              "      <td>17.0</td>\n",
              "      <td>21.00</td>\n",
              "      <td>42.0</td>\n",
              "    </tr>\n",
              "    <tr>\n",
              "      <th>12</th>\n",
              "      <td>318.0</td>\n",
              "      <td>18.238994</td>\n",
              "      <td>8.319305</td>\n",
              "      <td>0.0</td>\n",
              "      <td>14.00</td>\n",
              "      <td>18.0</td>\n",
              "      <td>22.00</td>\n",
              "      <td>70.0</td>\n",
              "    </tr>\n",
              "    <tr>\n",
              "      <th rowspan=\"12\" valign=\"top\">ultimate</th>\n",
              "      <th>1</th>\n",
              "      <td>4.0</td>\n",
              "      <td>7.250000</td>\n",
              "      <td>3.862210</td>\n",
              "      <td>2.0</td>\n",
              "      <td>5.75</td>\n",
              "      <td>8.0</td>\n",
              "      <td>9.50</td>\n",
              "      <td>11.0</td>\n",
              "    </tr>\n",
              "    <tr>\n",
              "      <th>2</th>\n",
              "      <td>7.0</td>\n",
              "      <td>17.285714</td>\n",
              "      <td>6.156684</td>\n",
              "      <td>5.0</td>\n",
              "      <td>16.50</td>\n",
              "      <td>20.0</td>\n",
              "      <td>20.50</td>\n",
              "      <td>22.0</td>\n",
              "    </tr>\n",
              "    <tr>\n",
              "      <th>3</th>\n",
              "      <td>12.0</td>\n",
              "      <td>18.416667</td>\n",
              "      <td>11.774073</td>\n",
              "      <td>2.0</td>\n",
              "      <td>8.25</td>\n",
              "      <td>21.0</td>\n",
              "      <td>28.75</td>\n",
              "      <td>36.0</td>\n",
              "    </tr>\n",
              "    <tr>\n",
              "      <th>4</th>\n",
              "      <td>21.0</td>\n",
              "      <td>16.333333</td>\n",
              "      <td>9.264628</td>\n",
              "      <td>3.0</td>\n",
              "      <td>9.00</td>\n",
              "      <td>16.0</td>\n",
              "      <td>21.00</td>\n",
              "      <td>37.0</td>\n",
              "    </tr>\n",
              "    <tr>\n",
              "      <th>5</th>\n",
              "      <td>29.0</td>\n",
              "      <td>16.862069</td>\n",
              "      <td>7.361697</td>\n",
              "      <td>3.0</td>\n",
              "      <td>14.00</td>\n",
              "      <td>17.0</td>\n",
              "      <td>21.00</td>\n",
              "      <td>33.0</td>\n",
              "    </tr>\n",
              "    <tr>\n",
              "      <th>6</th>\n",
              "      <td>47.0</td>\n",
              "      <td>15.425532</td>\n",
              "      <td>8.298100</td>\n",
              "      <td>2.0</td>\n",
              "      <td>10.50</td>\n",
              "      <td>15.0</td>\n",
              "      <td>20.00</td>\n",
              "      <td>38.0</td>\n",
              "    </tr>\n",
              "    <tr>\n",
              "      <th>7</th>\n",
              "      <td>59.0</td>\n",
              "      <td>16.491525</td>\n",
              "      <td>8.015874</td>\n",
              "      <td>1.0</td>\n",
              "      <td>12.00</td>\n",
              "      <td>15.0</td>\n",
              "      <td>21.00</td>\n",
              "      <td>38.0</td>\n",
              "    </tr>\n",
              "    <tr>\n",
              "      <th>8</th>\n",
              "      <td>71.0</td>\n",
              "      <td>17.845070</td>\n",
              "      <td>7.618864</td>\n",
              "      <td>1.0</td>\n",
              "      <td>14.00</td>\n",
              "      <td>18.0</td>\n",
              "      <td>21.00</td>\n",
              "      <td>40.0</td>\n",
              "    </tr>\n",
              "    <tr>\n",
              "      <th>9</th>\n",
              "      <td>86.0</td>\n",
              "      <td>17.011628</td>\n",
              "      <td>6.874495</td>\n",
              "      <td>4.0</td>\n",
              "      <td>13.00</td>\n",
              "      <td>16.5</td>\n",
              "      <td>19.75</td>\n",
              "      <td>37.0</td>\n",
              "    </tr>\n",
              "    <tr>\n",
              "      <th>10</th>\n",
              "      <td>106.0</td>\n",
              "      <td>17.716981</td>\n",
              "      <td>7.389510</td>\n",
              "      <td>0.0</td>\n",
              "      <td>13.00</td>\n",
              "      <td>17.0</td>\n",
              "      <td>21.00</td>\n",
              "      <td>46.0</td>\n",
              "    </tr>\n",
              "    <tr>\n",
              "      <th>11</th>\n",
              "      <td>127.0</td>\n",
              "      <td>17.118110</td>\n",
              "      <td>7.375005</td>\n",
              "      <td>1.0</td>\n",
              "      <td>13.00</td>\n",
              "      <td>17.0</td>\n",
              "      <td>21.00</td>\n",
              "      <td>42.0</td>\n",
              "    </tr>\n",
              "    <tr>\n",
              "      <th>12</th>\n",
              "      <td>151.0</td>\n",
              "      <td>18.397351</td>\n",
              "      <td>7.670793</td>\n",
              "      <td>1.0</td>\n",
              "      <td>14.00</td>\n",
              "      <td>17.0</td>\n",
              "      <td>22.00</td>\n",
              "      <td>46.0</td>\n",
              "    </tr>\n",
              "  </tbody>\n",
              "</table>\n",
              "</div>"
            ],
            "text/plain": [
              "                count       mean        std  min    25%   50%    75%   max\n",
              "plan     month                                                            \n",
              "surf     1        2.0   5.000000   4.242641  2.0   3.50   5.0   6.50   8.0\n",
              "         2        9.0  12.222222   6.437736  1.0   7.00  12.0  16.00  20.0\n",
              "         3       23.0  13.565217   7.999012  2.0   6.50  14.0  19.00  30.0\n",
              "         4       50.0  12.220000   7.497728  0.0   6.25  12.0  17.75  28.0\n",
              "         5       77.0  14.116883   7.627813  0.0   8.00  14.0  20.00  36.0\n",
              "         6       97.0  15.484536   6.910308  0.0  12.00  16.0  19.00  37.0\n",
              "         7      121.0  16.876033   7.840674  0.0  13.00  17.0  21.00  39.0\n",
              "         8      162.0  16.882716   8.451091  0.0  12.00  17.0  21.00  51.0\n",
              "         9      194.0  16.690722   7.017167  0.0  13.00  17.0  21.00  37.0\n",
              "         10     237.0  17.409283   7.792679  0.0  13.00  18.0  21.00  46.0\n",
              "         11     283.0  16.431095   7.389711  0.0  12.00  17.0  21.00  42.0\n",
              "         12     318.0  18.238994   8.319305  0.0  14.00  18.0  22.00  70.0\n",
              "ultimate 1        4.0   7.250000   3.862210  2.0   5.75   8.0   9.50  11.0\n",
              "         2        7.0  17.285714   6.156684  5.0  16.50  20.0  20.50  22.0\n",
              "         3       12.0  18.416667  11.774073  2.0   8.25  21.0  28.75  36.0\n",
              "         4       21.0  16.333333   9.264628  3.0   9.00  16.0  21.00  37.0\n",
              "         5       29.0  16.862069   7.361697  3.0  14.00  17.0  21.00  33.0\n",
              "         6       47.0  15.425532   8.298100  2.0  10.50  15.0  20.00  38.0\n",
              "         7       59.0  16.491525   8.015874  1.0  12.00  15.0  21.00  38.0\n",
              "         8       71.0  17.845070   7.618864  1.0  14.00  18.0  21.00  40.0\n",
              "         9       86.0  17.011628   6.874495  4.0  13.00  16.5  19.75  37.0\n",
              "         10     106.0  17.716981   7.389510  0.0  13.00  17.0  21.00  46.0\n",
              "         11     127.0  17.118110   7.375005  1.0  13.00  17.0  21.00  42.0\n",
              "         12     151.0  18.397351   7.670793  1.0  14.00  17.0  22.00  46.0"
            ]
          },
          "metadata": {}
        }
      ]
    },
    {
      "cell_type": "code",
      "source": "df_monthly.groupby(['plan','month'])['gb_used'].var(ddof=0)",
      "metadata": {},
      "execution_count": 66,
      "outputs": [
        {
          "execution_count": 66,
          "output_type": "execute_result",
          "data": {
            "text/plain": [
              "plan      month\n",
              "surf      1          9.000000\n",
              "          2         36.839506\n",
              "          3         61.202268\n",
              "          4         55.091600\n",
              "          5         57.427897\n",
              "          6         47.260070\n",
              "          7         60.968103\n",
              "          8         70.980072\n",
              "          9         48.986821\n",
              "          10        60.469618\n",
              "          11        54.414863\n",
              "          12        68.993196\n",
              "ultimate  1         11.187500\n",
              "          2         32.489796\n",
              "          3        127.076389\n",
              "          4         81.746032\n",
              "          5         52.325803\n",
              "          6         67.393391\n",
              "          7         63.165182\n",
              "          8         57.229518\n",
              "          9         46.709167\n",
              "          10        54.089712\n",
              "          11        53.962428\n",
              "          12        58.451384\n",
              "Name: gb_used, dtype: float64"
            ]
          },
          "metadata": {}
        }
      ]
    },
    {
      "cell_type": "code",
      "source": "#Diagrama de caja para visualizar la distribución del consumo de internet\ndf_monthly.boxplot(column='gb_used',by='plan',figsize=(8,5))\nplt.show()",
      "metadata": {},
      "execution_count": 67,
      "outputs": [
        {
          "output_type": "display_data",
          "data": {
            "image/png": "[encoded data removed]",
            "text/plain": [
              "<Figure size 576x360 with 1 Axes>"
            ]
          },
          "metadata": {
            "needs_background": "light"
          }
        }
      ]
    },
    {
      "cell_type": "code",
      "source": "print('Porcentaje de usuarios del plan surf que usaron más del límite:',\n      round(df_monthly_s.query('gb_used>15').shape[0]/df_monthly_s.shape[0]*100,2),'%')",
      "metadata": {},
      "execution_count": 68,
      "outputs": [
        {
          "name": "stdout",
          "output_type": "stream",
          "text": "Porcentaje de usuarios del plan surf que usaron más del límite: 57.91 %\n"
        }
      ]
    },
    {
      "cell_type": "code",
      "source": "print('Porcentaje de usuarios del plan ultimate que usaron más del límite:',\n      round(df_monthly_u.query('gb_used>30').shape[0]/df_monthly_u.shape[0]*100,2),'%')",
      "metadata": {},
      "execution_count": 69,
      "outputs": [
        {
          "name": "stdout",
          "output_type": "stream",
          "text": "Porcentaje de usuarios del plan ultimate que usaron más del límite: 5.69 %\n"
        }
      ]
    },
    {
      "cell_type": "markdown",
      "source": "En general, los datos de los usuarios de ambos planes son muy similares, sin embargo los valores atípicos son los que crean la diferencia entre ellos. Los usuarios del plan Surf tienen consumos de hasta 70 gigas, mientras que los de ultimate llegaron hasta los 46. Asimismo, más de la mitad de los usuarios del plan Surf tienden a sobrepasar el límite del plan mientras que solo el 5.69% de los del plan ultimate sobrepasaron el límite.",
      "metadata": {}
    },
    {
      "cell_type": "markdown",
      "source": " ",
      "metadata": {}
    },
    {
      "cell_type": "markdown",
      "source": "## Ingreso",
      "metadata": {}
    },
    {
      "cell_type": "markdown",
      "source": "Se analizan los ingresos generados por los usuarios de ambos planes con sus valores estdísticos asi como con sus gráficas.",
      "metadata": {}
    },
    {
      "cell_type": "code",
      "source": "#Promedio de ingresos por cada plan por cada mes\nplt.subplots(figsize=(15,4))\n\ndf_monthly_s.groupby('month')['income'].mean().plot(kind='bar', color ='pink',ax=plt.subplot(1,2, 1))\nplt.title('surf users income')\ndf_monthly_u.groupby('month')['income'].mean().plot(kind='bar', color = 'turquoise',ax=plt.subplot(1, 2, 2))\nplt.title('ultimate users income')\nplt.show()",
      "metadata": {},
      "execution_count": 70,
      "outputs": [
        {
          "output_type": "display_data",
          "data": {
            "image/png": "[encoded data removed]",
            "text/plain": [
              "<Figure size 1080x288 with 2 Axes>"
            ]
          },
          "metadata": {
            "needs_background": "light"
          }
        }
      ]
    },
    {
      "cell_type": "markdown",
      "source": "Tomando en cuenta que inicialmente habia pocos usuarios, los ingresos del plan surf fueron incrementando conforme subieron los usuarios, sin embargo, el plan ultimate se mantuvo constante a pesar de que los usuarios incrementaron.\n\nEsto confirma que mientras más usuarios hay con el plan surf, más usuarios sobrepasan el límite mientras que los usuarios del ultimate, normalmente se mantienen dentro del plan.",
      "metadata": {}
    },
    {
      "cell_type": "code",
      "source": "#histograma del ingreso \nplt.subplots(figsize=(15, 4))\n\ndf_monthly_s.hist(column='income',ax=plt.subplot(1,2, 1),bins=20)\nplt.title('surf users income')\ndf_monthly_u.hist(column='income',ax=plt.subplot(1, 2, 2),bins=20)\nplt.title('ultimate users income')\nplt.show()",
      "metadata": {},
      "execution_count": 71,
      "outputs": [
        {
          "output_type": "display_data",
          "data": {
            "image/png": "[encoded data removed]",
            "text/plain": [
              "<Figure size 1080x288 with 2 Axes>"
            ]
          },
          "metadata": {
            "needs_background": "light"
          }
        }
      ]
    },
    {
      "cell_type": "code",
      "source": "df_monthly.groupby('plan')['income'].describe()",
      "metadata": {
        "scrolled": true
      },
      "execution_count": 72,
      "outputs": [
        {
          "execution_count": 72,
          "output_type": "execute_result",
          "data": {
            "text/html": [
              "<div>\n",
              "<style scoped>\n",
              "    .dataframe tbody tr th:only-of-type {\n",
              "        vertical-align: middle;\n",
              "    }\n",
              "\n",
              "    .dataframe tbody tr th {\n",
              "        vertical-align: top;\n",
              "    }\n",
              "\n",
              "    .dataframe thead th {\n",
              "        text-align: right;\n",
              "    }\n",
              "</style>\n",
              "<table border=\"1\" class=\"dataframe\">\n",
              "  <thead>\n",
              "    <tr style=\"text-align: right;\">\n",
              "      <th></th>\n",
              "      <th>count</th>\n",
              "      <th>mean</th>\n",
              "      <th>std</th>\n",
              "      <th>min</th>\n",
              "      <th>25%</th>\n",
              "      <th>50%</th>\n",
              "      <th>75%</th>\n",
              "      <th>max</th>\n",
              "    </tr>\n",
              "    <tr>\n",
              "      <th>plan</th>\n",
              "      <th></th>\n",
              "      <th></th>\n",
              "      <th></th>\n",
              "      <th></th>\n",
              "      <th></th>\n",
              "      <th></th>\n",
              "      <th></th>\n",
              "      <th></th>\n",
              "    </tr>\n",
              "  </thead>\n",
              "  <tbody>\n",
              "    <tr>\n",
              "      <th>surf</th>\n",
              "      <td>1573.0</td>\n",
              "      <td>60.706408</td>\n",
              "      <td>55.388042</td>\n",
              "      <td>20.0</td>\n",
              "      <td>20.0</td>\n",
              "      <td>40.36</td>\n",
              "      <td>80.36</td>\n",
              "      <td>590.37</td>\n",
              "    </tr>\n",
              "    <tr>\n",
              "      <th>ultimate</th>\n",
              "      <td>720.0</td>\n",
              "      <td>72.313889</td>\n",
              "      <td>11.395108</td>\n",
              "      <td>70.0</td>\n",
              "      <td>70.0</td>\n",
              "      <td>70.00</td>\n",
              "      <td>70.00</td>\n",
              "      <td>182.00</td>\n",
              "    </tr>\n",
              "  </tbody>\n",
              "</table>\n",
              "</div>"
            ],
            "text/plain": [
              "           count       mean        std   min   25%    50%    75%     max\n",
              "plan                                                                    \n",
              "surf      1573.0  60.706408  55.388042  20.0  20.0  40.36  80.36  590.37\n",
              "ultimate   720.0  72.313889  11.395108  70.0  70.0  70.00  70.00  182.00"
            ]
          },
          "metadata": {}
        }
      ]
    },
    {
      "cell_type": "code",
      "source": "df_monthly.groupby('plan')['income'].var(ddof=0)",
      "metadata": {},
      "execution_count": 73,
      "outputs": [
        {
          "execution_count": 73,
          "output_type": "execute_result",
          "data": {
            "text/plain": [
              "plan\n",
              "surf        3065.884844\n",
              "ultimate     129.668140\n",
              "Name: income, dtype: float64"
            ]
          },
          "metadata": {}
        }
      ]
    },
    {
      "cell_type": "code",
      "source": "#media y varianza de ingresos mensuales\ndf_monthly.groupby(['plan','month'])['income'].describe()",
      "metadata": {},
      "execution_count": 74,
      "outputs": [
        {
          "execution_count": 74,
          "output_type": "execute_result",
          "data": {
            "text/html": [
              "<div>\n",
              "<style scoped>\n",
              "    .dataframe tbody tr th:only-of-type {\n",
              "        vertical-align: middle;\n",
              "    }\n",
              "\n",
              "    .dataframe tbody tr th {\n",
              "        vertical-align: top;\n",
              "    }\n",
              "\n",
              "    .dataframe thead th {\n",
              "        text-align: right;\n",
              "    }\n",
              "</style>\n",
              "<table border=\"1\" class=\"dataframe\">\n",
              "  <thead>\n",
              "    <tr style=\"text-align: right;\">\n",
              "      <th></th>\n",
              "      <th></th>\n",
              "      <th>count</th>\n",
              "      <th>mean</th>\n",
              "      <th>std</th>\n",
              "      <th>min</th>\n",
              "      <th>25%</th>\n",
              "      <th>50%</th>\n",
              "      <th>75%</th>\n",
              "      <th>max</th>\n",
              "    </tr>\n",
              "    <tr>\n",
              "      <th>plan</th>\n",
              "      <th>month</th>\n",
              "      <th></th>\n",
              "      <th></th>\n",
              "      <th></th>\n",
              "      <th></th>\n",
              "      <th></th>\n",
              "      <th></th>\n",
              "      <th></th>\n",
              "      <th></th>\n",
              "    </tr>\n",
              "  </thead>\n",
              "  <tbody>\n",
              "    <tr>\n",
              "      <th rowspan=\"12\" valign=\"top\">surf</th>\n",
              "      <th>1</th>\n",
              "      <td>2.0</td>\n",
              "      <td>20.000000</td>\n",
              "      <td>0.000000</td>\n",
              "      <td>20.0</td>\n",
              "      <td>20.00</td>\n",
              "      <td>20.000</td>\n",
              "      <td>20.0000</td>\n",
              "      <td>20.00</td>\n",
              "    </tr>\n",
              "    <tr>\n",
              "      <th>2</th>\n",
              "      <td>9.0</td>\n",
              "      <td>34.396667</td>\n",
              "      <td>20.694833</td>\n",
              "      <td>20.0</td>\n",
              "      <td>20.00</td>\n",
              "      <td>29.570</td>\n",
              "      <td>30.0000</td>\n",
              "      <td>70.00</td>\n",
              "    </tr>\n",
              "    <tr>\n",
              "      <th>3</th>\n",
              "      <td>23.0</td>\n",
              "      <td>45.941304</td>\n",
              "      <td>38.884747</td>\n",
              "      <td>20.0</td>\n",
              "      <td>20.00</td>\n",
              "      <td>20.000</td>\n",
              "      <td>60.0600</td>\n",
              "      <td>170.00</td>\n",
              "    </tr>\n",
              "    <tr>\n",
              "      <th>4</th>\n",
              "      <td>50.0</td>\n",
              "      <td>40.710600</td>\n",
              "      <td>34.625979</td>\n",
              "      <td>20.0</td>\n",
              "      <td>20.00</td>\n",
              "      <td>20.000</td>\n",
              "      <td>49.4050</td>\n",
              "      <td>150.00</td>\n",
              "    </tr>\n",
              "    <tr>\n",
              "      <th>5</th>\n",
              "      <td>77.0</td>\n",
              "      <td>47.628182</td>\n",
              "      <td>44.356962</td>\n",
              "      <td>20.0</td>\n",
              "      <td>20.00</td>\n",
              "      <td>21.740</td>\n",
              "      <td>71.0200</td>\n",
              "      <td>231.95</td>\n",
              "    </tr>\n",
              "    <tr>\n",
              "      <th>6</th>\n",
              "      <td>97.0</td>\n",
              "      <td>49.276289</td>\n",
              "      <td>44.597243</td>\n",
              "      <td>20.0</td>\n",
              "      <td>20.00</td>\n",
              "      <td>30.150</td>\n",
              "      <td>60.4500</td>\n",
              "      <td>240.00</td>\n",
              "    </tr>\n",
              "    <tr>\n",
              "      <th>7</th>\n",
              "      <td>121.0</td>\n",
              "      <td>62.674050</td>\n",
              "      <td>54.253004</td>\n",
              "      <td>20.0</td>\n",
              "      <td>20.42</td>\n",
              "      <td>40.330</td>\n",
              "      <td>86.5900</td>\n",
              "      <td>260.63</td>\n",
              "    </tr>\n",
              "    <tr>\n",
              "      <th>8</th>\n",
              "      <td>162.0</td>\n",
              "      <td>63.931173</td>\n",
              "      <td>59.895700</td>\n",
              "      <td>20.0</td>\n",
              "      <td>20.00</td>\n",
              "      <td>41.980</td>\n",
              "      <td>87.4025</td>\n",
              "      <td>380.00</td>\n",
              "    </tr>\n",
              "    <tr>\n",
              "      <th>9</th>\n",
              "      <td>194.0</td>\n",
              "      <td>58.271495</td>\n",
              "      <td>47.546240</td>\n",
              "      <td>20.0</td>\n",
              "      <td>20.00</td>\n",
              "      <td>40.045</td>\n",
              "      <td>81.5150</td>\n",
              "      <td>240.78</td>\n",
              "    </tr>\n",
              "    <tr>\n",
              "      <th>10</th>\n",
              "      <td>237.0</td>\n",
              "      <td>65.421224</td>\n",
              "      <td>56.553007</td>\n",
              "      <td>20.0</td>\n",
              "      <td>20.00</td>\n",
              "      <td>50.000</td>\n",
              "      <td>83.2700</td>\n",
              "      <td>330.00</td>\n",
              "    </tr>\n",
              "    <tr>\n",
              "      <th>11</th>\n",
              "      <td>283.0</td>\n",
              "      <td>58.004276</td>\n",
              "      <td>49.941788</td>\n",
              "      <td>20.0</td>\n",
              "      <td>20.00</td>\n",
              "      <td>40.000</td>\n",
              "      <td>80.0000</td>\n",
              "      <td>290.36</td>\n",
              "    </tr>\n",
              "    <tr>\n",
              "      <th>12</th>\n",
              "      <td>318.0</td>\n",
              "      <td>70.557044</td>\n",
              "      <td>67.855809</td>\n",
              "      <td>20.0</td>\n",
              "      <td>23.60</td>\n",
              "      <td>50.000</td>\n",
              "      <td>90.3150</td>\n",
              "      <td>590.37</td>\n",
              "    </tr>\n",
              "    <tr>\n",
              "      <th rowspan=\"12\" valign=\"top\">ultimate</th>\n",
              "      <th>1</th>\n",
              "      <td>4.0</td>\n",
              "      <td>70.000000</td>\n",
              "      <td>0.000000</td>\n",
              "      <td>70.0</td>\n",
              "      <td>70.00</td>\n",
              "      <td>70.000</td>\n",
              "      <td>70.0000</td>\n",
              "      <td>70.00</td>\n",
              "    </tr>\n",
              "    <tr>\n",
              "      <th>2</th>\n",
              "      <td>7.0</td>\n",
              "      <td>70.000000</td>\n",
              "      <td>0.000000</td>\n",
              "      <td>70.0</td>\n",
              "      <td>70.00</td>\n",
              "      <td>70.000</td>\n",
              "      <td>70.0000</td>\n",
              "      <td>70.00</td>\n",
              "    </tr>\n",
              "    <tr>\n",
              "      <th>3</th>\n",
              "      <td>12.0</td>\n",
              "      <td>74.666667</td>\n",
              "      <td>12.062966</td>\n",
              "      <td>70.0</td>\n",
              "      <td>70.00</td>\n",
              "      <td>70.000</td>\n",
              "      <td>71.7500</td>\n",
              "      <td>112.00</td>\n",
              "    </tr>\n",
              "    <tr>\n",
              "      <th>4</th>\n",
              "      <td>21.0</td>\n",
              "      <td>73.000000</td>\n",
              "      <td>10.972693</td>\n",
              "      <td>70.0</td>\n",
              "      <td>70.00</td>\n",
              "      <td>70.000</td>\n",
              "      <td>70.0000</td>\n",
              "      <td>119.00</td>\n",
              "    </tr>\n",
              "    <tr>\n",
              "      <th>5</th>\n",
              "      <td>29.0</td>\n",
              "      <td>70.724138</td>\n",
              "      <td>3.899602</td>\n",
              "      <td>70.0</td>\n",
              "      <td>70.00</td>\n",
              "      <td>70.000</td>\n",
              "      <td>70.0000</td>\n",
              "      <td>91.00</td>\n",
              "    </tr>\n",
              "    <tr>\n",
              "      <th>6</th>\n",
              "      <td>47.0</td>\n",
              "      <td>71.638298</td>\n",
              "      <td>8.661322</td>\n",
              "      <td>70.0</td>\n",
              "      <td>70.00</td>\n",
              "      <td>70.000</td>\n",
              "      <td>70.0000</td>\n",
              "      <td>126.00</td>\n",
              "    </tr>\n",
              "    <tr>\n",
              "      <th>7</th>\n",
              "      <td>59.0</td>\n",
              "      <td>71.898305</td>\n",
              "      <td>10.221166</td>\n",
              "      <td>70.0</td>\n",
              "      <td>70.00</td>\n",
              "      <td>70.000</td>\n",
              "      <td>70.0000</td>\n",
              "      <td>126.00</td>\n",
              "    </tr>\n",
              "    <tr>\n",
              "      <th>8</th>\n",
              "      <td>71.0</td>\n",
              "      <td>72.859155</td>\n",
              "      <td>12.442204</td>\n",
              "      <td>70.0</td>\n",
              "      <td>70.00</td>\n",
              "      <td>70.000</td>\n",
              "      <td>70.0000</td>\n",
              "      <td>140.00</td>\n",
              "    </tr>\n",
              "    <tr>\n",
              "      <th>9</th>\n",
              "      <td>86.0</td>\n",
              "      <td>72.034884</td>\n",
              "      <td>8.714353</td>\n",
              "      <td>70.0</td>\n",
              "      <td>70.00</td>\n",
              "      <td>70.000</td>\n",
              "      <td>70.0000</td>\n",
              "      <td>119.00</td>\n",
              "    </tr>\n",
              "    <tr>\n",
              "      <th>10</th>\n",
              "      <td>106.0</td>\n",
              "      <td>72.311321</td>\n",
              "      <td>13.023322</td>\n",
              "      <td>70.0</td>\n",
              "      <td>70.00</td>\n",
              "      <td>70.000</td>\n",
              "      <td>70.0000</td>\n",
              "      <td>182.00</td>\n",
              "    </tr>\n",
              "    <tr>\n",
              "      <th>11</th>\n",
              "      <td>127.0</td>\n",
              "      <td>71.708661</td>\n",
              "      <td>9.729770</td>\n",
              "      <td>70.0</td>\n",
              "      <td>70.00</td>\n",
              "      <td>70.000</td>\n",
              "      <td>70.0000</td>\n",
              "      <td>154.00</td>\n",
              "    </tr>\n",
              "    <tr>\n",
              "      <th>12</th>\n",
              "      <td>151.0</td>\n",
              "      <td>73.291391</td>\n",
              "      <td>14.589763</td>\n",
              "      <td>70.0</td>\n",
              "      <td>70.00</td>\n",
              "      <td>70.000</td>\n",
              "      <td>70.0000</td>\n",
              "      <td>182.00</td>\n",
              "    </tr>\n",
              "  </tbody>\n",
              "</table>\n",
              "</div>"
            ],
            "text/plain": [
              "                count       mean        std   min    25%     50%      75%  \\\n",
              "plan     month                                                              \n",
              "surf     1        2.0  20.000000   0.000000  20.0  20.00  20.000  20.0000   \n",
              "         2        9.0  34.396667  20.694833  20.0  20.00  29.570  30.0000   \n",
              "         3       23.0  45.941304  38.884747  20.0  20.00  20.000  60.0600   \n",
              "         4       50.0  40.710600  34.625979  20.0  20.00  20.000  49.4050   \n",
              "         5       77.0  47.628182  44.356962  20.0  20.00  21.740  71.0200   \n",
              "         6       97.0  49.276289  44.597243  20.0  20.00  30.150  60.4500   \n",
              "         7      121.0  62.674050  54.253004  20.0  20.42  40.330  86.5900   \n",
              "         8      162.0  63.931173  59.895700  20.0  20.00  41.980  87.4025   \n",
              "         9      194.0  58.271495  47.546240  20.0  20.00  40.045  81.5150   \n",
              "         10     237.0  65.421224  56.553007  20.0  20.00  50.000  83.2700   \n",
              "         11     283.0  58.004276  49.941788  20.0  20.00  40.000  80.0000   \n",
              "         12     318.0  70.557044  67.855809  20.0  23.60  50.000  90.3150   \n",
              "ultimate 1        4.0  70.000000   0.000000  70.0  70.00  70.000  70.0000   \n",
              "         2        7.0  70.000000   0.000000  70.0  70.00  70.000  70.0000   \n",
              "         3       12.0  74.666667  12.062966  70.0  70.00  70.000  71.7500   \n",
              "         4       21.0  73.000000  10.972693  70.0  70.00  70.000  70.0000   \n",
              "         5       29.0  70.724138   3.899602  70.0  70.00  70.000  70.0000   \n",
              "         6       47.0  71.638298   8.661322  70.0  70.00  70.000  70.0000   \n",
              "         7       59.0  71.898305  10.221166  70.0  70.00  70.000  70.0000   \n",
              "         8       71.0  72.859155  12.442204  70.0  70.00  70.000  70.0000   \n",
              "         9       86.0  72.034884   8.714353  70.0  70.00  70.000  70.0000   \n",
              "         10     106.0  72.311321  13.023322  70.0  70.00  70.000  70.0000   \n",
              "         11     127.0  71.708661   9.729770  70.0  70.00  70.000  70.0000   \n",
              "         12     151.0  73.291391  14.589763  70.0  70.00  70.000  70.0000   \n",
              "\n",
              "                   max  \n",
              "plan     month          \n",
              "surf     1       20.00  \n",
              "         2       70.00  \n",
              "         3      170.00  \n",
              "         4      150.00  \n",
              "         5      231.95  \n",
              "         6      240.00  \n",
              "         7      260.63  \n",
              "         8      380.00  \n",
              "         9      240.78  \n",
              "         10     330.00  \n",
              "         11     290.36  \n",
              "         12     590.37  \n",
              "ultimate 1       70.00  \n",
              "         2       70.00  \n",
              "         3      112.00  \n",
              "         4      119.00  \n",
              "         5       91.00  \n",
              "         6      126.00  \n",
              "         7      126.00  \n",
              "         8      140.00  \n",
              "         9      119.00  \n",
              "         10     182.00  \n",
              "         11     154.00  \n",
              "         12     182.00  "
            ]
          },
          "metadata": {}
        }
      ]
    },
    {
      "cell_type": "code",
      "source": "df_monthly.groupby(['plan','month'])['income'].var(ddof=0)",
      "metadata": {},
      "execution_count": 75,
      "outputs": [
        {
          "execution_count": 75,
          "output_type": "execute_result",
          "data": {
            "text/plain": [
              "plan      month\n",
              "surf      1           0.000000\n",
              "          2         380.689867\n",
              "          3        1446.283359\n",
              "          4        1174.979234\n",
              "          5        1941.987586\n",
              "          6        1968.409778\n",
              "          7        2919.062885\n",
              "          8        3565.349871\n",
              "          9        2248.992170\n",
              "          10       3184.747918\n",
              "          11       2485.368865\n",
              "          12       4589.931589\n",
              "ultimate  1           0.000000\n",
              "          2           0.000000\n",
              "          3         133.388889\n",
              "          4         114.666667\n",
              "          5          14.682521\n",
              "          6          73.422363\n",
              "          7         102.701523\n",
              "          8         152.628050\n",
              "          9          75.056923\n",
              "          10        168.006853\n",
              "          11         93.922996\n",
              "          12        211.451515\n",
              "Name: income, dtype: float64"
            ]
          },
          "metadata": {}
        }
      ]
    },
    {
      "cell_type": "code",
      "source": "#Diagrama de caja para visualizar la distribución del consumo de internet\ndf_monthly.boxplot(column='income',by='plan',figsize=(8,5))\nplt.show()",
      "metadata": {
        "scrolled": true
      },
      "execution_count": 76,
      "outputs": [
        {
          "output_type": "display_data",
          "data": {
            "image/png": "[encoded data removed]",
            "text/plain": [
              "<Figure size 576x360 with 1 Axes>"
            ]
          },
          "metadata": {
            "needs_background": "light"
          }
        }
      ]
    },
    {
      "cell_type": "markdown",
      "source": "Ingresos totales de cada plan",
      "metadata": {}
    },
    {
      "cell_type": "code",
      "source": "print('Ingreso total del 2018 del plan surf:',df_monthly_s['income'].sum())\nprint('Ingreso total del 2018 del plan ultimate:',df_monthly_u['income'].sum())",
      "metadata": {},
      "execution_count": 77,
      "outputs": [
        {
          "name": "stdout",
          "output_type": "stream",
          "text": "Ingreso total del 2018 del plan surf: 95491.18\n\nIngreso total del 2018 del plan ultimate: 52066.0\n"
        }
      ]
    },
    {
      "cell_type": "code",
      "source": "print('usuarios que usaron el plan surf en el 2018:',len(df_monthly_s['user_id'].unique() ) )\nprint('usuarios que usaron el plan ultimate en el 2018:',len(df_monthly_u['user_id'].unique() ) )",
      "metadata": {},
      "execution_count": 78,
      "outputs": [
        {
          "name": "stdout",
          "output_type": "stream",
          "text": "usuarios que usaron el plan surf en el 2018: 333\n\nusuarios que usaron el plan ultimate en el 2018: 157\n"
        }
      ]
    },
    {
      "cell_type": "markdown",
      "source": " ",
      "metadata": {}
    },
    {
      "cell_type": "markdown",
      "source": "## Probar las hipótesis estadísticas.",
      "metadata": {}
    },
    {
      "cell_type": "markdown",
      "source": "A continuación se prueban distintas hipótesis",
      "metadata": {}
    },
    {
      "cell_type": "markdown",
      "source": "### Hipótesis sobre igualdad de medias en los distintos planes\n\nLa primer hipótesis a probar es que el ingreso promedio mensual del plan surf es diferente al del ultimate.\n\n**Hipotesis nula:** el ingreso promedio mensual del plan surf es igual al del ultimate\n\n**Hipotesis alterna:** el ingreso promedio mensual del plan surf es diferente al del ultimate\n\n**Prueba estadística:** Hipótesis sobre la igualdad de las medias de dos poblaciones\n\n**Valor alfa:** 5%",
      "metadata": {}
    },
    {
      "cell_type": "code",
      "source": "alpha = 0.05 \n\n#Prueba de hipótesis 1\nh1 = st.ttest_ind(df_monthly_s['income'], df_monthly_u['income'],equal_var = False)\nprint('p-value: ', h1.pvalue)\n\nif h1.pvalue < alpha:\n    print(\"Se rechaza la hipótesis nula\")\nelse:\n    print(\"No se rechaza la hipótesis nula\") ",
      "metadata": {},
      "execution_count": 82,
      "outputs": [
        {
          "name": "stdout",
          "output_type": "stream",
          "text": "p-value:  3.17039054811355e-15\n\nSe rechaza la hipótesis nula\n"
        }
      ]
    },
    {
      "cell_type": "markdown",
      "source": "Hay una diferencia significativa entre los ingresos mensuales promedio de los planes.",
      "metadata": {}
    },
    {
      "cell_type": "markdown",
      "source": "### Hipótesis sobre igualdad de medias en distintas regiones\n\nLa segunda hipótesis a probar es que el ingreso promedio de los usuarios del área NY-NJ es diferente al de los usuarios de otras regiones.\n\n**Hipotesis nula:** el ingreso promedio de los usuarios del área NY-NJ es igua al de los usuarios de otras regiones.\n\n**Hipotesis alterna:** el ingreso promedio de los usuarios del área NY-NJ es diferente al de los usuarios de otras regiones\n\n**Prueba estadística:** Hipótesis sobre la igualdad de las medias de dos poblaciones\n\n**Valor alfa:** 5%",
      "metadata": {}
    },
    {
      "cell_type": "code",
      "source": "df_monthly_s.query('city == \"New York-Newark-Jersey City, NY-NJ-PA MSA\"')\n\n#Prueba de hipótesis 2\nh2 = st.ttest_ind(df_monthly.query('city == \"New York-Newark-Jersey City, NY-NJ-PA MSA\"')['income'], \n                  df_monthly.query('city != \"New York-Newark-Jersey City, NY-NJ-PA MSA\"')['income'],equal_var = False)\n\nprint('p-value: ', h2.pvalue)\n\nif h2.pvalue < alpha:\n    print(\"Se rechaza la hipótesis nula\")\nelse:\n    print(\"No se rechaza la hipótesis nula\") ",
      "metadata": {},
      "execution_count": 81,
      "outputs": [
        {
          "name": "stdout",
          "output_type": "stream",
          "text": "p-value:  0.03352561588530014\n\nSe rechaza la hipótesis nula\n"
        }
      ]
    },
    {
      "cell_type": "markdown",
      "source": "Hay una diferencia significativa entre los ingresos de los usuarios del área NY-NJ y el resto.",
      "metadata": {}
    },
    {
      "cell_type": "markdown",
      "source": "## Conclusión general\n\nEn las tablas de datos iniciales no hubo valores auentes a excepción de la columna `churn_date` de la tabla de los usuarios; la cuál representa la fecha en que el usuario dejo de usar el servicio. Sin embargo, la ausencia de la fecha se tomo como que el usuario sigue usando el servicio. Asimismo, los análisis hechos no requerian de esta información. \n\nAdicionalmente a esto, a las tablas originales se les hicieron cambios como los redondeos hacia arriba que se hacen al cobrar y se modificaron columnas referentes al internet para que todas estuvieran en unidades de gigas, que es la unidad de cobro. ",
      "metadata": {}
    },
    {
      "cell_type": "markdown",
      "source": " ",
      "metadata": {}
    },
    {
      "cell_type": "markdown",
      "source": "En cuanto a las hipótesis análizadas, los resultados fueron que el ingreso promedio mensual del plan surf es diferente al del ultimate y que el ingreso promedio de los usuarios del área NY-NJ es diferente al de los usuarios de otras regiones.",
      "metadata": {}
    },
    {
      "cell_type": "markdown",
      "source": " ",
      "metadata": {}
    },
    {
      "cell_type": "markdown",
      "source": "En cuanto al propósito de análisis, que es saber cuál de los planes genera más ingresos, se sabe que:\n\n- El ingreso promedio mensual por usuario es\n - 60.71 USD en el plan surf\n - 72.31 USD en el plan ultimate\n\n- Los ingresos totales del 2018 fueron\n - 95491.18 USD del plan surf\n - 52066.00 USD del plan ultimate\n \n- Usuarios en el 2018\n - 333 en el plan surf \n - 157 en el plan ultimate\n\nLos ingresos totales muestran que hubo más ingresos por el plan surf que por el ultimate, pero este ultimo tiene la mitad de usuarios que el primero. Tomando en cuenta que el promedio de ingresos del plan ultimate es mayor a los del plan surf, se sugiere aumentar el presupuesto de publicidad del plan ultimate para atraer más usuarios a este plan y así tener más ingresos anuales con un promedio de ingreso por usuario cercano a 70 USD.",
      "metadata": {}
    }
  ]
}