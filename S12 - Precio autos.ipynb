{
  "metadata": {
    "toc": {
      "base_numbering": 1,
      "nav_menu": {},
      "number_sections": true,
      "sideBar": true,
      "skip_h1_title": true,
      "title_cell": "Table of Contents",
      "title_sidebar": "Contents",
      "toc_cell": false,
      "toc_position": {
        "height": "441px",
        "left": "463px",
        "top": "161.125px",
        "width": "203.992px"
      },
      "toc_section_display": true,
      "toc_window_display": true
    },
    "kernelspec": {
      "name": "python",
      "display_name": "Python (Pyodide)",
      "language": "python"
    },
    "language_info": {
      "codemirror_mode": {
        "name": "ipython",
        "version": 3
      },
      "file_extension": ".py",
      "mimetype": "text/x-python",
      "name": "python",
      "nbconvert_exporter": "python",
      "pygments_lexer": "ipython3",
      "version": "3.9.5"
    }
  },
  "nbformat_minor": 4,
  "nbformat": 4,
  "cells": [
    {
      "cell_type": "markdown",
      "source": "# Modelo predictivo: precio de un auto\n\nEl servicio de venta de autos usados Rusty Bargain está desarrollando una aplicación para atraer nuevos clientes. Esta app sirve para averiguar rápidamente el valor de mercado de un coche al quererlo vender. \n\nSe tiene acceso al historial de datos de Rusty Bargain: especificaciones técnicas, versiones de equipamiento y precios. \n\nHay que crear un modelo que determine el valor de mercado tomando en cuenta los siguientes parámetros:\n- el tiempo requerido para el entrenamiento\n- la velocidad de la predicción\n- la calidad de la predicción",
      "metadata": {}
    },
    {
      "cell_type": "markdown",
      "source": "## Inicialización y preparación de datos\n\n### Importar librerias y vista previa",
      "metadata": {}
    },
    {
      "cell_type": "code",
      "source": "#Importar librerias\nimport pandas as pd \nimport numpy as np \nimport time\n\nimport matplotlib.pyplot as plt\nimport seaborn as sns\n\nfrom sklearn.model_selection import train_test_split, GridSearchCV\nfrom sklearn.metrics import mean_squared_error \nfrom sklearn.preprocessing import MinMaxScaler, OneHotEncoder, StandardScaler\nfrom sklearn.tree import DecisionTreeRegressor\nfrom sklearn.ensemble import RandomForestRegressor\nfrom sklearn.linear_model import LinearRegression, SGDRegressor\n\nfrom catboost import CatBoostRegressor, Pool\nimport lightgbm as ltb \nimport xgboost as xg",
      "metadata": {},
      "execution_count": 1,
      "outputs": []
    },
    {
      "cell_type": "code",
      "source": "#Cargar archivos de datos\ndf = pd.read_csv('/datasets/car_data.csv')\ndf_initial_size = df.shape[0]\n\n#vista previa\ndf.sample(5)",
      "metadata": {},
      "execution_count": 2,
      "outputs": [
        {
          "execution_count": 2,
          "output_type": "execute_result",
          "data": {
            "text/html": [
              "<div>\n",
              "<style scoped>\n",
              "    .dataframe tbody tr th:only-of-type {\n",
              "        vertical-align: middle;\n",
              "    }\n",
              "\n",
              "    .dataframe tbody tr th {\n",
              "        vertical-align: top;\n",
              "    }\n",
              "\n",
              "    .dataframe thead th {\n",
              "        text-align: right;\n",
              "    }\n",
              "</style>\n",
              "<table border=\"1\" class=\"dataframe\">\n",
              "  <thead>\n",
              "    <tr style=\"text-align: right;\">\n",
              "      <th></th>\n",
              "      <th>DateCrawled</th>\n",
              "      <th>Price</th>\n",
              "      <th>VehicleType</th>\n",
              "      <th>RegistrationYear</th>\n",
              "      <th>Gearbox</th>\n",
              "      <th>Power</th>\n",
              "      <th>Model</th>\n",
              "      <th>Mileage</th>\n",
              "      <th>RegistrationMonth</th>\n",
              "      <th>FuelType</th>\n",
              "      <th>Brand</th>\n",
              "      <th>NotRepaired</th>\n",
              "      <th>DateCreated</th>\n",
              "      <th>NumberOfPictures</th>\n",
              "      <th>PostalCode</th>\n",
              "      <th>LastSeen</th>\n",
              "    </tr>\n",
              "  </thead>\n",
              "  <tbody>\n",
              "    <tr>\n",
              "      <th>335581</th>\n",
              "      <td>27/03/2016 23:37</td>\n",
              "      <td>1900</td>\n",
              "      <td>convertible</td>\n",
              "      <td>2001</td>\n",
              "      <td>manual</td>\n",
              "      <td>136</td>\n",
              "      <td>2_reihe</td>\n",
              "      <td>150000</td>\n",
              "      <td>6</td>\n",
              "      <td>petrol</td>\n",
              "      <td>peugeot</td>\n",
              "      <td>no</td>\n",
              "      <td>27/03/2016 00:00</td>\n",
              "      <td>0</td>\n",
              "      <td>63110</td>\n",
              "      <td>06/04/2016 09:16</td>\n",
              "    </tr>\n",
              "    <tr>\n",
              "      <th>65608</th>\n",
              "      <td>09/03/2016 19:53</td>\n",
              "      <td>550</td>\n",
              "      <td>wagon</td>\n",
              "      <td>1998</td>\n",
              "      <td>manual</td>\n",
              "      <td>68</td>\n",
              "      <td>astra</td>\n",
              "      <td>150000</td>\n",
              "      <td>11</td>\n",
              "      <td>gasoline</td>\n",
              "      <td>opel</td>\n",
              "      <td>yes</td>\n",
              "      <td>09/03/2016 00:00</td>\n",
              "      <td>0</td>\n",
              "      <td>24539</td>\n",
              "      <td>05/04/2016 14:18</td>\n",
              "    </tr>\n",
              "    <tr>\n",
              "      <th>346359</th>\n",
              "      <td>02/04/2016 15:51</td>\n",
              "      <td>2500</td>\n",
              "      <td>small</td>\n",
              "      <td>2002</td>\n",
              "      <td>manual</td>\n",
              "      <td>105</td>\n",
              "      <td>a_klasse</td>\n",
              "      <td>150000</td>\n",
              "      <td>2</td>\n",
              "      <td>petrol</td>\n",
              "      <td>mercedes_benz</td>\n",
              "      <td>no</td>\n",
              "      <td>02/04/2016 00:00</td>\n",
              "      <td>0</td>\n",
              "      <td>26802</td>\n",
              "      <td>06/04/2016 14:45</td>\n",
              "    </tr>\n",
              "    <tr>\n",
              "      <th>112365</th>\n",
              "      <td>08/03/2016 14:49</td>\n",
              "      <td>999</td>\n",
              "      <td>wagon</td>\n",
              "      <td>2002</td>\n",
              "      <td>NaN</td>\n",
              "      <td>116</td>\n",
              "      <td>focus</td>\n",
              "      <td>150000</td>\n",
              "      <td>5</td>\n",
              "      <td>gasoline</td>\n",
              "      <td>ford</td>\n",
              "      <td>NaN</td>\n",
              "      <td>08/03/2016 00:00</td>\n",
              "      <td>0</td>\n",
              "      <td>59425</td>\n",
              "      <td>11/03/2016 08:15</td>\n",
              "    </tr>\n",
              "    <tr>\n",
              "      <th>64168</th>\n",
              "      <td>04/04/2016 23:47</td>\n",
              "      <td>4750</td>\n",
              "      <td>convertible</td>\n",
              "      <td>2005</td>\n",
              "      <td>manual</td>\n",
              "      <td>0</td>\n",
              "      <td>megane</td>\n",
              "      <td>50000</td>\n",
              "      <td>3</td>\n",
              "      <td>petrol</td>\n",
              "      <td>renault</td>\n",
              "      <td>no</td>\n",
              "      <td>04/04/2016 00:00</td>\n",
              "      <td>0</td>\n",
              "      <td>94469</td>\n",
              "      <td>07/04/2016 05:16</td>\n",
              "    </tr>\n",
              "  </tbody>\n",
              "</table>\n",
              "</div>"
            ],
            "text/plain": [
              "             DateCrawled  Price  VehicleType  RegistrationYear Gearbox  Power  \\\n",
              "335581  27/03/2016 23:37   1900  convertible              2001  manual    136   \n",
              "65608   09/03/2016 19:53    550        wagon              1998  manual     68   \n",
              "346359  02/04/2016 15:51   2500        small              2002  manual    105   \n",
              "112365  08/03/2016 14:49    999        wagon              2002     NaN    116   \n",
              "64168   04/04/2016 23:47   4750  convertible              2005  manual      0   \n",
              "\n",
              "           Model  Mileage  RegistrationMonth  FuelType          Brand  \\\n",
              "335581   2_reihe   150000                  6    petrol        peugeot   \n",
              "65608      astra   150000                 11  gasoline           opel   \n",
              "346359  a_klasse   150000                  2    petrol  mercedes_benz   \n",
              "112365     focus   150000                  5  gasoline           ford   \n",
              "64168     megane    50000                  3    petrol        renault   \n",
              "\n",
              "       NotRepaired       DateCreated  NumberOfPictures  PostalCode  \\\n",
              "335581          no  27/03/2016 00:00                 0       63110   \n",
              "65608          yes  09/03/2016 00:00                 0       24539   \n",
              "346359          no  02/04/2016 00:00                 0       26802   \n",
              "112365         NaN  08/03/2016 00:00                 0       59425   \n",
              "64168           no  04/04/2016 00:00                 0       94469   \n",
              "\n",
              "                LastSeen  \n",
              "335581  06/04/2016 09:16  \n",
              "65608   05/04/2016 14:18  \n",
              "346359  06/04/2016 14:45  \n",
              "112365  11/03/2016 08:15  \n",
              "64168   07/04/2016 05:16  "
            ]
          },
          "metadata": {}
        }
      ]
    },
    {
      "cell_type": "code",
      "source": "#vista previa\ndf.tail()",
      "metadata": {},
      "execution_count": 3,
      "outputs": [
        {
          "execution_count": 3,
          "output_type": "execute_result",
          "data": {
            "text/html": [
              "<div>\n",
              "<style scoped>\n",
              "    .dataframe tbody tr th:only-of-type {\n",
              "        vertical-align: middle;\n",
              "    }\n",
              "\n",
              "    .dataframe tbody tr th {\n",
              "        vertical-align: top;\n",
              "    }\n",
              "\n",
              "    .dataframe thead th {\n",
              "        text-align: right;\n",
              "    }\n",
              "</style>\n",
              "<table border=\"1\" class=\"dataframe\">\n",
              "  <thead>\n",
              "    <tr style=\"text-align: right;\">\n",
              "      <th></th>\n",
              "      <th>DateCrawled</th>\n",
              "      <th>Price</th>\n",
              "      <th>VehicleType</th>\n",
              "      <th>RegistrationYear</th>\n",
              "      <th>Gearbox</th>\n",
              "      <th>Power</th>\n",
              "      <th>Model</th>\n",
              "      <th>Mileage</th>\n",
              "      <th>RegistrationMonth</th>\n",
              "      <th>FuelType</th>\n",
              "      <th>Brand</th>\n",
              "      <th>NotRepaired</th>\n",
              "      <th>DateCreated</th>\n",
              "      <th>NumberOfPictures</th>\n",
              "      <th>PostalCode</th>\n",
              "      <th>LastSeen</th>\n",
              "    </tr>\n",
              "  </thead>\n",
              "  <tbody>\n",
              "    <tr>\n",
              "      <th>354364</th>\n",
              "      <td>21/03/2016 09:50</td>\n",
              "      <td>0</td>\n",
              "      <td>NaN</td>\n",
              "      <td>2005</td>\n",
              "      <td>manual</td>\n",
              "      <td>0</td>\n",
              "      <td>colt</td>\n",
              "      <td>150000</td>\n",
              "      <td>7</td>\n",
              "      <td>petrol</td>\n",
              "      <td>mitsubishi</td>\n",
              "      <td>yes</td>\n",
              "      <td>21/03/2016 00:00</td>\n",
              "      <td>0</td>\n",
              "      <td>2694</td>\n",
              "      <td>21/03/2016 10:42</td>\n",
              "    </tr>\n",
              "    <tr>\n",
              "      <th>354365</th>\n",
              "      <td>14/03/2016 17:48</td>\n",
              "      <td>2200</td>\n",
              "      <td>NaN</td>\n",
              "      <td>2005</td>\n",
              "      <td>NaN</td>\n",
              "      <td>0</td>\n",
              "      <td>NaN</td>\n",
              "      <td>20000</td>\n",
              "      <td>1</td>\n",
              "      <td>NaN</td>\n",
              "      <td>sonstige_autos</td>\n",
              "      <td>NaN</td>\n",
              "      <td>14/03/2016 00:00</td>\n",
              "      <td>0</td>\n",
              "      <td>39576</td>\n",
              "      <td>06/04/2016 00:46</td>\n",
              "    </tr>\n",
              "    <tr>\n",
              "      <th>354366</th>\n",
              "      <td>05/03/2016 19:56</td>\n",
              "      <td>1199</td>\n",
              "      <td>convertible</td>\n",
              "      <td>2000</td>\n",
              "      <td>auto</td>\n",
              "      <td>101</td>\n",
              "      <td>fortwo</td>\n",
              "      <td>125000</td>\n",
              "      <td>3</td>\n",
              "      <td>petrol</td>\n",
              "      <td>smart</td>\n",
              "      <td>no</td>\n",
              "      <td>05/03/2016 00:00</td>\n",
              "      <td>0</td>\n",
              "      <td>26135</td>\n",
              "      <td>11/03/2016 18:17</td>\n",
              "    </tr>\n",
              "    <tr>\n",
              "      <th>354367</th>\n",
              "      <td>19/03/2016 18:57</td>\n",
              "      <td>9200</td>\n",
              "      <td>bus</td>\n",
              "      <td>1996</td>\n",
              "      <td>manual</td>\n",
              "      <td>102</td>\n",
              "      <td>transporter</td>\n",
              "      <td>150000</td>\n",
              "      <td>3</td>\n",
              "      <td>gasoline</td>\n",
              "      <td>volkswagen</td>\n",
              "      <td>no</td>\n",
              "      <td>19/03/2016 00:00</td>\n",
              "      <td>0</td>\n",
              "      <td>87439</td>\n",
              "      <td>07/04/2016 07:15</td>\n",
              "    </tr>\n",
              "    <tr>\n",
              "      <th>354368</th>\n",
              "      <td>20/03/2016 19:41</td>\n",
              "      <td>3400</td>\n",
              "      <td>wagon</td>\n",
              "      <td>2002</td>\n",
              "      <td>manual</td>\n",
              "      <td>100</td>\n",
              "      <td>golf</td>\n",
              "      <td>150000</td>\n",
              "      <td>6</td>\n",
              "      <td>gasoline</td>\n",
              "      <td>volkswagen</td>\n",
              "      <td>NaN</td>\n",
              "      <td>20/03/2016 00:00</td>\n",
              "      <td>0</td>\n",
              "      <td>40764</td>\n",
              "      <td>24/03/2016 12:45</td>\n",
              "    </tr>\n",
              "  </tbody>\n",
              "</table>\n",
              "</div>"
            ],
            "text/plain": [
              "             DateCrawled  Price  VehicleType  RegistrationYear Gearbox  Power  \\\n",
              "354364  21/03/2016 09:50      0          NaN              2005  manual      0   \n",
              "354365  14/03/2016 17:48   2200          NaN              2005     NaN      0   \n",
              "354366  05/03/2016 19:56   1199  convertible              2000    auto    101   \n",
              "354367  19/03/2016 18:57   9200          bus              1996  manual    102   \n",
              "354368  20/03/2016 19:41   3400        wagon              2002  manual    100   \n",
              "\n",
              "              Model  Mileage  RegistrationMonth  FuelType           Brand  \\\n",
              "354364         colt   150000                  7    petrol      mitsubishi   \n",
              "354365          NaN    20000                  1       NaN  sonstige_autos   \n",
              "354366       fortwo   125000                  3    petrol           smart   \n",
              "354367  transporter   150000                  3  gasoline      volkswagen   \n",
              "354368         golf   150000                  6  gasoline      volkswagen   \n",
              "\n",
              "       NotRepaired       DateCreated  NumberOfPictures  PostalCode  \\\n",
              "354364         yes  21/03/2016 00:00                 0        2694   \n",
              "354365         NaN  14/03/2016 00:00                 0       39576   \n",
              "354366          no  05/03/2016 00:00                 0       26135   \n",
              "354367          no  19/03/2016 00:00                 0       87439   \n",
              "354368         NaN  20/03/2016 00:00                 0       40764   \n",
              "\n",
              "                LastSeen  \n",
              "354364  21/03/2016 10:42  \n",
              "354365  06/04/2016 00:46  \n",
              "354366  11/03/2016 18:17  \n",
              "354367  07/04/2016 07:15  \n",
              "354368  24/03/2016 12:45  "
            ]
          },
          "metadata": {}
        }
      ]
    },
    {
      "cell_type": "code",
      "source": "# información general\ndf.info()",
      "metadata": {},
      "execution_count": 4,
      "outputs": [
        {
          "name": "stdout",
          "output_type": "stream",
          "text": "<class 'pandas.core.frame.DataFrame'>\n\nRangeIndex: 354369 entries, 0 to 354368\n\nData columns (total 16 columns):\n\n #   Column             Non-Null Count   Dtype \n\n---  ------             --------------   ----- \n\n 0   DateCrawled        354369 non-null  object\n\n 1   Price              354369 non-null  int64 \n\n 2   VehicleType        316879 non-null  object\n\n 3   RegistrationYear   354369 non-null  int64 \n\n 4   Gearbox            334536 non-null  object\n\n 5   Power              354369 non-null  int64 \n\n 6   Model              334664 non-null  object\n\n 7   Mileage            354369 non-null  int64 \n\n 8   RegistrationMonth  354369 non-null  int64 \n\n 9   FuelType           321474 non-null  object\n\n 10  Brand              354369 non-null  object\n\n 11  NotRepaired        283215 non-null  object\n\n 12  DateCreated        354369 non-null  object\n\n 13  NumberOfPictures   354369 non-null  int64 \n\n 14  PostalCode         354369 non-null  int64 \n\n 15  LastSeen           354369 non-null  object\n\ndtypes: int64(7), object(9)\n\nmemory usage: 43.3+ MB\n"
        }
      ]
    },
    {
      "cell_type": "code",
      "source": "# descripción general\ndf.describe()",
      "metadata": {},
      "execution_count": 5,
      "outputs": [
        {
          "execution_count": 5,
          "output_type": "execute_result",
          "data": {
            "text/html": [
              "<div>\n",
              "<style scoped>\n",
              "    .dataframe tbody tr th:only-of-type {\n",
              "        vertical-align: middle;\n",
              "    }\n",
              "\n",
              "    .dataframe tbody tr th {\n",
              "        vertical-align: top;\n",
              "    }\n",
              "\n",
              "    .dataframe thead th {\n",
              "        text-align: right;\n",
              "    }\n",
              "</style>\n",
              "<table border=\"1\" class=\"dataframe\">\n",
              "  <thead>\n",
              "    <tr style=\"text-align: right;\">\n",
              "      <th></th>\n",
              "      <th>Price</th>\n",
              "      <th>RegistrationYear</th>\n",
              "      <th>Power</th>\n",
              "      <th>Mileage</th>\n",
              "      <th>RegistrationMonth</th>\n",
              "      <th>NumberOfPictures</th>\n",
              "      <th>PostalCode</th>\n",
              "    </tr>\n",
              "  </thead>\n",
              "  <tbody>\n",
              "    <tr>\n",
              "      <th>count</th>\n",
              "      <td>354369.000000</td>\n",
              "      <td>354369.000000</td>\n",
              "      <td>354369.000000</td>\n",
              "      <td>354369.000000</td>\n",
              "      <td>354369.000000</td>\n",
              "      <td>354369.0</td>\n",
              "      <td>354369.000000</td>\n",
              "    </tr>\n",
              "    <tr>\n",
              "      <th>mean</th>\n",
              "      <td>4416.656776</td>\n",
              "      <td>2004.234448</td>\n",
              "      <td>110.094337</td>\n",
              "      <td>128211.172535</td>\n",
              "      <td>5.714645</td>\n",
              "      <td>0.0</td>\n",
              "      <td>50508.689087</td>\n",
              "    </tr>\n",
              "    <tr>\n",
              "      <th>std</th>\n",
              "      <td>4514.158514</td>\n",
              "      <td>90.227958</td>\n",
              "      <td>189.850405</td>\n",
              "      <td>37905.341530</td>\n",
              "      <td>3.726421</td>\n",
              "      <td>0.0</td>\n",
              "      <td>25783.096248</td>\n",
              "    </tr>\n",
              "    <tr>\n",
              "      <th>min</th>\n",
              "      <td>0.000000</td>\n",
              "      <td>1000.000000</td>\n",
              "      <td>0.000000</td>\n",
              "      <td>5000.000000</td>\n",
              "      <td>0.000000</td>\n",
              "      <td>0.0</td>\n",
              "      <td>1067.000000</td>\n",
              "    </tr>\n",
              "    <tr>\n",
              "      <th>25%</th>\n",
              "      <td>1050.000000</td>\n",
              "      <td>1999.000000</td>\n",
              "      <td>69.000000</td>\n",
              "      <td>125000.000000</td>\n",
              "      <td>3.000000</td>\n",
              "      <td>0.0</td>\n",
              "      <td>30165.000000</td>\n",
              "    </tr>\n",
              "    <tr>\n",
              "      <th>50%</th>\n",
              "      <td>2700.000000</td>\n",
              "      <td>2003.000000</td>\n",
              "      <td>105.000000</td>\n",
              "      <td>150000.000000</td>\n",
              "      <td>6.000000</td>\n",
              "      <td>0.0</td>\n",
              "      <td>49413.000000</td>\n",
              "    </tr>\n",
              "    <tr>\n",
              "      <th>75%</th>\n",
              "      <td>6400.000000</td>\n",
              "      <td>2008.000000</td>\n",
              "      <td>143.000000</td>\n",
              "      <td>150000.000000</td>\n",
              "      <td>9.000000</td>\n",
              "      <td>0.0</td>\n",
              "      <td>71083.000000</td>\n",
              "    </tr>\n",
              "    <tr>\n",
              "      <th>max</th>\n",
              "      <td>20000.000000</td>\n",
              "      <td>9999.000000</td>\n",
              "      <td>20000.000000</td>\n",
              "      <td>150000.000000</td>\n",
              "      <td>12.000000</td>\n",
              "      <td>0.0</td>\n",
              "      <td>99998.000000</td>\n",
              "    </tr>\n",
              "  </tbody>\n",
              "</table>\n",
              "</div>"
            ],
            "text/plain": [
              "               Price  RegistrationYear          Power        Mileage  \\\n",
              "count  354369.000000     354369.000000  354369.000000  354369.000000   \n",
              "mean     4416.656776       2004.234448     110.094337  128211.172535   \n",
              "std      4514.158514         90.227958     189.850405   37905.341530   \n",
              "min         0.000000       1000.000000       0.000000    5000.000000   \n",
              "25%      1050.000000       1999.000000      69.000000  125000.000000   \n",
              "50%      2700.000000       2003.000000     105.000000  150000.000000   \n",
              "75%      6400.000000       2008.000000     143.000000  150000.000000   \n",
              "max     20000.000000       9999.000000   20000.000000  150000.000000   \n",
              "\n",
              "       RegistrationMonth  NumberOfPictures     PostalCode  \n",
              "count      354369.000000          354369.0  354369.000000  \n",
              "mean            5.714645               0.0   50508.689087  \n",
              "std             3.726421               0.0   25783.096248  \n",
              "min             0.000000               0.0    1067.000000  \n",
              "25%             3.000000               0.0   30165.000000  \n",
              "50%             6.000000               0.0   49413.000000  \n",
              "75%             9.000000               0.0   71083.000000  \n",
              "max            12.000000               0.0   99998.000000  "
            ]
          },
          "metadata": {}
        }
      ]
    },
    {
      "cell_type": "markdown",
      "source": "Descripción de los datos\n- `DateCrawled` - fecha en la que se descargó el perfil de la base de datos\n- `Price` - precio al que se vende el vehículo\n- `VehicleType` - tipo de carrocería del vehículo\n- `RegistrationYear` - año de matriculación del vehículo\n- `Gearbox` - tipo de caja de cambios\n- `Power` - potencia en CV (caballos de vapor)\n- `Model` - modelo del vehículo\n- `Mileage` - kilometraje (medido en km de acuerdo con las especificidades regionales del conjunto de datos)\n- `RegistrationMonth` - mes de matriculación del vehículo\n- `FuelType` - tipo de combustible\n- `Brand` - marca del vehículo\n- `NotRepaired` - vehículo con o sin reparación\n- `DateCreated` - fecha de creación del perfil\n- `NumberOfPictures` - número de fotos del vehículo\n- `PostalCode` - código postal del propietario del perfil (usuario)\n- `LastSeen` - fecha de la última vez que el usuario estuvo activo",
      "metadata": {}
    },
    {
      "cell_type": "code",
      "source": "#valores ausentes por columna \ndf.isna().sum()",
      "metadata": {},
      "execution_count": 6,
      "outputs": [
        {
          "execution_count": 6,
          "output_type": "execute_result",
          "data": {
            "text/plain": [
              "DateCrawled              0\n",
              "Price                    0\n",
              "VehicleType          37490\n",
              "RegistrationYear         0\n",
              "Gearbox              19833\n",
              "Power                    0\n",
              "Model                19705\n",
              "Mileage                  0\n",
              "RegistrationMonth        0\n",
              "FuelType             32895\n",
              "Brand                    0\n",
              "NotRepaired          71154\n",
              "DateCreated              0\n",
              "NumberOfPictures         0\n",
              "PostalCode               0\n",
              "LastSeen                 0\n",
              "dtype: int64"
            ]
          },
          "metadata": {}
        }
      ]
    },
    {
      "cell_type": "code",
      "source": "#porcentaje de valores ausentes por columna \ndf.isna().sum()/df.shape[0]*100",
      "metadata": {},
      "execution_count": 7,
      "outputs": [
        {
          "execution_count": 7,
          "output_type": "execute_result",
          "data": {
            "text/plain": [
              "DateCrawled           0.000000\n",
              "Price                 0.000000\n",
              "VehicleType          10.579368\n",
              "RegistrationYear      0.000000\n",
              "Gearbox               5.596709\n",
              "Power                 0.000000\n",
              "Model                 5.560588\n",
              "Mileage               0.000000\n",
              "RegistrationMonth     0.000000\n",
              "FuelType              9.282697\n",
              "Brand                 0.000000\n",
              "NotRepaired          20.079070\n",
              "DateCreated           0.000000\n",
              "NumberOfPictures      0.000000\n",
              "PostalCode            0.000000\n",
              "LastSeen              0.000000\n",
              "dtype: float64"
            ]
          },
          "metadata": {}
        }
      ]
    },
    {
      "cell_type": "markdown",
      "source": "Al analizar la información del conjunto de datos se sabe que:\n- Las columnas `DateCrawled`, `DateCreated` y `LastSeen` deberían ser tipo datetime pero no son relevantes para el modelo. \n- Hay valores ausentes en las columnas `VehicleType`, `Gearbox`, `Model`, `FuelType` y `NotRepaired`\n- Las columnas `Price`, `Power` y `RegistrationMonth` tienen celdas con valores en 0, valor anormal.\n- La columna `RegistrationYear`tiene años muy antiguos y algunos sin ocurrir al momento del análisis.\n- La columna `NumberOfPictures` tiene todas sus celdas en 0.\n\n\n### Preprocesamiento de datos \n\n#### Cambiar tipo de dato de columnas",
      "metadata": {}
    },
    {
      "cell_type": "code",
      "source": "#vista previa de columnas con fechas\ndf.loc[:,['DateCrawled', 'DateCreated', 'LastSeen','RegistrationYear']].head()",
      "metadata": {},
      "execution_count": 8,
      "outputs": [
        {
          "execution_count": 8,
          "output_type": "execute_result",
          "data": {
            "text/html": [
              "<div>\n",
              "<style scoped>\n",
              "    .dataframe tbody tr th:only-of-type {\n",
              "        vertical-align: middle;\n",
              "    }\n",
              "\n",
              "    .dataframe tbody tr th {\n",
              "        vertical-align: top;\n",
              "    }\n",
              "\n",
              "    .dataframe thead th {\n",
              "        text-align: right;\n",
              "    }\n",
              "</style>\n",
              "<table border=\"1\" class=\"dataframe\">\n",
              "  <thead>\n",
              "    <tr style=\"text-align: right;\">\n",
              "      <th></th>\n",
              "      <th>DateCrawled</th>\n",
              "      <th>DateCreated</th>\n",
              "      <th>LastSeen</th>\n",
              "      <th>RegistrationYear</th>\n",
              "    </tr>\n",
              "  </thead>\n",
              "  <tbody>\n",
              "    <tr>\n",
              "      <th>0</th>\n",
              "      <td>24/03/2016 11:52</td>\n",
              "      <td>24/03/2016 00:00</td>\n",
              "      <td>07/04/2016 03:16</td>\n",
              "      <td>1993</td>\n",
              "    </tr>\n",
              "    <tr>\n",
              "      <th>1</th>\n",
              "      <td>24/03/2016 10:58</td>\n",
              "      <td>24/03/2016 00:00</td>\n",
              "      <td>07/04/2016 01:46</td>\n",
              "      <td>2011</td>\n",
              "    </tr>\n",
              "    <tr>\n",
              "      <th>2</th>\n",
              "      <td>14/03/2016 12:52</td>\n",
              "      <td>14/03/2016 00:00</td>\n",
              "      <td>05/04/2016 12:47</td>\n",
              "      <td>2004</td>\n",
              "    </tr>\n",
              "    <tr>\n",
              "      <th>3</th>\n",
              "      <td>17/03/2016 16:54</td>\n",
              "      <td>17/03/2016 00:00</td>\n",
              "      <td>17/03/2016 17:40</td>\n",
              "      <td>2001</td>\n",
              "    </tr>\n",
              "    <tr>\n",
              "      <th>4</th>\n",
              "      <td>31/03/2016 17:25</td>\n",
              "      <td>31/03/2016 00:00</td>\n",
              "      <td>06/04/2016 10:17</td>\n",
              "      <td>2008</td>\n",
              "    </tr>\n",
              "  </tbody>\n",
              "</table>\n",
              "</div>"
            ],
            "text/plain": [
              "        DateCrawled       DateCreated          LastSeen  RegistrationYear\n",
              "0  24/03/2016 11:52  24/03/2016 00:00  07/04/2016 03:16              1993\n",
              "1  24/03/2016 10:58  24/03/2016 00:00  07/04/2016 01:46              2011\n",
              "2  14/03/2016 12:52  14/03/2016 00:00  05/04/2016 12:47              2004\n",
              "3  17/03/2016 16:54  17/03/2016 00:00  17/03/2016 17:40              2001\n",
              "4  31/03/2016 17:25  31/03/2016 00:00  06/04/2016 10:17              2008"
            ]
          },
          "metadata": {}
        }
      ]
    },
    {
      "cell_type": "code",
      "source": "#convertir columnas a tipo fecha\nfor col in ['DateCrawled', 'DateCreated', 'LastSeen']:\n    df[col] = pd.to_datetime(df[col],  infer_datetime_format=True)",
      "metadata": {},
      "execution_count": 9,
      "outputs": []
    },
    {
      "cell_type": "code",
      "source": "#tomar solo los años de cada columna\nfor col in ['DateCrawled', 'DateCreated', 'LastSeen']:\n    df[col] = pd.DatetimeIndex(df[col]).year \n\ndf.head()",
      "metadata": {},
      "execution_count": 10,
      "outputs": [
        {
          "execution_count": 10,
          "output_type": "execute_result",
          "data": {
            "text/html": [
              "<div>\n",
              "<style scoped>\n",
              "    .dataframe tbody tr th:only-of-type {\n",
              "        vertical-align: middle;\n",
              "    }\n",
              "\n",
              "    .dataframe tbody tr th {\n",
              "        vertical-align: top;\n",
              "    }\n",
              "\n",
              "    .dataframe thead th {\n",
              "        text-align: right;\n",
              "    }\n",
              "</style>\n",
              "<table border=\"1\" class=\"dataframe\">\n",
              "  <thead>\n",
              "    <tr style=\"text-align: right;\">\n",
              "      <th></th>\n",
              "      <th>DateCrawled</th>\n",
              "      <th>Price</th>\n",
              "      <th>VehicleType</th>\n",
              "      <th>RegistrationYear</th>\n",
              "      <th>Gearbox</th>\n",
              "      <th>Power</th>\n",
              "      <th>Model</th>\n",
              "      <th>Mileage</th>\n",
              "      <th>RegistrationMonth</th>\n",
              "      <th>FuelType</th>\n",
              "      <th>Brand</th>\n",
              "      <th>NotRepaired</th>\n",
              "      <th>DateCreated</th>\n",
              "      <th>NumberOfPictures</th>\n",
              "      <th>PostalCode</th>\n",
              "      <th>LastSeen</th>\n",
              "    </tr>\n",
              "  </thead>\n",
              "  <tbody>\n",
              "    <tr>\n",
              "      <th>0</th>\n",
              "      <td>2016</td>\n",
              "      <td>480</td>\n",
              "      <td>NaN</td>\n",
              "      <td>1993</td>\n",
              "      <td>manual</td>\n",
              "      <td>0</td>\n",
              "      <td>golf</td>\n",
              "      <td>150000</td>\n",
              "      <td>0</td>\n",
              "      <td>petrol</td>\n",
              "      <td>volkswagen</td>\n",
              "      <td>NaN</td>\n",
              "      <td>2016</td>\n",
              "      <td>0</td>\n",
              "      <td>70435</td>\n",
              "      <td>2016</td>\n",
              "    </tr>\n",
              "    <tr>\n",
              "      <th>1</th>\n",
              "      <td>2016</td>\n",
              "      <td>18300</td>\n",
              "      <td>coupe</td>\n",
              "      <td>2011</td>\n",
              "      <td>manual</td>\n",
              "      <td>190</td>\n",
              "      <td>NaN</td>\n",
              "      <td>125000</td>\n",
              "      <td>5</td>\n",
              "      <td>gasoline</td>\n",
              "      <td>audi</td>\n",
              "      <td>yes</td>\n",
              "      <td>2016</td>\n",
              "      <td>0</td>\n",
              "      <td>66954</td>\n",
              "      <td>2016</td>\n",
              "    </tr>\n",
              "    <tr>\n",
              "      <th>2</th>\n",
              "      <td>2016</td>\n",
              "      <td>9800</td>\n",
              "      <td>suv</td>\n",
              "      <td>2004</td>\n",
              "      <td>auto</td>\n",
              "      <td>163</td>\n",
              "      <td>grand</td>\n",
              "      <td>125000</td>\n",
              "      <td>8</td>\n",
              "      <td>gasoline</td>\n",
              "      <td>jeep</td>\n",
              "      <td>NaN</td>\n",
              "      <td>2016</td>\n",
              "      <td>0</td>\n",
              "      <td>90480</td>\n",
              "      <td>2016</td>\n",
              "    </tr>\n",
              "    <tr>\n",
              "      <th>3</th>\n",
              "      <td>2016</td>\n",
              "      <td>1500</td>\n",
              "      <td>small</td>\n",
              "      <td>2001</td>\n",
              "      <td>manual</td>\n",
              "      <td>75</td>\n",
              "      <td>golf</td>\n",
              "      <td>150000</td>\n",
              "      <td>6</td>\n",
              "      <td>petrol</td>\n",
              "      <td>volkswagen</td>\n",
              "      <td>no</td>\n",
              "      <td>2016</td>\n",
              "      <td>0</td>\n",
              "      <td>91074</td>\n",
              "      <td>2016</td>\n",
              "    </tr>\n",
              "    <tr>\n",
              "      <th>4</th>\n",
              "      <td>2016</td>\n",
              "      <td>3600</td>\n",
              "      <td>small</td>\n",
              "      <td>2008</td>\n",
              "      <td>manual</td>\n",
              "      <td>69</td>\n",
              "      <td>fabia</td>\n",
              "      <td>90000</td>\n",
              "      <td>7</td>\n",
              "      <td>gasoline</td>\n",
              "      <td>skoda</td>\n",
              "      <td>no</td>\n",
              "      <td>2016</td>\n",
              "      <td>0</td>\n",
              "      <td>60437</td>\n",
              "      <td>2016</td>\n",
              "    </tr>\n",
              "  </tbody>\n",
              "</table>\n",
              "</div>"
            ],
            "text/plain": [
              "   DateCrawled  Price VehicleType  RegistrationYear Gearbox  Power  Model  \\\n",
              "0         2016    480         NaN              1993  manual      0   golf   \n",
              "1         2016  18300       coupe              2011  manual    190    NaN   \n",
              "2         2016   9800         suv              2004    auto    163  grand   \n",
              "3         2016   1500       small              2001  manual     75   golf   \n",
              "4         2016   3600       small              2008  manual     69  fabia   \n",
              "\n",
              "   Mileage  RegistrationMonth  FuelType       Brand NotRepaired  DateCreated  \\\n",
              "0   150000                  0    petrol  volkswagen         NaN         2016   \n",
              "1   125000                  5  gasoline        audi         yes         2016   \n",
              "2   125000                  8  gasoline        jeep         NaN         2016   \n",
              "3   150000                  6    petrol  volkswagen          no         2016   \n",
              "4    90000                  7  gasoline       skoda          no         2016   \n",
              "\n",
              "   NumberOfPictures  PostalCode  LastSeen  \n",
              "0                 0       70435      2016  \n",
              "1                 0       66954      2016  \n",
              "2                 0       90480      2016  \n",
              "3                 0       91074      2016  \n",
              "4                 0       60437      2016  "
            ]
          },
          "metadata": {}
        }
      ]
    },
    {
      "cell_type": "markdown",
      "source": "#### Eliminar columna vacia\n\nSe eliminan la columna `NumberOfPictures` ya que tiene todas sus celdas en 0.",
      "metadata": {}
    },
    {
      "cell_type": "code",
      "source": "#eliminar columna\ndf = df.drop('NumberOfPictures',axis=1)",
      "metadata": {},
      "execution_count": 11,
      "outputs": []
    },
    {
      "cell_type": "markdown",
      "source": "#### valores ausentes\n\nSe eliminan los renglones con valores ausentes en las columnas `Gearbox` y `Model` pues tienen un porcentaje de ausentes bajo.",
      "metadata": {}
    },
    {
      "cell_type": "code",
      "source": "#eliminar renglones de  columnas Gearbox y Model\ndf = df.dropna(subset=['Gearbox','Model'])",
      "metadata": {},
      "execution_count": 12,
      "outputs": []
    },
    {
      "cell_type": "markdown",
      "source": "Observar nuevamente el porcentaje de valores ausentes.",
      "metadata": {}
    },
    {
      "cell_type": "code",
      "source": "#porcentaje de valores ausentes por columna \ndf.isna().sum()/df.shape[0]*100",
      "metadata": {},
      "execution_count": 13,
      "outputs": [
        {
          "execution_count": 13,
          "output_type": "execute_result",
          "data": {
            "text/plain": [
              "DateCrawled           0.000000\n",
              "Price                 0.000000\n",
              "VehicleType           7.431606\n",
              "RegistrationYear      0.000000\n",
              "Gearbox               0.000000\n",
              "Power                 0.000000\n",
              "Model                 0.000000\n",
              "Mileage               0.000000\n",
              "RegistrationMonth     0.000000\n",
              "FuelType              6.186944\n",
              "Brand                 0.000000\n",
              "NotRepaired          16.529555\n",
              "DateCreated           0.000000\n",
              "PostalCode            0.000000\n",
              "LastSeen              0.000000\n",
              "dtype: float64"
            ]
          },
          "metadata": {}
        }
      ]
    },
    {
      "cell_type": "markdown",
      "source": "**Valores ausentes - columna `VehicleType`**\n\nSe analiza la columna para elegir el mejor valor para sustituir los valores ausentes.",
      "metadata": {}
    },
    {
      "cell_type": "code",
      "source": "#Vista previa donde VehicleType tiene valores ausentes\ndf[df['VehicleType'].isna()].head()",
      "metadata": {},
      "execution_count": 14,
      "outputs": [
        {
          "execution_count": 14,
          "output_type": "execute_result",
          "data": {
            "text/html": [
              "<div>\n",
              "<style scoped>\n",
              "    .dataframe tbody tr th:only-of-type {\n",
              "        vertical-align: middle;\n",
              "    }\n",
              "\n",
              "    .dataframe tbody tr th {\n",
              "        vertical-align: top;\n",
              "    }\n",
              "\n",
              "    .dataframe thead th {\n",
              "        text-align: right;\n",
              "    }\n",
              "</style>\n",
              "<table border=\"1\" class=\"dataframe\">\n",
              "  <thead>\n",
              "    <tr style=\"text-align: right;\">\n",
              "      <th></th>\n",
              "      <th>DateCrawled</th>\n",
              "      <th>Price</th>\n",
              "      <th>VehicleType</th>\n",
              "      <th>RegistrationYear</th>\n",
              "      <th>Gearbox</th>\n",
              "      <th>Power</th>\n",
              "      <th>Model</th>\n",
              "      <th>Mileage</th>\n",
              "      <th>RegistrationMonth</th>\n",
              "      <th>FuelType</th>\n",
              "      <th>Brand</th>\n",
              "      <th>NotRepaired</th>\n",
              "      <th>DateCreated</th>\n",
              "      <th>PostalCode</th>\n",
              "      <th>LastSeen</th>\n",
              "    </tr>\n",
              "  </thead>\n",
              "  <tbody>\n",
              "    <tr>\n",
              "      <th>0</th>\n",
              "      <td>2016</td>\n",
              "      <td>480</td>\n",
              "      <td>NaN</td>\n",
              "      <td>1993</td>\n",
              "      <td>manual</td>\n",
              "      <td>0</td>\n",
              "      <td>golf</td>\n",
              "      <td>150000</td>\n",
              "      <td>0</td>\n",
              "      <td>petrol</td>\n",
              "      <td>volkswagen</td>\n",
              "      <td>NaN</td>\n",
              "      <td>2016</td>\n",
              "      <td>70435</td>\n",
              "      <td>2016</td>\n",
              "    </tr>\n",
              "    <tr>\n",
              "      <th>22</th>\n",
              "      <td>2016</td>\n",
              "      <td>2900</td>\n",
              "      <td>NaN</td>\n",
              "      <td>2018</td>\n",
              "      <td>manual</td>\n",
              "      <td>90</td>\n",
              "      <td>meriva</td>\n",
              "      <td>150000</td>\n",
              "      <td>5</td>\n",
              "      <td>petrol</td>\n",
              "      <td>opel</td>\n",
              "      <td>no</td>\n",
              "      <td>2016</td>\n",
              "      <td>49716</td>\n",
              "      <td>2016</td>\n",
              "    </tr>\n",
              "    <tr>\n",
              "      <th>26</th>\n",
              "      <td>2016</td>\n",
              "      <td>5555</td>\n",
              "      <td>NaN</td>\n",
              "      <td>2017</td>\n",
              "      <td>manual</td>\n",
              "      <td>125</td>\n",
              "      <td>c4</td>\n",
              "      <td>125000</td>\n",
              "      <td>4</td>\n",
              "      <td>NaN</td>\n",
              "      <td>citroen</td>\n",
              "      <td>no</td>\n",
              "      <td>2016</td>\n",
              "      <td>31139</td>\n",
              "      <td>2016</td>\n",
              "    </tr>\n",
              "    <tr>\n",
              "      <th>31</th>\n",
              "      <td>2016</td>\n",
              "      <td>899</td>\n",
              "      <td>NaN</td>\n",
              "      <td>2016</td>\n",
              "      <td>manual</td>\n",
              "      <td>60</td>\n",
              "      <td>clio</td>\n",
              "      <td>150000</td>\n",
              "      <td>6</td>\n",
              "      <td>petrol</td>\n",
              "      <td>renault</td>\n",
              "      <td>NaN</td>\n",
              "      <td>2016</td>\n",
              "      <td>37075</td>\n",
              "      <td>2016</td>\n",
              "    </tr>\n",
              "    <tr>\n",
              "      <th>35</th>\n",
              "      <td>2016</td>\n",
              "      <td>350</td>\n",
              "      <td>NaN</td>\n",
              "      <td>2016</td>\n",
              "      <td>manual</td>\n",
              "      <td>75</td>\n",
              "      <td>golf</td>\n",
              "      <td>150000</td>\n",
              "      <td>4</td>\n",
              "      <td>petrol</td>\n",
              "      <td>volkswagen</td>\n",
              "      <td>no</td>\n",
              "      <td>2016</td>\n",
              "      <td>19386</td>\n",
              "      <td>2016</td>\n",
              "    </tr>\n",
              "  </tbody>\n",
              "</table>\n",
              "</div>"
            ],
            "text/plain": [
              "    DateCrawled  Price VehicleType  RegistrationYear Gearbox  Power   Model  \\\n",
              "0          2016    480         NaN              1993  manual      0    golf   \n",
              "22         2016   2900         NaN              2018  manual     90  meriva   \n",
              "26         2016   5555         NaN              2017  manual    125      c4   \n",
              "31         2016    899         NaN              2016  manual     60    clio   \n",
              "35         2016    350         NaN              2016  manual     75    golf   \n",
              "\n",
              "    Mileage  RegistrationMonth FuelType       Brand NotRepaired  DateCreated  \\\n",
              "0    150000                  0   petrol  volkswagen         NaN         2016   \n",
              "22   150000                  5   petrol        opel          no         2016   \n",
              "26   125000                  4      NaN     citroen          no         2016   \n",
              "31   150000                  6   petrol     renault         NaN         2016   \n",
              "35   150000                  4   petrol  volkswagen          no         2016   \n",
              "\n",
              "    PostalCode  LastSeen  \n",
              "0        70435      2016  \n",
              "22       49716      2016  \n",
              "26       31139      2016  \n",
              "31       37075      2016  \n",
              "35       19386      2016  "
            ]
          },
          "metadata": {}
        }
      ]
    },
    {
      "cell_type": "code",
      "source": "#tipos de vehiculo\ndf['VehicleType'].sort_values().unique()",
      "metadata": {
        "scrolled": true
      },
      "execution_count": 15,
      "outputs": [
        {
          "execution_count": 15,
          "output_type": "execute_result",
          "data": {
            "text/plain": [
              "array(['bus', 'convertible', 'coupe', 'other', 'sedan', 'small', 'suv',\n",
              "       'wagon', nan], dtype=object)"
            ]
          },
          "metadata": {}
        }
      ]
    },
    {
      "cell_type": "code",
      "source": "#cantidad de vehiculos por tipo\ndf['VehicleType'].sort_values().value_counts()",
      "metadata": {
        "scrolled": true
      },
      "execution_count": 16,
      "outputs": [
        {
          "execution_count": 16,
          "output_type": "execute_result",
          "data": {
            "text/plain": [
              "sedan          85937\n",
              "small          73614\n",
              "wagon          61436\n",
              "bus            27081\n",
              "convertible    18722\n",
              "coupe          14851\n",
              "suv            10959\n",
              "other           2658\n",
              "Name: VehicleType, dtype: int64"
            ]
          },
          "metadata": {}
        }
      ]
    },
    {
      "cell_type": "code",
      "source": "#top 11 modelos de los vehiculos que se desconoce el tipo\ndf[df['VehicleType'].isna()]['Model'].value_counts().head(11)",
      "metadata": {},
      "execution_count": 17,
      "outputs": [
        {
          "execution_count": 17,
          "output_type": "execute_result",
          "data": {
            "text/plain": [
              "golf        3266\n",
              "other       1213\n",
              "polo        1182\n",
              "corsa       1162\n",
              "3er         1048\n",
              "astra        966\n",
              "a3           675\n",
              "passat       537\n",
              "twingo       477\n",
              "a_klasse     467\n",
              "fiesta       465\n",
              "Name: Model, dtype: int64"
            ]
          },
          "metadata": {}
        }
      ]
    },
    {
      "cell_type": "code",
      "source": "#buscar moda de cada modelo\nmodel_mode = df.groupby('Model')['VehicleType'].agg(pd.Series.mode)",
      "metadata": {
        "scrolled": true
      },
      "execution_count": 18,
      "outputs": []
    },
    {
      "cell_type": "code",
      "source": "#buscar valor modal para los primeros 10 tipos de vehiculos que aparecen en el df y que tienen valores ausentes\nfor vtype in ['golf', 'polo', 'corsa', '3er', 'astra','a3','passat','twingo','a_klasse','fiesta']:\n    print (vtype,':',model_mode[vtype])",
      "metadata": {},
      "execution_count": 19,
      "outputs": [
        {
          "name": "stdout",
          "output_type": "stream",
          "text": "golf : sedan\n\npolo : small\n\ncorsa : small\n\n3er : sedan\n\nastra : sedan\n\na3 : sedan\n\npassat : wagon\n\ntwingo : small\n\na_klasse : sedan\n\nfiesta : small\n"
        }
      ]
    },
    {
      "cell_type": "code",
      "source": "#asignar valores modales\ndf['VehicleType'] = np.where(\n    (df['VehicleType'].isna()==True) & (df['Model'].isin(['golf','3er','astra','a3','a_klasse'])),'sedan',\n    np.where((df['VehicleType'].isna()==True) & (df['Model'].isin(['polo','corsa','twingo'])),'small',\n    np.where((df['VehicleType'].isna()==True) & (df['Model'] == 'passat')                    ,'wagon','other')))\n\n#verificar cambios\ndf[df['VehicleType'].isna()].value_counts()",
      "metadata": {},
      "execution_count": 20,
      "outputs": [
        {
          "execution_count": 20,
          "output_type": "execute_result",
          "data": {
            "text/plain": [
              "Series([], dtype: int64)"
            ]
          },
          "metadata": {}
        }
      ]
    },
    {
      "cell_type": "markdown",
      "source": "**Valores ausentes - columna `FuelType`**\n\nSe analiza la columna para elegir el mejor valor para sustituir los valores ausentes.",
      "metadata": {}
    },
    {
      "cell_type": "code",
      "source": "#cantidad de vehiculos por cada tipo de combustible\ndf['FuelType'].value_counts()",
      "metadata": {},
      "execution_count": 21,
      "outputs": [
        {
          "execution_count": 21,
          "output_type": "execute_result",
          "data": {
            "text/plain": [
              "petrol      200925\n",
              "gasoline     92547\n",
              "lpg           4854\n",
              "cng            531\n",
              "hybrid         203\n",
              "other          108\n",
              "electric        60\n",
              "Name: FuelType, dtype: int64"
            ]
          },
          "metadata": {}
        }
      ]
    },
    {
      "cell_type": "markdown",
      "source": "Dado que el tipo de gasolina es un dato que influye altamente en el costo de un vehiculo, se opta por llenar los valores ausentes con el valor `unknown` (desconocido).",
      "metadata": {}
    },
    {
      "cell_type": "code",
      "source": "#llenar valores ausentes en FuelType\ndf['FuelType'] = df['FuelType'].fillna('unknown')",
      "metadata": {},
      "execution_count": 22,
      "outputs": []
    },
    {
      "cell_type": "markdown",
      "source": "**Valores ausentes - columna `NotRepaired`**\n\nSe analiza la columna para elegir el mejor valor para sustituir los valores ausentes.",
      "metadata": {}
    },
    {
      "cell_type": "code",
      "source": "#cantidad de vehiculos con y sin reparaciones\ndf['NotRepaired'].value_counts()",
      "metadata": {
        "scrolled": true
      },
      "execution_count": 23,
      "outputs": [
        {
          "execution_count": 23,
          "output_type": "execute_result",
          "data": {
            "text/plain": [
              "no     233822\n",
              "yes     32417\n",
              "Name: NotRepaired, dtype: int64"
            ]
          },
          "metadata": {}
        }
      ]
    },
    {
      "cell_type": "code",
      "source": "#llenar valores ausentes en columna NotRepaired\ndf['NotRepaired'] = df['NotRepaired'].fillna('no')",
      "metadata": {},
      "execution_count": 24,
      "outputs": []
    },
    {
      "cell_type": "markdown",
      "source": "La mayoría de los vehiculos no han sido reparados, se asume este como valor representativo.",
      "metadata": {}
    },
    {
      "cell_type": "code",
      "source": "#verificar cambios\ndf.info()",
      "metadata": {
        "scrolled": true
      },
      "execution_count": 25,
      "outputs": [
        {
          "name": "stdout",
          "output_type": "stream",
          "text": "<class 'pandas.core.frame.DataFrame'>\n\nInt64Index: 318962 entries, 0 to 354368\n\nData columns (total 15 columns):\n\n #   Column             Non-Null Count   Dtype \n\n---  ------             --------------   ----- \n\n 0   DateCrawled        318962 non-null  int64 \n\n 1   Price              318962 non-null  int64 \n\n 2   VehicleType        318962 non-null  object\n\n 3   RegistrationYear   318962 non-null  int64 \n\n 4   Gearbox            318962 non-null  object\n\n 5   Power              318962 non-null  int64 \n\n 6   Model              318962 non-null  object\n\n 7   Mileage            318962 non-null  int64 \n\n 8   RegistrationMonth  318962 non-null  int64 \n\n 9   FuelType           318962 non-null  object\n\n 10  Brand              318962 non-null  object\n\n 11  NotRepaired        318962 non-null  object\n\n 12  DateCreated        318962 non-null  int64 \n\n 13  PostalCode         318962 non-null  int64 \n\n 14  LastSeen           318962 non-null  int64 \n\ndtypes: int64(9), object(6)\n\nmemory usage: 38.9+ MB\n"
        }
      ]
    },
    {
      "cell_type": "code",
      "source": "print('Se eliminó el',round((df_initial_size-df.shape[0]) /df_initial_size*100,2),'% de los datos')",
      "metadata": {},
      "execution_count": 26,
      "outputs": [
        {
          "name": "stdout",
          "output_type": "stream",
          "text": "Se eliminó el 9.99 % de los datos\n"
        }
      ]
    },
    {
      "cell_type": "markdown",
      "source": "#### Analizar columnas categóricas\n\nSe analizan las características categorícas en busca de valores anormales.\nSe continua con las columnas que no se han analizado previamente. ",
      "metadata": {}
    },
    {
      "cell_type": "code",
      "source": "for col in ['RegistrationYear','Gearbox','Model','Brand']:\n    print('\\n',col)\n    print(df[col].sort_values().unique())",
      "metadata": {
        "scrolled": true
      },
      "execution_count": 27,
      "outputs": [
        {
          "name": "stdout",
          "output_type": "stream",
          "text": "\n\n RegistrationYear\n\n[1000 1200 1400 1500 1600 1602 1910 1919 1923 1927 1928 1929 1930 1931\n\n 1932 1933 1934 1935 1936 1937 1938 1942 1943 1945 1947 1950 1951 1952\n\n 1953 1954 1955 1956 1957 1958 1959 1960 1961 1962 1963 1964 1965 1966\n\n 1967 1968 1969 1970 1971 1972 1973 1974 1975 1976 1977 1978 1979 1980\n\n 1981 1982 1983 1984 1985 1986 1987 1988 1989 1990 1991 1992 1993 1994\n\n 1995 1996 1997 1998 1999 2000 2001 2002 2003 2004 2005 2006 2007 2008\n\n 2009 2010 2011 2012 2013 2014 2015 2016 2017 2018 2019 2900 3000 3700\n\n 4000 4500 5000 5911 6000 6500 7100 7500 8200 9000]\n\n\n\n Gearbox\n\n['auto' 'manual']\n\n\n\n Model\n\n['100' '145' '147' '156' '159' '1_reihe' '1er' '200' '2_reihe' '300c'\n\n '3_reihe' '3er' '4_reihe' '500' '5_reihe' '5er' '601' '6_reihe' '6er'\n\n '7er' '80' '850' '90' '900' '9000' '911' 'a1' 'a2' 'a3' 'a4' 'a5' 'a6'\n\n 'a8' 'a_klasse' 'accord' 'agila' 'alhambra' 'almera' 'altea' 'amarok'\n\n 'antara' 'arosa' 'astra' 'auris' 'avensis' 'aveo' 'aygo' 'b_klasse'\n\n 'b_max' 'beetle' 'berlingo' 'bora' 'boxster' 'bravo' 'c1' 'c2' 'c3' 'c4'\n\n 'c5' 'c_klasse' 'c_max' 'c_reihe' 'caddy' 'calibra' 'captiva' 'carisma'\n\n 'carnival' 'cayenne' 'cc' 'ceed' 'charade' 'cherokee' 'citigo' 'civic'\n\n 'cl' 'clio' 'clk' 'clubman' 'colt' 'combo' 'cooper' 'cordoba' 'corolla'\n\n 'corsa' 'cr_reihe' 'croma' 'crossfire' 'cuore' 'cx_reihe' 'defender'\n\n 'delta' 'discovery' 'doblo' 'ducato' 'duster' 'e_klasse' 'elefantino'\n\n 'eos' 'escort' 'espace' 'exeo' 'fabia' 'fiesta' 'focus' 'forester'\n\n 'forfour' 'fortwo' 'fox' 'freelander' 'fusion' 'g_klasse' 'galant'\n\n 'galaxy' 'getz' 'gl' 'glk' 'golf' 'grand' 'i3' 'i_reihe' 'ibiza'\n\n 'impreza' 'insignia' 'jazz' 'jetta' 'jimny' 'juke' 'justy' 'ka' 'kadett'\n\n 'kaefer' 'kalina' 'kalos' 'kangoo' 'kappa' 'kuga' 'laguna' 'lancer'\n\n 'lanos' 'legacy' 'leon' 'lodgy' 'logan' 'lupo' 'lybra' 'm_klasse'\n\n 'm_reihe' 'materia' 'matiz' 'megane' 'meriva' 'micra' 'mii' 'modus'\n\n 'mondeo' 'move' 'musa' 'mustang' 'mx_reihe' 'navara' 'niva' 'note'\n\n 'nubira' 'octavia' 'omega' 'one' 'other' 'outlander' 'pajero' 'panda'\n\n 'passat' 'phaeton' 'picanto' 'polo' 'primera' 'ptcruiser' 'punto' 'q3'\n\n 'q5' 'q7' 'qashqai' 'r19' 'range_rover' 'range_rover_evoque'\n\n 'range_rover_sport' 'rangerover' 'rav' 'rio' 'roadster' 'roomster'\n\n 'rx_reihe' 's60' 's_klasse' 's_max' 's_type' 'samara' 'sandero' 'santa'\n\n 'scenic' 'scirocco' 'seicento' 'serie_1' 'serie_2' 'serie_3' 'sharan'\n\n 'signum' 'sirion' 'sl' 'slk' 'sorento' 'spark' 'spider' 'sportage'\n\n 'sprinter' 'stilo' 'superb' 'swift' 'terios' 'tigra' 'tiguan' 'toledo'\n\n 'touareg' 'touran' 'transit' 'transporter' 'tt' 'tucson' 'twingo' 'up'\n\n 'v40' 'v50' 'v60' 'v70' 'v_klasse' 'vectra' 'verso' 'viano' 'vito'\n\n 'vivaro' 'voyager' 'wrangler' 'x_reihe' 'x_trail' 'x_type' 'xc_reihe'\n\n 'yaris' 'yeti' 'ypsilon' 'z_reihe' 'zafira']\n\n\n\n Brand\n\n['alfa_romeo' 'audi' 'bmw' 'chevrolet' 'chrysler' 'citroen' 'dacia'\n\n 'daewoo' 'daihatsu' 'fiat' 'ford' 'honda' 'hyundai' 'jaguar' 'jeep' 'kia'\n\n 'lada' 'lancia' 'land_rover' 'mazda' 'mercedes_benz' 'mini' 'mitsubishi'\n\n 'nissan' 'opel' 'peugeot' 'porsche' 'renault' 'rover' 'saab' 'seat'\n\n 'skoda' 'smart' 'subaru' 'suzuki' 'toyota' 'trabant' 'volkswagen' 'volvo']\n"
        }
      ]
    },
    {
      "cell_type": "markdown",
      "source": "Se encuentran valores irrelevantes para el modelo en la columna `RegistrationYear` pues tiene años muy antiguos al analisis, se toman como relevantes los años posteriores a 1909 hasta el año 2019.\n\nLas columnas `Model` y `Brand` tienen muchas opciones de texto distintas.\n\n**Columna `RegistrationYear`**",
      "metadata": {}
    },
    {
      "cell_type": "code",
      "source": "#Eliminar renglones con años de registro irrelevantes\ndf = df.loc[(df['RegistrationYear']>1909) & (df['RegistrationYear']<2020)]",
      "metadata": {},
      "execution_count": 28,
      "outputs": []
    },
    {
      "cell_type": "markdown",
      "source": "**Columna `Brand`**",
      "metadata": {}
    },
    {
      "cell_type": "code",
      "source": "#Cantidad de marcas\nlen(df['Brand'].sort_values().unique())",
      "metadata": {
        "scrolled": true
      },
      "execution_count": 29,
      "outputs": [
        {
          "execution_count": 29,
          "output_type": "execute_result",
          "data": {
            "text/plain": [
              "39"
            ]
          },
          "metadata": {}
        }
      ]
    },
    {
      "cell_type": "code",
      "source": "#porcentaje de marcas\ndf.groupby('Brand')['Price'].count().sort_values(ascending=False) / df.shape[0]*100",
      "metadata": {
        "scrolled": true
      },
      "execution_count": 30,
      "outputs": [
        {
          "execution_count": 30,
          "output_type": "execute_result",
          "data": {
            "text/plain": [
              "Brand\n",
              "volkswagen       21.810577\n",
              "opel             11.316341\n",
              "bmw              10.618398\n",
              "mercedes_benz     9.325039\n",
              "audi              8.490392\n",
              "ford              7.194211\n",
              "renault           5.081568\n",
              "peugeot           3.057030\n",
              "fiat              2.690186\n",
              "seat              2.013250\n",
              "skoda             1.641076\n",
              "mazda             1.588401\n",
              "citroen           1.462985\n",
              "nissan            1.424419\n",
              "toyota            1.349796\n",
              "smart             1.292732\n",
              "hyundai           1.019324\n",
              "mini              0.962573\n",
              "volvo             0.940311\n",
              "mitsubishi        0.861299\n",
              "honda             0.804234\n",
              "kia               0.712993\n",
              "suzuki            0.654361\n",
              "alfa_romeo        0.649345\n",
              "chevrolet         0.492260\n",
              "chrysler          0.408858\n",
              "dacia             0.268705\n",
              "daihatsu          0.225750\n",
              "subaru            0.216344\n",
              "porsche           0.204429\n",
              "jeep              0.195336\n",
              "land_rover        0.158652\n",
              "saab              0.155517\n",
              "jaguar            0.148619\n",
              "daewoo            0.147992\n",
              "lancia            0.132628\n",
              "rover             0.120400\n",
              "trabant           0.103782\n",
              "lada              0.059886\n",
              "Name: Price, dtype: float64"
            ]
          },
          "metadata": {}
        }
      ]
    },
    {
      "cell_type": "code",
      "source": "#agrupar marcas que representan menos del 2% de la información cada una\ntop10_brands = ['volkswagen', 'opel', 'bmw', 'mercedes_benz', 'audi', 'ford', 'renault', 'peugeot', 'fiat', 'seat']\n\ndf['Brand'] = df['Brand'].where(df['Brand'].isin(top10_brands),'other')",
      "metadata": {
        "scrolled": true
      },
      "execution_count": 31,
      "outputs": []
    },
    {
      "cell_type": "code",
      "source": "#Cantidad de marcas tras agrupacion\nlen(df['Brand'].sort_values().unique())",
      "metadata": {
        "scrolled": true
      },
      "execution_count": 32,
      "outputs": [
        {
          "execution_count": 32,
          "output_type": "execute_result",
          "data": {
            "text/plain": [
              "11"
            ]
          },
          "metadata": {}
        }
      ]
    },
    {
      "cell_type": "markdown",
      "source": "**Columna `Model`**",
      "metadata": {}
    },
    {
      "cell_type": "code",
      "source": "#Cantidad de modelos\nlen(df['Model'].sort_values().unique())",
      "metadata": {},
      "execution_count": 33,
      "outputs": [
        {
          "execution_count": 33,
          "output_type": "execute_result",
          "data": {
            "text/plain": [
              "250"
            ]
          },
          "metadata": {}
        }
      ]
    },
    {
      "cell_type": "markdown",
      "source": "Dado que se tienen demasiados modelos, se ignora esta columna para la creación del modelo.",
      "metadata": {}
    },
    {
      "cell_type": "code",
      "source": "df = df.drop('Model',axis=1)",
      "metadata": {},
      "execution_count": 34,
      "outputs": []
    },
    {
      "cell_type": "markdown",
      "source": "#### Analizar columnas numéricas\n\nSe analizan los valores de las columnas numéricas en busca de valores anormales.\n\n- `Price` - precio al que se vende el vehículo\n- `Power` - potencia en CV (caballos de vapor)\n- `Mileage` - kilometraje (medido en km de acuerdo con las especificidades regionales del conjunto de datos)",
      "metadata": {}
    },
    {
      "cell_type": "code",
      "source": "#descripción columnas numéricas\ndf.loc[:,['Price','Power','Mileage']].describe()",
      "metadata": {
        "scrolled": true
      },
      "execution_count": 35,
      "outputs": [
        {
          "execution_count": 35,
          "output_type": "execute_result",
          "data": {
            "text/html": [
              "<div>\n",
              "<style scoped>\n",
              "    .dataframe tbody tr th:only-of-type {\n",
              "        vertical-align: middle;\n",
              "    }\n",
              "\n",
              "    .dataframe tbody tr th {\n",
              "        vertical-align: top;\n",
              "    }\n",
              "\n",
              "    .dataframe thead th {\n",
              "        text-align: right;\n",
              "    }\n",
              "</style>\n",
              "<table border=\"1\" class=\"dataframe\">\n",
              "  <thead>\n",
              "    <tr style=\"text-align: right;\">\n",
              "      <th></th>\n",
              "      <th>Price</th>\n",
              "      <th>Power</th>\n",
              "      <th>Mileage</th>\n",
              "    </tr>\n",
              "  </thead>\n",
              "  <tbody>\n",
              "    <tr>\n",
              "      <th>count</th>\n",
              "      <td>318937.000000</td>\n",
              "      <td>318937.000000</td>\n",
              "      <td>318937.000000</td>\n",
              "    </tr>\n",
              "    <tr>\n",
              "      <th>mean</th>\n",
              "      <td>4608.926465</td>\n",
              "      <td>114.954351</td>\n",
              "      <td>128852.375234</td>\n",
              "    </tr>\n",
              "    <tr>\n",
              "      <th>std</th>\n",
              "      <td>4564.218542</td>\n",
              "      <td>185.587771</td>\n",
              "      <td>36608.946358</td>\n",
              "    </tr>\n",
              "    <tr>\n",
              "      <th>min</th>\n",
              "      <td>0.000000</td>\n",
              "      <td>0.000000</td>\n",
              "      <td>5000.000000</td>\n",
              "    </tr>\n",
              "    <tr>\n",
              "      <th>25%</th>\n",
              "      <td>1200.000000</td>\n",
              "      <td>75.000000</td>\n",
              "      <td>125000.000000</td>\n",
              "    </tr>\n",
              "    <tr>\n",
              "      <th>50%</th>\n",
              "      <td>2900.000000</td>\n",
              "      <td>105.000000</td>\n",
              "      <td>150000.000000</td>\n",
              "    </tr>\n",
              "    <tr>\n",
              "      <th>75%</th>\n",
              "      <td>6700.000000</td>\n",
              "      <td>143.000000</td>\n",
              "      <td>150000.000000</td>\n",
              "    </tr>\n",
              "    <tr>\n",
              "      <th>max</th>\n",
              "      <td>20000.000000</td>\n",
              "      <td>20000.000000</td>\n",
              "      <td>150000.000000</td>\n",
              "    </tr>\n",
              "  </tbody>\n",
              "</table>\n",
              "</div>"
            ],
            "text/plain": [
              "               Price          Power        Mileage\n",
              "count  318937.000000  318937.000000  318937.000000\n",
              "mean     4608.926465     114.954351  128852.375234\n",
              "std      4564.218542     185.587771   36608.946358\n",
              "min         0.000000       0.000000    5000.000000\n",
              "25%      1200.000000      75.000000  125000.000000\n",
              "50%      2900.000000     105.000000  150000.000000\n",
              "75%      6700.000000     143.000000  150000.000000\n",
              "max     20000.000000   20000.000000  150000.000000"
            ]
          },
          "metadata": {}
        }
      ]
    },
    {
      "cell_type": "markdown",
      "source": "Se observan valores extañamente bajos en las columnas `Price` y `Power`. \n\nEl 75% de los vehiculos tienen:\n- precio mayor a 1,200\n- potencia mayor a 75",
      "metadata": {}
    },
    {
      "cell_type": "code",
      "source": "df.shape[0]**0.5",
      "metadata": {},
      "execution_count": 36,
      "outputs": [
        {
          "execution_count": 36,
          "output_type": "execute_result",
          "data": {
            "text/plain": [
              "564.7450752330648"
            ]
          },
          "metadata": {}
        }
      ]
    },
    {
      "cell_type": "markdown",
      "source": "Las columnas `Price` y `Power` tienen valores extrañamente bajos.\n\nA continuación se visualizan los valores mencionados. Para mejorar la visualización, se usa la regla de la raíz cuadrada para determinar un valor óptimo de bins, esto es usar la raíz cuadrada del número total de muestras en el conjunto de datos como aproximación.",
      "metadata": {}
    },
    {
      "cell_type": "code",
      "source": "#obtener un valor optimo para los bins\n( df[df['Price']<1200]['Price'].shape[0] )**0.5",
      "metadata": {
        "scrolled": true
      },
      "execution_count": 37,
      "outputs": [
        {
          "execution_count": 37,
          "output_type": "execute_result",
          "data": {
            "text/plain": [
              "280.3176769310134"
            ]
          },
          "metadata": {}
        }
      ]
    },
    {
      "cell_type": "code",
      "source": "#obtener un valor optimo para los bins\n( df[df['Power']<50]['Price'].shape[0] )**0.5",
      "metadata": {
        "scrolled": true
      },
      "execution_count": 38,
      "outputs": [
        {
          "execution_count": 38,
          "output_type": "execute_result",
          "data": {
            "text/plain": [
              "169.44910740396364"
            ]
          },
          "metadata": {}
        }
      ]
    },
    {
      "cell_type": "code",
      "source": "#graficar valores extrañamente bajos\nplt.subplots(figsize=(13, 3)) \n\ndf[df['Price']<70].hist(column='Price',ax=plt.subplot(1,2, 1),bins = 280)\nplt.title('Lowest values in Price column') \nplt.ylim(0,3000)\n\ndf[df['Power']<70].hist(column='Power',ax=plt.subplot(1, 2, 2),bins = 170)\nplt.title('Lowest values in Power column') \nplt.ylim(0,15100)\nplt.show() ",
      "metadata": {
        "scrolled": true
      },
      "execution_count": 39,
      "outputs": [
        {
          "output_type": "display_data",
          "data": {
            "image/png": "[encoded data removed]",
            "text/plain": [
              "<Figure size 936x216 with 2 Axes>"
            ]
          },
          "metadata": {
            "needs_background": "light"
          }
        }
      ]
    },
    {
      "cell_type": "code",
      "source": "#eliminar valores anormalmente bajos en columna Price y Power\ndf = df.loc[(df['Price']>60) & (df['Power']>30)]\n\n#verificar cambios\ndf.describe()",
      "metadata": {
        "scrolled": true
      },
      "execution_count": 40,
      "outputs": [
        {
          "execution_count": 40,
          "output_type": "execute_result",
          "data": {
            "text/html": [
              "<div>\n",
              "<style scoped>\n",
              "    .dataframe tbody tr th:only-of-type {\n",
              "        vertical-align: middle;\n",
              "    }\n",
              "\n",
              "    .dataframe tbody tr th {\n",
              "        vertical-align: top;\n",
              "    }\n",
              "\n",
              "    .dataframe thead th {\n",
              "        text-align: right;\n",
              "    }\n",
              "</style>\n",
              "<table border=\"1\" class=\"dataframe\">\n",
              "  <thead>\n",
              "    <tr style=\"text-align: right;\">\n",
              "      <th></th>\n",
              "      <th>DateCrawled</th>\n",
              "      <th>Price</th>\n",
              "      <th>RegistrationYear</th>\n",
              "      <th>Power</th>\n",
              "      <th>Mileage</th>\n",
              "      <th>RegistrationMonth</th>\n",
              "      <th>DateCreated</th>\n",
              "      <th>PostalCode</th>\n",
              "      <th>LastSeen</th>\n",
              "    </tr>\n",
              "  </thead>\n",
              "  <tbody>\n",
              "    <tr>\n",
              "      <th>count</th>\n",
              "      <td>288069.0</td>\n",
              "      <td>288069.000000</td>\n",
              "      <td>288069.000000</td>\n",
              "      <td>288069.000000</td>\n",
              "      <td>288069.000000</td>\n",
              "      <td>288069.000000</td>\n",
              "      <td>288069.000000</td>\n",
              "      <td>288069.000000</td>\n",
              "      <td>288069.0</td>\n",
              "    </tr>\n",
              "    <tr>\n",
              "      <th>mean</th>\n",
              "      <td>2016.0</td>\n",
              "      <td>4904.044149</td>\n",
              "      <td>2003.394169</td>\n",
              "      <td>124.386702</td>\n",
              "      <td>128552.846714</td>\n",
              "      <td>6.033079</td>\n",
              "      <td>2015.999920</td>\n",
              "      <td>51273.774575</td>\n",
              "      <td>2016.0</td>\n",
              "    </tr>\n",
              "    <tr>\n",
              "      <th>std</th>\n",
              "      <td>0.0</td>\n",
              "      <td>4608.329891</td>\n",
              "      <td>6.624654</td>\n",
              "      <td>187.355685</td>\n",
              "      <td>36390.058103</td>\n",
              "      <td>3.566548</td>\n",
              "      <td>0.008935</td>\n",
              "      <td>25751.126451</td>\n",
              "      <td>0.0</td>\n",
              "    </tr>\n",
              "    <tr>\n",
              "      <th>min</th>\n",
              "      <td>2016.0</td>\n",
              "      <td>65.000000</td>\n",
              "      <td>1910.000000</td>\n",
              "      <td>31.000000</td>\n",
              "      <td>5000.000000</td>\n",
              "      <td>0.000000</td>\n",
              "      <td>2015.000000</td>\n",
              "      <td>1067.000000</td>\n",
              "      <td>2016.0</td>\n",
              "    </tr>\n",
              "    <tr>\n",
              "      <th>25%</th>\n",
              "      <td>2016.0</td>\n",
              "      <td>1399.000000</td>\n",
              "      <td>1999.000000</td>\n",
              "      <td>78.000000</td>\n",
              "      <td>125000.000000</td>\n",
              "      <td>3.000000</td>\n",
              "      <td>2016.000000</td>\n",
              "      <td>30966.000000</td>\n",
              "      <td>2016.0</td>\n",
              "    </tr>\n",
              "    <tr>\n",
              "      <th>50%</th>\n",
              "      <td>2016.0</td>\n",
              "      <td>3250.000000</td>\n",
              "      <td>2003.000000</td>\n",
              "      <td>113.000000</td>\n",
              "      <td>150000.000000</td>\n",
              "      <td>6.000000</td>\n",
              "      <td>2016.000000</td>\n",
              "      <td>50321.000000</td>\n",
              "      <td>2016.0</td>\n",
              "    </tr>\n",
              "    <tr>\n",
              "      <th>75%</th>\n",
              "      <td>2016.0</td>\n",
              "      <td>7000.000000</td>\n",
              "      <td>2008.000000</td>\n",
              "      <td>150.000000</td>\n",
              "      <td>150000.000000</td>\n",
              "      <td>9.000000</td>\n",
              "      <td>2016.000000</td>\n",
              "      <td>72108.000000</td>\n",
              "      <td>2016.0</td>\n",
              "    </tr>\n",
              "    <tr>\n",
              "      <th>max</th>\n",
              "      <td>2016.0</td>\n",
              "      <td>20000.000000</td>\n",
              "      <td>2019.000000</td>\n",
              "      <td>20000.000000</td>\n",
              "      <td>150000.000000</td>\n",
              "      <td>12.000000</td>\n",
              "      <td>2016.000000</td>\n",
              "      <td>99998.000000</td>\n",
              "      <td>2016.0</td>\n",
              "    </tr>\n",
              "  </tbody>\n",
              "</table>\n",
              "</div>"
            ],
            "text/plain": [
              "       DateCrawled          Price  RegistrationYear          Power  \\\n",
              "count     288069.0  288069.000000     288069.000000  288069.000000   \n",
              "mean        2016.0    4904.044149       2003.394169     124.386702   \n",
              "std            0.0    4608.329891          6.624654     187.355685   \n",
              "min         2016.0      65.000000       1910.000000      31.000000   \n",
              "25%         2016.0    1399.000000       1999.000000      78.000000   \n",
              "50%         2016.0    3250.000000       2003.000000     113.000000   \n",
              "75%         2016.0    7000.000000       2008.000000     150.000000   \n",
              "max         2016.0   20000.000000       2019.000000   20000.000000   \n",
              "\n",
              "             Mileage  RegistrationMonth    DateCreated     PostalCode  \\\n",
              "count  288069.000000      288069.000000  288069.000000  288069.000000   \n",
              "mean   128552.846714           6.033079    2015.999920   51273.774575   \n",
              "std     36390.058103           3.566548       0.008935   25751.126451   \n",
              "min      5000.000000           0.000000    2015.000000    1067.000000   \n",
              "25%    125000.000000           3.000000    2016.000000   30966.000000   \n",
              "50%    150000.000000           6.000000    2016.000000   50321.000000   \n",
              "75%    150000.000000           9.000000    2016.000000   72108.000000   \n",
              "max    150000.000000          12.000000    2016.000000   99998.000000   \n",
              "\n",
              "       LastSeen  \n",
              "count  288069.0  \n",
              "mean     2016.0  \n",
              "std         0.0  \n",
              "min      2016.0  \n",
              "25%      2016.0  \n",
              "50%      2016.0  \n",
              "75%      2016.0  \n",
              "max      2016.0  "
            ]
          },
          "metadata": {}
        }
      ]
    },
    {
      "cell_type": "code",
      "source": "#verificar cambios\ndf.info()",
      "metadata": {
        "scrolled": true
      },
      "execution_count": 41,
      "outputs": [
        {
          "name": "stdout",
          "output_type": "stream",
          "text": "<class 'pandas.core.frame.DataFrame'>\n\nInt64Index: 288069 entries, 2 to 354368\n\nData columns (total 14 columns):\n\n #   Column             Non-Null Count   Dtype \n\n---  ------             --------------   ----- \n\n 0   DateCrawled        288069 non-null  int64 \n\n 1   Price              288069 non-null  int64 \n\n 2   VehicleType        288069 non-null  object\n\n 3   RegistrationYear   288069 non-null  int64 \n\n 4   Gearbox            288069 non-null  object\n\n 5   Power              288069 non-null  int64 \n\n 6   Mileage            288069 non-null  int64 \n\n 7   RegistrationMonth  288069 non-null  int64 \n\n 8   FuelType           288069 non-null  object\n\n 9   Brand              288069 non-null  object\n\n 10  NotRepaired        288069 non-null  object\n\n 11  DateCreated        288069 non-null  int64 \n\n 12  PostalCode         288069 non-null  int64 \n\n 13  LastSeen           288069 non-null  int64 \n\ndtypes: int64(9), object(5)\n\nmemory usage: 33.0+ MB\n"
        }
      ]
    },
    {
      "cell_type": "code",
      "source": "print('Se conserva el',round(df.shape[0] /df_initial_size*100,2),'% de los datos iniciales')",
      "metadata": {},
      "execution_count": 42,
      "outputs": [
        {
          "name": "stdout",
          "output_type": "stream",
          "text": "Se conserva el 81.29 % de los datos iniciales\n"
        }
      ]
    },
    {
      "cell_type": "markdown",
      "source": "No hay valores ausentes ni valores anormales y los datos son del tipo correcto.",
      "metadata": {}
    },
    {
      "cell_type": "markdown",
      "source": "## Exploración de características para el modelo\n\n### Características numéricas",
      "metadata": {}
    },
    {
      "cell_type": "code",
      "source": "#matriz de correlación\ndf.corr()",
      "metadata": {},
      "execution_count": 43,
      "outputs": [
        {
          "execution_count": 43,
          "output_type": "execute_result",
          "data": {
            "text/html": [
              "<div>\n",
              "<style scoped>\n",
              "    .dataframe tbody tr th:only-of-type {\n",
              "        vertical-align: middle;\n",
              "    }\n",
              "\n",
              "    .dataframe tbody tr th {\n",
              "        vertical-align: top;\n",
              "    }\n",
              "\n",
              "    .dataframe thead th {\n",
              "        text-align: right;\n",
              "    }\n",
              "</style>\n",
              "<table border=\"1\" class=\"dataframe\">\n",
              "  <thead>\n",
              "    <tr style=\"text-align: right;\">\n",
              "      <th></th>\n",
              "      <th>DateCrawled</th>\n",
              "      <th>Price</th>\n",
              "      <th>RegistrationYear</th>\n",
              "      <th>Power</th>\n",
              "      <th>Mileage</th>\n",
              "      <th>RegistrationMonth</th>\n",
              "      <th>DateCreated</th>\n",
              "      <th>PostalCode</th>\n",
              "      <th>LastSeen</th>\n",
              "    </tr>\n",
              "  </thead>\n",
              "  <tbody>\n",
              "    <tr>\n",
              "      <th>DateCrawled</th>\n",
              "      <td>NaN</td>\n",
              "      <td>NaN</td>\n",
              "      <td>NaN</td>\n",
              "      <td>NaN</td>\n",
              "      <td>NaN</td>\n",
              "      <td>NaN</td>\n",
              "      <td>NaN</td>\n",
              "      <td>NaN</td>\n",
              "      <td>NaN</td>\n",
              "    </tr>\n",
              "    <tr>\n",
              "      <th>Price</th>\n",
              "      <td>NaN</td>\n",
              "      <td>1.000000</td>\n",
              "      <td>0.462309</td>\n",
              "      <td>0.140261</td>\n",
              "      <td>-0.397330</td>\n",
              "      <td>0.062129</td>\n",
              "      <td>-0.003911</td>\n",
              "      <td>0.063401</td>\n",
              "      <td>NaN</td>\n",
              "    </tr>\n",
              "    <tr>\n",
              "      <th>RegistrationYear</th>\n",
              "      <td>NaN</td>\n",
              "      <td>0.462309</td>\n",
              "      <td>1.000000</td>\n",
              "      <td>0.030079</td>\n",
              "      <td>-0.302457</td>\n",
              "      <td>0.022713</td>\n",
              "      <td>-0.000524</td>\n",
              "      <td>0.019630</td>\n",
              "      <td>NaN</td>\n",
              "    </tr>\n",
              "    <tr>\n",
              "      <th>Power</th>\n",
              "      <td>NaN</td>\n",
              "      <td>0.140261</td>\n",
              "      <td>0.030079</td>\n",
              "      <td>1.000000</td>\n",
              "      <td>0.024070</td>\n",
              "      <td>0.009467</td>\n",
              "      <td>0.000151</td>\n",
              "      <td>0.009550</td>\n",
              "      <td>NaN</td>\n",
              "    </tr>\n",
              "    <tr>\n",
              "      <th>Mileage</th>\n",
              "      <td>NaN</td>\n",
              "      <td>-0.397330</td>\n",
              "      <td>-0.302457</td>\n",
              "      <td>0.024070</td>\n",
              "      <td>1.000000</td>\n",
              "      <td>-0.016941</td>\n",
              "      <td>0.004609</td>\n",
              "      <td>-0.012362</td>\n",
              "      <td>NaN</td>\n",
              "    </tr>\n",
              "    <tr>\n",
              "      <th>RegistrationMonth</th>\n",
              "      <td>NaN</td>\n",
              "      <td>0.062129</td>\n",
              "      <td>0.022713</td>\n",
              "      <td>0.009467</td>\n",
              "      <td>-0.016941</td>\n",
              "      <td>1.000000</td>\n",
              "      <td>0.002806</td>\n",
              "      <td>0.002656</td>\n",
              "      <td>NaN</td>\n",
              "    </tr>\n",
              "    <tr>\n",
              "      <th>DateCreated</th>\n",
              "      <td>NaN</td>\n",
              "      <td>-0.003911</td>\n",
              "      <td>-0.000524</td>\n",
              "      <td>0.000151</td>\n",
              "      <td>0.004609</td>\n",
              "      <td>0.002806</td>\n",
              "      <td>1.000000</td>\n",
              "      <td>0.001626</td>\n",
              "      <td>NaN</td>\n",
              "    </tr>\n",
              "    <tr>\n",
              "      <th>PostalCode</th>\n",
              "      <td>NaN</td>\n",
              "      <td>0.063401</td>\n",
              "      <td>0.019630</td>\n",
              "      <td>0.009550</td>\n",
              "      <td>-0.012362</td>\n",
              "      <td>0.002656</td>\n",
              "      <td>0.001626</td>\n",
              "      <td>1.000000</td>\n",
              "      <td>NaN</td>\n",
              "    </tr>\n",
              "    <tr>\n",
              "      <th>LastSeen</th>\n",
              "      <td>NaN</td>\n",
              "      <td>NaN</td>\n",
              "      <td>NaN</td>\n",
              "      <td>NaN</td>\n",
              "      <td>NaN</td>\n",
              "      <td>NaN</td>\n",
              "      <td>NaN</td>\n",
              "      <td>NaN</td>\n",
              "      <td>NaN</td>\n",
              "    </tr>\n",
              "  </tbody>\n",
              "</table>\n",
              "</div>"
            ],
            "text/plain": [
              "                   DateCrawled     Price  RegistrationYear     Power  \\\n",
              "DateCrawled                NaN       NaN               NaN       NaN   \n",
              "Price                      NaN  1.000000          0.462309  0.140261   \n",
              "RegistrationYear           NaN  0.462309          1.000000  0.030079   \n",
              "Power                      NaN  0.140261          0.030079  1.000000   \n",
              "Mileage                    NaN -0.397330         -0.302457  0.024070   \n",
              "RegistrationMonth          NaN  0.062129          0.022713  0.009467   \n",
              "DateCreated                NaN -0.003911         -0.000524  0.000151   \n",
              "PostalCode                 NaN  0.063401          0.019630  0.009550   \n",
              "LastSeen                   NaN       NaN               NaN       NaN   \n",
              "\n",
              "                    Mileage  RegistrationMonth  DateCreated  PostalCode  \\\n",
              "DateCrawled             NaN                NaN          NaN         NaN   \n",
              "Price             -0.397330           0.062129    -0.003911    0.063401   \n",
              "RegistrationYear  -0.302457           0.022713    -0.000524    0.019630   \n",
              "Power              0.024070           0.009467     0.000151    0.009550   \n",
              "Mileage            1.000000          -0.016941     0.004609   -0.012362   \n",
              "RegistrationMonth -0.016941           1.000000     0.002806    0.002656   \n",
              "DateCreated        0.004609           0.002806     1.000000    0.001626   \n",
              "PostalCode        -0.012362           0.002656     0.001626    1.000000   \n",
              "LastSeen                NaN                NaN          NaN         NaN   \n",
              "\n",
              "                   LastSeen  \n",
              "DateCrawled             NaN  \n",
              "Price                   NaN  \n",
              "RegistrationYear        NaN  \n",
              "Power                   NaN  \n",
              "Mileage                 NaN  \n",
              "RegistrationMonth       NaN  \n",
              "DateCreated             NaN  \n",
              "PostalCode              NaN  \n",
              "LastSeen                NaN  "
            ]
          },
          "metadata": {}
        }
      ]
    },
    {
      "cell_type": "markdown",
      "source": "La matriz de correlación muestra\n- una relación positiva entre el precio y el año de matriculación del vehículo\n- poca relación entre el precio y la potencia\n- una relación negativa entre el precio y el kilometraje \n- que no hay relación entre el precio y:\n    - el mes de matriculación del vehículo\n    - el año de creacion del perfil\n    - el codigo postal del propietario del perfil (usuario)\n    - la fecha de la última vez que el usuario estuvo activo\n    \nSe crea una matriz de dispersión sin tomar en cuenta las columnas que no influyen en el precio.",
      "metadata": {}
    },
    {
      "cell_type": "code",
      "source": "#matriz de dispersión\nsns.pairplot(df.loc[:,['Price', 'RegistrationYear', 'Power', 'Mileage', 'NotRepaired']],corner=True)\nplt.show()",
      "metadata": {
        "scrolled": true
      },
      "execution_count": 44,
      "outputs": [
        {
          "output_type": "display_data",
          "data": {
            "image/png": "[encoded data removed]",
            "text/plain": [
              "<Figure size 720x720 with 14 Axes>"
            ]
          },
          "metadata": {
            "needs_background": "light"
          }
        }
      ]
    },
    {
      "cell_type": "markdown",
      "source": "La mátriz de dispersión muestra que se tiene más información de vehiculos con años de registro cercanos a la fecha actual.",
      "metadata": {}
    },
    {
      "cell_type": "markdown",
      "source": "### Caracteristicas categoricas",
      "metadata": {}
    },
    {
      "cell_type": "code",
      "source": "#promedio del precio por tipo de vehiculo\nsns.barplot(data=df, x='VehicleType', y='Price')\nplt.show()",
      "metadata": {},
      "execution_count": 45,
      "outputs": [
        {
          "output_type": "display_data",
          "data": {
            "image/png": "[encoded data removed]",
            "text/plain": [
              "<Figure size 432x288 with 1 Axes>"
            ]
          },
          "metadata": {
            "needs_background": "light"
          }
        }
      ]
    },
    {
      "cell_type": "code",
      "source": "#promedio del precio por ipo de caja de cambios\nsns.barplot(data=df, x='Gearbox', y='Price')\nplt.show()",
      "metadata": {},
      "execution_count": 46,
      "outputs": [
        {
          "output_type": "display_data",
          "data": {
            "image/png": "[encoded data removed]",
            "text/plain": [
              "<Figure size 432x288 with 1 Axes>"
            ]
          },
          "metadata": {
            "needs_background": "light"
          }
        }
      ]
    },
    {
      "cell_type": "code",
      "source": "#promedio del precio por tipo combustible\nsns.barplot(data=df, x='FuelType', y='Price')\nplt.show()",
      "metadata": {
        "scrolled": true
      },
      "execution_count": 47,
      "outputs": [
        {
          "output_type": "display_data",
          "data": {
            "image/png": "[encoded data removed]",
            "text/plain": [
              "<Figure size 432x288 with 1 Axes>"
            ]
          },
          "metadata": {
            "needs_background": "light"
          }
        }
      ]
    },
    {
      "cell_type": "code",
      "source": "#promedio del precio por marca\nsns.barplot(data=df, x='Brand', y='Price')\nplt.xticks(rotation='vertical')\nplt.show()",
      "metadata": {},
      "execution_count": 48,
      "outputs": [
        {
          "output_type": "display_data",
          "data": {
            "image/png": "[encoded data removed]",
            "text/plain": [
              "<Figure size 432x288 with 1 Axes>"
            ]
          },
          "metadata": {
            "needs_background": "light"
          }
        }
      ]
    },
    {
      "cell_type": "code",
      "source": "#promedio del precio en vehiculos con y sin reparaciones\nsns.barplot(data=df, x='NotRepaired', y='Price')\nplt.show()",
      "metadata": {
        "scrolled": true
      },
      "execution_count": 49,
      "outputs": [
        {
          "output_type": "display_data",
          "data": {
            "image/png": "[encoded data removed]",
            "text/plain": [
              "<Figure size 432x288 with 1 Axes>"
            ]
          },
          "metadata": {
            "needs_background": "light"
          }
        }
      ]
    },
    {
      "cell_type": "markdown",
      "source": "En todas las características categoricas, hay diferencias significativas en los promedios de cada categóría por lo que se toman en cuenta. \n\nEn base a los análisis anteriores se escogen los siguientes datos para la creación del modelo:\n\n**Columna objetivo:**\n- `Price` - precio al que se vende el vehículo\n\n**Columnas con características:**\n- `VehicleType` - tipo de carrocería del vehículo\n- `RegistrationYear` - año de matriculación del vehículo\n- `Gearbox` - tipo de caja de cambios\n- `Power` - potencia (CV)\n- `Mileage` - kilometraje (medido en km de acuerdo con las especificidades regionales del conjunto de datos)\n- `FuelType` - tipo de combustible\n- `Brand` - marca del vehículo\n- `NotRepaired` - vehículo con o sin reparación",
      "metadata": {}
    },
    {
      "cell_type": "markdown",
      "source": "## Entrenamiento y validación de los modelos \n\nSe comparan distintos modelos por medio de la métrica **raíz del error cuadrático medio (RECM)**. Asimismo, se analiza la velocidad de los modelos. \n\nLos modelos analizados son:\n- Modelo de regresión lineal (se usa como base para la prueba de cordura)\n- Modelo árbol de decision\n- Modelo bosque aleatorio\n- LightGBM\n- CatBoost\n- XGBoost\n\n**Peparar datos para entrenar y validar los modelos**",
      "metadata": {}
    },
    {
      "cell_type": "code",
      "source": "#explorar columnas\ndf.columns",
      "metadata": {},
      "execution_count": 50,
      "outputs": [
        {
          "execution_count": 50,
          "output_type": "execute_result",
          "data": {
            "text/plain": [
              "Index(['DateCrawled', 'Price', 'VehicleType', 'RegistrationYear', 'Gearbox',\n",
              "       'Power', 'Mileage', 'RegistrationMonth', 'FuelType', 'Brand',\n",
              "       'NotRepaired', 'DateCreated', 'PostalCode', 'LastSeen'],\n",
              "      dtype='object')"
            ]
          },
          "metadata": {}
        }
      ]
    },
    {
      "cell_type": "code",
      "source": "#Separar conjunto de entrenamiento en objetivo y características\ntarget = df['Price']\nfeatures = df.drop(['DateCrawled', 'Price', 'RegistrationMonth', 'DateCreated','PostalCode', 'LastSeen'], axis=1)",
      "metadata": {
        "scrolled": true
      },
      "execution_count": 51,
      "outputs": []
    },
    {
      "cell_type": "code",
      "source": "#Separar datos en conjunto de entrenamiento(75%) y validación (25%)\ntrain_features, valid_features, train_target, valid_target = train_test_split(features, target,\n                                                                              test_size=0.25, random_state=12345 )",
      "metadata": {},
      "execution_count": 52,
      "outputs": []
    },
    {
      "cell_type": "markdown",
      "source": "Aplicar codificación One-Hot (OHE) para transformar características categóricas en numéricas.",
      "metadata": {}
    },
    {
      "cell_type": "code",
      "source": "#aplicar OHE\nfeatures_ohe = pd.get_dummies(features,drop_first=True) \n\n#Separar datos en conjunto de entrenamiento(75%) y validación (25%)\ntrain_features_ohe, valid_features_ohe, train_target_ohe, valid_target_ohe = train_test_split(features_ohe, target,\n                                                                              test_size=0.25, random_state=12345 )",
      "metadata": {},
      "execution_count": 53,
      "outputs": []
    },
    {
      "cell_type": "markdown",
      "source": "Se crea función para calcular tiempo de entrenamiento y tiempo para hacer predicciónes",
      "metadata": {}
    },
    {
      "cell_type": "code",
      "source": "#función para calcular tiempo de entrenamiento y de predicciónes\ndef train_and_pred_time(model,model_name,train_features, train_target,valid_features):\n    #tiempo antes del entrenamiento\n    start_time1 = time.time()\n    \n    #entrenar modelo\n    if model_name == 'cbr':\n        model.fit(train_features)\n    else: \n        model.fit(train_features, train_target)\n    \n    #tiempo después del entrenamiento\n    end_time1 = time.time()\n    \n    #duración del entrenamiento\n    train_time = end_time1 - start_time1\n    \n    #tiempo antes de la predicción\n    start_time2 = time.time()\n    \n    #prediccion de datos de validación\n    predictions = model.predict(valid_features)\n    \n    #tiempo después de la predicción\n    end_time2 = time.time()\n    \n    #duración de la predicción\n    pred_time = end_time2 - start_time2\n    \n    return train_time, pred_time, predictions",
      "metadata": {},
      "execution_count": 54,
      "outputs": []
    },
    {
      "cell_type": "markdown",
      "source": "### Modelo de regresión lineal",
      "metadata": {}
    },
    {
      "cell_type": "code",
      "source": "#fijar modelo\nmodel_lr = LinearRegression() \n\n#usar función para calcular tiempo y predicciones\nlr_train_time, lr_pred_time, lr_pred = train_and_pred_time(model_lr, 'lr', train_features_ohe, train_target_ohe,\n                                                           valid_features_ohe)",
      "metadata": {},
      "execution_count": 55,
      "outputs": []
    },
    {
      "cell_type": "code",
      "source": "# raíz del error cuadrático medio\nlr_train_rmse = round(mean_squared_error(train_target_ohe, model_lr.predict(train_features_ohe)),2)\nlr_valid_rmse = round(mean_squared_error(valid_target_ohe,lr_pred),2)\n\nprint('RMSE training set:   ',lr_train_rmse) \nprint('RMSE validation set: ',lr_valid_rmse) ",
      "metadata": {},
      "execution_count": 56,
      "outputs": [
        {
          "name": "stdout",
          "output_type": "stream",
          "text": "RMSE training set:    10372813.19\n\nRMSE validation set:  10508270.42\n"
        }
      ]
    },
    {
      "cell_type": "markdown",
      "source": "**Modelo de regresión lineal con uso de descenso de gradiente estocástico**",
      "metadata": {}
    },
    {
      "cell_type": "code",
      "source": "#aplicar ohe a datos categoricos\nohe = OneHotEncoder(drop='first', sparse=False)\ntrain_features_encoded = ohe.fit_transform(train_features.select_dtypes(include=['object']))\nvalid_features_encoded = ohe.transform(valid_features.select_dtypes(include=['object']))\n\n\n#escalar datos numericos\nscaler = StandardScaler()\ntrain_features_scaled = scaler.fit_transform(train_features.select_dtypes(include=['number']))\nvalid_features_scaled = scaler.transform(valid_features.select_dtypes(include=['number']))\n\n#unir datos categoricos con numéricos\ntrain_features_final = np.hstack((train_features_encoded, train_features_scaled))\nvalid_features_final = np.hstack((valid_features_encoded, valid_features_scaled))",
      "metadata": {},
      "execution_count": 57,
      "outputs": []
    },
    {
      "cell_type": "code",
      "source": "#fijar modelo\nmodel_sgd = SGDRegressor(max_iter=1000, tol=1e-3, random_state=12345)\n\n#usar función para calcular tiempo y predicciones\nsgd_train_time, sgd_pred_time, sgd_pred = train_and_pred_time(model_sgd, 'sgd', train_features_final, train_target,\n                                                           valid_features_final)",
      "metadata": {},
      "execution_count": 58,
      "outputs": []
    },
    {
      "cell_type": "code",
      "source": "# raíz del error cuadrático medio\nsgd_train_rmse = round(mean_squared_error(train_target, model_lr.predict(train_features_final)),2)\nsgd_valid_rmse = round(mean_squared_error(valid_target,sgd_pred),2)\n\nprint('RMSE training set:   ',sgd_train_rmse) \nprint('RMSE validation set: ',sgd_valid_rmse) ",
      "metadata": {},
      "execution_count": 59,
      "outputs": [
        {
          "name": "stdout",
          "output_type": "stream",
          "text": "RMSE training set:    245315326587.82\n\nRMSE validation set:  10535517.78\n"
        }
      ]
    },
    {
      "cell_type": "markdown",
      "source": "El valor RMSE del primer modelo tuvo un mejor desempeño, se usa este para la comparación.\n\n### Modelo de árbol de decisión",
      "metadata": {}
    },
    {
      "cell_type": "code",
      "source": "#buscar las mejores características con GridSearchCV, para encontrar la mejor profundidad de árbol\nparam_grid = {'max_depth': [1,2,4,6,8,10,15,20]}\n\ntree_reg = DecisionTreeRegressor(random_state=12345)\ngrid_search = GridSearchCV(estimator=tree_reg, param_grid=param_grid, cv=5, verbose=True)\n%time grid_search.fit(train_features_ohe, train_target_ohe)\n\nfinal_model = grid_search.best_estimator_\nfinal_model",
      "metadata": {},
      "execution_count": 60,
      "outputs": [
        {
          "name": "stdout",
          "output_type": "stream",
          "text": "Fitting 5 folds for each of 8 candidates, totalling 40 fits\n\nCPU times: user 18.5 s, sys: 352 ms, total: 18.8 s\n\nWall time: 18.9 s\n"
        },
        {
          "execution_count": 60,
          "output_type": "execute_result",
          "data": {
            "text/plain": [
              "DecisionTreeRegressor(max_depth=15, random_state=12345)"
            ]
          },
          "metadata": {}
        }
      ]
    },
    {
      "cell_type": "code",
      "source": "#fijar modelo con parámetros encontrados\nmodel_dtr = DecisionTreeRegressor(random_state=12345, max_depth=15)\n\n#usar función para calcular tiempo y predicciones\ndtr_train_time, dtr_pred_time, dtr_pred = train_and_pred_time(model_dtr, 'dtr', train_features_ohe, train_target_ohe,\n                                                           valid_features_ohe)",
      "metadata": {},
      "execution_count": 61,
      "outputs": []
    },
    {
      "cell_type": "code",
      "source": "# raíz del error cuadrático medio\ndtr_train_rmse = round(mean_squared_error(train_target_ohe, model_dtr.predict(train_features_ohe)),2)\ndtr_valid_rmse = round(mean_squared_error(valid_target_ohe, dtr_pred),2)\n\nprint('RMSE training set:   ',dtr_train_rmse) \nprint('RMSE validation set: ',dtr_valid_rmse) ",
      "metadata": {},
      "execution_count": 62,
      "outputs": [
        {
          "name": "stdout",
          "output_type": "stream",
          "text": "RMSE training set:    2592833.38\n\nRMSE validation set:  3712084.25\n"
        }
      ]
    },
    {
      "cell_type": "markdown",
      "source": "### Modelo bosque aleatorio de decisión",
      "metadata": {}
    },
    {
      "cell_type": "code",
      "source": "#buscar las mejores características para los datos disponibles\nmodel_rfr =RandomForestRegressor(random_state=12345)\nparam_grid = {'n_estimators': [1,2,3,4,6,8,10],'max_features': [ 'sqrt', 'log2'],'max_depth' : [2,3,4,5,6,8,10]}\nCV_rfr = GridSearchCV(estimator=model_rfr, param_grid=param_grid, cv= 5)\nCV_rfr.fit(train_features_ohe,train_target_ohe)\nCV_rfr.best_params_",
      "metadata": {},
      "execution_count": 63,
      "outputs": [
        {
          "execution_count": 63,
          "output_type": "execute_result",
          "data": {
            "text/plain": [
              "{'max_depth': 10, 'max_features': 'sqrt', 'n_estimators': 10}"
            ]
          },
          "metadata": {}
        }
      ]
    },
    {
      "cell_type": "code",
      "source": "#fijar modelo con parámetros encontrados\nmodel_rfr = RandomForestRegressor(random_state=12345, max_depth=10, max_features= 'sqrt',n_estimators=10)\n\n#usar función para calcular tiempo y predicciones\nrfr_train_time, rfr_pred_time, rfr_pred = train_and_pred_time(model_rfr, 'rfr', train_features_ohe, train_target_ohe,\n                                                           valid_features_ohe)",
      "metadata": {},
      "execution_count": 64,
      "outputs": []
    },
    {
      "cell_type": "code",
      "source": "# raíz del error cuadrático medio\nrfr_train_rmse = round(mean_squared_error(train_target_ohe, model_rfr.predict(train_features_ohe) ),2)\nrfr_valid_rmse = round(mean_squared_error(valid_target_ohe, rfr_pred),2)\n\nprint('RMSE training set:   ', rfr_train_rmse) \nprint('RMSE validation set: ', rfr_valid_rmse) ",
      "metadata": {},
      "execution_count": 65,
      "outputs": [
        {
          "name": "stdout",
          "output_type": "stream",
          "text": "RMSE training set:    4688229.51\n\nRMSE validation set:  4836478.22\n"
        }
      ]
    },
    {
      "cell_type": "markdown",
      "source": "### LightGBM\nEsta biblioteca requere OHE.",
      "metadata": {}
    },
    {
      "cell_type": "code",
      "source": "#fijar modelo 1\nmodel_ltb1= ltb.LGBMRegressor(boosting_type='gbdt',num_leaves=31, max_depth=-1, learning_rate=0.1, n_estimators=100)\n\n#usar función para calcular tiempo y predicciones\nltb_train_time1, ltb_pred_time1, ltb_pred1 = train_and_pred_time(model_ltb1, 'ltb', train_features_ohe, train_target_ohe,\n                                                           valid_features_ohe)",
      "metadata": {},
      "execution_count": 66,
      "outputs": []
    },
    {
      "cell_type": "code",
      "source": "# raíz del error cuadrático medio - modelo 1\nltb1_train_rmse = round(mean_squared_error(train_target, model_ltb1.predict(train_features_ohe) ),2)\nltb1_valid_rmse = round(mean_squared_error(valid_target, ltb_pred1),2)\n\nprint('RMSE training set:   ', ltb1_train_rmse) \nprint('RMSE validation set: ', ltb1_valid_rmse) ",
      "metadata": {},
      "execution_count": 67,
      "outputs": [
        {
          "name": "stdout",
          "output_type": "stream",
          "text": "RMSE training set:    3383202.17\n\nRMSE validation set:  3478602.87\n"
        }
      ]
    },
    {
      "cell_type": "code",
      "source": "#fijar modelo 2 - ajuste en hiperparámetros\nmodel_ltb2=ltb.LGBMRegressor(boosting_type='gbdt',num_leaves=20, max_depth=10, learning_rate=0.05, n_estimators=100)\n\n#usar función para calcular tiempo y predicciones\nltb_train_time2, ltb_pred_time2, ltb_pred2 = train_and_pred_time(model_ltb2, 'ltb', train_features_ohe, train_target_ohe,\n                                                           valid_features_ohe)",
      "metadata": {},
      "execution_count": 68,
      "outputs": []
    },
    {
      "cell_type": "code",
      "source": "# raíz del error cuadrático medio - modelo 2\nltb2_train_rmse = round(mean_squared_error(train_target_ohe, model_ltb2.predict(train_features_ohe) ),2)\nltb2_valid_rmse = round(mean_squared_error(valid_target_ohe, ltb_pred2 ),2)\n\nprint('RMSE training set:   ', ltb2_train_rmse) \nprint('RMSE validation set: ', ltb2_valid_rmse) ",
      "metadata": {
        "scrolled": true
      },
      "execution_count": 69,
      "outputs": [
        {
          "name": "stdout",
          "output_type": "stream",
          "text": "RMSE training set:    3813317.11\n\nRMSE validation set:  3851244.06\n"
        }
      ]
    },
    {
      "cell_type": "markdown",
      "source": "Los primeros parametros resultan en un menor resultado RMSE, por ello, se toma este modelo como el mejor de los dos.",
      "metadata": {}
    },
    {
      "cell_type": "markdown",
      "source": "### CatBoost\n\nEsta biblioteca no requere OHE.",
      "metadata": {}
    },
    {
      "cell_type": "code",
      "source": "#explorar tipos de datos\ntrain_features.info()",
      "metadata": {
        "scrolled": true
      },
      "execution_count": 70,
      "outputs": [
        {
          "name": "stdout",
          "output_type": "stream",
          "text": "<class 'pandas.core.frame.DataFrame'>\n\nInt64Index: 216051 entries, 316635 to 267686\n\nData columns (total 8 columns):\n\n #   Column            Non-Null Count   Dtype \n\n---  ------            --------------   ----- \n\n 0   VehicleType       216051 non-null  object\n\n 1   RegistrationYear  216051 non-null  int64 \n\n 2   Gearbox           216051 non-null  object\n\n 3   Power             216051 non-null  int64 \n\n 4   Mileage           216051 non-null  int64 \n\n 5   FuelType          216051 non-null  object\n\n 6   Brand             216051 non-null  object\n\n 7   NotRepaired       216051 non-null  object\n\ndtypes: int64(3), object(5)\n\nmemory usage: 14.8+ MB\n"
        }
      ]
    },
    {
      "cell_type": "code",
      "source": "#identificar datos categoricos\ncategorical_features_indices = [0,2,5,6,7]\ntrain_data = Pool(data = train_features, label = train_target, cat_features = categorical_features_indices)\n\n#fijar el modelo\nmodel_cbr = CatBoostRegressor(iterations=100, random_seed=123456, verbose=False)\n\n#usar función para calcular tiempo y predicciones\ncbr_train_time, cbr_pred_time, cbr_pred = train_and_pred_time(model_cbr, 'cbr', train_data, train_target, valid_features)",
      "metadata": {},
      "execution_count": 71,
      "outputs": []
    },
    {
      "cell_type": "code",
      "source": "# raíz del error cuadrático medio\ncbr_train_rmse = round(mean_squared_error(train_target, model_cbr.predict(train_features) ),2)\ncbr_valid_rmse = round(mean_squared_error(valid_target, model_cbr.predict(valid_features) ),2)\n\nprint('RMSE training set:   ', cbr_train_rmse) \nprint('RMSE validation set: ', cbr_valid_rmse)",
      "metadata": {},
      "execution_count": 72,
      "outputs": [
        {
          "name": "stdout",
          "output_type": "stream",
          "text": "RMSE training set:    3244843.24\n\nRMSE validation set:  3366862.96\n"
        }
      ]
    },
    {
      "cell_type": "markdown",
      "source": "### XGBoost\n\nEl uso de esta biblioteca requiere OHE",
      "metadata": {}
    },
    {
      "cell_type": "code",
      "source": "#fijar modelo 1\nmodel_xgbr1 = xg.XGBRegressor(booster ='gblinear', objective ='reg:squarederror', n_estimators = 50, seed = 12345)\n\n#usar función para calcular tiempo y predicciones\nxgbr_train_time1, xgbr_pred_time1, xgbr_pred1= train_and_pred_time(model_xgbr1, 'xgbr', train_features_ohe, \n                                                                   train_target_ohe, valid_features_ohe)",
      "metadata": {
        "scrolled": true
      },
      "execution_count": 73,
      "outputs": []
    },
    {
      "cell_type": "code",
      "source": "# raíz del error cuadrático medio\nxgbr_train_rmse1 = round(mean_squared_error(train_target_ohe, model_xgbr1.predict(train_features_ohe) ),2)\nxgbr_valid_rmse1 = round(mean_squared_error(valid_target_ohe, model_xgbr1.predict(valid_features_ohe) ),2)\n\nprint('RMSE training set:   ', xgbr_train_rmse1) \nprint('RMSE validation set: ', xgbr_valid_rmse1) ",
      "metadata": {},
      "execution_count": 74,
      "outputs": [
        {
          "name": "stdout",
          "output_type": "stream",
          "text": "RMSE training set:    12651296.15\n\nRMSE validation set:  12712371.67\n"
        }
      ]
    },
    {
      "cell_type": "code",
      "source": "#fijar modelo 2\nmodel_xgbr2 = xg.XGBRegressor(booster ='gblinear', objective ='reg:squarederror', n_estimators = 100, seed = 12345,)\n\n#usar función para calcular tiempo y predicciones\nxgbr_train_time2, xgbr_pred_time2, xgbr_pred2= train_and_pred_time(model_xgbr2, 'xgbr', train_features_ohe, \n                                                                   train_target_ohe, valid_features_ohe)",
      "metadata": {},
      "execution_count": 75,
      "outputs": []
    },
    {
      "cell_type": "code",
      "source": "# raíz del error cuadrático medio\nxgbr_train_rmse2 = round(mean_squared_error(train_target_ohe, model_xgbr2.predict(train_features_ohe) ),2)\nxgbr_valid_rmse2 = round(mean_squared_error(valid_target_ohe, model_xgbr2.predict(valid_features_ohe) ),2)\n\nprint('RMSE training set:   ', xgbr_train_rmse2) \nprint('RMSE validation set: ', xgbr_valid_rmse2)",
      "metadata": {},
      "execution_count": 76,
      "outputs": [
        {
          "name": "stdout",
          "output_type": "stream",
          "text": "RMSE training set:    12377063.27\n\nRMSE validation set:  12421277.76\n"
        }
      ]
    },
    {
      "cell_type": "markdown",
      "source": "Los segundos parametros resultan en un menor resultado RMSE, por ello, se toma este modelo como el mejor de los dos.",
      "metadata": {}
    },
    {
      "cell_type": "markdown",
      "source": "## Comparación de modelos\n\nResumen de los mejores resultados de cada modelo.",
      "metadata": {}
    },
    {
      "cell_type": "code",
      "source": "#Tabla con información de los modelos creados\ntable = pd.DataFrame({'Model':['Linear Regression','Decision Tree Regressor','Random Forest Regressor',\n                               'LGBM Regressor','CatBoost Regressor','XGB Regressor'],\n'Training time (s)': [lr_train_time, dtr_train_time, rfr_train_time, ltb_train_time1, cbr_train_time, xgbr_train_time2],\n'Prediction_time (ms)': [lr_pred_time, dtr_pred_time, rfr_pred_time, ltb_pred_time1, cbr_pred_time, xgbr_pred_time2],\n'RMSE training set': [lr_train_rmse, dtr_train_rmse, rfr_train_rmse, ltb1_train_rmse, cbr_train_rmse, xgbr_train_rmse2],\n'RMSE validation set': [lr_valid_rmse, dtr_valid_rmse, rfr_valid_rmse, ltb1_valid_rmse, cbr_valid_rmse,  xgbr_valid_rmse2]})\n\ntable.sort_values('Training time (s)')",
      "metadata": {},
      "execution_count": 77,
      "outputs": [
        {
          "execution_count": 77,
          "output_type": "execute_result",
          "data": {
            "text/html": [
              "<div>\n",
              "<style scoped>\n",
              "    .dataframe tbody tr th:only-of-type {\n",
              "        vertical-align: middle;\n",
              "    }\n",
              "\n",
              "    .dataframe tbody tr th {\n",
              "        vertical-align: top;\n",
              "    }\n",
              "\n",
              "    .dataframe thead th {\n",
              "        text-align: right;\n",
              "    }\n",
              "</style>\n",
              "<table border=\"1\" class=\"dataframe\">\n",
              "  <thead>\n",
              "    <tr style=\"text-align: right;\">\n",
              "      <th></th>\n",
              "      <th>Model</th>\n",
              "      <th>Training time (s)</th>\n",
              "      <th>Prediction_time (ms)</th>\n",
              "      <th>RMSE training set</th>\n",
              "      <th>RMSE validation set</th>\n",
              "    </tr>\n",
              "  </thead>\n",
              "  <tbody>\n",
              "    <tr>\n",
              "      <th>0</th>\n",
              "      <td>Linear Regression</td>\n",
              "      <td>0.344542</td>\n",
              "      <td>0.087841</td>\n",
              "      <td>10372813.19</td>\n",
              "      <td>10508270.42</td>\n",
              "    </tr>\n",
              "    <tr>\n",
              "      <th>1</th>\n",
              "      <td>Decision Tree Regressor</td>\n",
              "      <td>1.006863</td>\n",
              "      <td>0.026818</td>\n",
              "      <td>2592833.38</td>\n",
              "      <td>3712084.25</td>\n",
              "    </tr>\n",
              "    <tr>\n",
              "      <th>2</th>\n",
              "      <td>Random Forest Regressor</td>\n",
              "      <td>1.220069</td>\n",
              "      <td>0.083944</td>\n",
              "      <td>4688229.51</td>\n",
              "      <td>4836478.22</td>\n",
              "    </tr>\n",
              "    <tr>\n",
              "      <th>3</th>\n",
              "      <td>LGBM Regressor</td>\n",
              "      <td>3.142206</td>\n",
              "      <td>0.683280</td>\n",
              "      <td>3383202.17</td>\n",
              "      <td>3478602.87</td>\n",
              "    </tr>\n",
              "    <tr>\n",
              "      <th>5</th>\n",
              "      <td>XGB Regressor</td>\n",
              "      <td>7.278522</td>\n",
              "      <td>0.027468</td>\n",
              "      <td>12377063.27</td>\n",
              "      <td>12421277.76</td>\n",
              "    </tr>\n",
              "    <tr>\n",
              "      <th>4</th>\n",
              "      <td>CatBoost Regressor</td>\n",
              "      <td>11.736225</td>\n",
              "      <td>0.108483</td>\n",
              "      <td>3244843.24</td>\n",
              "      <td>3366862.96</td>\n",
              "    </tr>\n",
              "  </tbody>\n",
              "</table>\n",
              "</div>"
            ],
            "text/plain": [
              "                     Model  Training time (s)  Prediction_time (ms)  \\\n",
              "0        Linear Regression           0.344542              0.087841   \n",
              "1  Decision Tree Regressor           1.006863              0.026818   \n",
              "2  Random Forest Regressor           1.220069              0.083944   \n",
              "3           LGBM Regressor           3.142206              0.683280   \n",
              "5            XGB Regressor           7.278522              0.027468   \n",
              "4       CatBoost Regressor          11.736225              0.108483   \n",
              "\n",
              "   RMSE training set  RMSE validation set  \n",
              "0        10372813.19          10508270.42  \n",
              "1         2592833.38           3712084.25  \n",
              "2         4688229.51           4836478.22  \n",
              "3         3383202.17           3478602.87  \n",
              "5        12377063.27          12421277.76  \n",
              "4         3244843.24           3366862.96  "
            ]
          },
          "metadata": {}
        }
      ]
    },
    {
      "cell_type": "code",
      "source": "#grafica de tiempo de entrenamiento\nsns.barplot(data=table.sort_values('Training time (s)'),x='Model',y='Training time (s)')\nplt.xticks(rotation='vertical')\nplt.show()",
      "metadata": {
        "scrolled": true
      },
      "execution_count": 78,
      "outputs": [
        {
          "output_type": "display_data",
          "data": {
            "image/png": "[encoded data removed]",
            "text/plain": [
              "<Figure size 432x288 with 1 Axes>"
            ]
          },
          "metadata": {
            "needs_background": "light"
          }
        }
      ]
    },
    {
      "cell_type": "code",
      "source": "#grafica de tiempo de predicción\nsns.barplot(data=table.sort_values('Prediction_time (ms)'),x='Model',y='Prediction_time (ms)')\nplt.xticks(rotation='vertical')\nplt.show()",
      "metadata": {
        "scrolled": true
      },
      "execution_count": 79,
      "outputs": [
        {
          "output_type": "display_data",
          "data": {
            "image/png": "[encoded data removed]",
            "text/plain": [
              "<Figure size 432x288 with 1 Axes>"
            ]
          },
          "metadata": {
            "needs_background": "light"
          }
        }
      ]
    },
    {
      "cell_type": "code",
      "source": "#grafica de RMS del conjunto de validación\nsns.barplot(data=table.sort_values('RMSE validation set'),x='Model',y='RMSE validation set')\nplt.xticks(rotation='vertical')\nplt.show()",
      "metadata": {},
      "execution_count": 80,
      "outputs": [
        {
          "output_type": "display_data",
          "data": {
            "image/png": "[encoded data removed]",
            "text/plain": [
              "<Figure size 432x288 with 1 Axes>"
            ]
          },
          "metadata": {
            "needs_background": "light"
          }
        }
      ]
    },
    {
      "cell_type": "markdown",
      "source": "## Conclusiones",
      "metadata": {}
    },
    {
      "cell_type": "markdown",
      "source": "### Preparación de datos\n\nAl preparar los datos se eliminaron datos debido a valores ausentes en distintas columnas. \n\nAsimismo, se rellenaron las columnas `VehicleType`, `FuelType` y `NotRepaired` con valores representativos.\n\nTras inspeccionar valores anormales, se eliminaron renglones con valores extrañamente bajos en las columnas `Price` y `Power`. \n\nEl análisis se llevo acabo con el 81.29 % de los datos originales.\n\n### Modelos de entrenamiento\n",
      "metadata": {}
    },
    {
      "cell_type": "markdown",
      "source": "Tomando en cuenta que los parámetros de interes son:\n- el tiempo requerido para el entrenamiento\n- la velocidad de la predicción\n- la calidad de la predicción\n\nAl comparar los tiempos de entrenamiento, los mejores son:\n1. la regresión lineal\n2. el árbol de regresión \n3. el bosque de regresión\n\nEl modelo de CatBoost tiene el mayor tiempo de entrenamiento, incluso duplica los tiempos de otros modelos.\n\nAl comparar los tiempos de predicción, los mejores son:\n1. el árbol de regresión \n2. el modelo XGBoost\n3. el bosque de regresión\n\nAl analizar la calidad de las predicciones, las mejores son del:\n1. modelo de CatBoost\n2. modelo de LightGBM\n3. árbol de regresión \n\nPartiendo de la calidad de los modelos, el modelo de CatBoost tiene un tiempo de entrenamiento muy alto, comparado con los otros modelos y el modelo de LightGBM tiene un alto tiempo de predicción y un alto valor RMSE. Esto los descarta como los mejores modelos. \n\nAl buscar un modelo con buen desempeño en todos los parámetros de interes, se recomienda el uso del **árbol de regresión** ya que siempre aparece en los mejores 3 en los parámetros de interes.",
      "metadata": {}
    }
  ]
}