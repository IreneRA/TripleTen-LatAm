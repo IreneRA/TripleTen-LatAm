{
  "metadata": {
    "toc": {
      "base_numbering": 1,
      "nav_menu": {},
      "number_sections": true,
      "sideBar": true,
      "skip_h1_title": true,
      "title_cell": "Table of Contents",
      "title_sidebar": "Contents",
      "toc_cell": false,
      "toc_position": {
        "height": "calc(100% - 180px)",
        "left": "10px",
        "top": "150px",
        "width": "176px"
      },
      "toc_section_display": true,
      "toc_window_display": true
    },
    "kernelspec": {
      "name": "SQLite",
      "display_name": "SQLite",
      "language": "sql"
    },
    "language_info": {
      "codemirror_mode": {
        "name": "ipython",
        "version": 3
      },
      "file_extension": ".py",
      "mimetype": "text/x-python",
      "name": "python",
      "nbconvert_exporter": "python",
      "pygments_lexer": "ipython3",
      "version": "3.9.5"
    }
  },
  "nbformat_minor": 4,
  "nbformat": 4,
  "cells": [
    {
      "cell_type": "markdown",
      "source": "# Análisis sobre viajes en taxi en Chicago\n\nEsta análisis tiene como objetivo encontrar patrones en la información disponible y comprender las preferencias de los pasajeros y el impacto de los factores externos en los viajes de taxi de la ciudad de Chicago.\n\nSe tiene información sobre viajes en taxi en Chicago, las compañias que hay, los vecindarios y el clima de dicha ciudad. Se cuenta con datos de distintos días de noviembre de 2017.",
      "metadata": {}
    },
    {
      "cell_type": "markdown",
      "source": "## Inicialización y vista general ",
      "metadata": {}
    },
    {
      "cell_type": "code",
      "source": "# Cargar todas las librerías\nimport pandas as pd\nimport matplotlib.pyplot as plt \nfrom scipy import stats as st\nimport seaborn as sn",
      "metadata": {},
      "execution_count": 42,
      "outputs": []
    },
    {
      "cell_type": "code",
      "source": "# Cargar archivos de datos en un DataFrame\ndf_company = pd.read_csv('/datasets/project_sql_result_01.csv')\ndf_trips = pd.read_csv('/datasets/project_sql_result_04.csv')\ndf_trips_la = pd.read_csv('/datasets/project_sql_result_07.csv')",
      "metadata": {},
      "execution_count": 3,
      "outputs": []
    },
    {
      "cell_type": "code",
      "source": "#Vista previa de df_company\ndf_company.head()",
      "metadata": {},
      "execution_count": 4,
      "outputs": [
        {
          "execution_count": 4,
          "output_type": "execute_result",
          "data": {
            "text/html": [
              "<div>\n",
              "<style scoped>\n",
              "    .dataframe tbody tr th:only-of-type {\n",
              "        vertical-align: middle;\n",
              "    }\n",
              "\n",
              "    .dataframe tbody tr th {\n",
              "        vertical-align: top;\n",
              "    }\n",
              "\n",
              "    .dataframe thead th {\n",
              "        text-align: right;\n",
              "    }\n",
              "</style>\n",
              "<table border=\"1\" class=\"dataframe\">\n",
              "  <thead>\n",
              "    <tr style=\"text-align: right;\">\n",
              "      <th></th>\n",
              "      <th>company_name</th>\n",
              "      <th>trips_amount</th>\n",
              "    </tr>\n",
              "  </thead>\n",
              "  <tbody>\n",
              "    <tr>\n",
              "      <th>0</th>\n",
              "      <td>Flash Cab</td>\n",
              "      <td>19558</td>\n",
              "    </tr>\n",
              "    <tr>\n",
              "      <th>1</th>\n",
              "      <td>Taxi Affiliation Services</td>\n",
              "      <td>11422</td>\n",
              "    </tr>\n",
              "    <tr>\n",
              "      <th>2</th>\n",
              "      <td>Medallion Leasing</td>\n",
              "      <td>10367</td>\n",
              "    </tr>\n",
              "    <tr>\n",
              "      <th>3</th>\n",
              "      <td>Yellow Cab</td>\n",
              "      <td>9888</td>\n",
              "    </tr>\n",
              "    <tr>\n",
              "      <th>4</th>\n",
              "      <td>Taxi Affiliation Service Yellow</td>\n",
              "      <td>9299</td>\n",
              "    </tr>\n",
              "  </tbody>\n",
              "</table>\n",
              "</div>"
            ],
            "text/plain": [
              "                      company_name  trips_amount\n",
              "0                        Flash Cab         19558\n",
              "1        Taxi Affiliation Services         11422\n",
              "2                Medallion Leasing         10367\n",
              "3                       Yellow Cab          9888\n",
              "4  Taxi Affiliation Service Yellow          9299"
            ]
          },
          "metadata": {}
        }
      ]
    },
    {
      "cell_type": "markdown",
      "source": "El dataset contiene datos sobre la cantidad de viajes hechos por cada compañia el 15 y 16 de noviembre de 2017 en Chicago y cuenta con las siguientes columnas:\n- `company_name` (nombre de la empresa de taxis)\n- `trips_amount` (número de viajes de cada compañía de taxis el 15 y 16 de noviembre de 2017)",
      "metadata": {}
    },
    {
      "cell_type": "code",
      "source": "#información general sobre df_company\ndf_company.info()",
      "metadata": {
        "scrolled": true
      },
      "execution_count": 5,
      "outputs": [
        {
          "name": "stdout",
          "output_type": "stream",
          "text": "<class 'pandas.core.frame.DataFrame'>\n\nRangeIndex: 64 entries, 0 to 63\n\nData columns (total 2 columns):\n\n #   Column        Non-Null Count  Dtype \n\n---  ------        --------------  ----- \n\n 0   company_name  64 non-null     object\n\n 1   trips_amount  64 non-null     int64 \n\ndtypes: int64(1), object(1)\n\nmemory usage: 1.1+ KB\n"
        }
      ]
    },
    {
      "cell_type": "code",
      "source": "df_company.describe()",
      "metadata": {},
      "execution_count": 6,
      "outputs": [
        {
          "execution_count": 6,
          "output_type": "execute_result",
          "data": {
            "text/html": [
              "<div>\n",
              "<style scoped>\n",
              "    .dataframe tbody tr th:only-of-type {\n",
              "        vertical-align: middle;\n",
              "    }\n",
              "\n",
              "    .dataframe tbody tr th {\n",
              "        vertical-align: top;\n",
              "    }\n",
              "\n",
              "    .dataframe thead th {\n",
              "        text-align: right;\n",
              "    }\n",
              "</style>\n",
              "<table border=\"1\" class=\"dataframe\">\n",
              "  <thead>\n",
              "    <tr style=\"text-align: right;\">\n",
              "      <th></th>\n",
              "      <th>trips_amount</th>\n",
              "    </tr>\n",
              "  </thead>\n",
              "  <tbody>\n",
              "    <tr>\n",
              "      <th>count</th>\n",
              "      <td>64.000000</td>\n",
              "    </tr>\n",
              "    <tr>\n",
              "      <th>mean</th>\n",
              "      <td>2145.484375</td>\n",
              "    </tr>\n",
              "    <tr>\n",
              "      <th>std</th>\n",
              "      <td>3812.310186</td>\n",
              "    </tr>\n",
              "    <tr>\n",
              "      <th>min</th>\n",
              "      <td>2.000000</td>\n",
              "    </tr>\n",
              "    <tr>\n",
              "      <th>25%</th>\n",
              "      <td>20.750000</td>\n",
              "    </tr>\n",
              "    <tr>\n",
              "      <th>50%</th>\n",
              "      <td>178.500000</td>\n",
              "    </tr>\n",
              "    <tr>\n",
              "      <th>75%</th>\n",
              "      <td>2106.500000</td>\n",
              "    </tr>\n",
              "    <tr>\n",
              "      <th>max</th>\n",
              "      <td>19558.000000</td>\n",
              "    </tr>\n",
              "  </tbody>\n",
              "</table>\n",
              "</div>"
            ],
            "text/plain": [
              "       trips_amount\n",
              "count     64.000000\n",
              "mean    2145.484375\n",
              "std     3812.310186\n",
              "min        2.000000\n",
              "25%       20.750000\n",
              "50%      178.500000\n",
              "75%     2106.500000\n",
              "max    19558.000000"
            ]
          },
          "metadata": {}
        }
      ]
    },
    {
      "cell_type": "code",
      "source": "#Vista previa de df_trips\ndf_trips.head()",
      "metadata": {},
      "execution_count": 7,
      "outputs": [
        {
          "execution_count": 7,
          "output_type": "execute_result",
          "data": {
            "text/html": [
              "<div>\n",
              "<style scoped>\n",
              "    .dataframe tbody tr th:only-of-type {\n",
              "        vertical-align: middle;\n",
              "    }\n",
              "\n",
              "    .dataframe tbody tr th {\n",
              "        vertical-align: top;\n",
              "    }\n",
              "\n",
              "    .dataframe thead th {\n",
              "        text-align: right;\n",
              "    }\n",
              "</style>\n",
              "<table border=\"1\" class=\"dataframe\">\n",
              "  <thead>\n",
              "    <tr style=\"text-align: right;\">\n",
              "      <th></th>\n",
              "      <th>dropoff_location_name</th>\n",
              "      <th>average_trips</th>\n",
              "    </tr>\n",
              "  </thead>\n",
              "  <tbody>\n",
              "    <tr>\n",
              "      <th>0</th>\n",
              "      <td>Loop</td>\n",
              "      <td>10727.466667</td>\n",
              "    </tr>\n",
              "    <tr>\n",
              "      <th>1</th>\n",
              "      <td>River North</td>\n",
              "      <td>9523.666667</td>\n",
              "    </tr>\n",
              "    <tr>\n",
              "      <th>2</th>\n",
              "      <td>Streeterville</td>\n",
              "      <td>6664.666667</td>\n",
              "    </tr>\n",
              "    <tr>\n",
              "      <th>3</th>\n",
              "      <td>West Loop</td>\n",
              "      <td>5163.666667</td>\n",
              "    </tr>\n",
              "    <tr>\n",
              "      <th>4</th>\n",
              "      <td>O'Hare</td>\n",
              "      <td>2546.900000</td>\n",
              "    </tr>\n",
              "  </tbody>\n",
              "</table>\n",
              "</div>"
            ],
            "text/plain": [
              "  dropoff_location_name  average_trips\n",
              "0                  Loop   10727.466667\n",
              "1           River North    9523.666667\n",
              "2         Streeterville    6664.666667\n",
              "3             West Loop    5163.666667\n",
              "4                O'Hare    2546.900000"
            ]
          },
          "metadata": {}
        }
      ]
    },
    {
      "cell_type": "markdown",
      "source": "El dataset contiene datos de la terminación de viajes de Chicago en noviembre de 2017 y cuenta con las siguientes columnas:\n- `dropoff_location_name` (barrios donde finalizaron los viajes)\n- `average_trips` (el promedio de viajes que terminaron en cada barrio)",
      "metadata": {}
    },
    {
      "cell_type": "code",
      "source": "#información general sobre df_trips\ndf_trips.info()",
      "metadata": {
        "scrolled": true
      },
      "execution_count": 8,
      "outputs": [
        {
          "name": "stdout",
          "output_type": "stream",
          "text": "<class 'pandas.core.frame.DataFrame'>\n\nRangeIndex: 94 entries, 0 to 93\n\nData columns (total 2 columns):\n\n #   Column                 Non-Null Count  Dtype  \n\n---  ------                 --------------  -----  \n\n 0   dropoff_location_name  94 non-null     object \n\n 1   average_trips          94 non-null     float64\n\ndtypes: float64(1), object(1)\n\nmemory usage: 1.6+ KB\n"
        }
      ]
    },
    {
      "cell_type": "code",
      "source": "df_trips.describe()",
      "metadata": {},
      "execution_count": 9,
      "outputs": [
        {
          "execution_count": 9,
          "output_type": "execute_result",
          "data": {
            "text/html": [
              "<div>\n",
              "<style scoped>\n",
              "    .dataframe tbody tr th:only-of-type {\n",
              "        vertical-align: middle;\n",
              "    }\n",
              "\n",
              "    .dataframe tbody tr th {\n",
              "        vertical-align: top;\n",
              "    }\n",
              "\n",
              "    .dataframe thead th {\n",
              "        text-align: right;\n",
              "    }\n",
              "</style>\n",
              "<table border=\"1\" class=\"dataframe\">\n",
              "  <thead>\n",
              "    <tr style=\"text-align: right;\">\n",
              "      <th></th>\n",
              "      <th>average_trips</th>\n",
              "    </tr>\n",
              "  </thead>\n",
              "  <tbody>\n",
              "    <tr>\n",
              "      <th>count</th>\n",
              "      <td>94.000000</td>\n",
              "    </tr>\n",
              "    <tr>\n",
              "      <th>mean</th>\n",
              "      <td>599.953728</td>\n",
              "    </tr>\n",
              "    <tr>\n",
              "      <th>std</th>\n",
              "      <td>1714.591098</td>\n",
              "    </tr>\n",
              "    <tr>\n",
              "      <th>min</th>\n",
              "      <td>1.800000</td>\n",
              "    </tr>\n",
              "    <tr>\n",
              "      <th>25%</th>\n",
              "      <td>14.266667</td>\n",
              "    </tr>\n",
              "    <tr>\n",
              "      <th>50%</th>\n",
              "      <td>52.016667</td>\n",
              "    </tr>\n",
              "    <tr>\n",
              "      <th>75%</th>\n",
              "      <td>298.858333</td>\n",
              "    </tr>\n",
              "    <tr>\n",
              "      <th>max</th>\n",
              "      <td>10727.466667</td>\n",
              "    </tr>\n",
              "  </tbody>\n",
              "</table>\n",
              "</div>"
            ],
            "text/plain": [
              "       average_trips\n",
              "count      94.000000\n",
              "mean      599.953728\n",
              "std      1714.591098\n",
              "min         1.800000\n",
              "25%        14.266667\n",
              "50%        52.016667\n",
              "75%       298.858333\n",
              "max     10727.466667"
            ]
          },
          "metadata": {}
        }
      ]
    },
    {
      "cell_type": "code",
      "source": "#Vista previa de df_trips_la\ndf_trips_la.head()",
      "metadata": {
        "scrolled": true
      },
      "execution_count": 10,
      "outputs": [
        {
          "execution_count": 10,
          "output_type": "execute_result",
          "data": {
            "text/html": [
              "<div>\n",
              "<style scoped>\n",
              "    .dataframe tbody tr th:only-of-type {\n",
              "        vertical-align: middle;\n",
              "    }\n",
              "\n",
              "    .dataframe tbody tr th {\n",
              "        vertical-align: top;\n",
              "    }\n",
              "\n",
              "    .dataframe thead th {\n",
              "        text-align: right;\n",
              "    }\n",
              "</style>\n",
              "<table border=\"1\" class=\"dataframe\">\n",
              "  <thead>\n",
              "    <tr style=\"text-align: right;\">\n",
              "      <th></th>\n",
              "      <th>start_ts</th>\n",
              "      <th>weather_conditions</th>\n",
              "      <th>duration_seconds</th>\n",
              "    </tr>\n",
              "  </thead>\n",
              "  <tbody>\n",
              "    <tr>\n",
              "      <th>0</th>\n",
              "      <td>2017-11-25 16:00:00</td>\n",
              "      <td>Good</td>\n",
              "      <td>2410.0</td>\n",
              "    </tr>\n",
              "    <tr>\n",
              "      <th>1</th>\n",
              "      <td>2017-11-25 14:00:00</td>\n",
              "      <td>Good</td>\n",
              "      <td>1920.0</td>\n",
              "    </tr>\n",
              "    <tr>\n",
              "      <th>2</th>\n",
              "      <td>2017-11-25 12:00:00</td>\n",
              "      <td>Good</td>\n",
              "      <td>1543.0</td>\n",
              "    </tr>\n",
              "    <tr>\n",
              "      <th>3</th>\n",
              "      <td>2017-11-04 10:00:00</td>\n",
              "      <td>Good</td>\n",
              "      <td>2512.0</td>\n",
              "    </tr>\n",
              "    <tr>\n",
              "      <th>4</th>\n",
              "      <td>2017-11-11 07:00:00</td>\n",
              "      <td>Good</td>\n",
              "      <td>1440.0</td>\n",
              "    </tr>\n",
              "  </tbody>\n",
              "</table>\n",
              "</div>"
            ],
            "text/plain": [
              "              start_ts weather_conditions  duration_seconds\n",
              "0  2017-11-25 16:00:00               Good            2410.0\n",
              "1  2017-11-25 14:00:00               Good            1920.0\n",
              "2  2017-11-25 12:00:00               Good            1543.0\n",
              "3  2017-11-04 10:00:00               Good            2512.0\n",
              "4  2017-11-11 07:00:00               Good            1440.0"
            ]
          },
          "metadata": {}
        }
      ]
    },
    {
      "cell_type": "markdown",
      "source": "El dataset contiene datos sobre viajes hechos los sábados de noviembre, desde el Loop hasta el Aeropuerto Internacional O'Hare y tiene las siguientes columnas:\n- `start_ts` (fecha y hora de la recogida)\n- `weather_conditions` (condiciones climáticas en el momento en el que comenzó el viaje)\n- `duration_seconds` (duración del viaje en segundos)",
      "metadata": {}
    },
    {
      "cell_type": "code",
      "source": "#información general sobre df_trips_la\ndf_trips_la.info()",
      "metadata": {
        "scrolled": true
      },
      "execution_count": 11,
      "outputs": [
        {
          "name": "stdout",
          "output_type": "stream",
          "text": "<class 'pandas.core.frame.DataFrame'>\n\nRangeIndex: 1068 entries, 0 to 1067\n\nData columns (total 3 columns):\n\n #   Column              Non-Null Count  Dtype  \n\n---  ------              --------------  -----  \n\n 0   start_ts            1068 non-null   object \n\n 1   weather_conditions  1068 non-null   object \n\n 2   duration_seconds    1068 non-null   float64\n\ndtypes: float64(1), object(2)\n\nmemory usage: 25.2+ KB\n"
        }
      ]
    },
    {
      "cell_type": "code",
      "source": "df_trips_la.describe()",
      "metadata": {},
      "execution_count": 12,
      "outputs": [
        {
          "execution_count": 12,
          "output_type": "execute_result",
          "data": {
            "text/html": [
              "<div>\n",
              "<style scoped>\n",
              "    .dataframe tbody tr th:only-of-type {\n",
              "        vertical-align: middle;\n",
              "    }\n",
              "\n",
              "    .dataframe tbody tr th {\n",
              "        vertical-align: top;\n",
              "    }\n",
              "\n",
              "    .dataframe thead th {\n",
              "        text-align: right;\n",
              "    }\n",
              "</style>\n",
              "<table border=\"1\" class=\"dataframe\">\n",
              "  <thead>\n",
              "    <tr style=\"text-align: right;\">\n",
              "      <th></th>\n",
              "      <th>duration_seconds</th>\n",
              "    </tr>\n",
              "  </thead>\n",
              "  <tbody>\n",
              "    <tr>\n",
              "      <th>count</th>\n",
              "      <td>1068.000000</td>\n",
              "    </tr>\n",
              "    <tr>\n",
              "      <th>mean</th>\n",
              "      <td>2071.731273</td>\n",
              "    </tr>\n",
              "    <tr>\n",
              "      <th>std</th>\n",
              "      <td>769.461125</td>\n",
              "    </tr>\n",
              "    <tr>\n",
              "      <th>min</th>\n",
              "      <td>0.000000</td>\n",
              "    </tr>\n",
              "    <tr>\n",
              "      <th>25%</th>\n",
              "      <td>1438.250000</td>\n",
              "    </tr>\n",
              "    <tr>\n",
              "      <th>50%</th>\n",
              "      <td>1980.000000</td>\n",
              "    </tr>\n",
              "    <tr>\n",
              "      <th>75%</th>\n",
              "      <td>2580.000000</td>\n",
              "    </tr>\n",
              "    <tr>\n",
              "      <th>max</th>\n",
              "      <td>7440.000000</td>\n",
              "    </tr>\n",
              "  </tbody>\n",
              "</table>\n",
              "</div>"
            ],
            "text/plain": [
              "       duration_seconds\n",
              "count       1068.000000\n",
              "mean        2071.731273\n",
              "std          769.461125\n",
              "min            0.000000\n",
              "25%         1438.250000\n",
              "50%         1980.000000\n",
              "75%         2580.000000\n",
              "max         7440.000000"
            ]
          },
          "metadata": {}
        }
      ]
    },
    {
      "cell_type": "markdown",
      "source": "La información anterior muestra que los tres DataFrames tienen los tipos de datos correctos, a excepcion de una columna del último df, y no hay prescencia de valores ausentes.",
      "metadata": {}
    },
    {
      "cell_type": "markdown",
      "source": "## Preprocesamiento de datos\nSe analizan a fondo los datos y se hacen las correcciones necesarias.\n\n### Buscar y corregir datos duplicados\nSe analiza la columna `company_name` del DataFrame df_company, la columna `dropoff_location_name` del DataFrame df_trips y la columna `weather_conditions` en busca de valores extraños o duplicados.",
      "metadata": {}
    },
    {
      "cell_type": "code",
      "source": "#Se buscan valores duplicados en la columna company_name\ndf_company['company_name'].sort_values().unique()",
      "metadata": {},
      "execution_count": 13,
      "outputs": [
        {
          "execution_count": 13,
          "output_type": "execute_result",
          "data": {
            "text/plain": [
              "array(['0118 - 42111 Godfrey S. Awir', '1085 - 72312 N and W Cab Co',\n",
              "       '1469 - 64126 Omar Jada', '2092 - 61288 Sbeih Company',\n",
              "       '2192 - 73487 Zeymane Corp', '2241 - 44667 - Felman Corp',\n",
              "       '24 Seven Taxi', '2733 - 74600 Benny Jona',\n",
              "       '2809 - 95474 C & D Cab Co Inc.', '2823 - 73307 Lee Express Inc',\n",
              "       '3011 - 66308 JBL Cab Inc.', '303 Taxi',\n",
              "       '3556 - 36214 RC Andrews Cab', '3591 - 63480 Chuks Cab',\n",
              "       '3620 - 52292 David K. Cab Corp.',\n",
              "       '3623 - 72222 Arrington Enterprises', '3721 - Santamaria Express',\n",
              "       '4053 - 40193 Adwar H. Nikola', '4615 - 83503 Tyrone Henderson',\n",
              "       '4623 - 27290 Jay Kim', '5 Star Taxi', '5006 - 39261 Salifu Bawa',\n",
              "       '5062 - 34841 Sam Mestas', '5074 - 54002 Ahzmi Inc',\n",
              "       '5874 - 73628 Sergey Cab Corp.', '5997 - 65283 AW Services Inc.',\n",
              "       '6057 - 24657 Richard Addo', '6574 - Babylon Express Inc.',\n",
              "       '6742 - 83735 Tasha Ride Inc', '6743 - 78771 Luhak Corp',\n",
              "       'American United', 'American United Taxi Affiliation',\n",
              "       'Blue Diamond', 'Blue Ribbon Taxi Association Inc.',\n",
              "       'Checker Taxi', 'Checker Taxi Affiliation',\n",
              "       'Chicago Carriage Cab Corp', 'Chicago Independents',\n",
              "       'Chicago Medallion Leasing INC', 'Chicago Medallion Management',\n",
              "       'Chicago Star Taxicab', 'Chicago Taxicab',\n",
              "       'Choice Taxi Association', 'City Service',\n",
              "       'Dispatch Taxi Affiliation', 'Flash Cab', 'Globe Taxi',\n",
              "       'Gold Coast Taxi', 'KOAM Taxi Association', 'Leonard Cab Co',\n",
              "       'Medallion Leasing', 'Metro Group', 'Metro Jet Taxi A',\n",
              "       'Norshore Cab', 'Nova Taxi Affiliation Llc',\n",
              "       'Patriot Taxi Dba Peace Taxi Association',\n",
              "       'Service Taxi Association', 'Setare Inc',\n",
              "       'Star North Management LLC', 'Sun Taxi',\n",
              "       'Taxi Affiliation Service Yellow', 'Taxi Affiliation Services',\n",
              "       'Top Cab Affiliation', 'Yellow Cab'], dtype=object)"
            ]
          },
          "metadata": {}
        }
      ]
    },
    {
      "cell_type": "code",
      "source": "#corregir compañias duplicadas\ndf_company['company_name'] = df_company['company_name'].replace('American United', 'American United Taxi Affiliation')\ndf_company['company_name'] = df_company['company_name'].replace('Checker Taxi','Checker Taxi Affiliation')\ndf_company['company_name'] = df_company['company_name'].replace('Medallion Leasing','Chicago Medallion Leasing INC')",
      "metadata": {},
      "execution_count": 14,
      "outputs": []
    },
    {
      "cell_type": "code",
      "source": "#unir viajes de compañias duplicadas\nfor company in ['American United Taxi Affiliation','Checker Taxi Affiliation','Chicago Medallion Leasing INC']:\n    print(df_company[df_company['company_name']== company])\n    print()",
      "metadata": {
        "scrolled": true
      },
      "execution_count": 15,
      "outputs": [
        {
          "name": "stdout",
          "output_type": "stream",
          "text": "                        company_name  trips_amount\n\n21  American United Taxi Affiliation          1404\n\n31  American United Taxi Affiliation           210\n\n\n\n                company_name  trips_amount\n\n15  Checker Taxi Affiliation          2216\n\n20  Checker Taxi Affiliation          1486\n\n\n\n                     company_name  trips_amount\n\n2   Chicago Medallion Leasing INC         10367\n\n19  Chicago Medallion Leasing INC          1607\n\n\n"
        }
      ]
    },
    {
      "cell_type": "code",
      "source": "#sumar viajes de compañias iguañes\ndf_company.loc[21,'trips_amount'] = 1404+210\ndf_company.loc[15,'trips_amount'] = 2216+1486\ndf_company.loc[2,'trips_amount'] = 10367+1607\n\n#Eliminar compañias duplicadas\ndf_company=df_company.drop([31, 20, 19],axis=0).reset_index(drop=True)",
      "metadata": {
        "scrolled": true
      },
      "execution_count": 16,
      "outputs": []
    },
    {
      "cell_type": "code",
      "source": "#verificar resultado\ndf_company.info()",
      "metadata": {},
      "execution_count": 17,
      "outputs": [
        {
          "name": "stdout",
          "output_type": "stream",
          "text": "<class 'pandas.core.frame.DataFrame'>\n\nRangeIndex: 61 entries, 0 to 60\n\nData columns (total 2 columns):\n\n #   Column        Non-Null Count  Dtype \n\n---  ------        --------------  ----- \n\n 0   company_name  61 non-null     object\n\n 1   trips_amount  61 non-null     int64 \n\ndtypes: int64(1), object(1)\n\nmemory usage: 1.1+ KB\n"
        }
      ]
    },
    {
      "cell_type": "code",
      "source": "#Se buscan valores duplicados en la columna dropoff_location_name\ndf_trips['dropoff_location_name'].sort_values().unique()",
      "metadata": {},
      "execution_count": 18,
      "outputs": [
        {
          "execution_count": 18,
          "output_type": "execute_result",
          "data": {
            "text/plain": [
              "array(['Albany Park', 'Andersonville', 'Archer Heights', 'Armour Square',\n",
              "       'Ashburn', 'Auburn Gresham', 'Austin', 'Avalon Park', 'Avondale',\n",
              "       'Belmont Cragin', 'Beverly', 'Boystown', 'Bridgeport',\n",
              "       'Brighton Park', 'Bucktown', 'Burnside', 'Calumet Heights',\n",
              "       'Chatham', 'Chicago Lawn', 'Chinatown', 'Clearing', 'Douglas',\n",
              "       'Dunning', 'East Side', 'East Village', 'Edgewater', 'Edison Park',\n",
              "       'Englewood', 'Fuller Park', 'Gage Park', 'Garfield Park',\n",
              "       'Garfield Ridge', 'Gold Coast', 'Grand Boulevard',\n",
              "       'Grand Crossing', 'Grant Park', 'Hegewisch', 'Hermosa',\n",
              "       'Humboldt Park', 'Hyde Park', 'Irving Park', 'Jackson Park',\n",
              "       'Jefferson Park', 'Kenwood', 'Lake View', 'Lincoln Park',\n",
              "       'Lincoln Square', 'Little Italy, UIC', 'Little Village',\n",
              "       'Logan Square', 'Loop', 'Lower West Side', 'Mckinley Park',\n",
              "       'Montclare', 'Morgan Park', 'Mount Greenwood', 'Museum Campus',\n",
              "       'Near South Side', 'New City', 'North Center', 'North Lawndale',\n",
              "       'North Park', 'Norwood Park', \"O'Hare\", 'Oakland', 'Old Town',\n",
              "       'Portage Park', 'Pullman', 'River North', 'Riverdale',\n",
              "       'Rogers Park', 'Roseland', 'Rush & Division',\n",
              "       'Sauganash,Forest Glen', 'Sheffield & DePaul', 'South Chicago',\n",
              "       'South Deering', 'South Shore', 'Streeterville',\n",
              "       'Ukrainian Village', 'Undef', 'United Center', 'Uptown',\n",
              "       'Washington Heights', 'Washington Park', 'West Elsdon',\n",
              "       'West Lawn', 'West Loop', 'West Pullman', 'West Ridge',\n",
              "       'West Town', 'Wicker Park', 'Woodlawn', 'Wrigleyville'],\n",
              "      dtype=object)"
            ]
          },
          "metadata": {}
        }
      ]
    },
    {
      "cell_type": "code",
      "source": "#Se buscan valores duplicados en la columna weather_conditions\ndf_trips_la['weather_conditions'].sort_values().unique()",
      "metadata": {},
      "execution_count": 19,
      "outputs": [
        {
          "execution_count": 19,
          "output_type": "execute_result",
          "data": {
            "text/plain": [
              "array(['Bad', 'Good'], dtype=object)"
            ]
          },
          "metadata": {}
        }
      ]
    },
    {
      "cell_type": "markdown",
      "source": "No se encuentran valores duplicados ni extraños en las columnas `dropoff_location_name` y `weather_conditions`.\n\n### Corregir tipo de dato\nLa unica columna con un tipo de dato errroneo es `start_ts` del DataFrame df_trips_la pues no es de tipo fecha.",
      "metadata": {}
    },
    {
      "cell_type": "code",
      "source": "#cambiar tipo de dato\ndf_trips_la['start_ts'] = pd.to_datetime(df_trips_la['start_ts'],format='%Y-%m-%d %H:%M')\n#verificar cambio\ndf_trips_la.info()",
      "metadata": {},
      "execution_count": 20,
      "outputs": [
        {
          "name": "stdout",
          "output_type": "stream",
          "text": "<class 'pandas.core.frame.DataFrame'>\n\nRangeIndex: 1068 entries, 0 to 1067\n\nData columns (total 3 columns):\n\n #   Column              Non-Null Count  Dtype         \n\n---  ------              --------------  -----         \n\n 0   start_ts            1068 non-null   datetime64[ns]\n\n 1   weather_conditions  1068 non-null   object        \n\n 2   duration_seconds    1068 non-null   float64       \n\ndtypes: datetime64[ns](1), float64(1), object(1)\n\nmemory usage: 25.2+ KB\n"
        }
      ]
    },
    {
      "cell_type": "markdown",
      "source": "### Enriquecer datos \nSe agrega la columna `day` al DataFrame df_trips_la.",
      "metadata": {}
    },
    {
      "cell_type": "code",
      "source": "df_trips_la['weekday'] = df_trips_la['start_ts'].dt.weekday \ndf_trips_la.head(3)",
      "metadata": {},
      "execution_count": 21,
      "outputs": [
        {
          "execution_count": 21,
          "output_type": "execute_result",
          "data": {
            "text/html": [
              "<div>\n",
              "<style scoped>\n",
              "    .dataframe tbody tr th:only-of-type {\n",
              "        vertical-align: middle;\n",
              "    }\n",
              "\n",
              "    .dataframe tbody tr th {\n",
              "        vertical-align: top;\n",
              "    }\n",
              "\n",
              "    .dataframe thead th {\n",
              "        text-align: right;\n",
              "    }\n",
              "</style>\n",
              "<table border=\"1\" class=\"dataframe\">\n",
              "  <thead>\n",
              "    <tr style=\"text-align: right;\">\n",
              "      <th></th>\n",
              "      <th>start_ts</th>\n",
              "      <th>weather_conditions</th>\n",
              "      <th>duration_seconds</th>\n",
              "      <th>weekday</th>\n",
              "    </tr>\n",
              "  </thead>\n",
              "  <tbody>\n",
              "    <tr>\n",
              "      <th>0</th>\n",
              "      <td>2017-11-25 16:00:00</td>\n",
              "      <td>Good</td>\n",
              "      <td>2410.0</td>\n",
              "      <td>5</td>\n",
              "    </tr>\n",
              "    <tr>\n",
              "      <th>1</th>\n",
              "      <td>2017-11-25 14:00:00</td>\n",
              "      <td>Good</td>\n",
              "      <td>1920.0</td>\n",
              "      <td>5</td>\n",
              "    </tr>\n",
              "    <tr>\n",
              "      <th>2</th>\n",
              "      <td>2017-11-25 12:00:00</td>\n",
              "      <td>Good</td>\n",
              "      <td>1543.0</td>\n",
              "      <td>5</td>\n",
              "    </tr>\n",
              "  </tbody>\n",
              "</table>\n",
              "</div>"
            ],
            "text/plain": [
              "             start_ts weather_conditions  duration_seconds  weekday\n",
              "0 2017-11-25 16:00:00               Good            2410.0        5\n",
              "1 2017-11-25 14:00:00               Good            1920.0        5\n",
              "2 2017-11-25 12:00:00               Good            1543.0        5"
            ]
          },
          "metadata": {}
        }
      ]
    },
    {
      "cell_type": "code",
      "source": "#se comprueba que únicamente hay datos del día sábado\ndf_trips_la.groupby(['weekday','weather_conditions']).count()",
      "metadata": {},
      "execution_count": 22,
      "outputs": [
        {
          "execution_count": 22,
          "output_type": "execute_result",
          "data": {
            "text/html": [
              "<div>\n",
              "<style scoped>\n",
              "    .dataframe tbody tr th:only-of-type {\n",
              "        vertical-align: middle;\n",
              "    }\n",
              "\n",
              "    .dataframe tbody tr th {\n",
              "        vertical-align: top;\n",
              "    }\n",
              "\n",
              "    .dataframe thead th {\n",
              "        text-align: right;\n",
              "    }\n",
              "</style>\n",
              "<table border=\"1\" class=\"dataframe\">\n",
              "  <thead>\n",
              "    <tr style=\"text-align: right;\">\n",
              "      <th></th>\n",
              "      <th></th>\n",
              "      <th>start_ts</th>\n",
              "      <th>duration_seconds</th>\n",
              "    </tr>\n",
              "    <tr>\n",
              "      <th>weekday</th>\n",
              "      <th>weather_conditions</th>\n",
              "      <th></th>\n",
              "      <th></th>\n",
              "    </tr>\n",
              "  </thead>\n",
              "  <tbody>\n",
              "    <tr>\n",
              "      <th rowspan=\"2\" valign=\"top\">5</th>\n",
              "      <th>Bad</th>\n",
              "      <td>180</td>\n",
              "      <td>180</td>\n",
              "    </tr>\n",
              "    <tr>\n",
              "      <th>Good</th>\n",
              "      <td>888</td>\n",
              "      <td>888</td>\n",
              "    </tr>\n",
              "  </tbody>\n",
              "</table>\n",
              "</div>"
            ],
            "text/plain": [
              "                            start_ts  duration_seconds\n",
              "weekday weather_conditions                            \n",
              "5       Bad                      180               180\n",
              "        Good                     888               888"
            ]
          },
          "metadata": {}
        }
      ]
    },
    {
      "cell_type": "markdown",
      "source": "## Analizar barrios en términos de finalización del recorrido\nSe examina el número de viajes hechos hacia cada barrio de Chicago.",
      "metadata": {}
    },
    {
      "cell_type": "code",
      "source": "#grafica de cantidades de viajes terminados por barrio\ndf_trips['dropoff_reduced']= df_trips['dropoff_location_name'].where( df_trips['average_trips']>70,'Others')\ndf_trips.groupby('dropoff_reduced').sum().sort_values(by='average_trips',ascending=False\n                                                                                     ).plot(kind='bar',figsize=(17,4))\nplt.title('Barrios principales para finalizar recorrido')\nplt.show()",
      "metadata": {
        "scrolled": true
      },
      "execution_count": 23,
      "outputs": [
        {
          "output_type": "display_data",
          "data": {
            "image/png": "[encoded data removed]",
            "text/plain": [
              "<Figure size 1224x288 with 1 Axes>"
            ]
          },
          "metadata": {
            "needs_background": "light"
          }
        }
      ]
    },
    {
      "cell_type": "code",
      "source": "#barrios principales\ndf_trips.groupby('dropoff_reduced').sum().sort_values(by='average_trips',ascending=False).head(10)",
      "metadata": {
        "scrolled": true
      },
      "execution_count": 24,
      "outputs": [
        {
          "execution_count": 24,
          "output_type": "execute_result",
          "data": {
            "text/html": [
              "<div>\n",
              "<style scoped>\n",
              "    .dataframe tbody tr th:only-of-type {\n",
              "        vertical-align: middle;\n",
              "    }\n",
              "\n",
              "    .dataframe tbody tr th {\n",
              "        vertical-align: top;\n",
              "    }\n",
              "\n",
              "    .dataframe thead th {\n",
              "        text-align: right;\n",
              "    }\n",
              "</style>\n",
              "<table border=\"1\" class=\"dataframe\">\n",
              "  <thead>\n",
              "    <tr style=\"text-align: right;\">\n",
              "      <th></th>\n",
              "      <th>average_trips</th>\n",
              "    </tr>\n",
              "    <tr>\n",
              "      <th>dropoff_reduced</th>\n",
              "      <th></th>\n",
              "    </tr>\n",
              "  </thead>\n",
              "  <tbody>\n",
              "    <tr>\n",
              "      <th>Loop</th>\n",
              "      <td>10727.466667</td>\n",
              "    </tr>\n",
              "    <tr>\n",
              "      <th>River North</th>\n",
              "      <td>9523.666667</td>\n",
              "    </tr>\n",
              "    <tr>\n",
              "      <th>Streeterville</th>\n",
              "      <td>6664.666667</td>\n",
              "    </tr>\n",
              "    <tr>\n",
              "      <th>West Loop</th>\n",
              "      <td>5163.666667</td>\n",
              "    </tr>\n",
              "    <tr>\n",
              "      <th>O'Hare</th>\n",
              "      <td>2546.900000</td>\n",
              "    </tr>\n",
              "    <tr>\n",
              "      <th>Lake View</th>\n",
              "      <td>2420.966667</td>\n",
              "    </tr>\n",
              "    <tr>\n",
              "      <th>Grant Park</th>\n",
              "      <td>2068.533333</td>\n",
              "    </tr>\n",
              "    <tr>\n",
              "      <th>Museum Campus</th>\n",
              "      <td>1510.000000</td>\n",
              "    </tr>\n",
              "    <tr>\n",
              "      <th>Gold Coast</th>\n",
              "      <td>1364.233333</td>\n",
              "    </tr>\n",
              "    <tr>\n",
              "      <th>Sheffield &amp; DePaul</th>\n",
              "      <td>1259.766667</td>\n",
              "    </tr>\n",
              "  </tbody>\n",
              "</table>\n",
              "</div>"
            ],
            "text/plain": [
              "                    average_trips\n",
              "dropoff_reduced                  \n",
              "Loop                 10727.466667\n",
              "River North           9523.666667\n",
              "Streeterville         6664.666667\n",
              "West Loop             5163.666667\n",
              "O'Hare                2546.900000\n",
              "Lake View             2420.966667\n",
              "Grant Park            2068.533333\n",
              "Museum Campus         1510.000000\n",
              "Gold Coast            1364.233333\n",
              "Sheffield & DePaul    1259.766667"
            ]
          },
          "metadata": {}
        }
      ]
    },
    {
      "cell_type": "code",
      "source": "print('Los 10 barrios principales en terminación de viajes representan el', \n      round(df_trips[df_trips['average_trips']>1259]['average_trips'].sum()/df_trips['average_trips'].sum()*100,2),\n      '% de todos los viajes.')",
      "metadata": {
        "scrolled": true
      },
      "execution_count": 25,
      "outputs": [
        {
          "name": "stdout",
          "output_type": "stream",
          "text": "Los 10 barrios principales en terminación de viajes representan el 76.69 % de todos los viajes.\n"
        }
      ]
    },
    {
      "cell_type": "code",
      "source": "print('El barrio Loop, en terminación de viajes, representan el',round(10727.466/df_trips['average_trips'].sum()*100,2\n                                                                                          ),'% de todos los viajes.')",
      "metadata": {},
      "execution_count": 26,
      "outputs": [
        {
          "name": "stdout",
          "output_type": "stream",
          "text": "El barrio Loop, en terminación de viajes, representan el 19.02 % de todos los viajes.\n"
        }
      ]
    },
    {
      "cell_type": "markdown",
      "source": "El barrio Loop es donde terminan la mayoría de los viajes, seguido por los barrios River North, Streeterville y West Loop. Los siguientes vecindarios tienen la mitad o menos viajes que los ya mencionados.",
      "metadata": {}
    },
    {
      "cell_type": "markdown",
      "source": "## Analizar empresas de taxis\nSe analiza la cantidad de viajes por empresa de taxis",
      "metadata": {}
    },
    {
      "cell_type": "code",
      "source": "#grafica de cantidades de viajes hechos por cada compañia\ndf_company['company_name_reduced'] = df_company['company_name'].where(df_company['trips_amount']>500,'Others')\ndf_company.groupby('company_name_reduced').sum().sort_values(by='trips_amount',ascending=False\n                                                                                    ).plot(kind='bar',figsize=(17,4))\nplt.title('Viajes hechos por compañia de taxis')\nplt.show()",
      "metadata": {
        "scrolled": true
      },
      "execution_count": 27,
      "outputs": [
        {
          "output_type": "display_data",
          "data": {
            "image/png": "[encoded data removed]",
            "text/plain": [
              "<Figure size 1224x288 with 1 Axes>"
            ]
          },
          "metadata": {
            "needs_background": "light"
          }
        }
      ]
    },
    {
      "cell_type": "code",
      "source": "#Compañias de taxis principales\ndf_company.groupby('company_name_reduced').sum().sort_values(by='trips_amount',ascending=False).head(10)",
      "metadata": {
        "scrolled": true
      },
      "execution_count": 28,
      "outputs": [
        {
          "execution_count": 28,
          "output_type": "execute_result",
          "data": {
            "text/html": [
              "<div>\n",
              "<style scoped>\n",
              "    .dataframe tbody tr th:only-of-type {\n",
              "        vertical-align: middle;\n",
              "    }\n",
              "\n",
              "    .dataframe tbody tr th {\n",
              "        vertical-align: top;\n",
              "    }\n",
              "\n",
              "    .dataframe thead th {\n",
              "        text-align: right;\n",
              "    }\n",
              "</style>\n",
              "<table border=\"1\" class=\"dataframe\">\n",
              "  <thead>\n",
              "    <tr style=\"text-align: right;\">\n",
              "      <th></th>\n",
              "      <th>trips_amount</th>\n",
              "    </tr>\n",
              "    <tr>\n",
              "      <th>company_name_reduced</th>\n",
              "      <th></th>\n",
              "    </tr>\n",
              "  </thead>\n",
              "  <tbody>\n",
              "    <tr>\n",
              "      <th>Flash Cab</th>\n",
              "      <td>19558</td>\n",
              "    </tr>\n",
              "    <tr>\n",
              "      <th>Chicago Medallion Leasing INC</th>\n",
              "      <td>11974</td>\n",
              "    </tr>\n",
              "    <tr>\n",
              "      <th>Taxi Affiliation Services</th>\n",
              "      <td>11422</td>\n",
              "    </tr>\n",
              "    <tr>\n",
              "      <th>Yellow Cab</th>\n",
              "      <td>9888</td>\n",
              "    </tr>\n",
              "    <tr>\n",
              "      <th>Taxi Affiliation Service Yellow</th>\n",
              "      <td>9299</td>\n",
              "    </tr>\n",
              "    <tr>\n",
              "      <th>Chicago Carriage Cab Corp</th>\n",
              "      <td>9181</td>\n",
              "    </tr>\n",
              "    <tr>\n",
              "      <th>City Service</th>\n",
              "      <td>8448</td>\n",
              "    </tr>\n",
              "    <tr>\n",
              "      <th>Sun Taxi</th>\n",
              "      <td>7701</td>\n",
              "    </tr>\n",
              "    <tr>\n",
              "      <th>Star North Management LLC</th>\n",
              "      <td>7455</td>\n",
              "    </tr>\n",
              "    <tr>\n",
              "      <th>Blue Ribbon Taxi Association Inc.</th>\n",
              "      <td>5953</td>\n",
              "    </tr>\n",
              "  </tbody>\n",
              "</table>\n",
              "</div>"
            ],
            "text/plain": [
              "                                   trips_amount\n",
              "company_name_reduced                           \n",
              "Flash Cab                                 19558\n",
              "Chicago Medallion Leasing INC             11974\n",
              "Taxi Affiliation Services                 11422\n",
              "Yellow Cab                                 9888\n",
              "Taxi Affiliation Service Yellow            9299\n",
              "Chicago Carriage Cab Corp                  9181\n",
              "City Service                               8448\n",
              "Sun Taxi                                   7701\n",
              "Star North Management LLC                  7455\n",
              "Blue Ribbon Taxi Association Inc.          5953"
            ]
          },
          "metadata": {}
        }
      ]
    },
    {
      "cell_type": "code",
      "source": "print('Las 10 compañias de taxis principales tienen el',\n      round(df_company[df_company['trips_amount']>=5953]['trips_amount'].sum()/df_company['trips_amount'].sum()*100,2),\n      '% de todos los viajes.')",
      "metadata": {},
      "execution_count": 29,
      "outputs": [
        {
          "name": "stdout",
          "output_type": "stream",
          "text": "Las 10 compañias de taxis principales tienen el 73.47 % de todos los viajes.\n"
        }
      ]
    },
    {
      "cell_type": "code",
      "source": "print('La empresa Flash Cab es la principal compañia de taxis, esta tiene el',\n      round(19558/df_company['trips_amount'].sum()*100,2), '% de todos los viajes.')",
      "metadata": {},
      "execution_count": 30,
      "outputs": [
        {
          "name": "stdout",
          "output_type": "stream",
          "text": "La empresa Flash Cab es la principal compañia de taxis, esta tiene el 14.24 % de todos los viajes.\n"
        }
      ]
    },
    {
      "cell_type": "markdown",
      "source": "## Analizar relación entre clima y duración de viajes\nSe analiza la duración de viajes por el tipo de clima",
      "metadata": {}
    },
    {
      "cell_type": "code",
      "source": "#media de cada condición de clima\ndf_trips_la.groupby('weather_conditions').mean('duration_seconds')",
      "metadata": {},
      "execution_count": 31,
      "outputs": [
        {
          "execution_count": 31,
          "output_type": "execute_result",
          "data": {
            "text/html": [
              "<div>\n",
              "<style scoped>\n",
              "    .dataframe tbody tr th:only-of-type {\n",
              "        vertical-align: middle;\n",
              "    }\n",
              "\n",
              "    .dataframe tbody tr th {\n",
              "        vertical-align: top;\n",
              "    }\n",
              "\n",
              "    .dataframe thead th {\n",
              "        text-align: right;\n",
              "    }\n",
              "</style>\n",
              "<table border=\"1\" class=\"dataframe\">\n",
              "  <thead>\n",
              "    <tr style=\"text-align: right;\">\n",
              "      <th></th>\n",
              "      <th>duration_seconds</th>\n",
              "      <th>weekday</th>\n",
              "    </tr>\n",
              "    <tr>\n",
              "      <th>weather_conditions</th>\n",
              "      <th></th>\n",
              "      <th></th>\n",
              "    </tr>\n",
              "  </thead>\n",
              "  <tbody>\n",
              "    <tr>\n",
              "      <th>Bad</th>\n",
              "      <td>2427.205556</td>\n",
              "      <td>5</td>\n",
              "    </tr>\n",
              "    <tr>\n",
              "      <th>Good</th>\n",
              "      <td>1999.675676</td>\n",
              "      <td>5</td>\n",
              "    </tr>\n",
              "  </tbody>\n",
              "</table>\n",
              "</div>"
            ],
            "text/plain": [
              "                    duration_seconds  weekday\n",
              "weather_conditions                           \n",
              "Bad                      2427.205556        5\n",
              "Good                     1999.675676        5"
            ]
          },
          "metadata": {}
        }
      ]
    },
    {
      "cell_type": "code",
      "source": "#mediana de cada condición de clima\ndf_trips_la.groupby('weather_conditions').median('duration_seconds')",
      "metadata": {},
      "execution_count": 32,
      "outputs": [
        {
          "execution_count": 32,
          "output_type": "execute_result",
          "data": {
            "text/html": [
              "<div>\n",
              "<style scoped>\n",
              "    .dataframe tbody tr th:only-of-type {\n",
              "        vertical-align: middle;\n",
              "    }\n",
              "\n",
              "    .dataframe tbody tr th {\n",
              "        vertical-align: top;\n",
              "    }\n",
              "\n",
              "    .dataframe thead th {\n",
              "        text-align: right;\n",
              "    }\n",
              "</style>\n",
              "<table border=\"1\" class=\"dataframe\">\n",
              "  <thead>\n",
              "    <tr style=\"text-align: right;\">\n",
              "      <th></th>\n",
              "      <th>duration_seconds</th>\n",
              "      <th>weekday</th>\n",
              "    </tr>\n",
              "    <tr>\n",
              "      <th>weather_conditions</th>\n",
              "      <th></th>\n",
              "      <th></th>\n",
              "    </tr>\n",
              "  </thead>\n",
              "  <tbody>\n",
              "    <tr>\n",
              "      <th>Bad</th>\n",
              "      <td>2540.0</td>\n",
              "      <td>5</td>\n",
              "    </tr>\n",
              "    <tr>\n",
              "      <th>Good</th>\n",
              "      <td>1800.0</td>\n",
              "      <td>5</td>\n",
              "    </tr>\n",
              "  </tbody>\n",
              "</table>\n",
              "</div>"
            ],
            "text/plain": [
              "                    duration_seconds  weekday\n",
              "weather_conditions                           \n",
              "Bad                           2540.0        5\n",
              "Good                          1800.0        5"
            ]
          },
          "metadata": {}
        }
      ]
    },
    {
      "cell_type": "markdown",
      "source": "Los viajes donde el clima se considera malo (Bad), tienden a durar más que cuando se tiene un clima bueno (Good).",
      "metadata": {}
    },
    {
      "cell_type": "code",
      "source": "print('En promedio, los viajes de días malos duran',2540-1800, 'segundos más, o',round((2540-1800)/60,2 ),\n      'minutos más, que los viajes de días buenos.')",
      "metadata": {},
      "execution_count": 33,
      "outputs": [
        {
          "name": "stdout",
          "output_type": "stream",
          "text": "En promedio, los viajes de días malos duran 740 segundos más, o 12.33 minutos más, que los viajes de días buenos.\n"
        }
      ]
    },
    {
      "cell_type": "markdown",
      "source": "### Prueba de hipótesis \n\nA continuación se prueba la siguiente hipótesis \"La duración promedio de los viajes desde el Loop hasta el Aeropuerto Internacional O'Hare cambia los sábados lluviosos\".\n\nSe establece el nivel de significación (alfa) como 5%.",
      "metadata": {}
    },
    {
      "cell_type": "code",
      "source": "df_trips_la_bad = df_trips_la.query('weather_conditions == \"Bad\"')['duration_seconds']\ndf_trips_la_good = df_trips_la.query('weather_conditions == \"Good\"')['duration_seconds']",
      "metadata": {},
      "execution_count": 34,
      "outputs": []
    },
    {
      "cell_type": "markdown",
      "source": "#### Comprobación de distribución normal\nSe corrobora que la distribucion de ambas muestras sea normal.\n\nHipótesis nula: Los datos siguen una distribución normal.\n\nHipótesis alterna: Los datos no siguen una distribución normal.",
      "metadata": {}
    },
    {
      "cell_type": "code",
      "source": "#comprobación de distribución normal para la muestra\nalpha = 0.05 #nivel de significancia estadística crítica\n\n# Normalidad de los residuos Shapiro-Wilk test Xone\nshapiro_test = st.shapiro(df_trips_la['duration_seconds'])\nprint(shapiro_test)\n\nif shapiro_test[1] < alpha: print(\"Se rechaza la hipótesis nula\")\nelse: print(\"No se rechaza la hipótesis nula\")",
      "metadata": {
        "scrolled": true
      },
      "execution_count": 35,
      "outputs": [
        {
          "name": "stdout",
          "output_type": "stream",
          "text": "ShapiroResult(statistic=0.9303929209709167, pvalue=7.176113416711356e-22)\n\nSe rechaza la hipótesis nula\n"
        }
      ]
    },
    {
      "cell_type": "code",
      "source": "sn.histplot(df_trips_la['duration_seconds'], kde=True, stat=\"density\", linewidth=0)\nplt.show()",
      "metadata": {
        "scrolled": true
      },
      "execution_count": 46,
      "outputs": [
        {
          "output_type": "display_data",
          "data": {
            "image/png": "[encoded data removed]",
            "text/plain": [
              "<Figure size 432x288 with 1 Axes>"
            ]
          },
          "metadata": {
            "needs_background": "light"
          }
        }
      ]
    },
    {
      "cell_type": "markdown",
      "source": "Los datos no siguen una distribución normal, al graficarlos, se observa una distribución bimodal que comunmente aparece al tener datos de dos sistemas o condiciones dierentes, en este caso podría deberse a la diferencia del clima. Se continua el análisis tomando en cuenta este hecho.",
      "metadata": {}
    },
    {
      "cell_type": "markdown",
      "source": "#### Comprobación de varianzas iguales\nSe corrobora que las muestras tengan varianzas iguales.\n\nHipótesis nula: las muestras tienen varianzas iguales.\n\nHipótesis alterna: las muestras tienen varianzas diferentes.",
      "metadata": {}
    },
    {
      "cell_type": "code",
      "source": "#Varianza de las muestras - prueba de levene\nlevene_test = st.levene (df_trips_la_bad, df_trips_la_good, center = 'median') \nprint('Prueba de varianzas iguales:')\nprint(levene_test)\n\nif levene_test[1] < alpha: print(\"Se rechaza la hipótesis nula\")\nelse: print(\"No se rechaza la hipótesis nula\")\nprint()",
      "metadata": {
        "scrolled": true
      },
      "execution_count": 37,
      "outputs": [
        {
          "name": "stdout",
          "output_type": "stream",
          "text": "Prueba de varianzas iguales:\n\nLeveneResult(statistic=0.38853489683656073, pvalue=0.5332038671974493)\n\nNo se rechaza la hipótesis nula\n\n\n"
        }
      ]
    },
    {
      "cell_type": "markdown",
      "source": "Se asumen varianzas iguales",
      "metadata": {}
    },
    {
      "cell_type": "markdown",
      "source": "#### Aplicar prueba de hipótesis\n\nSe tiene una distribución binomial con varianzas iguales por lo que se continua la prueba de hipótesis aplicando el test de Mann-Whitney.\n\nHipótesis nula: La duración promedio de los viajes desde el Loop hasta el Aeropuerto Internacional O'Hare, es igual los sábados con buen clima y los sábados lluviosos.\n\nHipótesis alterna: La duración promedio de los viajes desde el Loop hasta el Aeropuerto Internacional O'Hare, es diferente los sábados con buen clima y los sábados lluviosos.",
      "metadata": {}
    },
    {
      "cell_type": "code",
      "source": "ttest,pvalue = st.mannwhitneyu(df_trips_la_bad,df_trips_la_good, alternative=\"two-sided\")\nprint(\"p-value:%.4f\" % pvalue)\nif pvalue <alpha:\n    print(\"Se rechaza la hipótesis nula\")\nelse:\n    print(\"No se rechaza la hipótesis nula\")",
      "metadata": {},
      "execution_count": 48,
      "outputs": [
        {
          "name": "stdout",
          "output_type": "stream",
          "text": "p-value:0.0000\n\nSe rechaza la hipótesis nula\n"
        }
      ]
    },
    {
      "cell_type": "markdown",
      "source": "Se establece que la duración de los viajes cambia en base al clima.",
      "metadata": {}
    },
    {
      "cell_type": "markdown",
      "source": "## Conclusión\n\nEl barrio Loop es donde terminan la mayoría de los viajes, seguido por los barrios River North, Streeterville y West Loop. Los siguientes vecindarios tienen la mitad o menos viajes que los ya mencionados.\n\nEn cuanto a las compañias de taxis principales, Flash Cab tiene el 14.24 % de todos los viajes, le siguen Chicago Medallion Leasing INC, Taxi Affiliation Services, Yellow Cab, entre otros.\n\nAl examinar patrones externos como el clima, se determinó que durante los días con clima malo, los viajes tienden a tener más duración, esto podría deberse a que si, por ejemplo esta lloviendo, los clientes no quieren mojarse. ",
      "metadata": {}
    }
  ]
}