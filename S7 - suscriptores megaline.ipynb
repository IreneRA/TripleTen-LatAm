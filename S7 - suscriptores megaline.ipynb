{
  "metadata": {
    "toc": {
      "base_numbering": 1,
      "nav_menu": {},
      "number_sections": true,
      "sideBar": true,
      "skip_h1_title": true,
      "title_cell": "Table of Contents",
      "title_sidebar": "Contents",
      "toc_cell": false,
      "toc_position": {
        "height": "calc(100% - 180px)",
        "left": "10px",
        "top": "150px",
        "width": "168px"
      },
      "toc_section_display": true,
      "toc_window_display": true
    },
    "kernelspec": {
      "name": "python",
      "display_name": "Python (Pyodide)",
      "language": "python"
    },
    "language_info": {
      "codemirror_mode": {
        "name": "ipython",
        "version": 3
      },
      "file_extension": ".py",
      "mimetype": "text/x-python",
      "name": "python",
      "nbconvert_exporter": "python",
      "pygments_lexer": "ipython3",
      "version": "3.9.5"
    }
  },
  "nbformat_minor": 4,
  "nbformat": 4,
  "cells": [
    {
      "cell_type": "markdown",
      "source": "# Análisis de comportamiento de suscriptores de Megaline\n\nLa compañía móvil Megaline quiere desarrollar un modelo para analizar el comportamiento de los clientes y recomendar uno de los nuevos planes de Megaline: Smart o Ultra. Se busca un modelo con la mayor exactitud posible (umbral de exactitud de 0.75)\n\nSe tiene acceso a los datos de comportamiento de los suscriptores que ya se han cambiado a los planes nuevos.",
      "metadata": {}
    },
    {
      "cell_type": "markdown",
      "source": "## Inicialización\n### Cargar librerias",
      "metadata": {}
    },
    {
      "cell_type": "code",
      "source": "import pandas as pd\n\nfrom sklearn.model_selection import train_test_split, GridSearchCV\nfrom sklearn.metrics import accuracy_score, mean_squared_error\n\nfrom sklearn.tree import DecisionTreeClassifier \nfrom sklearn.ensemble import RandomForestClassifier \nfrom sklearn.linear_model import LogisticRegression ",
      "metadata": {},
      "execution_count": 1,
      "outputs": []
    },
    {
      "cell_type": "markdown",
      "source": "### Cargar y explorar datos",
      "metadata": {}
    },
    {
      "cell_type": "code",
      "source": "#Cargar archivos de datos\ndf = pd.read_csv('/datasets/users_behavior.csv')",
      "metadata": {},
      "execution_count": 2,
      "outputs": []
    },
    {
      "cell_type": "code",
      "source": "#Explorar datos\ndf.info()",
      "metadata": {},
      "execution_count": 3,
      "outputs": [
        {
          "name": "stdout",
          "output_type": "stream",
          "text": "<class 'pandas.core.frame.DataFrame'>\n\nRangeIndex: 3214 entries, 0 to 3213\n\nData columns (total 5 columns):\n\n #   Column    Non-Null Count  Dtype  \n\n---  ------    --------------  -----  \n\n 0   calls     3214 non-null   float64\n\n 1   minutes   3214 non-null   float64\n\n 2   messages  3214 non-null   float64\n\n 3   mb_used   3214 non-null   float64\n\n 4   is_ultra  3214 non-null   int64  \n\ndtypes: float64(4), int64(1)\n\nmemory usage: 125.7 KB\n"
        }
      ]
    },
    {
      "cell_type": "markdown",
      "source": "Cada fila del dataset corresponde a la información del comportamiento mensual sobre un usuario. \n\nLa información dada es la siguiente:\n- `сalls` — número de llamadas,\n- `minutes` — duración total de las llamadas en minutos,\n- `messages` — número de mensajes de texto,\n- `mb_used` — Tráfico de Internet utilizado en MB,\n- `is_ultra` — plan para el mes actual (Ultra - 1, Smart - 0).",
      "metadata": {}
    },
    {
      "cell_type": "code",
      "source": "df.describe()",
      "metadata": {},
      "execution_count": 4,
      "outputs": [
        {
          "execution_count": 4,
          "output_type": "execute_result",
          "data": {
            "text/html": [
              "<div>\n",
              "<style scoped>\n",
              "    .dataframe tbody tr th:only-of-type {\n",
              "        vertical-align: middle;\n",
              "    }\n",
              "\n",
              "    .dataframe tbody tr th {\n",
              "        vertical-align: top;\n",
              "    }\n",
              "\n",
              "    .dataframe thead th {\n",
              "        text-align: right;\n",
              "    }\n",
              "</style>\n",
              "<table border=\"1\" class=\"dataframe\">\n",
              "  <thead>\n",
              "    <tr style=\"text-align: right;\">\n",
              "      <th></th>\n",
              "      <th>calls</th>\n",
              "      <th>minutes</th>\n",
              "      <th>messages</th>\n",
              "      <th>mb_used</th>\n",
              "      <th>is_ultra</th>\n",
              "    </tr>\n",
              "  </thead>\n",
              "  <tbody>\n",
              "    <tr>\n",
              "      <th>count</th>\n",
              "      <td>3214.000000</td>\n",
              "      <td>3214.000000</td>\n",
              "      <td>3214.000000</td>\n",
              "      <td>3214.000000</td>\n",
              "      <td>3214.000000</td>\n",
              "    </tr>\n",
              "    <tr>\n",
              "      <th>mean</th>\n",
              "      <td>63.038892</td>\n",
              "      <td>438.208787</td>\n",
              "      <td>38.281269</td>\n",
              "      <td>17207.673836</td>\n",
              "      <td>0.306472</td>\n",
              "    </tr>\n",
              "    <tr>\n",
              "      <th>std</th>\n",
              "      <td>33.236368</td>\n",
              "      <td>234.569872</td>\n",
              "      <td>36.148326</td>\n",
              "      <td>7570.968246</td>\n",
              "      <td>0.461100</td>\n",
              "    </tr>\n",
              "    <tr>\n",
              "      <th>min</th>\n",
              "      <td>0.000000</td>\n",
              "      <td>0.000000</td>\n",
              "      <td>0.000000</td>\n",
              "      <td>0.000000</td>\n",
              "      <td>0.000000</td>\n",
              "    </tr>\n",
              "    <tr>\n",
              "      <th>25%</th>\n",
              "      <td>40.000000</td>\n",
              "      <td>274.575000</td>\n",
              "      <td>9.000000</td>\n",
              "      <td>12491.902500</td>\n",
              "      <td>0.000000</td>\n",
              "    </tr>\n",
              "    <tr>\n",
              "      <th>50%</th>\n",
              "      <td>62.000000</td>\n",
              "      <td>430.600000</td>\n",
              "      <td>30.000000</td>\n",
              "      <td>16943.235000</td>\n",
              "      <td>0.000000</td>\n",
              "    </tr>\n",
              "    <tr>\n",
              "      <th>75%</th>\n",
              "      <td>82.000000</td>\n",
              "      <td>571.927500</td>\n",
              "      <td>57.000000</td>\n",
              "      <td>21424.700000</td>\n",
              "      <td>1.000000</td>\n",
              "    </tr>\n",
              "    <tr>\n",
              "      <th>max</th>\n",
              "      <td>244.000000</td>\n",
              "      <td>1632.060000</td>\n",
              "      <td>224.000000</td>\n",
              "      <td>49745.730000</td>\n",
              "      <td>1.000000</td>\n",
              "    </tr>\n",
              "  </tbody>\n",
              "</table>\n",
              "</div>"
            ],
            "text/plain": [
              "             calls      minutes     messages       mb_used     is_ultra\n",
              "count  3214.000000  3214.000000  3214.000000   3214.000000  3214.000000\n",
              "mean     63.038892   438.208787    38.281269  17207.673836     0.306472\n",
              "std      33.236368   234.569872    36.148326   7570.968246     0.461100\n",
              "min       0.000000     0.000000     0.000000      0.000000     0.000000\n",
              "25%      40.000000   274.575000     9.000000  12491.902500     0.000000\n",
              "50%      62.000000   430.600000    30.000000  16943.235000     0.000000\n",
              "75%      82.000000   571.927500    57.000000  21424.700000     1.000000\n",
              "max     244.000000  1632.060000   224.000000  49745.730000     1.000000"
            ]
          },
          "metadata": {}
        }
      ]
    },
    {
      "cell_type": "code",
      "source": "#vista previa del df\ndf.head()",
      "metadata": {
        "scrolled": true
      },
      "execution_count": 5,
      "outputs": [
        {
          "execution_count": 5,
          "output_type": "execute_result",
          "data": {
            "text/html": [
              "<div>\n",
              "<style scoped>\n",
              "    .dataframe tbody tr th:only-of-type {\n",
              "        vertical-align: middle;\n",
              "    }\n",
              "\n",
              "    .dataframe tbody tr th {\n",
              "        vertical-align: top;\n",
              "    }\n",
              "\n",
              "    .dataframe thead th {\n",
              "        text-align: right;\n",
              "    }\n",
              "</style>\n",
              "<table border=\"1\" class=\"dataframe\">\n",
              "  <thead>\n",
              "    <tr style=\"text-align: right;\">\n",
              "      <th></th>\n",
              "      <th>calls</th>\n",
              "      <th>minutes</th>\n",
              "      <th>messages</th>\n",
              "      <th>mb_used</th>\n",
              "      <th>is_ultra</th>\n",
              "    </tr>\n",
              "  </thead>\n",
              "  <tbody>\n",
              "    <tr>\n",
              "      <th>0</th>\n",
              "      <td>40.0</td>\n",
              "      <td>311.90</td>\n",
              "      <td>83.0</td>\n",
              "      <td>19915.42</td>\n",
              "      <td>0</td>\n",
              "    </tr>\n",
              "    <tr>\n",
              "      <th>1</th>\n",
              "      <td>85.0</td>\n",
              "      <td>516.75</td>\n",
              "      <td>56.0</td>\n",
              "      <td>22696.96</td>\n",
              "      <td>0</td>\n",
              "    </tr>\n",
              "    <tr>\n",
              "      <th>2</th>\n",
              "      <td>77.0</td>\n",
              "      <td>467.66</td>\n",
              "      <td>86.0</td>\n",
              "      <td>21060.45</td>\n",
              "      <td>0</td>\n",
              "    </tr>\n",
              "    <tr>\n",
              "      <th>3</th>\n",
              "      <td>106.0</td>\n",
              "      <td>745.53</td>\n",
              "      <td>81.0</td>\n",
              "      <td>8437.39</td>\n",
              "      <td>1</td>\n",
              "    </tr>\n",
              "    <tr>\n",
              "      <th>4</th>\n",
              "      <td>66.0</td>\n",
              "      <td>418.74</td>\n",
              "      <td>1.0</td>\n",
              "      <td>14502.75</td>\n",
              "      <td>0</td>\n",
              "    </tr>\n",
              "  </tbody>\n",
              "</table>\n",
              "</div>"
            ],
            "text/plain": [
              "   calls  minutes  messages   mb_used  is_ultra\n",
              "0   40.0   311.90      83.0  19915.42         0\n",
              "1   85.0   516.75      56.0  22696.96         0\n",
              "2   77.0   467.66      86.0  21060.45         0\n",
              "3  106.0   745.53      81.0   8437.39         1\n",
              "4   66.0   418.74       1.0  14502.75         0"
            ]
          },
          "metadata": {}
        }
      ]
    },
    {
      "cell_type": "markdown",
      "source": "El dataframe anterior, no tiene datos ausentes y los datos son del tipo adecuado a excepción de la columna `messages` que deberia ser int y es float.\n\nLa columna `is_ultra` tiene datos booleanos pero se maniente como int para facilitar el análisis.\n\n### Corregir datos",
      "metadata": {}
    },
    {
      "cell_type": "code",
      "source": "#cambiar de float a int\ndf['messages'] = df.astype('int')",
      "metadata": {},
      "execution_count": 6,
      "outputs": []
    },
    {
      "cell_type": "code",
      "source": "#verificar cambio\ndf.info()",
      "metadata": {},
      "execution_count": 7,
      "outputs": [
        {
          "name": "stdout",
          "output_type": "stream",
          "text": "<class 'pandas.core.frame.DataFrame'>\n\nRangeIndex: 3214 entries, 0 to 3213\n\nData columns (total 5 columns):\n\n #   Column    Non-Null Count  Dtype  \n\n---  ------    --------------  -----  \n\n 0   calls     3214 non-null   float64\n\n 1   minutes   3214 non-null   float64\n\n 2   messages  3214 non-null   int64  \n\n 3   mb_used   3214 non-null   float64\n\n 4   is_ultra  3214 non-null   int64  \n\ndtypes: float64(3), int64(2)\n\nmemory usage: 125.7 KB\n"
        }
      ]
    },
    {
      "cell_type": "markdown",
      "source": "No hay valores ausentes en esta tabla y los datos son del tipo correcto.\n\n## Crear modelos de aprendizaje\nA continuación se crean distintos modelos de aprendizaje automático para después compararlos.\n\nSe tiene en cuenta que el objetivo es una respuesta de categoría.\n\n### Segmentar datos\nSe segmentan los datos fuente en 3 conjuntos:\n- conjunto de entrenamiento (60%)\n- conjunto de validación (20%)\n- conjunto de prueba (20%)",
      "metadata": {}
    },
    {
      "cell_type": "code",
      "source": "#Separar conjunto de datos de prueba\ndf_t, df_test = train_test_split(df,test_size=0.2,random_state=12345)",
      "metadata": {},
      "execution_count": 8,
      "outputs": []
    },
    {
      "cell_type": "code",
      "source": "#Separar conjunto de datos de entrenamiento y validacion. El test_size sube para compensar la reducción de filas\ndf_train, df_valid = train_test_split(df_t,test_size=0.25,random_state=12345)",
      "metadata": {},
      "execution_count": 9,
      "outputs": []
    },
    {
      "cell_type": "code",
      "source": "#Separar variables de conjunto de entrenamiento\ndf_train_features = df_train.drop('is_ultra',axis=1)\ndf_train_target =  df_train['is_ultra']",
      "metadata": {},
      "execution_count": 10,
      "outputs": []
    },
    {
      "cell_type": "code",
      "source": "#Separar variables de conjunto de validación\ndf_valid_features = df_valid.drop('is_ultra',axis=1)\ndf_valid_target = df_valid['is_ultra']",
      "metadata": {},
      "execution_count": 11,
      "outputs": []
    },
    {
      "cell_type": "code",
      "source": "#Separar variables de conjunto de prueba\ndf_test_features = df_test.drop('is_ultra',axis=1)\ndf_test_target = df_test['is_ultra']",
      "metadata": {},
      "execution_count": 12,
      "outputs": []
    },
    {
      "cell_type": "code",
      "source": "#verificar tamaño de los datasets\nprint(df_test.shape)\nprint(df_train.shape)\nprint(df_valid.shape)",
      "metadata": {},
      "execution_count": 13,
      "outputs": [
        {
          "name": "stdout",
          "output_type": "stream",
          "text": "(643, 5)\n\n(1928, 5)\n\n(643, 5)\n"
        }
      ]
    },
    {
      "cell_type": "markdown",
      "source": "### Modelo: Árbol de decisión para clasificación",
      "metadata": {}
    },
    {
      "cell_type": "code",
      "source": "#experimentar con diferentes opciones de profundidad de árbol para buscar la mejor\nmax_depth = 0\nbest_accuracy = 0\n\nfor depth in range(1, 11): \n    model = DecisionTreeClassifier(random_state=12345, max_depth=depth) \n    model.fit(df_train_features, df_train_target) \n    predictions_valid = model.predict(df_valid_features) \n    accuracy_s = accuracy_score(df_valid_target, predictions_valid)\n    print('max_depth =', depth, ': ',accuracy_s) \n    \n    if accuracy_s > best_accuracy:\n        best_accuracy = accuracy_s\n        max_depth = depth\nprint()\nprint('Best max_depth =', max_depth, ': ',best_accuracy)",
      "metadata": {},
      "execution_count": 14,
      "outputs": [
        {
          "name": "stdout",
          "output_type": "stream",
          "text": "max_depth = 1 :  0.7387247278382582\n\nmax_depth = 2 :  0.7573872472783826\n\nmax_depth = 3 :  0.7620528771384136\n\nmax_depth = 4 :  0.76049766718507\n\nmax_depth = 5 :  0.7527216174183515\n\nmax_depth = 6 :  0.7558320373250389\n\nmax_depth = 7 :  0.7636080870917574\n\nmax_depth = 8 :  0.7527216174183515\n\nmax_depth = 9 :  0.7480559875583204\n\nmax_depth = 10 :  0.749611197511664\n\n\n\nBest max_depth = 7 :  0.7636080870917574\n"
        }
      ]
    },
    {
      "cell_type": "markdown",
      "source": "El modelo cambia ligeramente al modificar el parámetro `max_depth`.\n\nSe establece `max_depth = 7`. El modelo cumple con umbral de exactitud > 0.75 .",
      "metadata": {}
    },
    {
      "cell_type": "code",
      "source": "#usar GridSearchCV para buscar la mejor profundidad de árbol\nparam_grid = {'max_depth': [1, 2, 3, 4, 5,6,7,8,9,10,20,30,40],'criterion':['gini','entropy'], }\n\ntree_clas = DecisionTreeClassifier(random_state=12345)\ngrid_search = GridSearchCV(estimator=tree_clas, param_grid=param_grid, cv=5, verbose=True)\ngrid_search.fit(df_train_features, df_train_target)\n\nfinal_model = grid_search.best_estimator_\nfinal_model",
      "metadata": {},
      "execution_count": 15,
      "outputs": [
        {
          "name": "stdout",
          "output_type": "stream",
          "text": "Fitting 5 folds for each of 26 candidates, totalling 130 fits\n"
        },
        {
          "execution_count": 15,
          "output_type": "execute_result",
          "data": {
            "text/plain": [
              "DecisionTreeClassifier(max_depth=3, random_state=12345)"
            ]
          },
          "metadata": {}
        }
      ]
    },
    {
      "cell_type": "code",
      "source": "# exactitud del modelo con gridsearch\naccuracy_score(df_valid_target, final_model.predict(df_valid_features) )",
      "metadata": {},
      "execution_count": 16,
      "outputs": [
        {
          "execution_count": 16,
          "output_type": "execute_result",
          "data": {
            "text/plain": [
              "0.7620528771384136"
            ]
          },
          "metadata": {}
        }
      ]
    },
    {
      "cell_type": "markdown",
      "source": "Este método dio como resultado `max_depth = 3`, sin embargo `max_depth = 7` da una mejor exactitud.",
      "metadata": {}
    },
    {
      "cell_type": "code",
      "source": "#fijar modelo\nmodel_dtc = DecisionTreeClassifier(random_state=12345, max_depth=7) \nmodel_dtc.fit(df_train_features, df_train_target) \n\npredictions_valid_dtc = model_dtc.predict(df_valid_features) \n\n#error\nrmse_dtc = mean_squared_error(df_valid_target, predictions_valid_dtc)**0.5\nrmse_dtc",
      "metadata": {
        "scrolled": true
      },
      "execution_count": 17,
      "outputs": [
        {
          "execution_count": 17,
          "output_type": "execute_result",
          "data": {
            "text/plain": [
              "0.48620151471199946"
            ]
          },
          "metadata": {}
        }
      ]
    },
    {
      "cell_type": "code",
      "source": "#Precicciones\ntrain_predictions = model_dtc.predict(df_train_features) \ntest_predictions = model_dtc.predict(df_test_features) \n\n#comprobar calidad del modelo\nacc_tr_dtc  = accuracy_score(df_train_target, train_predictions)\nacc_val_dtc = best_accuracy\nacc_ts_dtc  = accuracy_score(df_test_target, test_predictions)\n\nprint('Exactitud') \nprint('Training set:', acc_tr_dtc)\nprint('Validation set:', acc_val_dtc)\nprint('Test set:', acc_ts_dtc) ",
      "metadata": {},
      "execution_count": 18,
      "outputs": [
        {
          "name": "stdout",
          "output_type": "stream",
          "text": "Exactitud\n\nTraining set: 0.8340248962655602\n\nValidation set: 0.7636080870917574\n\nTest set: 0.7916018662519441\n"
        }
      ]
    },
    {
      "cell_type": "markdown",
      "source": "Se mantiene exactitud > 0.75 .",
      "metadata": {}
    },
    {
      "cell_type": "markdown",
      "source": "### Modelo: Bosque aleatorio para clasificación",
      "metadata": {}
    },
    {
      "cell_type": "code",
      "source": "#buscar las mejores características para los datos disponibles\nmodel_rfc =RandomForestClassifier(random_state=12345)\nparam_grid = {'n_estimators': [1,2,3,4,5,6,7,8,9,10], 'max_features': ['auto', 'sqrt', 'log2'],\n              'max_depth' : [3,4,5,6,7,8,9,10]}\nCV_rfc = GridSearchCV(estimator=model_rfc, param_grid=param_grid, cv= 5)\nCV_rfc.fit(df_train_features,df_train_target)\nCV_rfc.best_params_",
      "metadata": {
        "scrolled": true
      },
      "execution_count": 19,
      "outputs": [
        {
          "execution_count": 19,
          "output_type": "execute_result",
          "data": {
            "text/plain": [
              "{'max_depth': 4, 'max_features': 'auto', 'n_estimators': 4}"
            ]
          },
          "metadata": {}
        }
      ]
    },
    {
      "cell_type": "code",
      "source": "#fijar modelo con parámetros encontrados\nmodel_rfc = RandomForestClassifier(random_state=12345, max_depth=4, max_features='auto',n_estimators=4)\nmodel_rfc.fit(df_train_features,df_train_target)  \n\npredictions_valid_rfc = model_rfc.predict(df_valid_features) \n\n#error\nrmse_rfc = mean_squared_error(df_valid_target, predictions_valid_rfc)**0.5\nrmse_rfc",
      "metadata": {},
      "execution_count": 20,
      "outputs": [
        {
          "execution_count": 20,
          "output_type": "execute_result",
          "data": {
            "text/plain": [
              "0.4845995284303307"
            ]
          },
          "metadata": {}
        }
      ]
    },
    {
      "cell_type": "code",
      "source": "#predicciones\ntrain_predictions = model_rfc.predict(df_train_features) \ntest_predictions = model_rfc.predict(df_test_features)\n\n#comprobar calidad del modelo\nacc_tr_rfc = accuracy_score(df_train_target, train_predictions)\nacc_val_rfc = accuracy_score(df_valid_target, predictions_valid_rfc)\nacc_ts_rfc = accuracy_score(df_test_target, test_predictions)\n\nprint('Exactitud') \nprint('Training set:', acc_tr_rfc)\nprint('Validation set:', acc_val_rfc)\nprint('Test set:', acc_ts_rfc) ",
      "metadata": {},
      "execution_count": 21,
      "outputs": [
        {
          "name": "stdout",
          "output_type": "stream",
          "text": "Exactitud\n\nTraining set: 0.8029045643153527\n\nValidation set: 0.7651632970451011\n\nTest set: 0.7807153965785381\n"
        }
      ]
    },
    {
      "cell_type": "markdown",
      "source": "Se tiene exactitud > 0.75.",
      "metadata": {}
    },
    {
      "cell_type": "markdown",
      "source": "### Modelo: Regresión logística",
      "metadata": {}
    },
    {
      "cell_type": "code",
      "source": "#inicializar modelo y fijarlo\nmodel_lr = LogisticRegression(random_state=12345, solver='liblinear') \nmodel_lr.fit(df_train_features,df_train_target)\n \npredictions_valid_lr = model_lr.predict(df_valid_features) \n\n#error\nrmse_lr = mean_squared_error(df_valid_target, predictions_valid_lr)**0.5\nrmse_lr",
      "metadata": {},
      "execution_count": 22,
      "outputs": [
        {
          "execution_count": 22,
          "output_type": "execute_result",
          "data": {
            "text/plain": [
              "0.5563153608479606"
            ]
          },
          "metadata": {}
        }
      ]
    },
    {
      "cell_type": "code",
      "source": "#predicciones\ntrain_predictions = model_lr.predict(df_train_features) \ntest_predictions = model_lr.predict(df_test_features)\n\n#comprobar calidad del modelo con el conjunto de prueba\nacc_tr_lr = accuracy_score(df_train_target, train_predictions)\nacc_val_lr = accuracy_score(df_valid_target, predictions_valid_lr)\nacc_ts_lr = accuracy_score(df_test_target, test_predictions)\n\nprint('Accuracy') \nprint('Training set:', acc_tr_lr)\nprint('Validation set:', acc_val_lr)\nprint('Test set:', acc_ts_lr) ",
      "metadata": {},
      "execution_count": 23,
      "outputs": [
        {
          "name": "stdout",
          "output_type": "stream",
          "text": "Accuracy\n\nTraining set: 0.6955394190871369\n\nValidation set: 0.6905132192846034\n\nTest set: 0.6967340590979783\n"
        }
      ]
    },
    {
      "cell_type": "markdown",
      "source": "El modelo muestra una exactitud menor a la exactitud mínima requerida que es 0.75.",
      "metadata": {}
    },
    {
      "cell_type": "markdown",
      "source": "## Prueba de cordura del modelo elegido\n\nA continuación se aplica una prueba de cordura.",
      "metadata": {}
    },
    {
      "cell_type": "code",
      "source": "#olumna objetivo\ntarget = df['is_ultra']\n\n#valor promedio de la columna objetivo\npredictions = pd.Series(target.mean(), index=target.index)\n\n#error cuadrático medio ECM\nmse = mean_squared_error(target, predictions) \n\n#raíz cuadrada de ECM\nrmse = mean_squared_error(target, predictions,squared=False) \nprint('RMSE:', rmse) ",
      "metadata": {},
      "execution_count": 24,
      "outputs": [
        {
          "name": "stdout",
          "output_type": "stream",
          "text": "RMSE: 0.46102797293043907\n"
        }
      ]
    },
    {
      "cell_type": "markdown",
      "source": "## Conclusión\nEn base a los datos estudiados, se crearon 3 modelos, los cuales tuvieron los siguientes resultados:",
      "metadata": {}
    },
    {
      "cell_type": "code",
      "source": "#tabla de resultados por modelo\npd.DataFrame({'Model':['Decision Tree Classifier', 'Random Forest Classifier', 'Logistic Regression'],\n    'Training set accuracy':  [acc_tr_dtc    , acc_tr_rfc   , acc_tr_lr ],\n    'Validation set accuracy':[acc_val_dtc   , acc_val_rfc  , acc_val_lr],\n    'Test set accuracy':      [acc_ts_dtc    , acc_ts_rfc   , acc_ts_lr ],\n    'RMSE Validation set':    [rmse_dtc      , rmse_rfc     ,  rmse_lr  ]  })",
      "metadata": {},
      "execution_count": 25,
      "outputs": [
        {
          "execution_count": 25,
          "output_type": "execute_result",
          "data": {
            "text/html": [
              "<div>\n",
              "<style scoped>\n",
              "    .dataframe tbody tr th:only-of-type {\n",
              "        vertical-align: middle;\n",
              "    }\n",
              "\n",
              "    .dataframe tbody tr th {\n",
              "        vertical-align: top;\n",
              "    }\n",
              "\n",
              "    .dataframe thead th {\n",
              "        text-align: right;\n",
              "    }\n",
              "</style>\n",
              "<table border=\"1\" class=\"dataframe\">\n",
              "  <thead>\n",
              "    <tr style=\"text-align: right;\">\n",
              "      <th></th>\n",
              "      <th>Model</th>\n",
              "      <th>Training set accuracy</th>\n",
              "      <th>Validation set accuracy</th>\n",
              "      <th>Test set accuracy</th>\n",
              "      <th>RMSE Validation set</th>\n",
              "    </tr>\n",
              "  </thead>\n",
              "  <tbody>\n",
              "    <tr>\n",
              "      <th>0</th>\n",
              "      <td>Decision Tree Classifier</td>\n",
              "      <td>0.834025</td>\n",
              "      <td>0.763608</td>\n",
              "      <td>0.791602</td>\n",
              "      <td>0.486202</td>\n",
              "    </tr>\n",
              "    <tr>\n",
              "      <th>1</th>\n",
              "      <td>Random Forest Classifier</td>\n",
              "      <td>0.802905</td>\n",
              "      <td>0.765163</td>\n",
              "      <td>0.780715</td>\n",
              "      <td>0.484600</td>\n",
              "    </tr>\n",
              "    <tr>\n",
              "      <th>2</th>\n",
              "      <td>Logistic Regression</td>\n",
              "      <td>0.695539</td>\n",
              "      <td>0.690513</td>\n",
              "      <td>0.696734</td>\n",
              "      <td>0.556315</td>\n",
              "    </tr>\n",
              "  </tbody>\n",
              "</table>\n",
              "</div>"
            ],
            "text/plain": [
              "                      Model  Training set accuracy  Validation set accuracy  \\\n",
              "0  Decision Tree Classifier               0.834025                 0.763608   \n",
              "1  Random Forest Classifier               0.802905                 0.765163   \n",
              "2       Logistic Regression               0.695539                 0.690513   \n",
              "\n",
              "   Test set accuracy  RMSE Validation set  \n",
              "0           0.791602             0.486202  \n",
              "1           0.780715             0.484600  \n",
              "2           0.696734             0.556315  "
            ]
          },
          "metadata": {}
        }
      ]
    },
    {
      "cell_type": "markdown",
      "source": "- Los modelos árbol de decisión para clasificación y bosque aleatorio para clasificación muestran alta exactitud en los tres conjuntos de datos. \n\n- El modelo de regresión lógistica tiene una exactitud menor a la deseada (0.75) en todos los conjuntos de datos.\n\nPor lo anterior mencionado y tomando en cuenta que el modelo **árbol de decisión para clasificación** es el de más alta velocidad de procesamiento, se escoge este como el mejor modelo para analizar el comportamiento de los clientes y hacerles recomendaciones adecuadas.",
      "metadata": {}
    }
  ]
}